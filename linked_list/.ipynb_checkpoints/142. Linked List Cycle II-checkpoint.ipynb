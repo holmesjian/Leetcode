{
 "cells": [
  {
   "cell_type": "markdown",
   "metadata": {},
   "source": [
    "# Problem\n",
    "\n",
    "Given a linked list, return the node where the cycle begins. If there is no cycle, return null.\n",
    "\n",
    "Note: Do not modify the linked list. \n",
    "\n",
    "Follow-up:\n",
    "Can you solve it without using extra space?"
   ]
  },
  {
   "cell_type": "markdown",
   "metadata": {},
   "source": [
    "# Brainstorm\n",
    "\n",
    "If we keep track of visited nodes as we traverse the linked list:\n",
    "- Time O(N), space O(N)\n",
    "\n",
    "Can we reduce time or space?\n",
    "- If you don't know Floyd's algorithm, ..... \n",
    "- Now assume that we know when the two pointers meet, the steps to the cycle starting node from the meeting point is the same as that from the head.\n",
    "- Find the node where a pointer from head and a pointer from the meeting point meets.\n",
    "- Time O(N), space O(1)."
   ]
  },
  {
   "cell_type": "markdown",
   "metadata": {},
   "source": [
    "# Solution 1\n",
    "##### Set"
   ]
  },
  {
   "cell_type": "code",
   "execution_count": 1,
   "metadata": {},
   "outputs": [],
   "source": [
    "# Definition for singly-linked list.\n",
    "# class ListNode:\n",
    "#     def __init__(self, x):\n",
    "#         self.val = x\n",
    "#         self.next = None\n",
    "\n",
    "class Solution:\n",
    "    def detectCycle(head):\n",
    "        if head is None or head.next is None:\n",
    "            return None\n",
    "        \n",
    "        seen = set()\n",
    "        \n",
    "        curr = head\n",
    "        \n",
    "        while curr:\n",
    "            if curr in seen:\n",
    "                return curr\n",
    "            \n",
    "            seen.add(curr)\n",
    "            curr = curr.next\n",
    "            \n",
    "        return None"
   ]
  },
  {
   "cell_type": "markdown",
   "metadata": {},
   "source": [
    "# Solution 2\n",
    "##### Two pointers"
   ]
  },
  {
   "cell_type": "code",
   "execution_count": 2,
   "metadata": {},
   "outputs": [],
   "source": [
    "# Definition for singly-linked list.\n",
    "# class ListNode:\n",
    "#     def __init__(self, x):\n",
    "#         self.val = x\n",
    "#         self.next = None\n",
    "\n",
    "class Solution:\n",
    "    def detectCycle(head):\n",
    "        \n",
    "        if head is None or head.next is None:\n",
    "            return None\n",
    "        \n",
    "        slow = head\n",
    "        fast = head\n",
    "        \n",
    "        while fast.next and fast.next.next:\n",
    "            slow = slow.next\n",
    "            fast = fast.next.next\n",
    "            \n",
    "            if slow == fast:\n",
    "                slow2 = head\n",
    "                while slow2 != slow:\n",
    "                    slow2 = slow2.next\n",
    "                    slow = slow.next\n",
    "                return slow\n",
    "                \n",
    "            \n",
    "        return None"
   ]
  }
 ],
 "metadata": {
  "kernelspec": {
   "display_name": "Python 3",
   "language": "python",
   "name": "python3"
  },
  "language_info": {
   "codemirror_mode": {
    "name": "ipython",
    "version": 3
   },
   "file_extension": ".py",
   "mimetype": "text/x-python",
   "name": "python",
   "nbconvert_exporter": "python",
   "pygments_lexer": "ipython3",
   "version": "3.6.5"
  }
 },
 "nbformat": 4,
 "nbformat_minor": 2
}
