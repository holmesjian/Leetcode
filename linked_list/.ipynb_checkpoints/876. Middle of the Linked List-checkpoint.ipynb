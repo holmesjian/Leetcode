{
 "cells": [
  {
   "cell_type": "markdown",
   "metadata": {},
   "source": [
    "# Problem\n",
    "\n",
    "Given a non-empty, singly linked list with head node head, return a middle node of linked list.<br>\n",
    "\n",
    "If there are two middle nodes, return the second middle node.<br>\n",
    "\n",
    " Example 1:<br>\n",
    "\n",
    "Input: [1,2,3,4,5]<br>\n",
    "Output: Node 3 from this list (Serialization: [3,4,5])<br>\n",
    "The returned node has value 3.  (The judge's serialization of this node is [3,4,5]).<br>\n",
    "\n",
    "Note that we returned a ListNode object ans, such that:<br>\n",
    "ans.val = 3, ans.next.val = 4, ans.next.next.val = 5, and ans.next.next.next = NULL.<br>\n",
    "\n",
    "\n",
    "Example 2:\n",
    "\n",
    "Input: [1,2,3,4,5,6]<br>\n",
    "Output: Node 4 from this list (Serialization: [4,5,6])<br>\n",
    "Since the list has two middle nodes with values 3 and 4, we return the second one.<br>\n",
    " \n",
    "\n",
    "Note:<br>\n",
    "\n",
    "The number of nodes in the given list will be between 1 and 100.<br>"
   ]
  },
  {
   "cell_type": "markdown",
   "metadata": {},
   "source": [
    "# Brainstorm\n",
    "\n",
    "- check others' ending condition"
   ]
  },
  {
   "cell_type": "code",
   "execution_count": null,
   "metadata": {},
   "outputs": [],
   "source": [
    "# Definition for singly-linked list.\n",
    "# class ListNode:\n",
    "#     def __init__(self, x):\n",
    "#         self.val = x\n",
    "#         self.next = None\n",
    "\n",
    "class Solution:\n",
    "    def middleNode(self, head: ListNode) -> ListNode:\n",
    "        \n",
    "        if not head or not head.next:\n",
    "            return head\n",
    "        \n",
    "        if head.next.next is None:\n",
    "            return head.next\n",
    "        \n",
    "        slow = head\n",
    "        fast = head\n",
    "        while fast.next and fast.next.next:\n",
    "            slow = slow.next\n",
    "            fast = fast.next.next\n",
    "            \n",
    "        \n",
    "        if fast.next is None:\n",
    "            return slow\n",
    "        return slow.next"
   ]
  }
 ],
 "metadata": {
  "kernelspec": {
   "display_name": "Python 3",
   "language": "python",
   "name": "python3"
  },
  "language_info": {
   "codemirror_mode": {
    "name": "ipython",
    "version": 3
   },
   "file_extension": ".py",
   "mimetype": "text/x-python",
   "name": "python",
   "nbconvert_exporter": "python",
   "pygments_lexer": "ipython3",
   "version": "3.6.5"
  }
 },
 "nbformat": 4,
 "nbformat_minor": 2
}
