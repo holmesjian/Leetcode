{
 "cells": [
  {
   "cell_type": "markdown",
   "metadata": {},
   "source": [
    "# Problem\n",
    "\n",
    "Given a node from a Circular Linked List which is sorted in ascending order, write a function to insert a value insertVal into the list such that it remains a sorted circular list. The given node can be a reference to any single node in the list, and may not be necessarily the smallest value in the circular list.\n",
    "\n",
    "If there are multiple suitable places for insertion, you may choose any place to insert the new value. After the insertion, the circular list should remain sorted.\n",
    "\n",
    "If the list is empty (i.e., given node is null), you should create a new single circular list and return the reference to that single node. Otherwise, you should return the original given node.\n",
    "\n",
    "\n",
    "\n",
    "Example 1:<br>\n",
    "\n",
    "<img src='./images/circular1.png'>\n",
    "\n",
    "Input: head = [3,4,1], insertVal = 2<br>\n",
    "Output: [3,4,1,2]<br>\n",
    "Explanation: In the figure above, there is a sorted circular list of three elements. You are given a reference to the node with value 3, and we need to insert 2 into the list. The new node should be inserted between node 1 and node 3. After the insertion, the list should look like this, and we should still return node 3.<br>\n",
    "\n",
    "\n",
    "\n",
    "\n",
    "Example 2:<br>\n",
    "<img src='./images/circular2.png'>\n",
    "\n",
    "Input: head = [], insertVal = 1<br>\n",
    "Output: [1]<br>\n",
    "Explanation: The list is empty (given head is null). We create a new single circular list and return the reference to that single node.\n",
    "\n",
    "\n",
    "Example 3:<br>\n",
    "\n",
    "Input: head = [1], insertVal = 0<br>\n",
    "Output: [1,0]<br>\n",
    "\n",
    "Constraints:<br>\n",
    "\n",
    "0 <= Number of Nodes <= 5 * 10^4<br>\n",
    "-10^6 <= Node.val <= 10^6<br>\n",
    "-10^6 <= insertVal <= 10^6<br>"
   ]
  }
 ],
 "metadata": {
  "kernelspec": {
   "display_name": "Python 3",
   "language": "python",
   "name": "python3"
  },
  "language_info": {
   "codemirror_mode": {
    "name": "ipython",
    "version": 3
   },
   "file_extension": ".py",
   "mimetype": "text/x-python",
   "name": "python",
   "nbconvert_exporter": "python",
   "pygments_lexer": "ipython3",
   "version": "3.6.5"
  }
 },
 "nbformat": 4,
 "nbformat_minor": 2
}
