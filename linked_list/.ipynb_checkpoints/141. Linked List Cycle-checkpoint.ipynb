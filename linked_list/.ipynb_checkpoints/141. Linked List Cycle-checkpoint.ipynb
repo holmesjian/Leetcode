{
 "cells": [
  {
   "cell_type": "markdown",
   "metadata": {},
   "source": [
    "# Problem\n",
    "\n",
    "Given a linked list, determine if it has a cycle in it."
   ]
  },
  {
   "cell_type": "markdown",
   "metadata": {},
   "source": [
    "# Brainstorm\n",
    "\n",
    "Traverse the linked list, and keep track of the visited nodes using a set.\n",
    "- If current node is in the set, there is a cycle.\n",
    "- Time O(N), space O(N).\n",
    "\n",
    "Can we reduce the space or time? \n",
    "- If you have not seen the Floyd's cycle detection algorithm, ......\n",
    "- Based on the above mentioned algorithm, use slow and fast pointers.\n",
    "- Slow pointer moves 1 step at a time, fast pointer moves 2 steps at a time.\n",
    "- This is equivalent to slow pointer being stagnant, while fast pointer moves 1 step at a time. If there is a cycle, fast pointer will meet slow pointer.\n",
    "- If no cycle, fast pointer will reach Null first.\n",
    "- Time O(N), space O(1)"
   ]
  },
  {
   "cell_type": "markdown",
   "metadata": {},
   "source": [
    "# Solution 1\n",
    "##### Set"
   ]
  },
  {
   "cell_type": "code",
   "execution_count": 1,
   "metadata": {},
   "outputs": [],
   "source": [
    "# Definition for singly-linked list.\n",
    "# class ListNode:\n",
    "#     def __init__(self, x):\n",
    "#         self.val = x\n",
    "#         self.next = None\n",
    "\n",
    "class Solution:\n",
    "    def hasCycle(self, head):\n",
    "        if head is None or head.next is None:\n",
    "            return False\n",
    "        \n",
    "        nodes = set()\n",
    "        \n",
    "        while head:\n",
    "            if head in nodes:\n",
    "                return True\n",
    "            nodes.add(head)\n",
    "            head = head.next\n",
    "            \n",
    "        return False"
   ]
  },
  {
   "cell_type": "markdown",
   "metadata": {},
   "source": [
    "# Solution 2\n",
    "##### Two pointers "
   ]
  },
  {
   "cell_type": "code",
   "execution_count": 2,
   "metadata": {},
   "outputs": [],
   "source": [
    "# Definition for singly-linked list.\n",
    "# class ListNode:\n",
    "#     def __init__(self, x):\n",
    "#         self.val = x\n",
    "#         self.next = None\n",
    "\n",
    "class Solution:\n",
    "    def hasCycle(self, head):\n",
    "        if head is None or head.next is None:\n",
    "            return False\n",
    "        \n",
    "        slow = head\n",
    "        fast = head\n",
    "        \n",
    "        while fast.next is not None and fast.next.next is not None:\n",
    "            \n",
    "            slow = slow.next\n",
    "            fast = fast.next.next\n",
    "            \n",
    "            if fast == slow:\n",
    "                return True\n",
    "            \n",
    "        return False"
   ]
  }
 ],
 "metadata": {
  "kernelspec": {
   "display_name": "Python 3",
   "language": "python",
   "name": "python3"
  },
  "language_info": {
   "codemirror_mode": {
    "name": "ipython",
    "version": 3
   },
   "file_extension": ".py",
   "mimetype": "text/x-python",
   "name": "python",
   "nbconvert_exporter": "python",
   "pygments_lexer": "ipython3",
   "version": "3.6.5"
  }
 },
 "nbformat": 4,
 "nbformat_minor": 2
}
