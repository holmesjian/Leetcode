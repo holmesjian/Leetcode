{
 "cells": [
  {
   "cell_type": "markdown",
   "metadata": {},
   "source": [
    "# Problem\n",
    "\n",
    "Reverse a linked list from position m to n. Do it in one-pass.<br>\n",
    "\n",
    "Note: 1 ≤ m ≤ n ≤ length of list.\n",
    "\n",
    "Example:\n",
    "\n",
    "Input: 1->2->3->4->5->NULL, m = 2, n = 4<br>\n",
    "Output: 1->4->3->2->5->NULL"
   ]
  }
 ],
 "metadata": {
  "kernelspec": {
   "display_name": "Python 3",
   "language": "python",
   "name": "python3"
  },
  "language_info": {
   "codemirror_mode": {
    "name": "ipython",
    "version": 3
   },
   "file_extension": ".py",
   "mimetype": "text/x-python",
   "name": "python",
   "nbconvert_exporter": "python",
   "pygments_lexer": "ipython3",
   "version": "3.6.5"
  }
 },
 "nbformat": 4,
 "nbformat_minor": 2
}
