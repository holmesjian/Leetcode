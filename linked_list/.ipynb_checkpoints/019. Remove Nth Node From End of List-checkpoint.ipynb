{
 "cells": [
  {
   "cell_type": "markdown",
   "metadata": {},
   "source": [
    "# Problem\n",
    "\n",
    "Given a linked list, remove the n-th node from the end of list and return its head.\n",
    "\n",
    "Example:<br>\n",
    "\n",
    "Given linked list: 1->2->3->4->5, and n = 2.<br>\n",
    "\n",
    "After removing the second node from the end, the linked list becomes 1->2->3->5.<br>\n",
    "\n",
    "Note:\n",
    "\n",
    "Given n will always be valid.\n",
    "\n",
    "Follow up:\n",
    "\n",
    "Could you do this in one pass?"
   ]
  },
  {
   "cell_type": "markdown",
   "metadata": {},
   "source": [
    "# Brainstorm\n",
    "\n",
    "We can first get the length of the linked list length.\n",
    "- when we reach length - 2 node, the next node need to be skipped\n",
    "- so curr.next = curr.next.next\n",
    "\n",
    "Can we do it in one pass? Think of multiple pointers.\n",
    "\n",
    "\n",
    "Edge cases\n",
    "- linked list with only one node: use \"dummy\" node to simplify such cases.\n"
   ]
  },
  {
   "cell_type": "markdown",
   "metadata": {},
   "source": [
    "# Solution 1\n",
    "##### Calculate length"
   ]
  },
  {
   "cell_type": "code",
   "execution_count": null,
   "metadata": {},
   "outputs": [],
   "source": [
    "class Solution:\n",
    "    def removeNthFromEnd(self, head: ListNode, n: int) -> ListNode:\n",
    "        \n",
    "        if head is None:\n",
    "            return \n",
    "        \n",
    "        if n == 0:\n",
    "            return head\n",
    "        \n",
    "        # Get length\n",
    "        length = 0\n",
    "        curr = head\n",
    "        while curr:\n",
    "            length += 1\n",
    "            curr = curr.next\n",
    "            \n",
    "        # from beginning\n",
    "        k = length - n \n",
    "        \n",
    "        dummy = ListNode(0)\n",
    "        dummy.next = head\n",
    "        curr = dummy\n",
    "        count = 1\n",
    "        while count <= k:\n",
    "            curr = curr.next\n",
    "            count += 1\n",
    "            \n",
    "        curr.next = curr.next.next\n",
    "        \n",
    "        return dummy.next"
   ]
  },
  {
   "cell_type": "markdown",
   "metadata": {},
   "source": [
    "# Solution 2\n",
    "##### Two pointers"
   ]
  }
 ],
 "metadata": {
  "kernelspec": {
   "display_name": "Python 3",
   "language": "python",
   "name": "python3"
  },
  "language_info": {
   "codemirror_mode": {
    "name": "ipython",
    "version": 3
   },
   "file_extension": ".py",
   "mimetype": "text/x-python",
   "name": "python",
   "nbconvert_exporter": "python",
   "pygments_lexer": "ipython3",
   "version": "3.6.5"
  }
 },
 "nbformat": 4,
 "nbformat_minor": 2
}
