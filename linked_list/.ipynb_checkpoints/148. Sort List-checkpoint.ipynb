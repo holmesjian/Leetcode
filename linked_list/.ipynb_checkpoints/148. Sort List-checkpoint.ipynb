{
 "cells": [
  {
   "cell_type": "markdown",
   "metadata": {},
   "source": [
    "# Problem\n",
    "\n",
    "Sort a linked list in O(n log n) time using constant space complexity.<br>\n",
    "\n",
    "Example 1:\n",
    "\n",
    "Input: 4->2->1->3<br>\n",
    "Output: 1->2->3->4<br>\n",
    "\n",
    "Example 2:\n",
    "\n",
    "Input: -1->5->3->4->0<br>\n",
    "Output: -1->0->3->4->5"
   ]
  }
 ],
 "metadata": {
  "kernelspec": {
   "display_name": "Python 3",
   "language": "python",
   "name": "python3"
  },
  "language_info": {
   "codemirror_mode": {
    "name": "ipython",
    "version": 3
   },
   "file_extension": ".py",
   "mimetype": "text/x-python",
   "name": "python",
   "nbconvert_exporter": "python",
   "pygments_lexer": "ipython3",
   "version": "3.6.5"
  }
 },
 "nbformat": 4,
 "nbformat_minor": 2
}
