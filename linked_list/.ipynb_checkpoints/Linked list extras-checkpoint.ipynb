{
 "cells": [
  {
   "cell_type": "markdown",
   "metadata": {},
   "source": [
    "Create a linked list class"
   ]
  },
  {
   "cell_type": "code",
   "execution_count": null,
   "metadata": {},
   "outputs": [],
   "source": [
    "class Node:\n",
    "    def __init__(self, value):\n",
    "        self.value = value\n",
    "        self.next = None"
   ]
  },
  {
   "cell_type": "code",
   "execution_count": 9,
   "metadata": {},
   "outputs": [
    {
     "name": "stdout",
     "output_type": "stream",
     "text": [
      "50\n",
      "[0, 1]\n"
     ]
    }
   ],
   "source": [
    "ages = [30, 50, 50]\n",
    "\n",
    "max_age = 0\n",
    "for age in ages:\n",
    "    if age > max_age:\n",
    "        max_age = age\n",
    "print(max_age)\n",
    "\n",
    "max_age = 0\n",
    "max_index = []\n",
    "for i, age in enumerate(ages):\n",
    "    if age > max_age:\n",
    "        max_age = age\n",
    "        max_index.append(i)\n",
    "print(max_index)"
   ]
  },
  {
   "cell_type": "markdown",
   "metadata": {},
   "source": [
    "#### Method 1: create a linked list from an array\n",
    "- Wrong solution: did you notice where is the bug?"
   ]
  },
  {
   "cell_type": "code",
   "execution_count": null,
   "metadata": {},
   "outputs": [],
   "source": [
    "def create_linked_list(input_list):\n",
    "    \"\"\"\n",
    "    Function to create a linked list\n",
    "    @param input_list: a list of integers\n",
    "    @return: head node of the linked list\n",
    "    \"\"\"\n",
    "    head = None\n",
    "    for value in input_list:\n",
    "        # for first iteration, need to fill head node\n",
    "        if head is None:\n",
    "            head = Node(value)\n",
    "        else:\n",
    "            head.next = Node(value)\n",
    "            head = head.next\n",
    "                \n",
    "    return head"
   ]
  },
  {
   "cell_type": "markdown",
   "metadata": {},
   "source": [
    "After fixing the bug:"
   ]
  },
  {
   "cell_type": "code",
   "execution_count": null,
   "metadata": {},
   "outputs": [],
   "source": [
    "def create_linked_list(input_list):\n",
    "    \"\"\"\n",
    "    Function to create a linked list\n",
    "    @param input_list: a list of integers\n",
    "    @return: head node of the linked list\n",
    "    \"\"\"\n",
    "    head = None\n",
    "    current = None\n",
    "    for value in input_list:\n",
    "        # for first iteration, need to fill head node\n",
    "        if head is None:\n",
    "            head = Node(value)\n",
    "            current = head\n",
    "\n",
    "        else:\n",
    "            current.next = Node(value)\n",
    "            current = current.next\n",
    "                \n",
    "    return head"
   ]
  },
  {
   "cell_type": "markdown",
   "metadata": {},
   "source": [
    "#### Method 2: Create a linked list class"
   ]
  },
  {
   "cell_type": "code",
   "execution_count": null,
   "metadata": {},
   "outputs": [],
   "source": [
    "class LinkedList:\n",
    "    def __init__(self):\n",
    "        self.head = None"
   ]
  },
  {
   "cell_type": "markdown",
   "metadata": {},
   "source": [
    "Now we need to add some methods to it\n",
    "- append()\n",
    "wrong solution. Did you notice where is the bug?"
   ]
  },
  {
   "cell_type": "code",
   "execution_count": null,
   "metadata": {},
   "outputs": [],
   "source": [
    "class LinkedList:\n",
    "    def __init__(self):\n",
    "        self.head = None\n",
    "    \n",
    "    def append(self, value):\n",
    "        \"\"\" Append a value to the end of the list. \"\"\"\n",
    "        current = self.head\n",
    "        if self.head is None:\n",
    "            self.head = Node(value)\n",
    "            # here must have return\n",
    "            return\n",
    "\n",
    "        # find the tail of the linked list and append\n",
    "        current = self.head\n",
    "        while current:\n",
    "            current = current.next\n",
    "        current = Node(value)\n",
    "            \n",
    "        return"
   ]
  },
  {
   "cell_type": "markdown",
   "metadata": {},
   "source": [
    "The bug:"
   ]
  },
  {
   "cell_type": "code",
   "execution_count": null,
   "metadata": {},
   "outputs": [],
   "source": [
    "class LinkedList:\n",
    "    def __init__(self):\n",
    "        self.head = None\n",
    "    \n",
    "    def append(self, value):\n",
    "        \"\"\" Append a value to the end of the list. \"\"\"\n",
    "        current = self.head\n",
    "        if self.head is None:\n",
    "            self.head = Node(value)\n",
    "            # here must have return\n",
    "            return\n",
    "\n",
    "        # find the tail of the linked list and append\n",
    "        current = self.head\n",
    "        #### bug ####\n",
    "        while current:\n",
    "            current = current.next\n",
    "        current = Node(value)\n",
    "        #### bug ####\n",
    "\n",
    "            \n",
    "        return"
   ]
  },
  {
   "cell_type": "markdown",
   "metadata": {},
   "source": [
    "Here we are essentially looping until current is set to None. Then when we try to set the node with current = Node(value), it fails as we are trying to access None.<br>\n",
    "After fixing the bug:"
   ]
  },
  {
   "cell_type": "code",
   "execution_count": null,
   "metadata": {},
   "outputs": [],
   "source": [
    "class LinkedList:\n",
    "    def __init__(self):\n",
    "        self.head = None\n",
    "    \n",
    "    def append(self, value):\n",
    "        \"\"\" Append a value to the end of the list. \"\"\"\n",
    "        current = self.head\n",
    "        if self.head is None:\n",
    "            self.head = Node(value)\n",
    "            # here must have return\n",
    "            return\n",
    "\n",
    "        # find the tail of the linked list and append\n",
    "        current = self.head\n",
    "        while current.next:\n",
    "            current = current.next\n",
    "        current.next = Node(value)\n",
    "            \n",
    "        return"
   ]
  },
  {
   "cell_type": "markdown",
   "metadata": {},
   "source": [
    "- prepend():"
   ]
  },
  {
   "cell_type": "code",
   "execution_count": null,
   "metadata": {},
   "outputs": [],
   "source": [
    "class Node:\n",
    "    \"\"\"Define node for singly linked list.\n",
    "\n",
    "    Attributes:\n",
    "        value: Anything, a number, a string, a boolean or an object that a node stores.\n",
    "        next: A reference to the next node in the list.\n",
    "    \"\"\"\n",
    "\n",
    "    def __init__(self, value, next=None):\n",
    "        \"\"\"Inits node with value and next.\"\"\"\n",
    "        self.value = value\n",
    "        self.next = next\n",
    "\n",
    "    def __str__(self):\n",
    "        \"\"\"Print a readable string presentation of the object\"\"\"\n",
    "        return str(self.value)\n",
    "    \n",
    "class LinkedList:\n",
    "    \"\"\"Singly linked list with methods to manage list nodes.\n",
    "\n",
    "        Attributes:\n",
    "            head: A node\n",
    "        \"\"\"\n",
    "\n",
    "    def __init__(self):\n",
    "        \"\"\"Inits linked list\"\"\"\n",
    "        self.head = None\n",
    "\n",
    "    def __iter__(self):\n",
    "        \"\"\"Make linked list iterable\"\"\"\n",
    "        current = self.head\n",
    "        while current:\n",
    "            yield current\n",
    "            current = current.next\n",
    "\n",
    "    def __str__(self):\n",
    "        values = [str(x) for x in self]\n",
    "        return ' -> '.join(values)\n",
    "\n",
    "    def add_to_end(self, value):\n",
    "        \"\"\"Add a new value to the end of the list.\"\"\"\n",
    "        if not isinstance(value, Node):\n",
    "            new_node = Node(value)\n",
    "\n",
    "        if self.head is None:\n",
    "            self.head = new_node\n",
    "        else:\n",
    "            current = self.head\n",
    "            while current.next:\n",
    "                current = current.next\n",
    "            current.next = new_node\n",
    "\n",
    "    def add_to_beginning(self, value):\n",
    "        \"\"\"Add a new value to the beginning of the list.\"\"\"\n",
    "        if not isinstance(value, Node):\n",
    "            new_node = Node(value)\n",
    "\n",
    "        if self.head is None:\n",
    "            self.head = new_node\n",
    "        else:\n",
    "            new_node.next = self.head\n",
    "            self.head = new_node\n",
    "\n",
    "class LinkedListTest(unittest.TestCase):\n",
    "    def setUp(self):\n",
    "        self.node1 = Node(1)\n",
    "        self.node2 = Node(2)\n",
    "        self.node3 = Node(3)\n",
    "\n",
    "        self.my_list = LinkedList()\n",
    "        self.my_list.head = self.node1\n",
    "        self.node1.next = self.node2\n",
    "        self.node2.next = self.node3\n",
    "\n",
    "    def test_append(self):\n",
    "        self.my_list.add_to_end(4)\n",
    "        self.assertEqual(str(self.my_list), '1 -> 2 -> 3 -> 4')\n",
    "\n",
    "    def test_push(self):\n",
    "        self.my_list.add_to_beginning(0)\n",
    "        self.assertEqual(str(self.my_list), '0 -> 1 -> 2 -> 3')\n",
    "\n",
    "\n",
    "if __name__ == \"__main__\":\n",
    "    unittest.main()"
   ]
  },
  {
   "cell_type": "markdown",
   "metadata": {},
   "source": [
    "- search()\n",
    "wrong solution:"
   ]
  },
  {
   "cell_type": "code",
   "execution_count": null,
   "metadata": {},
   "outputs": [],
   "source": [
    "def search(self, value):\n",
    "    \"\"\"Search the linked list for a node with the requested value and return the node. \"\"\"\n",
    "    if self.head is None:\n",
    "        return None\n",
    "            \n",
    "    current = self.head\n",
    "    while current:\n",
    "        if current.value == value:\n",
    "            return current\n",
    "        current = current.next\n",
    "    \n",
    "    raise ValueError(\"Value not found in the list.\")"
   ]
  },
  {
   "cell_type": "markdown",
   "metadata": {},
   "source": [
    "pop()"
   ]
  },
  {
   "cell_type": "code",
   "execution_count": null,
   "metadata": {},
   "outputs": [],
   "source": [
    "def pop(self):\n",
    "        \"\"\" Return the first node's value and remove it from the list. \"\"\"\n",
    "        if self.head is None:\n",
    "            return None\n",
    "        \n",
    "        node = self.head\n",
    "        self.head = self.head.next\n",
    "        \n",
    "        return node.value"
   ]
  },
  {
   "cell_type": "markdown",
   "metadata": {},
   "source": [
    "size()"
   ]
  },
  {
   "cell_type": "code",
   "execution_count": null,
   "metadata": {},
   "outputs": [],
   "source": [
    "def size(self):\n",
    "    \"\"\" Return the size or length of the linked list. \"\"\"\n",
    "    count = 0\n",
    "    current = self.head\n",
    "    while current:\n",
    "        count += 1\n",
    "        current = current.next\n",
    "    return count"
   ]
  },
  {
   "cell_type": "markdown",
   "metadata": {},
   "source": [
    "Harder ones:\n",
    "- remove()\n",
    "To remove a node, we need to change the next pointer of the previous node to the next next node. So we need to check current.next.value instead of current.value because using current.value we will lose track of the previous node. we need to change current.next = current.next.next to remove current.next node. Here comes the problem, when the node we want to remove is the head node, we start checking with current.next. so that's a separate case we have to take care of. How about the tail? if current.next is tail and that's what we are looking for, current.next.next is None. so set current.next to None removes the tail node. We don't need a separate case\n",
    "- wrong solution:"
   ]
  },
  {
   "cell_type": "code",
   "execution_count": null,
   "metadata": {},
   "outputs": [],
   "source": [
    "def remove(self, value):\n",
    "    \"\"\" Remove first occurrence of value. \"\"\"\n",
    "    current = self.head\n",
    "    while current.next:\n",
    "        if current.next.value == value:\n",
    "            current.next = current.next.next\n",
    "        current = current.next"
   ]
  },
  {
   "cell_type": "markdown",
   "metadata": {},
   "source": [
    "the bug: current.next skips the head node\n",
    "- after fixing the bug:"
   ]
  },
  {
   "cell_type": "code",
   "execution_count": null,
   "metadata": {},
   "outputs": [],
   "source": [
    "def remove(self, value):\n",
    "        \"\"\" Remove first occurrence of value. \"\"\"\n",
    "        #remove the head\n",
    "        if self.head.value == value:\n",
    "            self.head = self.head.next\n",
    "            # here must have return\n",
    "            return \n",
    "        \n",
    "        # remove node in the middle and at the end\n",
    "        current = self.head\n",
    "        while current.next:\n",
    "            if current.next.value == value:\n",
    "                current.next = current.next.next\n",
    "                return\n",
    "            current = current.next"
   ]
  },
  {
   "cell_type": "markdown",
   "metadata": {},
   "source": [
    "insert()"
   ]
  },
  {
   "cell_type": "code",
   "execution_count": null,
   "metadata": {},
   "outputs": [],
   "source": [
    "def insert(self, value, pos):\n",
    "    \"\"\" Insert value at pos position in the list. If pos is larger than the\n",
    "        length of the list, append to the end of the list. \"\"\"\n",
    "    \n",
    "    # TODO: Write function to insert here\n",
    "    \n",
    "    # insert at head\n",
    "    if pos == 0:\n",
    "        self.prepend(value)\n",
    "    \n",
    "    elif pos > (self.size() - 1):\n",
    "        self.append(value)\n",
    "    \n",
    "    else:\n",
    "        index = 0\n",
    "        current = self.head\n",
    "        while current:\n",
    "            if index == pos - 1:\n",
    "                node = current.next\n",
    "                current.next = Node(value)\n",
    "                current.next.next = node\n",
    "            index += 1\n",
    "            current = current.next"
   ]
  },
  {
   "cell_type": "markdown",
   "metadata": {},
   "source": [
    "to_list()"
   ]
  }
 ],
 "metadata": {
  "kernelspec": {
   "display_name": "Python 3",
   "language": "python",
   "name": "python3"
  },
  "language_info": {
   "codemirror_mode": {
    "name": "ipython",
    "version": 3
   },
   "file_extension": ".py",
   "mimetype": "text/x-python",
   "name": "python",
   "nbconvert_exporter": "python",
   "pygments_lexer": "ipython3",
   "version": "3.6.5"
  }
 },
 "nbformat": 4,
 "nbformat_minor": 2
}
