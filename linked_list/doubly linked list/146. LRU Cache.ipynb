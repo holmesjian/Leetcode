{
 "cells": [
  {
   "cell_type": "markdown",
   "metadata": {},
   "source": [
    "# Problem\n",
    "\n",
    "Design and implement a data structure for Least Recently Used (LRU) cache. It should support the following operations: get and put.\n",
    "\n",
    "get(key) - Get the value (will always be positive) of the key if the key exists in the cache, otherwise return -1.\n",
    "put(key, value) - Set or insert the value if the key is not already present. When the cache reached its capacity, it should invalidate the least recently used item before inserting a new item.\n",
    "\n",
    "The cache is initialized with a positive capacity.\n",
    "\n",
    "Follow up:\n",
    "Could you do both operations in O(1) time complexity?\n",
    "\n",
    "Example:\n",
    "\n",
    "LRUCache cache = new LRUCache( 2 /* capacity */ );\n",
    "\n",
    "cache.put(1, 1);<br>\n",
    "cache.put(2, 2);<br>\n",
    "cache.get(1);       // returns 1<br>\n",
    "cache.put(3, 3);    // evicts key 2<br>\n",
    "cache.get(2);       // returns -1 (not found)<br>\n",
    "cache.put(4, 4);    // evicts key 1<br>\n",
    "cache.get(1);       // returns -1 (not found)<br>\n",
    "cache.get(3);       // returns 3<br>\n",
    "cache.get(4);       // returns 4<br>"
   ]
  },
  {
   "cell_type": "markdown",
   "metadata": {},
   "source": [
    "# Brainstorm\n",
    "\n",
    "- As we want to store key-value pairs, a hash table seems the right option.\n",
    "- As we also need to evict the oldest item if exceeding capacity, a queue seems helpful. The front of the queue will be LRU item and will be removed first.\n",
    "- Basically when we perform a get or put operation for a key, that key will be at the end of the queue.\n",
    "- What if we want to put a key that is already present in the cache? \n",
    "      - the key will be updated to the new value, and the key will be at the end of the queue.\n",
    "\n",
    "OrderedDict\n",
    "- remove: popleft(False) if FIFO\n"
   ]
  },
  {
   "cell_type": "code",
   "execution_count": null,
   "metadata": {},
   "outputs": [],
   "source": [
    "from collections import deque\n",
    "\n",
    "class LRUCache:\n",
    "\n",
    "    def __init__(self, capacity: int):\n",
    "        self.queue = deque()\n",
    "        self.cache = {}\n",
    "        self.capacity = capacity\n",
    "\n",
    "    def get(self, key: int) -> int:\n",
    "        if key in self.cache:\n",
    "            # Reorder of LRU queue\n",
    "            value = self.cache[key]\n",
    "            self.queue.remove(key)\n",
    "            self.queue.append(key)\n",
    "            return value\n",
    "        else:\n",
    "            return -1\n",
    "        \n",
    "\n",
    "    def put(self, key: int, value: int) -> None:\n",
    "        if key in self.cache:\n",
    "            self.cache[key] = value\n",
    "            self.queue.remove(key)\n",
    "            self.queue.append(key)\n",
    "            \n",
    "        else:\n",
    "            self.cache[key] = value\n",
    "            self.queue.append(key)\n",
    "            \n",
    "        if len(self.queue) > self.capacity:\n",
    "            LRU = self.queue.popleft()\n",
    "            self.cache.pop(LRU)"
   ]
  },
  {
   "cell_type": "markdown",
   "metadata": {},
   "source": [
    "# Solution 2\n",
    "##### OrderedDict"
   ]
  },
  {
   "cell_type": "code",
   "execution_count": 14,
   "metadata": {},
   "outputs": [],
   "source": [
    "from collections import OrderedDict\n",
    "\n",
    "class LRUCache:\n",
    "\n",
    "    def __init__(self, capacity: int):\n",
    "        self.cache = OrderedDict()\n",
    "        self.capacity = capacity      \n",
    "\n",
    "    def get(self, key: int) -> int:\n",
    "        if key in self.cache:\n",
    "            # Reorder of LRU queue\n",
    "            value = self.cache[key]\n",
    "            self.cache.pop(key)\n",
    "            self.cache[key] = value\n",
    "            return value\n",
    "        else:\n",
    "            return -1\n",
    "        \n",
    "\n",
    "    def put(self, key: int, value: int) -> None:\n",
    "        if key in self.cache:\n",
    "            self.cache.pop(key)\n",
    "            self.cache[key] = value\n",
    "            \n",
    "        else:\n",
    "            self.cache[key] = value\n",
    "            \n",
    "        if len(self.cache) > self.capacity:\n",
    "            self.cache.popitem(False) "
   ]
  }
 ],
 "metadata": {
  "kernelspec": {
   "display_name": "Python 3",
   "language": "python",
   "name": "python3"
  },
  "language_info": {
   "codemirror_mode": {
    "name": "ipython",
    "version": 3
   },
   "file_extension": ".py",
   "mimetype": "text/x-python",
   "name": "python",
   "nbconvert_exporter": "python",
   "pygments_lexer": "ipython3",
   "version": "3.6.5"
  }
 },
 "nbformat": 4,
 "nbformat_minor": 2
}
