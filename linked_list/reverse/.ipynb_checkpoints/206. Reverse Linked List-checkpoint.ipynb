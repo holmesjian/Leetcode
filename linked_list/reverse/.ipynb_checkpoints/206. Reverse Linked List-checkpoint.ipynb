{
 "cells": [
  {
   "cell_type": "markdown",
   "metadata": {},
   "source": [
    "# Problem\n",
    "\n",
    "Reverse a singly linked list.\n",
    "\n",
    "Example:\n",
    "\n",
    "Input: 1->2->3->4->5->NULL<br>\n",
    "Output: 5->4->3->2->1->NULL<br>\n",
    "\n",
    "Follow up:\n",
    "\n",
    "A linked list can be reversed either iteratively or recursively. Could you implement both?"
   ]
  },
  {
   "cell_type": "markdown",
   "metadata": {},
   "source": [
    "# Brainstorm\n",
    "\n"
   ]
  },
  {
   "cell_type": "markdown",
   "metadata": {},
   "source": [
    "# Solution 1\n",
    "##### Iteration"
   ]
  },
  {
   "cell_type": "code",
   "execution_count": 29,
   "metadata": {},
   "outputs": [],
   "source": [
    "# Definition for singly-linked list.\n",
    "# class ListNode:\n",
    "#     def __init__(self, x):\n",
    "#         self.val = x\n",
    "#         self.next = None\n",
    "\n",
    "class Solution:\n",
    "    def reverseList(self, head: ListNode) -> ListNode:\n",
    "        \n",
    "        if not head or not head.next:\n",
    "            return head\n",
    "        \n",
    "        prev = head\n",
    "        curr = prev.next\n",
    "        next_node = curr.next\n",
    "        head.next = None\n",
    "        \n",
    "        while curr:\n",
    "            \n",
    "            curr.next = prev\n",
    "            \n",
    "            # next iteration\n",
    "            prev = curr\n",
    "            curr = next_node\n",
    "            if curr: # Be careful of the end here\n",
    "                next_node = curr.next\n",
    "        \n",
    "        return prev"
   ]
  },
  {
   "cell_type": "code",
   "execution_count": 19,
   "metadata": {},
   "outputs": [],
   "source": [
    "class Solution:\n",
    "    def reverseList(self, head: ListNode) -> ListNode:\n",
    "        \n",
    "        if head is None or head.next is None:\n",
    "            return head\n",
    "        \n",
    "        prev = None\n",
    "        \n",
    "        while head:\n",
    "            \n",
    "            next_node = head.next\n",
    "            # reverse link\n",
    "            head.next = prev\n",
    "            prev = head\n",
    "            head = next_node\n",
    "            \n",
    "        return prev"
   ]
  },
  {
   "cell_type": "code",
   "execution_count": 32,
   "metadata": {},
   "outputs": [],
   "source": [
    "s = Solution()"
   ]
  },
  {
   "cell_type": "code",
   "execution_count": 33,
   "metadata": {},
   "outputs": [
    {
     "ename": "KeyboardInterrupt",
     "evalue": "",
     "output_type": "error",
     "traceback": [
      "\u001b[1;31m---------------------------------------------------------------------------\u001b[0m",
      "\u001b[1;31mKeyboardInterrupt\u001b[0m                         Traceback (most recent call last)",
      "\u001b[1;32m<ipython-input-33-2bfab2496ffa>\u001b[0m in \u001b[0;36m<module>\u001b[1;34m()\u001b[0m\n\u001b[1;32m----> 1\u001b[1;33m \u001b[0mnew_head\u001b[0m \u001b[1;33m=\u001b[0m \u001b[0ms\u001b[0m\u001b[1;33m.\u001b[0m\u001b[0mreverseList1\u001b[0m\u001b[1;33m(\u001b[0m\u001b[0mhead\u001b[0m\u001b[1;33m)\u001b[0m\u001b[1;33m\u001b[0m\u001b[0m\n\u001b[0m",
      "\u001b[1;32m<ipython-input-29-037e025c0cd9>\u001b[0m in \u001b[0;36mreverseList1\u001b[1;34m(self, head)\u001b[0m\n\u001b[0;32m     16\u001b[0m         \u001b[0mhead\u001b[0m\u001b[1;33m.\u001b[0m\u001b[0mnext\u001b[0m \u001b[1;33m=\u001b[0m \u001b[1;32mNone\u001b[0m\u001b[1;33m\u001b[0m\u001b[0m\n\u001b[0;32m     17\u001b[0m \u001b[1;33m\u001b[0m\u001b[0m\n\u001b[1;32m---> 18\u001b[1;33m         \u001b[1;32mwhile\u001b[0m \u001b[0mcurr\u001b[0m\u001b[1;33m:\u001b[0m\u001b[1;33m\u001b[0m\u001b[0m\n\u001b[0m\u001b[0;32m     19\u001b[0m \u001b[1;33m\u001b[0m\u001b[0m\n\u001b[0;32m     20\u001b[0m             \u001b[0mcurr\u001b[0m\u001b[1;33m.\u001b[0m\u001b[0mnext\u001b[0m \u001b[1;33m=\u001b[0m \u001b[0mprev\u001b[0m\u001b[1;33m\u001b[0m\u001b[0m\n",
      "\u001b[1;31mKeyboardInterrupt\u001b[0m: "
     ]
    }
   ],
   "source": [
    "new_head = s.reverseList1(head)"
   ]
  },
  {
   "cell_type": "code",
   "execution_count": 28,
   "metadata": {},
   "outputs": [],
   "source": [
    "head.next"
   ]
  },
  {
   "cell_type": "code",
   "execution_count": null,
   "metadata": {},
   "outputs": [],
   "source": []
  },
  {
   "cell_type": "markdown",
   "metadata": {},
   "source": [
    "# Solution 2\n",
    "##### Recursion"
   ]
  },
  {
   "cell_type": "code",
   "execution_count": null,
   "metadata": {},
   "outputs": [],
   "source": [
    "class Solution:\n",
    "    def reverseList(self, head: ListNode) -> ListNode:\n",
    "        \n",
    "        return self.reverseList_helper(head, None)\n",
    "        \n",
    "    def reverseList_helper(self, head, prev):\n",
    "        \n",
    "        if head is None:\n",
    "            return prev\n",
    "        \n",
    "        next_node = head.next\n",
    "        head.next = prev\n",
    "\n",
    "        return self.reverseList_helper(next_node, head)"
   ]
  }
 ],
 "metadata": {
  "kernelspec": {
   "display_name": "Python 3",
   "language": "python",
   "name": "python3"
  },
  "language_info": {
   "codemirror_mode": {
    "name": "ipython",
    "version": 3
   },
   "file_extension": ".py",
   "mimetype": "text/x-python",
   "name": "python",
   "nbconvert_exporter": "python",
   "pygments_lexer": "ipython3",
   "version": "3.6.5"
  }
 },
 "nbformat": 4,
 "nbformat_minor": 2
}
