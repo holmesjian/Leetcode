{
 "cells": [
  {
   "cell_type": "markdown",
   "metadata": {},
   "source": [
    "# Problem\n",
    "\n",
    "A linked list is given such that each node contains an additional random pointer which could point to any node in the list or null.\n",
    "\n",
    "Return a deep copy of the list.\n",
    "\n",
    "The Linked List is represented in the input/output as a list of n nodes. Each node is represented as a pair of [val, random_index] where:\n",
    "\n",
    "val: an integer representing Node.val<br>\n",
    "random_index: the index of the node (range from 0 to n-1) where random pointer points to, or null if it does not point to any node.\n",
    " \n",
    "\n",
    "Constraints:\n",
    "\n",
    "-10000 <= Node.val <= 10000<br>\n",
    "Node.random is null or pointing to a node in the linked list.<br>\n",
    "Number of Nodes will not exceed 1000."
   ]
  },
  {
   "cell_type": "markdown",
   "metadata": {},
   "source": [
    "# Brainstorm\n",
    "\n",
    "With random pointers, if the random node already exists, we need to create a pointer to that existing node. If the random node does not exist, we need to create a new node, but for some next nodes along the linked list, we need to remember to point to that already exist random node, not creating a new one.<br>\n",
    "\n",
    "So we have to keep track of the nodes we have created. If any next or random node already exists, we don't create new nodes."
   ]
  }
 ],
 "metadata": {
  "kernelspec": {
   "display_name": "Python 3",
   "language": "python",
   "name": "python3"
  },
  "language_info": {
   "codemirror_mode": {
    "name": "ipython",
    "version": 3
   },
   "file_extension": ".py",
   "mimetype": "text/x-python",
   "name": "python",
   "nbconvert_exporter": "python",
   "pygments_lexer": "ipython3",
   "version": "3.6.5"
  }
 },
 "nbformat": 4,
 "nbformat_minor": 2
}
