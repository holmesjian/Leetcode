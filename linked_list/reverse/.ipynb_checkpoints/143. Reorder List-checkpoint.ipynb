{
 "cells": [
  {
   "cell_type": "markdown",
   "metadata": {},
   "source": [
    "# Problem\n",
    "\n",
    "Given a singly linked list L: L0→L1→…→Ln-1→Ln,\n",
    "reorder it to: L0→Ln→L1→Ln-1→L2→Ln-2→…\n",
    "\n",
    "You may not modify the values in the list's nodes, only nodes itself may be changed.\n",
    "\n",
    "Example 1:\n",
    "\n",
    "Given 1->2->3->4, reorder it to 1->4->2->3.\n",
    "\n",
    "Example 2:\n",
    "\n",
    "Given 1->2->3->4->5, reorder it to 1->5->2->4->3."
   ]
  },
  {
   "cell_type": "markdown",
   "metadata": {},
   "source": [
    "# Brainstorm\n",
    "\n",
    "The ending condition for even and odd length is very troublesome."
   ]
  },
  {
   "cell_type": "markdown",
   "metadata": {},
   "source": [
    "# Solution"
   ]
  },
  {
   "cell_type": "code",
   "execution_count": null,
   "metadata": {},
   "outputs": [],
   "source": [
    "# Definition for singly-linked list.\n",
    "# class ListNode:\n",
    "#     def __init__(self, val=0, next=None):\n",
    "#         self.val = val\n",
    "#         self.next = next\n",
    "class Solution:\n",
    "    def reorderList(self, head: ListNode) -> None:\n",
    "        \"\"\"\n",
    "        Do not return anything, modify head in-place instead.\n",
    "    \n",
    "        \"\"\"\n",
    "        \n",
    "        # Edge\n",
    "        if not head or not head.next or not head.next.next:\n",
    "            return head\n",
    "        \n",
    "        \n",
    "        # Find middle\n",
    "        slow = head\n",
    "        fast = head\n",
    "        while fast and fast.next:\n",
    "            slow = slow.next\n",
    "            fast = fast.next.next\n",
    "            \n",
    "        \n",
    "        # Now slow is at the middle\n",
    "        # reverse list from slow to end\n",
    "        \n",
    "        prev = None\n",
    "        curr = slow\n",
    "        next_node = curr.next\n",
    "        while curr:\n",
    "            curr.next = prev\n",
    "            \n",
    "            # increment three pointers\n",
    "            prev = curr\n",
    "            curr = next_node\n",
    "            if curr:\n",
    "                next_node = curr.next\n",
    "                \n",
    "        # now prev is the reverse head\n",
    "        \n",
    "        front_curr = head\n",
    "        back_curr = prev\n",
    "        front_next = front_curr.next\n",
    "        back_next = back_curr.next\n",
    "        \n",
    "        while back_next:\n",
    "            \n",
    "            front_curr.next = back_curr\n",
    "            back_curr.next = front_next\n",
    "            \n",
    "            front_curr = front_next\n",
    "            back_curr = back_next\n",
    "            \n",
    "            front_next = front_next.next\n",
    "            back_next = back_next.next\n",
    "            \n",
    "        return head\n",
    "        "
   ]
  }
 ],
 "metadata": {
  "kernelspec": {
   "display_name": "Python 3",
   "language": "python",
   "name": "python3"
  },
  "language_info": {
   "codemirror_mode": {
    "name": "ipython",
    "version": 3
   },
   "file_extension": ".py",
   "mimetype": "text/x-python",
   "name": "python",
   "nbconvert_exporter": "python",
   "pygments_lexer": "ipython3",
   "version": "3.6.5"
  }
 },
 "nbformat": 4,
 "nbformat_minor": 2
}
