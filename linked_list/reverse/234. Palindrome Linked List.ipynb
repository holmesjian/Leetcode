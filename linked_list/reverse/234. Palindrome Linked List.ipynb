{
 "cells": [
  {
   "cell_type": "markdown",
   "metadata": {},
   "source": [
    "# Problem\n",
    "\n",
    "Given a singly linked list, determine if it is a palindrome.\n",
    "\n",
    "Example 1:\n",
    "\n",
    "Input: 1->2\n",
    "Output: false\n",
    "Example 2:\n",
    "\n",
    "Input: 1->2->2->1\n",
    "Output: true\n",
    "Follow up:\n",
    "Could you do it in O(n) time and O(1) space?"
   ]
  },
  {
   "cell_type": "markdown",
   "metadata": {},
   "source": [
    "# Solution 1\n",
    "##### Store first half in an array"
   ]
  },
  {
   "cell_type": "code",
   "execution_count": null,
   "metadata": {},
   "outputs": [],
   "source": [
    "# Definition for singly-linked list.\n",
    "# class ListNode:\n",
    "#     def __init__(self, x):\n",
    "#         self.val = x\n",
    "#         self.next = None\n",
    "\n",
    "class Solution:\n",
    "    def isPalindrome(self, head: ListNode) -> bool:\n",
    "        if head is None:\n",
    "            return True\n",
    "        \n",
    "        # find length\n",
    "        length = 0\n",
    "        curr = head\n",
    "        while curr:\n",
    "            length += 1\n",
    "            curr = curr.next\n",
    "            \n",
    "        \n",
    "        # go to the middle\n",
    "        mid = length // 2\n",
    "        num = 0\n",
    "        curr = head\n",
    "        first_half = []\n",
    "        while num < mid:\n",
    "            num += 1\n",
    "            first_half.append(curr.val)\n",
    "            curr = curr.next\n",
    "            \n",
    "        # compare \n",
    "        if length % 2 == 1:\n",
    "            curr = curr.next\n",
    "        \n",
    "        i = mid - 1\n",
    "        while curr:\n",
    "            if curr.val != first_half[i]:\n",
    "                return False\n",
    "            curr = curr.next\n",
    "            i -= 1\n",
    "            \n",
    "        return True"
   ]
  },
  {
   "cell_type": "markdown",
   "metadata": {},
   "source": [
    "# Solution 2\n",
    "##### Pointer and reverse "
   ]
  },
  {
   "cell_type": "code",
   "execution_count": 18,
   "metadata": {},
   "outputs": [],
   "source": [
    "def ispalindrome(head):\n",
    "    # get length\n",
    "    length = 0\n",
    "    curr = head\n",
    "    while curr:\n",
    "        length += 1\n",
    "        curr = curr.next\n",
    "    print(length)\n",
    "        \n",
    "    mid = length // 2\n",
    "    print(mid)\n",
    "    \n",
    "    mid_node = head\n",
    "    for _ in range(mid):\n",
    "        mid_node = mid_node.next\n",
    "    \n",
    "    # Reverse from mid_node to last node\n",
    "    prev_node = None\n",
    "    curr = mid_node\n",
    "    while curr:\n",
    "        next_node = curr.next\n",
    "        curr.next = prev_node\n",
    "        prev_node = curr\n",
    "        curr = next_node\n",
    "        \n",
    "    # Now prev_node is the last node\n",
    "    # compare\n",
    "    for _ in range(mid):\n",
    "        if head.value != prev_node.value:\n",
    "            return False\n",
    "        head = head.next\n",
    "        prev_node = prev_node.next\n",
    "    \n",
    "    return True"
   ]
  },
  {
   "cell_type": "code",
   "execution_count": 2,
   "metadata": {},
   "outputs": [],
   "source": [
    "class Node:\n",
    "    def __init__(self, value):\n",
    "        self.value = value\n",
    "        self.next = None"
   ]
  },
  {
   "cell_type": "code",
   "execution_count": 27,
   "metadata": {},
   "outputs": [],
   "source": [
    "head = Node(1)\n",
    "head.next = Node(2)\n",
    "head.next.next = Node(3)"
   ]
  },
  {
   "cell_type": "code",
   "execution_count": 23,
   "metadata": {},
   "outputs": [
    {
     "name": "stdout",
     "output_type": "stream",
     "text": [
      "3\n",
      "1\n"
     ]
    },
    {
     "data": {
      "text/plain": [
       "True"
      ]
     },
     "execution_count": 23,
     "metadata": {},
     "output_type": "execute_result"
    }
   ],
   "source": [
    "ispalindrome(head)"
   ]
  },
  {
   "cell_type": "markdown",
   "metadata": {},
   "source": [
    "## Improve finding middle node"
   ]
  },
  {
   "cell_type": "code",
   "execution_count": 24,
   "metadata": {},
   "outputs": [],
   "source": [
    "def ispalindrome(head):\n",
    "\n",
    "    mid_node = head\n",
    "    fast = head\n",
    "    while fast and fast.next:\n",
    "        fast = fast.next.next\n",
    "        mid_node = mid_node.next\n",
    "    \n",
    "    # Reverse from mid_node to last node\n",
    "    prev_node = None\n",
    "    curr = mid_node\n",
    "    while curr:\n",
    "        next_node = curr.next\n",
    "        curr.next = prev_node\n",
    "        prev_node = curr\n",
    "        curr = next_node\n",
    "        \n",
    "    # Now prev_node is the last node\n",
    "    # compare fist and second half\n",
    "    while prev_node and head:\n",
    "        if head.value != prev_node.value:\n",
    "            return False\n",
    "        head = head.next\n",
    "        prev_node = prev_node.next\n",
    "    \n",
    "    return True"
   ]
  },
  {
   "cell_type": "code",
   "execution_count": 28,
   "metadata": {},
   "outputs": [
    {
     "data": {
      "text/plain": [
       "False"
      ]
     },
     "execution_count": 28,
     "metadata": {},
     "output_type": "execute_result"
    }
   ],
   "source": [
    "ispalindrome(head)"
   ]
  },
  {
   "cell_type": "code",
   "execution_count": null,
   "metadata": {},
   "outputs": [],
   "source": [
    "# Definition for singly-linked list.\n",
    "# class ListNode:\n",
    "#     def __init__(self, x):\n",
    "#         self.val = x\n",
    "#         self.next = None\n",
    "\n",
    "class Solution:\n",
    "    def isPalindrome(self, head: ListNode) -> bool:\n",
    "        if head is None:\n",
    "            return True\n",
    "        \n",
    "        mid_node = head\n",
    "        fast = head\n",
    "        while fast and fast.next:\n",
    "            fast = fast.next.next\n",
    "            mid_node = mid_node.next\n",
    "\n",
    "        # Reverse from mid_node to last node\n",
    "        prev_node = None\n",
    "        curr = mid_node\n",
    "        while curr:\n",
    "            next_node = curr.next\n",
    "            curr.next = prev_node\n",
    "            prev_node = curr\n",
    "            curr = next_node\n",
    "\n",
    "        # Now prev_node is the last node\n",
    "        # compare fist and second half\n",
    "        while prev_node and head:\n",
    "            if head.val != prev_node.val:\n",
    "                return False\n",
    "            head = head.next\n",
    "            prev_node = prev_node.next\n",
    "\n",
    "        return True\n",
    "        "
   ]
  }
 ],
 "metadata": {
  "kernelspec": {
   "display_name": "Python 3",
   "language": "python",
   "name": "python3"
  },
  "language_info": {
   "codemirror_mode": {
    "name": "ipython",
    "version": 3
   },
   "file_extension": ".py",
   "mimetype": "text/x-python",
   "name": "python",
   "nbconvert_exporter": "python",
   "pygments_lexer": "ipython3",
   "version": "3.6.5"
  }
 },
 "nbformat": 4,
 "nbformat_minor": 2
}
