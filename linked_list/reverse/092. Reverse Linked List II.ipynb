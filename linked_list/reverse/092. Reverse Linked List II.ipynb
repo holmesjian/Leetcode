{
 "cells": [
  {
   "cell_type": "markdown",
   "metadata": {},
   "source": [
    "# Problem\n",
    "\n",
    "Reverse a linked list from position m to n. Do it in one-pass.<br>\n",
    "\n",
    "Note: 1 ≤ m ≤ n ≤ length of list.\n",
    "\n",
    "Example:\n",
    "\n",
    "Input: 1->2->3->4->5->NULL, m = 2, n = 4<br>\n",
    "Output: 1->4->3->2->5->NULL"
   ]
  },
  {
   "cell_type": "markdown",
   "metadata": {},
   "source": [
    "# Brainstorm\n",
    "\n"
   ]
  },
  {
   "cell_type": "markdown",
   "metadata": {},
   "source": [
    "# Solution"
   ]
  },
  {
   "cell_type": "code",
   "execution_count": null,
   "metadata": {},
   "outputs": [],
   "source": [
    "# Definition for singly-linked list.\n",
    "# class ListNode:\n",
    "#     def __init__(self, x):\n",
    "#         self.val = x\n",
    "#         self.next = None\n",
    "\n",
    "class Solution:\n",
    "    def reverseBetween(self, head: ListNode, m: int, n: int) -> ListNode:\n",
    "        \n",
    "        if not head or not head.next or m == n:\n",
    "            return head\n",
    "        \n",
    "        dummy = ListNode(0)\n",
    "        dummy.next = head\n",
    "        \n",
    "        slow = dummy\n",
    "        slow_steps = 1\n",
    "        while slow_steps < m:\n",
    "            slow = slow.next\n",
    "            slow_steps += 1\n",
    "            \n",
    "         \n",
    "        prev = slow\n",
    "        reverse_head = slow.next\n",
    "        curr = reverse_head\n",
    "        next_node = curr.next\n",
    "        reverse_steps = 1\n",
    "        while reverse_steps <= n - m + 1:\n",
    "            curr.next = prev\n",
    "            \n",
    "            prev = curr\n",
    "            curr = next_node\n",
    "            if curr:\n",
    "                next_node = curr.next\n",
    "            \n",
    "            reverse_steps += 1\n",
    "            \n",
    "        \n",
    "        # connect all\n",
    "        slow.next = prev\n",
    "        reverse_head.next = curr\n",
    "        \n",
    "   \n",
    "        return dummy.next"
   ]
  }
 ],
 "metadata": {
  "kernelspec": {
   "display_name": "Python 3",
   "language": "python",
   "name": "python3"
  },
  "language_info": {
   "codemirror_mode": {
    "name": "ipython",
    "version": 3
   },
   "file_extension": ".py",
   "mimetype": "text/x-python",
   "name": "python",
   "nbconvert_exporter": "python",
   "pygments_lexer": "ipython3",
   "version": "3.6.5"
  }
 },
 "nbformat": 4,
 "nbformat_minor": 2
}
