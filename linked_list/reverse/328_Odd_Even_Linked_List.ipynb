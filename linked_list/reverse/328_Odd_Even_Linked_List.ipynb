{
 "cells": [
  {
   "cell_type": "markdown",
   "metadata": {},
   "source": [
    "# Problem\n",
    "\n",
    "Given a singly linked list, group all odd nodes together followed by the even nodes. Please note here we are talking about the node number and not the value in the nodes.\n",
    "\n",
    "You should try to do it in place. The program should run in O(1) space complexity and O(nodes) time complexity.\n",
    "\n",
    "Example 1:\n",
    "\n",
    "Input: 1->2->3->4->5->NULL<br>\n",
    "Output: 1->3->5->2->4->NULL<br>\n",
    "\n",
    "\n",
    "Example 2:\n",
    "\n",
    "Input: 2->1->3->5->6->4->7->NULL<br>\n",
    "Output: 2->3->6->7->1->5->4->NULL<br>\n",
    "\n",
    "Note:\n",
    "\n",
    "The relative order inside both the even and odd groups should remain as it was in the input.\n",
    "The first node is considered odd, the second node even and so on ..."
   ]
  },
  {
   "cell_type": "markdown",
   "metadata": {},
   "source": [
    "# Brainstorm\n",
    "\n",
    "Change the next pointers around.\n",
    "- Be careful of while loop ending conditions \n"
   ]
  },
  {
   "cell_type": "code",
   "execution_count": 8,
   "metadata": {},
   "outputs": [],
   "source": [
    "# Definition for singly-linked list.\n",
    "# class ListNode:\n",
    "#     def __init__(self, x):\n",
    "#         self.val = x\n",
    "#         self.next = None\n",
    "\n",
    "class Solution:\n",
    "    def oddEvenList(self, head: ListNode) -> ListNode:\n",
    "        if not head or not head.next or not head.next.next:\n",
    "            return head\n",
    "        \n",
    "        odd_curr = head\n",
    "        even_head = head.next\n",
    "        even_curr = even_head\n",
    "\n",
    "        while odd_curr and odd_curr.next and even_curr.next:\n",
    "            odd_curr.next = odd_curr.next.next\n",
    "            odd_curr = odd_curr.next\n",
    "        \n",
    "            even_curr.next = even_curr.next.next\n",
    "            even_curr = even_curr.next\n",
    "            \n",
    "        # link the end of curr to even_head\n",
    "        odd_curr.next = even_head\n",
    "        \n",
    "        \n",
    "        return head"
   ]
  }
 ],
 "metadata": {
  "kernelspec": {
   "display_name": "Python 3",
   "language": "python",
   "name": "python3"
  },
  "language_info": {
   "codemirror_mode": {
    "name": "ipython",
    "version": 3
   },
   "file_extension": ".py",
   "mimetype": "text/x-python",
   "name": "python",
   "nbconvert_exporter": "python",
   "pygments_lexer": "ipython3",
   "version": "3.6.5"
  }
 },
 "nbformat": 4,
 "nbformat_minor": 2
}
