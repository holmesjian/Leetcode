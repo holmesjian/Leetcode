{
 "cells": [
  {
   "cell_type": "markdown",
   "metadata": {},
   "source": [
    "# Problem\n",
    "\n",
    "Given a linked list and a value x, partition it such that all nodes less than x come before nodes greater than or equal to x.\n",
    "\n",
    "You should preserve the original relative order of the nodes in each of the two partitions.\n",
    "\n",
    "Example:\n",
    "\n",
    "Input: head = 1->4->3->2->5->2, x = 3<br>\n",
    "Output: 1->2->2->4->3->5"
   ]
  },
  {
   "cell_type": "markdown",
   "metadata": {},
   "source": [
    "# Brainstorm\n",
    "\n",
    "Be careful of cycles\n",
    "\n",
    "- Time O(N)\n",
    "- Space O(1), we are just adjusting the links, not using extra space.\n"
   ]
  },
  {
   "cell_type": "code",
   "execution_count": null,
   "metadata": {},
   "outputs": [],
   "source": [
    "# Definition for singly-linked list.\n",
    "# class ListNode:\n",
    "#     def __init__(self, val=0, next=None):\n",
    "#         self.val = val\n",
    "#         self.next = next\n",
    "class Solution:\n",
    "    def partition(self, head: ListNode, x: int) -> ListNode:\n",
    "        \n",
    "        if not head or not head.next:\n",
    "            return head\n",
    "        \n",
    "        less_dummy = ListNode(0)\n",
    "        greater_dummy = ListNode(0)\n",
    "        less_curr = less_dummy\n",
    "        greater_curr = greater_dummy\n",
    "        \n",
    "        curr = head\n",
    "        while curr:\n",
    "            if curr.val >= x:\n",
    "                greater_curr.next = curr\n",
    "                greater_curr = greater_curr.next\n",
    "            else:\n",
    "                less_curr.next = curr\n",
    "                less_curr = less_curr.next\n",
    "                \n",
    "            curr = curr.next   \n",
    "        \n",
    "        less_curr.next = greater_dummy.next\n",
    "        greater_curr.next = None\n",
    "        return less_dummy.next"
   ]
  }
 ],
 "metadata": {
  "kernelspec": {
   "display_name": "Python 3",
   "language": "python",
   "name": "python3"
  },
  "language_info": {
   "codemirror_mode": {
    "name": "ipython",
    "version": 3
   },
   "file_extension": ".py",
   "mimetype": "text/x-python",
   "name": "python",
   "nbconvert_exporter": "python",
   "pygments_lexer": "ipython3",
   "version": "3.6.5"
  }
 },
 "nbformat": 4,
 "nbformat_minor": 2
}
