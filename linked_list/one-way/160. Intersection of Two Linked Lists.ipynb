{
 "cells": [
  {
   "cell_type": "markdown",
   "metadata": {},
   "source": [
    "# Problem\n",
    "\n",
    "Write a program to find the node at which the intersection of two singly linked lists begins.\n",
    "\n",
    "Notes:\n",
    "\n",
    "If the two linked lists have no intersection at all, return null.<br>\n",
    "The linked lists must retain their original structure after the function returns.<br>\n",
    "You may assume there are no cycles anywhere in the entire linked structure.<br>\n",
    "Your code should preferably run in O(n) time and use only O(1) memory."
   ]
  },
  {
   "cell_type": "markdown",
   "metadata": {},
   "source": [
    "# Brainstorm\n",
    "\n",
    "The challenge is that the number of nodes before intersection for the two lists might be different. So we can't iterate the two lists together from the beginning."
   ]
  },
  {
   "cell_type": "markdown",
   "metadata": {},
   "source": [
    "# Solution 1"
   ]
  },
  {
   "cell_type": "code",
   "execution_count": null,
   "metadata": {},
   "outputs": [],
   "source": [
    "# Definition for singly-linked list.\n",
    "# class ListNode:\n",
    "#     def __init__(self, x):\n",
    "#         self.val = x\n",
    "#         self.next = None\n",
    "\n",
    "class Solution:\n",
    "    def getIntersectionNode(self, headA, headB):\n",
    "        if not headA or not headB:\n",
    "            return None\n",
    "        \n",
    "        A_length = self.get_length(headA)\n",
    "        B_length = self.get_length(headB)\n",
    "        \n",
    "        currA = headA\n",
    "        currB = headB\n",
    "        \n",
    "        if A_length > B_length:\n",
    "            diff = A_length - B_length\n",
    "            # Iterate A until diff is 0\n",
    "            while diff > 0:\n",
    "                currA = currA.next\n",
    "                diff -= 1\n",
    "\n",
    "        elif B_length > A_length:\n",
    "            diff = B_length - A_length\n",
    "            while diff > 0:\n",
    "                currB = currB.next\n",
    "                diff -= 1\n",
    "        \n",
    "        # Iterate both list\n",
    "        while currA and currB:\n",
    "            if currA == currB:\n",
    "                return currA\n",
    "            currA = currA.next\n",
    "            currB = currB.next\n",
    "        \n",
    "        return None\n",
    "    \n",
    "    def get_length(self, head):\n",
    "        curr = head\n",
    "        length = 0\n",
    "        while curr:\n",
    "            length += 1\n",
    "            curr = curr.next\n",
    "        return length "
   ]
  }
 ],
 "metadata": {
  "kernelspec": {
   "display_name": "Python 3",
   "language": "python",
   "name": "python3"
  },
  "language_info": {
   "codemirror_mode": {
    "name": "ipython",
    "version": 3
   },
   "file_extension": ".py",
   "mimetype": "text/x-python",
   "name": "python",
   "nbconvert_exporter": "python",
   "pygments_lexer": "ipython3",
   "version": "3.6.5"
  }
 },
 "nbformat": 4,
 "nbformat_minor": 2
}
