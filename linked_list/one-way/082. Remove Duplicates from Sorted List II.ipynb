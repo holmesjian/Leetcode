{
 "cells": [
  {
   "cell_type": "markdown",
   "metadata": {},
   "source": [
    "# Problem\n",
    "\n",
    "Given a sorted linked list, delete all nodes that have duplicate numbers, leaving only distinct numbers from the original list.\n",
    "\n",
    "Return the linked list sorted as well.\n",
    "\n",
    "Example 1:\n",
    "\n",
    "Input: 1->2->3->3->4->4->5<br>\n",
    "Output: 1->2->5<br>\n",
    "\n",
    "\n",
    "Example 2:\n",
    "\n",
    "Input: 1->1->1->2->3<br>\n",
    "Output: 2->3"
   ]
  },
  {
   "cell_type": "markdown",
   "metadata": {},
   "source": [
    "# Brainstorm"
   ]
  },
  {
   "cell_type": "code",
   "execution_count": null,
   "metadata": {},
   "outputs": [],
   "source": []
  },
  {
   "cell_type": "markdown",
   "metadata": {},
   "source": [
    "# Solution"
   ]
  },
  {
   "cell_type": "code",
   "execution_count": null,
   "metadata": {},
   "outputs": [],
   "source": [
    "# Definition for singly-linked list.\n",
    "# class ListNode:\n",
    "#     def __init__(self, val=0, next=None):\n",
    "#         self.val = val\n",
    "#         self.next = next\n",
    "class Solution:\n",
    "    def deleteDuplicates(self, head: ListNode) -> ListNode:\n",
    "        if head is None:\n",
    "            return \n",
    "        \n",
    "        dummy = ListNode(0)\n",
    "        dummy.next = head\n",
    "        prev = dummy\n",
    "        curr = head\n",
    "        \n",
    "        while curr and curr.next:\n",
    "            \n",
    "            if curr.val == curr.next.val:\n",
    "            \n",
    "                while curr.next and curr.val == curr.next.val:\n",
    "                    curr.next = curr.next.next\n",
    "            \n",
    "                curr = curr.next\n",
    "                prev.next = curr\n",
    "                \n",
    "                \n",
    "            else:\n",
    "                curr = curr.next              \n",
    "                prev = prev.next\n",
    "        \n",
    "        return dummy.next"
   ]
  }
 ],
 "metadata": {
  "kernelspec": {
   "display_name": "Python 3",
   "language": "python",
   "name": "python3"
  },
  "language_info": {
   "codemirror_mode": {
    "name": "ipython",
    "version": 3
   },
   "file_extension": ".py",
   "mimetype": "text/x-python",
   "name": "python",
   "nbconvert_exporter": "python",
   "pygments_lexer": "ipython3",
   "version": "3.6.5"
  }
 },
 "nbformat": 4,
 "nbformat_minor": 2
}
