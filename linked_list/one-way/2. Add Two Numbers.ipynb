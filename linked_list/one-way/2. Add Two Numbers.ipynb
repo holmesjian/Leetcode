{
 "cells": [
  {
   "cell_type": "markdown",
   "metadata": {},
   "source": [
    "# Problem\n",
    "\n",
    "You are given two non-empty linked lists representing two non-negative integers. The digits are stored in reverse order and each of their nodes contain a single digit. Add the two numbers and return it as a linked list.\n",
    "\n",
    "You may assume the two numbers do not contain any leading zero, except the number 0 itself.\n",
    "\n",
    "Example:<br>\n",
    "\n",
    "Input: (2 -> 4 -> 3) + (5 -> 6 -> 4)<br>\n",
    "Output: 7 -> 0 -> 8<br>\n",
    "Explanation: 342 + 465 = 807."
   ]
  },
  {
   "cell_type": "markdown",
   "metadata": {},
   "source": [
    "# Brainstorm\n",
    "\n",
    "- Time O(max(m, n), space O(max(m, n))"
   ]
  },
  {
   "cell_type": "code",
   "execution_count": 29,
   "metadata": {},
   "outputs": [],
   "source": [
    "# Definition for singly-linked list.\n",
    "# class ListNode:\n",
    "#     def __init__(self, x):\n",
    "#         self.val = x\n",
    "#         self.next = None\n",
    "\n",
    "class Solution:\n",
    "    def addTwoNumbers(self, l1: ListNode, l2: ListNode) -> ListNode:\n",
    "        # Edge case\n",
    "        if not l1 and not l2:\n",
    "            return \n",
    "        \n",
    "        carry = 0\n",
    "        curr1 = l1\n",
    "        curr2 = l2\n",
    "        head = None\n",
    "        while curr1 or curr2 or carry:\n",
    "            curr_sum = 0\n",
    "\n",
    "            if curr1:\n",
    "                curr_sum += curr1.val\n",
    "                curr1 = curr1.next\n",
    "            if curr2:\n",
    "                curr_sum += curr2.val\n",
    "                curr2 = curr2.next\n",
    "            if carry:\n",
    "                curr_sum += carry\n",
    "                \n",
    "            carry = curr_sum // 10\n",
    "            curr_sum = curr_sum % 10\n",
    "            \n",
    "            # Append sum to combined list\n",
    "            if not head:\n",
    "                head = ListNode(curr_sum)\n",
    "                curr = head\n",
    "            else:         \n",
    "                curr.next = ListNode(curr_sum)\n",
    "                curr = curr.next\n",
    " \n",
    "        return head"
   ]
  },
  {
   "cell_type": "markdown",
   "metadata": {},
   "source": [
    "Use a dummy node to reduce edge case checking:"
   ]
  },
  {
   "cell_type": "code",
   "execution_count": null,
   "metadata": {},
   "outputs": [],
   "source": [
    "class Solution:\n",
    "    def addTwoNumbers(self, l1, l2):\n",
    "        # Edge case\n",
    "        if not l1 and not l2:\n",
    "            return \n",
    "        \n",
    "        carry = 0\n",
    "        curr1 = l1\n",
    "        curr2 = l2\n",
    "        dummy = ListNode(0)\n",
    "        curr = dummy\n",
    "        while curr1 or curr2 or carry:\n",
    "            curr_sum = 0\n",
    "            \n",
    "            # Check node valid or not separately\n",
    "            # If check together, too many cases\n",
    "            # E.g if curr1 and curr2 and carry, etc..\n",
    "            if curr1:\n",
    "                curr_sum += curr1.val\n",
    "                curr1 = curr1.next\n",
    "            if curr2:\n",
    "                curr_sum += curr2.val\n",
    "                curr2 = curr2.next\n",
    "            if carry:\n",
    "                curr_sum += carry\n",
    "                \n",
    "            carry = curr_sum // 10\n",
    "            curr_sum = curr_sum % 10\n",
    "            \n",
    "            # Append sum to combined list\n",
    "            curr.next = ListNode(curr_sum)\n",
    "            curr = curr.next\n",
    " \n",
    "        return dummy.next"
   ]
  }
 ],
 "metadata": {
  "kernelspec": {
   "display_name": "Python 3",
   "language": "python",
   "name": "python3"
  },
  "language_info": {
   "codemirror_mode": {
    "name": "ipython",
    "version": 3
   },
   "file_extension": ".py",
   "mimetype": "text/x-python",
   "name": "python",
   "nbconvert_exporter": "python",
   "pygments_lexer": "ipython3",
   "version": "3.6.5"
  }
 },
 "nbformat": 4,
 "nbformat_minor": 2
}
