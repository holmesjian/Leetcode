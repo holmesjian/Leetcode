{
 "cells": [
  {
   "cell_type": "markdown",
   "metadata": {},
   "source": [
    "# Problem\n",
    "\n",
    "You are given two non-empty linked lists representing two non-negative integers. The most significant digit comes first and each of their nodes contain a single digit. Add the two numbers and return it as a linked list.\n",
    "\n",
    "You may assume the two numbers do not contain any leading zero, except the number 0 itself.\n",
    "\n",
    "Follow up:<br>\n",
    "What if you cannot modify the input lists? In other words, reversing the lists is not allowed.\n",
    "\n",
    "Example:<br>\n",
    "\n",
    "Input: (7 -> 2 -> 4 -> 3) + (5 -> 6 -> 4)<br>\n",
    "Output: 7 -> 8 -> 0 -> 7"
   ]
  },
  {
   "cell_type": "markdown",
   "metadata": {},
   "source": [
    "# Brainstorm\n",
    "\n",
    "If we reverse the inputs, the problem becomes the same as Add Two Numbers. However, if we don't reverse the string, and computes from the most significant digits, if there is a carry after, we have to find a way to go back to change the numbers, in worst cases, like 99999, we have to change every number in front.\n",
    "\n",
    "We can compute the sum from each linked list, then add the two numbers. O(max(m+n)) time. This is possible because Python does not have integer overflow when the number becomes very large.<br>\n",
    "We can also store the numbers in linked list to some other data structures. As we iterate the numbers from the most significant digit and want to retrieve the least significant digit first. We can use a stack. We can also use a recursion so we don't need to manipulate the stack explicitly."
   ]
  },
  {
   "cell_type": "markdown",
   "metadata": {},
   "source": [
    "# Solution 1\n",
    "##### Reverse linked lists"
   ]
  },
  {
   "cell_type": "code",
   "execution_count": null,
   "metadata": {},
   "outputs": [],
   "source": [
    "# Definition for singly-linked list.\n",
    "# class ListNode:\n",
    "#     def __init__(self, val=0, next=None):\n",
    "#         self.val = val\n",
    "#         self.next = next\n",
    "class Solution:\n",
    "    def addTwoNumbers(self, l1: ListNode, l2: ListNode) -> ListNode:\n",
    "        if not l1 and not l2:\n",
    "            return \n",
    "        \n",
    "        r1 = self.reverse(l1)\n",
    "        r2 = self.reverse(l2)\n",
    "        \n",
    "        carry = 0\n",
    "        curr1 = r1\n",
    "        curr2 = r2\n",
    "        dummy = ListNode(0)\n",
    "        curr = dummy\n",
    "        while curr1 or curr2 or carry:\n",
    "            curr_sum = 0\n",
    "            if curr1:\n",
    "                curr_sum += curr1.val\n",
    "                curr1 = curr1.next\n",
    "            if curr2:\n",
    "                curr_sum += curr2.val\n",
    "                curr2 = curr2.next\n",
    "            if carry:\n",
    "                curr_sum += carry\n",
    "            \n",
    "            # Compute digit and carry\n",
    "            digit = curr_sum % 10\n",
    "            carry = curr_sum // 10\n",
    "            \n",
    "            # Append to new linked list\n",
    "            curr.next = ListNode(digit)\n",
    "            curr = curr.next\n",
    "            \n",
    "        head = self.reverse(dummy.next)\n",
    "        return head\n",
    "    \n",
    "    def reverse(self, head):\n",
    "        if not head or head.next is None:\n",
    "            return head\n",
    "        \n",
    "        prev = None\n",
    "        curr = head\n",
    "        while curr:\n",
    "            next_node = curr.next\n",
    "            curr.next = prev\n",
    "            \n",
    "            # Increment pointers\n",
    "            prev = curr\n",
    "            curr = next_node\n",
    "        return prev"
   ]
  },
  {
   "cell_type": "markdown",
   "metadata": {},
   "source": [
    "# Solution 2\n",
    "##### Use stack to keep track of numbers and prepend to new list"
   ]
  },
  {
   "cell_type": "code",
   "execution_count": null,
   "metadata": {},
   "outputs": [],
   "source": [
    "class Solution:\n",
    "    def addTwoNumbers(self, l1, l2):\n",
    "        l1_stack = []\n",
    "        l2_stack = []\n",
    "        \n",
    "        curr = l1\n",
    "        while curr:\n",
    "            l1_stack.append(curr.val)\n",
    "            curr = curr.next\n",
    "        \n",
    "        curr = l2\n",
    "        while curr:\n",
    "            l2_stack.append(curr.val)\n",
    "            curr = curr.next\n",
    "            \n",
    "        carry = 0\n",
    "        dummy = ListNode(0)\n",
    "        while l1_stack or l2_stack or carry:\n",
    "            curr_sum = 0\n",
    "            if l1_stack:\n",
    "                curr_sum += l1_stack.pop()\n",
    "            if l2_stack:\n",
    "                curr_sum += l2_stack.pop()\n",
    "            if carry:\n",
    "                curr_sum += carry\n",
    "            \n",
    "            # Compute digit and new carry\n",
    "            digit = curr_sum % 10\n",
    "            carry = curr_sum // 10\n",
    "            \n",
    "            # Prepend new node\n",
    "            node = ListNode(digit)\n",
    "            node.next = dummy.next\n",
    "            dummy.next = node\n",
    "        \n",
    "        return dummy.next"
   ]
  }
 ],
 "metadata": {
  "kernelspec": {
   "display_name": "Python 3",
   "language": "python",
   "name": "python3"
  },
  "language_info": {
   "codemirror_mode": {
    "name": "ipython",
    "version": 3
   },
   "file_extension": ".py",
   "mimetype": "text/x-python",
   "name": "python",
   "nbconvert_exporter": "python",
   "pygments_lexer": "ipython3",
   "version": "3.6.5"
  }
 },
 "nbformat": 4,
 "nbformat_minor": 2
}
