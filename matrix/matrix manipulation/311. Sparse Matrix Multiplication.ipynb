{
 "cells": [
  {
   "cell_type": "markdown",
   "metadata": {},
   "source": [
    "# Problem\n",
    "\n",
    "Given two sparse matrices A and B, return the result of AB.\n",
    "\n",
    "You may assume that A's column number is equal to B's row number."
   ]
  },
  {
   "cell_type": "markdown",
   "metadata": {},
   "source": [
    "# Brainstorm\n",
    "\n",
    "How would we multiply two dense matrices A and B?\n",
    "- Take the first row in A and first column in B. Now we have two vectors a and b with the same length.\n",
    "- Take first element in a and first element in b, multiple. Do so for all elements in a and b and sum the result. This sum will be the first element in our answer matrix.\n",
    "- Repeat for all other rows in A and all other columns in B\n",
    "\n",
    "Translate this to code is not so straightforward. The iterators for matrix A and B and the resulting matrix have different lengths. "
   ]
  },
  {
   "cell_type": "markdown",
   "metadata": {},
   "source": [
    "# Solution"
   ]
  },
  {
   "cell_type": "code",
   "execution_count": 12,
   "metadata": {},
   "outputs": [],
   "source": [
    "class Solution:\n",
    "    def multiply(self, A, B):\n",
    "        \n",
    "        result = [[0 for _ in range(len(B[0]))] for _ in range(len(A))]\n",
    "                                    \n",
    "        for rowA in range(len(A)):\n",
    "            for colA in range(len(A[0])):\n",
    "                for colB in range(len(B[0])):\n",
    "                    if A[rowA][colA] != 0 and B[colA][colB] != 0:\n",
    "                        result[rowA][colB] += A[rowA][colA] * B[colA][colB]\n",
    "        \n",
    "        return result"
   ]
  }
 ],
 "metadata": {
  "kernelspec": {
   "display_name": "Python 3",
   "language": "python",
   "name": "python3"
  },
  "language_info": {
   "codemirror_mode": {
    "name": "ipython",
    "version": 3
   },
   "file_extension": ".py",
   "mimetype": "text/x-python",
   "name": "python",
   "nbconvert_exporter": "python",
   "pygments_lexer": "ipython3",
   "version": "3.6.5"
  }
 },
 "nbformat": 4,
 "nbformat_minor": 2
}
