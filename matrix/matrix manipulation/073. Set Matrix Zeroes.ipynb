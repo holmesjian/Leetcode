{
 "cells": [
  {
   "cell_type": "markdown",
   "metadata": {},
   "source": [
    "# Problem\n",
    "\n",
    "Given a m x n matrix, if an element is 0, set its entire row and column to 0. Do it in-place.\n",
    "\n",
    "Example 1:<br>\n",
    "\n",
    "Input: <br>\n",
    "[<br>\n",
    "  [1,1,1],<br>\n",
    "  [1,0,1],<br>\n",
    "  [1,1,1]<br>\n",
    "]<br>\n",
    "Output: <br>\n",
    "[<br>\n",
    "  [1,0,1],<br>\n",
    "  [0,0,0],<br>\n",
    "  [1,0,1]<br>\n",
    "]<br>\n",
    "\n",
    "Example 2:\n",
    "\n",
    "Input: <br>\n",
    "[<br>\n",
    "  [0,1,2,0],<br>\n",
    "  [3,4,5,2],<br>\n",
    "  [1,3,1,5]<br>\n",
    "]<br>\n",
    "Output: <br>\n",
    "[<br>\n",
    "  [0,0,0,0],<br>\n",
    "  [0,4,5,0],<br>\n",
    "  [0,3,1,0]<br>\n",
    "]<br>\n",
    "\n",
    "Follow up:\n",
    "A straight forward solution using O(mn) space is probably a bad idea.<br>\n",
    "A simple improvement uses O(m + n) space, but still not the best solution.<br>\n",
    "Could you devise a constant space solution?<br>"
   ]
  },
  {
   "cell_type": "markdown",
   "metadata": {},
   "source": [
    "# Solution\n",
    "- time O(N)\n",
    "- space O(1)"
   ]
  },
  {
   "cell_type": "code",
   "execution_count": null,
   "metadata": {},
   "outputs": [],
   "source": [
    "class Solution:\n",
    "    def setZeroes(self, matrix: List[List[int]]) -> None:\n",
    "        \"\"\"\n",
    "        Do not return anything, modify matrix in-place instead.\n",
    "        \"\"\"\n",
    "        if not matrix:\n",
    "            return\n",
    "        \n",
    "        first_row_zero = False\n",
    "        first_col_zero = False\n",
    "        # Check whether first row and first column contain zero\n",
    "        for element in matrix[0]:\n",
    "            if element == 0:\n",
    "                first_row_zero = True\n",
    "                break\n",
    "        \n",
    "        for element in matrix:\n",
    "            if element[0] == 0:\n",
    "                first_col_zero = True\n",
    "                break\n",
    "        \n",
    "        # Modify first row and first column to store zero row and col index\n",
    "        for nrow in range(1, len(matrix)):\n",
    "            for ncol in range(1, len(matrix[0])):\n",
    "                if matrix[nrow][ncol] == 0:\n",
    "                    matrix[nrow][0] = 0\n",
    "                    matrix[0][ncol] = 0\n",
    "                    \n",
    "        # Modify entire matrix according to first row and column\n",
    "        for nrow in range(1, len(matrix)):\n",
    "            for ncol in range(1, len(matrix[0])):\n",
    "                if matrix[0][ncol] == 0:\n",
    "                    matrix[nrow][ncol] = 0\n",
    "                if matrix[nrow][0] == 0:\n",
    "                    matrix[nrow][ncol] = 0\n",
    "        \n",
    "        if first_row_zero:\n",
    "            for i in range(len(matrix[0])):\n",
    "                matrix[0][i] = 0\n",
    "        if first_col_zero:\n",
    "            for i in range(len(matrix)):\n",
    "                matrix[i][0] = 0\n",
    "        return matrix"
   ]
  }
 ],
 "metadata": {
  "kernelspec": {
   "display_name": "Python 3",
   "language": "python",
   "name": "python3"
  },
  "language_info": {
   "codemirror_mode": {
    "name": "ipython",
    "version": 3
   },
   "file_extension": ".py",
   "mimetype": "text/x-python",
   "name": "python",
   "nbconvert_exporter": "python",
   "pygments_lexer": "ipython3",
   "version": "3.6.5"
  }
 },
 "nbformat": 4,
 "nbformat_minor": 2
}
