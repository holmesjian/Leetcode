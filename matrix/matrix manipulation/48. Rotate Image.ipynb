{
 "cells": [
  {
   "cell_type": "markdown",
   "metadata": {},
   "source": [
    "# Problem\n",
    "\n",
    "You are given an n x n 2D matrix representing an image.\n",
    "\n",
    "Rotate the image by 90 degrees (clockwise).\n",
    "\n",
    "Note:\n",
    "\n",
    "You have to rotate the image in-place, which means you have to modify the input 2D matrix directly. DO NOT allocate another 2D matrix and do the rotation."
   ]
  },
  {
   "cell_type": "markdown",
   "metadata": {},
   "source": [
    "# Solution\n",
    "- time O(N^2)\n",
    "- space O(1)"
   ]
  },
  {
   "cell_type": "code",
   "execution_count": null,
   "metadata": {},
   "outputs": [],
   "source": [
    "class Solution:\n",
    "    def rotate(self, matrix):\n",
    "        \"\"\"\n",
    "        Do not return anything, modify matrix in-place instead.\n",
    "        \"\"\"\n",
    "        if not matrix:\n",
    "            return\n",
    "        \n",
    "        # Transpose\n",
    "        for nrow in range(len(matrix)):\n",
    "            # Column starts from nrow, if not, change in previous row is reverted\n",
    "            for ncol in range(nrow, len(matrix)): \n",
    "                matrix[nrow][ncol], matrix[ncol][nrow] = matrix[ncol][nrow], matrix[nrow][ncol]\n",
    "        \n",
    "        # Reverse each row\n",
    "        for row in matrix:\n",
    "            row.reverse()\n",
    "                "
   ]
  }
 ],
 "metadata": {
  "kernelspec": {
   "display_name": "Python 3",
   "language": "python",
   "name": "python3"
  },
  "language_info": {
   "codemirror_mode": {
    "name": "ipython",
    "version": 3
   },
   "file_extension": ".py",
   "mimetype": "text/x-python",
   "name": "python",
   "nbconvert_exporter": "python",
   "pygments_lexer": "ipython3",
   "version": "3.6.5"
  }
 },
 "nbformat": 4,
 "nbformat_minor": 2
}
