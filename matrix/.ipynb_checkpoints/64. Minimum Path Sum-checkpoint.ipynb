{
 "cells": [
  {
   "cell_type": "markdown",
   "metadata": {},
   "source": [
    "Given a m x n grid filled with non-negative numbers, find a path from top left to bottom right which minimizes the sum of all numbers along its path. You can only move either down or right at any point in time.\n",
    "\n",
    "Example:<br>\n",
    "\n",
    "Input:<br>\n",
    "[<br>\n",
    "  [1,3,1],<br>\n",
    "  [1,5,1],<br>\n",
    "  [4,2,1]<br>\n",
    "]<br>\n",
    "Output: 7<br>\n",
    "Explanation: Because the path 1→3→1→1→1 minimizes the sum."
   ]
  },
  {
   "cell_type": "code",
   "execution_count": null,
   "metadata": {},
   "outputs": [],
   "source": [
    "def minPathSum(self, grid: List[List[int]]) -> int:\n",
    "    if not grid:\n",
    "        return 0\n",
    "\n",
    "    nrow = len(grid)\n",
    "    ncol = len(grid[0])\n",
    "\n",
    "    aux = [[0 for _ in range(ncol)] for _ in range(nrow)]\n",
    "    aux[0][0] = grid[0][0]\n",
    "\n",
    "    # first column\n",
    "    for row in range(1, nrow):\n",
    "        aux[row][0] = grid[row][0] + aux[row-1][0]\n",
    "\n",
    "    # first row\n",
    "    for col in range(1, ncol):\n",
    "        aux[0][col] = grid[0][col] + aux[0][col-1]\n",
    "\n",
    "    for row in range(1, nrow):\n",
    "        for col in range(1, ncol):\n",
    "            aux[row][col] = grid[row][col] + min(aux[row-1][col], aux[row][col-1])\n",
    "\n",
    "    return aux[-1][-1]\n"
   ]
  }
 ],
 "metadata": {
  "kernelspec": {
   "display_name": "Python 3",
   "language": "python",
   "name": "python3"
  },
  "language_info": {
   "codemirror_mode": {
    "name": "ipython",
    "version": 3
   },
   "file_extension": ".py",
   "mimetype": "text/x-python",
   "name": "python",
   "nbconvert_exporter": "python",
   "pygments_lexer": "ipython3",
   "version": "3.6.5"
  }
 },
 "nbformat": 4,
 "nbformat_minor": 2
}
