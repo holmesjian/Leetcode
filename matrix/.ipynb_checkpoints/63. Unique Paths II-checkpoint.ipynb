{
 "cells": [
  {
   "cell_type": "markdown",
   "metadata": {},
   "source": [
    "A robot is located at the top-left corner of a m x n grid (marked 'Start' in the diagram below).\n",
    "\n",
    "The robot can only move either down or right at any point in time. The robot is trying to reach the bottom-right corner of the grid (marked 'Finish' in the diagram below).\n",
    "\n",
    "Now consider if some obstacles are added to the grids. How many unique paths would there be?\n",
    "An obstacle and empty space is marked as 1 and 0 respectively in the grid.\n",
    "\n",
    "Note: m and n will be at most 100.\n",
    "\n",
    "Example 1:<br>\n",
    "\n",
    "Input:<br>\n",
    "[<br>\n",
    "  [0,0,0],<br>\n",
    "  [0,1,0],<br>\n",
    "  [0,0,0]<br>\n",
    "]<br>\n",
    "Output: 2<br>\n",
    "Explanation:<br>\n",
    "There is one obstacle in the middle of the 3x3 grid above.<br>\n",
    "There are two ways to reach the bottom-right corner:<br>\n",
    "1. Right -> Right -> Down -> Down<br>\n",
    "2. Down -> Down -> Right -> Right"
   ]
  },
  {
   "cell_type": "code",
   "execution_count": null,
   "metadata": {},
   "outputs": [],
   "source": [
    "def uniquePathsWithObstacles(self, obstacleGrid: List[List[int]]) -> int:\n",
    "    if obstacleGrid[0][0] == 1 or obstacleGrid[-1][-1] == 1:\n",
    "        return 0\n",
    "\n",
    "    nrow = len(obstacleGrid)\n",
    "    ncol = len(obstacleGrid[0])\n",
    "\n",
    "    aux = [[1 for _ in range(ncol)] for _ in range(nrow)]\n",
    "    for row in range(1, nrow):\n",
    "        aux[row][0] = aux[row-1][0] * (1 - obstacleGrid[row][0])\n",
    "\n",
    "    for col in range(1, ncol):\n",
    "        aux[0][col] = aux[0][col-1] * (1 - obstacleGrid[0][col])\n",
    "\n",
    "    for row in range(1, nrow):\n",
    "        for col in range(1, ncol):\n",
    "            if obstacleGrid[row][col] == 1:\n",
    "                aux[row][col] = 0\n",
    "            else:\n",
    "                aux[row][col] = aux[row - 1][col] + aux[row][col - 1]\n",
    "\n",
    "    return aux[-1][-1]"
   ]
  }
 ],
 "metadata": {
  "kernelspec": {
   "display_name": "Python 3",
   "language": "python",
   "name": "python3"
  },
  "language_info": {
   "codemirror_mode": {
    "name": "ipython",
    "version": 3
   },
   "file_extension": ".py",
   "mimetype": "text/x-python",
   "name": "python",
   "nbconvert_exporter": "python",
   "pygments_lexer": "ipython3",
   "version": "3.6.5"
  }
 },
 "nbformat": 4,
 "nbformat_minor": 2
}
