{
 "cells": [
  {
   "cell_type": "markdown",
   "metadata": {},
   "source": [
    "# Problem\n",
    "\n",
    "Given a 2D board and a word, find if the word exists in the grid. The word can be constructed from letters of sequentially adjacent cell, where \"adjacent\" cells are those horizontally or vertically neighboring. The same letter cell may not be used more than once.<br>\n",
    "\n",
    "Example:<br>\n",
    "board =<br>\n",
    "[<br>\n",
    "  ['A','B','C','E'],<br>\n",
    "  ['S','F','C','S'],<br>\n",
    "  ['A','D','E','E']<br>\n",
    "]\n",
    "\n",
    "Given word = \"ABCCED\", return true.<br>\n",
    "Given word = \"SEE\", return true.<br>\n",
    "Given word = \"ABCB\", return false.<br>\n",
    " \n",
    "\n",
    "Constraints:\n",
    "- board and word consists only of lowercase and uppercase English letters.\n",
    "- 1 <= board.length <= 200\n",
    "- 1 <= board[i].length <= 200\n",
    "- 1 <= word.length <= 10^3"
   ]
  },
  {
   "cell_type": "code",
   "execution_count": null,
   "metadata": {},
   "outputs": [],
   "source": [
    "def exist(board, word):\n",
    "    seen = set()\n",
    "    nrow = len(board)\n",
    "    ncol = len(board[0])\n",
    "\n",
    "    for row in range(nrow):\n",
    "        for col in range(ncol):\n",
    "            if board[row][col] == word[0]:\n",
    "                dfs(board, word, row, col)\n",
    "\n",
    "def dfs(board, word, row, col):\n",
    "\n",
    "    if row < 0 or col < 0 or row >= len(board) or col >= len(board[0]) or not word:\n",
    "        return False\n",
    "\n",
    "    if board[row][col] == word[0]:\n",
    "        dfs(board, word[1:], row-1, col)\n",
    "        dfs(board, word[1:], row+1, col)\n",
    "        dfs(board, word[1:], row, col+1)\n",
    "        dfs(board, word[1:], row, col-1)"
   ]
  }
 ],
 "metadata": {
  "kernelspec": {
   "display_name": "Python 3",
   "language": "python",
   "name": "python3"
  },
  "language_info": {
   "codemirror_mode": {
    "name": "ipython",
    "version": 3
   },
   "file_extension": ".py",
   "mimetype": "text/x-python",
   "name": "python",
   "nbconvert_exporter": "python",
   "pygments_lexer": "ipython3",
   "version": "3.6.5"
  }
 },
 "nbformat": 4,
 "nbformat_minor": 2
}
