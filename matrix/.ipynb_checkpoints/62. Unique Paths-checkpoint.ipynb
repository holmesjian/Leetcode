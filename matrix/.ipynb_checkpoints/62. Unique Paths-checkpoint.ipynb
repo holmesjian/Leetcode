{
 "cells": [
  {
   "cell_type": "markdown",
   "metadata": {},
   "source": [
    "A robot is located at the top-left corner of a m x n grid (marked 'Start' in the diagram below).\n",
    "\n",
    "The robot can only move either down or right at any point in time. The robot is trying to reach the bottom-right corner of the grid (marked 'Finish' in the diagram below).\n",
    "\n",
    "How many possible unique paths are there?\n",
    "Example 1:<br>\n",
    "\n",
    "Input: m = 3, n = 2<br>\n",
    "Output: 3<br>\n",
    "Explanation:<br>\n",
    "From the top-left corner, there are a total of 3 ways to reach the bottom-right corner:<br>\n",
    "1. Right -> Right -> Down<br>\n",
    "2. Right -> Down -> Right<br>\n",
    "3. Down -> Right -> Right<br>\n",
    "\n",
    "Example 2:<br>\n",
    "Input: m = 7, n = 3<br>\n",
    "Output: 28<br>\n",
    "\n",
    "Constraints:\n",
    "- 1 <= m, n <= 100\n",
    "- It's guaranteed that the answer will be less than or equal to 2 * 10 ^ 9."
   ]
  },
  {
   "cell_type": "code",
   "execution_count": null,
   "metadata": {},
   "outputs": [],
   "source": [
    "def unique_paths(m, n):\n",
    "    aux = [[1 for _ in range(n)] for _ in range(m)]\n",
    "    \n",
    "    for i in range(1, m):\n",
    "        for j in range(1, n):\n",
    "            aux[i][j] = aux[i][j-1] + aux[i-1][j]\n",
    "    return aux[-1][-1]"
   ]
  },
  {
   "cell_type": "markdown",
   "metadata": {},
   "source": [
    "The above solution runs in O(m * n) time and costs O(m * n) space. However, you may have noticed that each time when we update dp[i][j], we only need dp[i - 1][j] (at the previous row) and dp[i][j - 1] (at the current row). So we can reduce the memory usage to just two rows (O(n))."
   ]
  },
  {
   "cell_type": "code",
   "execution_count": null,
   "metadata": {},
   "outputs": [],
   "source": []
  }
 ],
 "metadata": {
  "kernelspec": {
   "display_name": "Python 3",
   "language": "python",
   "name": "python3"
  },
  "language_info": {
   "codemirror_mode": {
    "name": "ipython",
    "version": 3
   },
   "file_extension": ".py",
   "mimetype": "text/x-python",
   "name": "python",
   "nbconvert_exporter": "python",
   "pygments_lexer": "ipython3",
   "version": "3.6.5"
  }
 },
 "nbformat": 4,
 "nbformat_minor": 2
}
