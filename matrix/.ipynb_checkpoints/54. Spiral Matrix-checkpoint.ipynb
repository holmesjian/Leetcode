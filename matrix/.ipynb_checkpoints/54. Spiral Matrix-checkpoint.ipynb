{
 "cells": [
  {
   "cell_type": "markdown",
   "metadata": {},
   "source": [
    "# Problem\n",
    "\n",
    "Given a matrix of m x n elements (m rows, n columns), return all elements of the matrix in spiral order.\n",
    "\n",
    "Example 1:<br>\n",
    "Input:<br>\n",
    "[<br>\n",
    " [ 1, 2, 3 ],<br>\n",
    " [ 4, 5, 6 ],<br>\n",
    " [ 7, 8, 9 ]<br>\n",
    "]<br>\n",
    "Output: [1,2,3,6,9,8,7,4,5]<br>\n",
    "\n",
    "Example 2:<br>\n",
    "Input:<br>\n",
    "[<br>\n",
    "  [1, 2, 3, 4],<br>\n",
    "  [5, 6, 7, 8],<br>\n",
    "  [9,10,11,12]<br>\n",
    "]<br>\n",
    "Output: [1,2,3,4,8,12,11,10,9,5,6,7]"
   ]
  },
  {
   "cell_type": "markdown",
   "metadata": {},
   "source": [
    "# Solution"
   ]
  },
  {
   "cell_type": "code",
   "execution_count": 10,
   "metadata": {},
   "outputs": [],
   "source": [
    "class Solution:\n",
    "    def spiralOrder(self, matrix):\n",
    "        if not matrix:\n",
    "            return []\n",
    "        \n",
    "        nrow = len(matrix)\n",
    "        ncol = len(matrix[0])\n",
    "        seen = []\n",
    "\n",
    "        start_row = 0\n",
    "        end_row = nrow - 1\n",
    "        start_col = 0\n",
    "        end_col = ncol - 1\n",
    "        direction = 0\n",
    "        while start_row <= end_row and start_col <= end_col:\n",
    "            # go from left to right\n",
    "            if direction == 0: \n",
    "                for col in range(start_col, end_col + 1):\n",
    "                    element = matrix[start_row][col]\n",
    "                    seen.append(element)\n",
    "                start_row += 1\n",
    "                direction = 1\n",
    "\n",
    "            # go from top to bottom\n",
    "            elif direction == 1:\n",
    "                for row in range(start_row, end_row + 1):\n",
    "                    element = matrix[row][end_col]\n",
    "                    seen.append(element)\n",
    "                end_col -= 1\n",
    "                direction = 2\n",
    "\n",
    "            # go from left to right\n",
    "            elif direction == 2:\n",
    "                for col in range(end_col, start_col - 1, -1):\n",
    "                    element = matrix[end_row][col]\n",
    "                    seen.append(element)\n",
    "                end_row -= 1\n",
    "                direction = 3\n",
    "\n",
    "            # go from bottom to top\n",
    "            else:\n",
    "                for row in range(end_row, start_row - 1, -1):\n",
    "                    element = matrix[row][start_col]\n",
    "                    seen.append(element)\n",
    "                start_col += 1\n",
    "                direction = 0\n",
    "        return seen"
   ]
  }
 ],
 "metadata": {
  "kernelspec": {
   "display_name": "Python 3",
   "language": "python",
   "name": "python3"
  },
  "language_info": {
   "codemirror_mode": {
    "name": "ipython",
    "version": 3
   },
   "file_extension": ".py",
   "mimetype": "text/x-python",
   "name": "python",
   "nbconvert_exporter": "python",
   "pygments_lexer": "ipython3",
   "version": "3.6.5"
  }
 },
 "nbformat": 4,
 "nbformat_minor": 2
}
