{
 "cells": [
  {
   "cell_type": "markdown",
   "metadata": {},
   "source": [
    "# Problem\n",
    "\n",
    "Given a 2d grid map of '1's (land) and '0's (water), count the number of islands. An island is surrounded by water and is formed by connecting adjacent lands horizontally or vertically. You may assume all four edges of the grid are all surrounded by water.\n",
    "\n",
    "Example 1:<br>\n",
    "Input:<br>\n",
    "11110<br>\n",
    "11010<br>\n",
    "11000<br>\n",
    "00000<br>\n",
    "\n",
    "Output: 1<br>\n",
    "\n",
    "Example 2:<br>\n",
    "Input:<br>\n",
    "11000<br>\n",
    "11000<br>\n",
    "00100<br>\n",
    "00011<br>\n",
    "\n",
    "Output: 3"
   ]
  },
  {
   "cell_type": "markdown",
   "metadata": {},
   "source": [
    "# Brainstorm\n",
    "\n",
    "- Traverse the matrix. If the element has value 1, continue traversing in 4 directions and mark all elements with 1 in the path so that each element is visited only once.\n",
    "- To keep track of visited elements with value 1, we have two options:\n",
    "     - use a visited set: more space\n",
    "     - modify the cell value to something like # or 0: less space but destroys the original matrix.\n",
    "\n"
   ]
  },
  {
   "cell_type": "markdown",
   "metadata": {},
   "source": [
    "# Solution 1\n",
    "##### BFS"
   ]
  },
  {
   "cell_type": "markdown",
   "metadata": {},
   "source": [
    "This solution exceeds time limit."
   ]
  },
  {
   "cell_type": "code",
   "execution_count": null,
   "metadata": {},
   "outputs": [],
   "source": [
    "from collections import deque\n",
    "class Solution:\n",
    "    \n",
    "    def numIslands(self, grid: List[List[str]]) -> int:\n",
    "        \n",
    "        if not grid:\n",
    "            return 0\n",
    "        \n",
    "        nrow = len(grid)\n",
    "        ncol = len(grid[0])\n",
    "        \n",
    "        island_count = 0\n",
    "        queue = deque()\n",
    "        visited = set()\n",
    "        for i in range(nrow):\n",
    "            for j in range(ncol):\n",
    "                if grid[i][j] == '1' and (i, j) not in visited:\n",
    "                    island_count += 1\n",
    "                    queue.append((i, j))\n",
    "                    \n",
    "                while queue:\n",
    "                    x, y = queue.popleft()\n",
    "                    visited.add((x, y))\n",
    "                    # check and append children to queue \n",
    "                    if x > 0:\n",
    "                        if grid[x-1][y] == '1' and (x-1, y) not in visited:\n",
    "                            queue.append((x-1, y))\n",
    "                    if y > 0:\n",
    "                        if grid[x][y-1] == '1' and (x, y-1) not in visited:\n",
    "                            queue.append((x, y-1))\n",
    "                    if x < nrow - 1:\n",
    "                        if grid[x+1][y] == '1' and (x+1, y) not in visited:\n",
    "                            queue.append((x+1, y))\n",
    "                    if y < ncol - 1:\n",
    "                        if grid[x][y+1] == '1' and (x, y+1) not in visited:\n",
    "                            queue.append((x, y+1))\n",
    "                            \n",
    "        return island_count"
   ]
  },
  {
   "cell_type": "markdown",
   "metadata": {},
   "source": [
    "# Solution 2\n",
    "#### DFS with visited set"
   ]
  },
  {
   "cell_type": "code",
   "execution_count": null,
   "metadata": {},
   "outputs": [],
   "source": [
    "# DFS\n",
    "def numIslands(grid):\n",
    "    if grid is None or len(grid) == 0:\n",
    "        return 0\n",
    "\n",
    "    nrow = len(grid)\n",
    "    ncol = len(grid[0])\n",
    "    num_islands = 0\n",
    "    \n",
    "    for row in range(nrow):\n",
    "        for col in range(ncol):\n",
    "            if grid[row][col] == '1':\n",
    "                num_islands += 1\n",
    "                dfs(grid, row, col)\n",
    "\n",
    "\n",
    "    return num_islands\n",
    "\n",
    "def dfs(grid, row, col):\n",
    "    nrow = len(grid)\n",
    "    ncol = len(grid[0])\n",
    "\n",
    "    if row < 0 or col < 0 or row >= nrow or col >= ncol or grid[row][col] == '0':\n",
    "        return\n",
    "\n",
    "\n",
    "    grid[row][col] = '0' # visited node is set to 0 to mark as visited\n",
    "    dfs(grid, row - 1, col)\n",
    "    dfs(grid, row + 1, col)\n",
    "    dfs(grid, row, col - 1)\n",
    "    dfs(grid, row, col + 1)"
   ]
  },
  {
   "cell_type": "markdown",
   "metadata": {},
   "source": [
    "# Solution 3\n",
    "##### DFS with grid modification"
   ]
  },
  {
   "cell_type": "code",
   "execution_count": null,
   "metadata": {},
   "outputs": [],
   "source": [
    "class Solution:\n",
    "    \n",
    "    def numIslands(self, grid):\n",
    "        \n",
    "        if not grid:\n",
    "            return 0\n",
    "        \n",
    "        nrow = len(grid)\n",
    "        ncol = len(grid[0])\n",
    "        \n",
    "        island_count = 0\n",
    "        visited = set()\n",
    "        for i in range(nrow):\n",
    "            for j in range(ncol):\n",
    "                if grid[i][j] == '1' and (i, j) not in visited:\n",
    "                    island_count += 1\n",
    "                    self.dfs(i, j, visited, grid)\n",
    "                    \n",
    "                    \n",
    "        return island_count\n",
    "    \n",
    "    def dfs(self, i, j, visited, grid):\n",
    "        if i < 0 or i == len(grid) or j < 0 or j == len(grid[0]) or grid[i][j] == '0' or (i, j) in visited:\n",
    "            return\n",
    "        \n",
    "        \n",
    "        visited.add((i, j))\n",
    "            \n",
    "        self.dfs(i-1, j, visited, grid)\n",
    "        self.dfs(i+1, j, visited, grid)\n",
    "        self.dfs(i, j+1, visited, grid)\n",
    "        self.dfs(i, j-1, visited, grid)"
   ]
  }
 ],
 "metadata": {
  "kernelspec": {
   "display_name": "Python 3",
   "language": "python",
   "name": "python3"
  },
  "language_info": {
   "codemirror_mode": {
    "name": "ipython",
    "version": 3
   },
   "file_extension": ".py",
   "mimetype": "text/x-python",
   "name": "python",
   "nbconvert_exporter": "python",
   "pygments_lexer": "ipython3",
   "version": "3.6.5"
  }
 },
 "nbformat": 4,
 "nbformat_minor": 2
}
