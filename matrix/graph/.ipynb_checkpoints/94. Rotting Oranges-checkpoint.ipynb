{
 "cells": [
  {
   "cell_type": "markdown",
   "metadata": {},
   "source": [
    "# Problem\n",
    "\n",
    "In a given grid, each cell can have one of three values:\n",
    "\n",
    "the value 0 representing an empty cell;<br>\n",
    "the value 1 representing a fresh orange;<br>\n",
    "the value 2 representing a rotten orange.<br>\n",
    "Every minute, any fresh orange that is adjacent (4-directionally) to a rotten orange becomes rotten.<br>\n",
    "\n",
    "Return the minimum number of minutes that must elapse until no cell has a fresh orange.  If this is impossible, return -1 instead.\n",
    "\n",
    " "
   ]
  },
  {
   "cell_type": "markdown",
   "metadata": {},
   "source": [
    "# Solution\n",
    "##### BFS"
   ]
  },
  {
   "cell_type": "code",
   "execution_count": 19,
   "metadata": {},
   "outputs": [],
   "source": [
    "from collections import deque\n",
    "\n",
    "class Solution:\n",
    "    def orangesRotting(self, grid):\n",
    "        if not grid:\n",
    "            return 0\n",
    "        \n",
    "        # Find location of rotten oranges as starting nodes\n",
    "        # Count the number of fresh oranges to compare at the end\n",
    "        queue = deque()\n",
    "        fresh_count = 0\n",
    "        for i in range(len(grid)):\n",
    "            for j in range(len(grid[0])):\n",
    "                if grid[i][j] == 2:\n",
    "                    queue.append((i, j))\n",
    "                elif grid[i][j] == 1:\n",
    "                    fresh_count += 1\n",
    "        \n",
    "        # Edge case\n",
    "        if fresh_count == 0:\n",
    "            return 0\n",
    "        \n",
    "        # BFS, modify entry of 1 if it is neighbor of 2\n",
    "        layer = 0\n",
    "        while queue:\n",
    "            length = len(queue)\n",
    "            \n",
    "            # Pop the original layer\n",
    "            for _ in range(length):\n",
    "                i, j = queue.popleft()\n",
    "                \n",
    "                # Rotten its fresh neighbors\n",
    "                neighbors = [(i + 1, j), (i - 1, j), (i, j + 1), (i, j - 1)]\n",
    "                for x, y in neighbors:\n",
    "                    if 0 <= x < len(grid) and 0 <= y < len(grid[0]) and grid[x][y] == 1:\n",
    "                        grid[x][y] = 2\n",
    "                        \n",
    "                        fresh_count -= 1\n",
    "                        \n",
    "                        # Append its rotten neighbors \n",
    "                        queue.append((x, y))\n",
    "            \n",
    "            # Move to next layer\n",
    "            layer += 1\n",
    "            \n",
    "        if fresh_count == 0:\n",
    "            return layer - 1\n",
    "        else:\n",
    "            return -1"
   ]
  }
 ],
 "metadata": {
  "kernelspec": {
   "display_name": "Python 3",
   "language": "python",
   "name": "python3"
  },
  "language_info": {
   "codemirror_mode": {
    "name": "ipython",
    "version": 3
   },
   "file_extension": ".py",
   "mimetype": "text/x-python",
   "name": "python",
   "nbconvert_exporter": "python",
   "pygments_lexer": "ipython3",
   "version": "3.6.5"
  }
 },
 "nbformat": 4,
 "nbformat_minor": 2
}
