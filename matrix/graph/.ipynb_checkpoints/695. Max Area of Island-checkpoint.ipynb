{
 "cells": [
  {
   "cell_type": "markdown",
   "metadata": {},
   "source": [
    "# Problem\n",
    "\n",
    "Given a non-empty 2D array grid of 0's and 1's, an island is a group of 1's (representing land) connected 4-directionally (horizontal or vertical.) You may assume all four edges of the grid are surrounded by water.\n",
    "\n",
    "Find the maximum area of an island in the given 2D array. (If there is no island, the maximum area is 0.)<br>\n",
    "\n",
    "Example 1:<br>\n",
    "\n",
    "[[0,0,1,0,0,0,0,1,0,0,0,0,0],<br>\n",
    " [0,0,0,0,0,0,0,1,1,1,0,0,0],<br>\n",
    " [0,1,1,0,1,0,0,0,0,0,0,0,0],<br>\n",
    " [0,1,0,0,1,1,0,0,1,0,1,0,0],<br>\n",
    " [0,1,0,0,1,1,0,0,1,1,1,0,0],<br>\n",
    " [0,0,0,0,0,0,0,0,0,0,1,0,0],<br>\n",
    " [0,0,0,0,0,0,0,1,1,1,0,0,0],<br>\n",
    " [0,0,0,0,0,0,0,1,1,0,0,0,0]]<br>\n",
    "Given the above grid, return 6. Note the answer is not 11, because the island must be connected 4-directionally.\n",
    "\n",
    "Example 2:<br>\n",
    "[[0,0,0,0,0,0,0,0]]<br>\n",
    "Given the above grid, return 0.<br>\n",
    "Note: The length of each dimension in the given grid does not exceed 50."
   ]
  },
  {
   "cell_type": "markdown",
   "metadata": {},
   "source": [
    "# Solution\n",
    "##### DFS"
   ]
  },
  {
   "cell_type": "code",
   "execution_count": null,
   "metadata": {},
   "outputs": [],
   "source": [
    "class Solution:\n",
    "    def maxAreaOfIsland(self, grid):\n",
    "        if not grid:\n",
    "            return 0\n",
    "        \n",
    "        nrow = len(grid)\n",
    "        ncol = len(grid[0])\n",
    "        \n",
    "        visited = set()\n",
    "        max_area = 0\n",
    "        for i in range(nrow):\n",
    "            for j in range(ncol):\n",
    "                if grid[i][j] == 1 and (i, j) not in visited:\n",
    "                    area = self.dfs(i, j, visited, grid)\n",
    "                    max_area = max(max_area, area)\n",
    "                    \n",
    "        return max_area\n",
    "        \n",
    "    def dfs(self, i, j, visited, grid):\n",
    "        \n",
    "        if i < 0 or j < 0 or i == len(grid) or j == len(grid[0]) or grid[i][j] == 0 or (i, j) in visited:\n",
    "            return 0\n",
    "        \n",
    "        visited.add((i, j))\n",
    "        \n",
    "        up = self.dfs(i-1, j, visited, grid)\n",
    "        down = self.dfs(i+1, j, visited, grid)\n",
    "        left = self.dfs(i, j-1, visited, grid)\n",
    "        right = self.dfs(i, j+1, visited, grid)\n",
    "        \n",
    "        return 1 + up + down + left + right"
   ]
  }
 ],
 "metadata": {
  "kernelspec": {
   "display_name": "Python 3",
   "language": "python",
   "name": "python3"
  },
  "language_info": {
   "codemirror_mode": {
    "name": "ipython",
    "version": 3
   },
   "file_extension": ".py",
   "mimetype": "text/x-python",
   "name": "python",
   "nbconvert_exporter": "python",
   "pygments_lexer": "ipython3",
   "version": "3.6.5"
  }
 },
 "nbformat": 4,
 "nbformat_minor": 2
}
