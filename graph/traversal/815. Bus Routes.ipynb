{
 "cells": [
  {
   "cell_type": "markdown",
   "metadata": {},
   "source": [
    "# Problem\n",
    "\n",
    "We have a list of bus routes. Each routes[i] is a bus route that the i-th bus repeats forever. For example if routes[0] = [1, 5, 7], this means that the first bus (0-th indexed) travels in the sequence 1->5->7->1->5->7->1->... forever.<br>\n",
    "\n",
    "We start at bus stop S (initially not on a bus), and we want to go to bus stop T. Travelling by buses only, what is the least number of buses we must take to reach our destination? Return -1 if it is not possible.<br>\n",
    "\n",
    "Example:<br>\n",
    "Input:<br>\n",
    "routes = [[1, 2, 7], [3, 6, 7]]<br>\n",
    "S = 1<br>\n",
    "T = 6<br>\n",
    "Output: 2<br>\n",
    "Explanation:<br>\n",
    "The best strategy is take the first bus to the bus stop 7, then take the second bus to the bus stop 6.\n",
    " \n",
    "\n",
    "Constraints:<br>\n",
    "1 <= routes.length <= 500.<br>\n",
    "1 <= routes[i].length <= 10^5.<br>\n",
    "0 <= routes[i][j] < 10 ^ 6."
   ]
  }
 ],
 "metadata": {
  "kernelspec": {
   "display_name": "Python 3",
   "language": "python",
   "name": "python3"
  },
  "language_info": {
   "codemirror_mode": {
    "name": "ipython",
    "version": 3
   },
   "file_extension": ".py",
   "mimetype": "text/x-python",
   "name": "python",
   "nbconvert_exporter": "python",
   "pygments_lexer": "ipython3",
   "version": "3.6.5"
  }
 },
 "nbformat": 4,
 "nbformat_minor": 2
}
