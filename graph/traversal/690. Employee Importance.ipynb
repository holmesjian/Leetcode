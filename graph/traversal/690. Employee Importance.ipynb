{
 "cells": [
  {
   "cell_type": "markdown",
   "metadata": {},
   "source": [
    "# Problem\n",
    "\n",
    "You are given a data structure of employee information, which includes the employee's unique id, his importance value and his direct subordinates' id.\n",
    "\n",
    "For example, employee 1 is the leader of employee 2, and employee 2 is the leader of employee 3. They have importance value 15, 10 and 5, respectively. Then employee 1 has a data structure like [1, 15, [2]], and employee 2 has [2, 10, [3]], and employee 3 has [3, 5, []]. Note that although employee 3 is also a subordinate of employee 1, the relationship is not direct.\n",
    "\n",
    "Now given the employee information of a company, and an employee id, you need to return the total importance value of this employee and all his subordinates.\n",
    "\n",
    "Example 1:<br>\n",
    "\n",
    "Input: [[1, 5, [2, 3]], [2, 3, []], [3, 3, []]], 1<br>\n",
    "Output: 11<br>\n",
    "Explanation:<br>\n",
    "Employee 1 has importance value 5, and he has two direct subordinates: employee 2 and employee 3. They both have importance value 3. So the total importance value of employee 1 is 5 + 3 + 3 = 11.<br>\n",
    " \n",
    "\n",
    "Note:\n",
    "\n",
    "One employee has at most one direct leader and may have several subordinates.<br>\n",
    "The maximum number of employees won't exceed 2000."
   ]
  },
  {
   "cell_type": "markdown",
   "metadata": {},
   "source": [
    "# Brainstorm\n",
    "\n",
    "BFS\n",
    "- usually we use a queue to process the nodes for BFS. In this case, the order of node processing does not matter, we can use a stack (python list) to process it as well.\n",
    "\n",
    "- The id, importance and subordinates information are stored as an Employee class. The subordinates only contain ids. So we have to search the employees list to get the corresponding importance for each id. N(1 + eN). To reduce the time complexity, we use a hash table to store employee class and employee id. "
   ]
  },
  {
   "cell_type": "markdown",
   "metadata": {},
   "source": [
    "# Solution 1\n",
    "##### BFS"
   ]
  },
  {
   "cell_type": "code",
   "execution_count": null,
   "metadata": {},
   "outputs": [],
   "source": [
    "\"\"\"\n",
    "# Definition for Employee.\n",
    "class Employee:\n",
    "    def __init__(self, id: int, importance: int, subordinates: List[int]):\n",
    "        self.id = id\n",
    "        self.importance = importance\n",
    "        self.subordinates = subordinates\n",
    "\"\"\"\n",
    "from collections import deque\n",
    "class Solution:\n",
    "    def getImportance(self, employees: List['Employee'], id: int) -> int:\n",
    "        \n",
    "        start = None\n",
    "        for employee in employees:\n",
    "            if employee.id == id:\n",
    "                start = employee\n",
    "                \n",
    "        queue = deque([start])\n",
    "        visited = set()\n",
    "        total_importance = 0\n",
    "        \n",
    "        while queue:\n",
    "            employee = queue.popleft()\n",
    "            visited.add(employee)\n",
    "            total_importance += employee.importance\n",
    "            \n",
    "            for subordinate in employee.subordinates:\n",
    "                if subordinate not in visited:\n",
    "                    for employee in employees:\n",
    "                        if subordinate == employee.id:\n",
    "                            queue.append(employee)\n",
    "                    \n",
    "        return total_importance"
   ]
  },
  {
   "cell_type": "code",
   "execution_count": null,
   "metadata": {},
   "outputs": [],
   "source": [
    "\"\"\"\n",
    "# Definition for Employee.\n",
    "class Employee:\n",
    "    def __init__(self, id: int, importance: int, subordinates: List[int]):\n",
    "        self.id = id\n",
    "        self.importance = importance\n",
    "        self.subordinates = subordinates\n",
    "\"\"\"\n",
    "from collections import deque\n",
    "class Solution:\n",
    "    def getImportance(self, employees: List['Employee'], id: int) -> int:\n",
    "        \n",
    "        start = None\n",
    "        employee_dict = {}\n",
    "        for employee in employees:\n",
    "            if employee.id == id:\n",
    "                start = employee\n",
    "            \n",
    "            if employee.id not in employee_dict:\n",
    "                employee_dict[employee.id] = None\n",
    "            employee_dict[employee.id] = employee\n",
    "                \n",
    "        queue = deque([start])\n",
    "        visited = set()\n",
    "        total_importance = 0\n",
    "        \n",
    "        while queue:\n",
    "            employee = queue.pop()\n",
    "            visited.add(employee)\n",
    "            total_importance += employee.importance\n",
    "            \n",
    "            for subordinate_id in employee.subordinates:\n",
    "                if subordinate_id not in visited:\n",
    "                    queue.append(employee_dict[subordinate_id])\n",
    " \n",
    "        return total_importance"
   ]
  },
  {
   "cell_type": "markdown",
   "metadata": {},
   "source": [
    "# Solution 2\n",
    "##### DFS"
   ]
  },
  {
   "cell_type": "code",
   "execution_count": 6,
   "metadata": {},
   "outputs": [
    {
     "data": {
      "text/plain": [
       "1"
      ]
     },
     "execution_count": 6,
     "metadata": {},
     "output_type": "execute_result"
    }
   ],
   "source": [
    "\"\"\"\n",
    "# Definition for Employee.\n",
    "class Employee:\n",
    "    def __init__(self, id: int, importance: int, subordinates: List[int]):\n",
    "        self.id = id\n",
    "        self.importance = importance\n",
    "        self.subordinates = subordinates\n",
    "\"\"\"\n",
    "from collections import deque\n",
    "class Solution:\n",
    "    def getImportance(self, employees: List['Employee'], id: int) -> int:\n",
    "        \n",
    "        employee_dict = {}\n",
    "        for employee in employees:\n",
    "            if employee.id not in employee_dict:\n",
    "                employee_dict[employee.id] = None\n",
    "            employee_dict[employee.id] = employee\n",
    "            \n",
    "        employee = employee_dict[id]\n",
    "        visited = set()\n",
    "        return self.dfs(employee_dict, employee, visited)\n",
    "        \n",
    "        \n",
    "    def dfs(self, employee_dict, employee, visited):\n",
    "        \n",
    "        visited.add(employee.id)\n",
    "        \n",
    "        total_importance = employee.importance\n",
    "        for subordinate_id in employee.subordinates:\n",
    "            if subordinate_id not in visited:\n",
    "                total_importance += self.dfs(employee_dict, employee_dict[subordinate_id], visited)\n",
    "        \n",
    "        return total_importance"
   ]
  }
 ],
 "metadata": {
  "kernelspec": {
   "display_name": "Python 3",
   "language": "python",
   "name": "python3"
  },
  "language_info": {
   "codemirror_mode": {
    "name": "ipython",
    "version": 3
   },
   "file_extension": ".py",
   "mimetype": "text/x-python",
   "name": "python",
   "nbconvert_exporter": "python",
   "pygments_lexer": "ipython3",
   "version": "3.6.5"
  }
 },
 "nbformat": 4,
 "nbformat_minor": 2
}
