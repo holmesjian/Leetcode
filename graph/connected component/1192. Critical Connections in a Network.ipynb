{
 "cells": [
  {
   "cell_type": "markdown",
   "metadata": {},
   "source": [
    "# Problem\n",
    "\n",
    "There are n servers numbered from 0 to n-1 connected by undirected server-to-server connections forming a network where connections[i] = [a, b] represents a connection between servers a and b. Any server can reach any other server directly or indirectly through the network.\n",
    "\n",
    "A critical connection is a connection that, if removed, will make some server unable to reach some other server.\n",
    "\n",
    "Return all critical connections in the network in any order.\n",
    "\n",
    "<img src='../images/critical.png'>\n",
    "\n",
    "Input: n = 4, connections = [[0,1],[1,2],[2,0],[1,3]]<br>\n",
    "Output: [[1,3]]<br>\n",
    "Explanation: [[3,1]] is also accepted.<br>\n",
    " \n",
    "\n",
    "Constraints:<br>\n",
    "\n",
    "1 <= n <= 10^5<br>\n",
    "n-1 <= connections.length <= 10^5<br>\n",
    "connections[i][0] != connections[i][1]<br>\n",
    "There are no repeated connections."
   ]
  }
 ],
 "metadata": {
  "kernelspec": {
   "display_name": "Python 3",
   "language": "python",
   "name": "python3"
  },
  "language_info": {
   "codemirror_mode": {
    "name": "ipython",
    "version": 3
   },
   "file_extension": ".py",
   "mimetype": "text/x-python",
   "name": "python",
   "nbconvert_exporter": "python",
   "pygments_lexer": "ipython3",
   "version": "3.6.5"
  }
 },
 "nbformat": 4,
 "nbformat_minor": 2
}
