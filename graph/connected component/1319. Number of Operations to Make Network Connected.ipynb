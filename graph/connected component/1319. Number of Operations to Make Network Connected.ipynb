{
 "cells": [
  {
   "cell_type": "markdown",
   "metadata": {},
   "source": [
    "# Problem\n",
    "\n",
    "There are n computers numbered from 0 to n-1 connected by ethernet cables connections forming a network where connections[i] = [a, b] represents a connection between computers a and b. Any computer can reach any other computer directly or indirectly through the network.\n",
    "\n",
    "Given an initial computer network connections. You can extract certain cables between two directly connected computers, and place them between any pair of disconnected computers to make them directly connected. Return the minimum number of times you need to do this in order to make all the computers connected. If it's not possible, return -1. \n",
    "\n",
    "<img src='../images/connected.png'>\n",
    "\n",
    "Example 3:<br>\n",
    "Input: n = 6, connections = [[0,1],[0,2],[0,3],[1,2]]<br>\n",
    "Output: -1<br>\n",
    "Explanation: There are not enough cables.<br>\n",
    "\n",
    "Example 4:<br>\n",
    "Input: n = 5, connections = [[0,1],[0,2],[3,4],[2,3]]<br>\n",
    "Output: 0<br>\n",
    " \n",
    "\n",
    "Constraints:<br>\n",
    "\n",
    "1 <= n <= 10^5<br>\n",
    "1 <= connections.length <= min(n*(n-1)/2, 10^5)<br>\n",
    "connections[i].length == 2<br>\n",
    "0 <= connections[i][0], connections[i][1] < n<br>\n",
    "connections[i][0] != connections[i][1]<br>\n",
    "There are no repeated connections.<br>\n",
    "No two computers are connected by more than one cable."
   ]
  }
 ],
 "metadata": {
  "kernelspec": {
   "display_name": "Python 3",
   "language": "python",
   "name": "python3"
  },
  "language_info": {
   "codemirror_mode": {
    "name": "ipython",
    "version": 3
   },
   "file_extension": ".py",
   "mimetype": "text/x-python",
   "name": "python",
   "nbconvert_exporter": "python",
   "pygments_lexer": "ipython3",
   "version": "3.6.5"
  }
 },
 "nbformat": 4,
 "nbformat_minor": 2
}
