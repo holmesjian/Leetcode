{
 "cells": [
  {
   "cell_type": "markdown",
   "metadata": {},
   "source": [
    "# Problem\n",
    "\n",
    "There are a total of n courses you have to take, labeled from 0 to n-1.\n",
    "\n",
    "Some courses may have prerequisites, for example to take course 0 you have to first take course 1, which is expressed as a pair: [0,1]\n",
    "\n",
    "Given the total number of courses and a list of prerequisite pairs, return the ordering of courses you should take to finish all courses.\n",
    "\n",
    "There may be multiple correct orders, you just need to return one of them. If it is impossible to finish all courses, return an empty array.<br>\n",
    "\n",
    "Example 1:<br>\n",
    "Input: 2, [[1,0]] <br>\n",
    "Output: [0,1]<br>\n",
    "Explanation: There are a total of 2 courses to take. To take course 1 you should have finished   \n",
    "             course 0. So the correct course order is [0,1] .<br>\n",
    "             \n",
    "Example 2:<br>\n",
    "Input: 4, [[1,0],[2,0],[3,1],[3,2]]<br>\n",
    "Output: [0,1,2,3] or [0,2,1,3]<br>\n",
    "Explanation: There are a total of 4 courses to take. To take course 3 you should have finished both     \n",
    "             courses 1 and 2. Both courses 1 and 2 should be taken after you finished course 0. \n",
    "             So one correct course order is [0,1,2,3]. Another correct ordering is [0,2,1,3] .<br>\n",
    "\n",
    "Note:\n",
    "The input prerequisites is a graph represented by a list of edges, not adjacency matrices. Read more about how a graph is represented.\n",
    "You may assume that there are no duplicate edges in the input prerequisites."
   ]
  },
  {
   "cell_type": "markdown",
   "metadata": {},
   "source": [
    "# Solution 1\n",
    "##### Topological sort"
   ]
  },
  {
   "cell_type": "code",
   "execution_count": 6,
   "metadata": {},
   "outputs": [],
   "source": [
    "from collections import deque \n",
    "def findOrder(numCourses, prerequisites):\n",
    "        if numCourses <= 0:\n",
    "            return []\n",
    "        \n",
    "        graph = {}\n",
    "        indegree = [0] * numCourses\n",
    "        \n",
    "        for child, parent in prerequisites:\n",
    "            if parent not in graph:\n",
    "                graph[parent] = []\n",
    "            graph[parent].append(child)\n",
    "            \n",
    "            indegree[child] += 1\n",
    "            \n",
    "        queue = deque()\n",
    "        for course, num_prerequisites in enumerate(indegree):\n",
    "            if num_prerequisites == 0:\n",
    "                queue.append(course)\n",
    "                \n",
    "        if not queue:\n",
    "            return []\n",
    "        \n",
    "        schedule = []\n",
    "        while queue:\n",
    "            parent = queue.popleft()\n",
    "            schedule.append(parent)\n",
    "\n",
    "            if parent in graph: # if using defaultdict, no need to check.\n",
    "                for child in graph[parent]:\n",
    "                    indegree[child] -= 1\n",
    "\n",
    "                    if indegree[child] == 0:\n",
    "                        queue.append(child)\n",
    "\n",
    "        if len(schedule) < numCourses:\n",
    "            return []\n",
    "        else:\n",
    "            return schedule   "
   ]
  },
  {
   "cell_type": "code",
   "execution_count": 7,
   "metadata": {},
   "outputs": [
    {
     "name": "stdout",
     "output_type": "stream",
     "text": [
      "{0: [1]}\n",
      "0\n",
      "1\n"
     ]
    },
    {
     "data": {
      "text/plain": [
       "[0, 1]"
      ]
     },
     "execution_count": 7,
     "metadata": {},
     "output_type": "execute_result"
    }
   ],
   "source": [
    "numCourses = 2\n",
    "prerequisites = [[1, 0]]\n",
    "\n",
    "findOrder(numCourses, prerequisites)"
   ]
  },
  {
   "cell_type": "markdown",
   "metadata": {},
   "source": [
    "# Solution 2\n",
    "##### DFS using visited array (some people use graph coloring)"
   ]
  }
 ],
 "metadata": {
  "kernelspec": {
   "display_name": "Python 3",
   "language": "python",
   "name": "python3"
  },
  "language_info": {
   "codemirror_mode": {
    "name": "ipython",
    "version": 3
   },
   "file_extension": ".py",
   "mimetype": "text/x-python",
   "name": "python",
   "nbconvert_exporter": "python",
   "pygments_lexer": "ipython3",
   "version": "3.6.5"
  }
 },
 "nbformat": 4,
 "nbformat_minor": 2
}
