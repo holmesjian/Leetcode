{
 "cells": [
  {
   "cell_type": "markdown",
   "metadata": {},
   "source": [
    "# 269. Alien Dictionary\n",
    "\n",
    "There is a new alien language which uses the latin alphabet. However, the order among letters are unknown to you. You receive a list of non-empty words from the dictionary, where words are sorted lexicographically by the rules of this new language. Derive the order of letters in this language.\n",
    "\n",
    "Example 1:<br>\n",
    "Input:\n",
    "[\n",
    "  \"wrt\",\n",
    "  \"wrf\",\n",
    "  \"er\",\n",
    "  \"ett\",\n",
    "  \"rftt\"\n",
    "]<br>\n",
    "Output: \"wertf\"<br>\n",
    "\n",
    "Example 2:<br>\n",
    "Input:\n",
    "[\n",
    "  \"z\",\n",
    "  \"x\"\n",
    "]\n",
    "Output: \"zx\"<br>\n",
    "\n",
    "Example 3:<br>\n",
    "Input:\n",
    "[\n",
    "  \"z\",\n",
    "  \"x\",\n",
    "  \"z\"\n",
    "] \n",
    "Output: \"\" \n",
    "\n",
    "Explanation: The order is invalid, so return \"\".\n",
    "\n",
    "Note:\n",
    "- You may assume all letters are in lowercase.\n",
    "- You may assume that if a is a prefix of b, then a must appear before b in the given dictionary.\n",
    "- If the order is invalid, return an empty string.\n",
    "- There may be multiple valid order of letters, return any one of them is fine."
   ]
  },
  {
   "cell_type": "markdown",
   "metadata": {},
   "source": []
  },
  {
   "cell_type": "code",
   "execution_count": 10,
   "metadata": {},
   "outputs": [],
   "source": [
    "# build a dictionary for each letter in the words\n",
    "words = [\"wrt\", \"wrf\", \"er\", \"ett\", \"rftt\"]\n",
    "chars = set(''.join(words))\n",
    "chars_dict = {char:0 for char in chars}\n",
    "chars_list = [char for char in chars]"
   ]
  },
  {
   "cell_type": "code",
   "execution_count": 11,
   "metadata": {},
   "outputs": [
    {
     "name": "stdout",
     "output_type": "stream",
     "text": [
      "['r', 'w', 't', 'e', 'f']\n"
     ]
    }
   ],
   "source": [
    "print(chars_list)"
   ]
  },
  {
   "cell_type": "code",
   "execution_count": null,
   "metadata": {},
   "outputs": [],
   "source": []
  }
 ],
 "metadata": {
  "kernelspec": {
   "display_name": "Python 3",
   "language": "python",
   "name": "python3"
  },
  "language_info": {
   "codemirror_mode": {
    "name": "ipython",
    "version": 3
   },
   "file_extension": ".py",
   "mimetype": "text/x-python",
   "name": "python",
   "nbconvert_exporter": "python",
   "pygments_lexer": "ipython3",
   "version": "3.6.5"
  }
 },
 "nbformat": 4,
 "nbformat_minor": 2
}
