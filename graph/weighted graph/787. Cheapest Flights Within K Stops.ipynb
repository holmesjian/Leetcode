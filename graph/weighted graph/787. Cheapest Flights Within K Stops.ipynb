{
 "cells": [
  {
   "cell_type": "markdown",
   "metadata": {},
   "source": [
    "# Problem\n",
    "\n",
    "There are n cities connected by m flights. Each flight starts from city u and arrives at v with a price w.\n",
    "\n",
    "Now given all the cities and flights, together with starting city src and the destination dst, your task is to find the cheapest price from src to dst with up to k stops. If there is no such route, output -1.\n",
    "\n",
    "<img src='images/flights.png'>\n",
    "\n",
    "Note:\n",
    "- The number of nodes n will be in range [1, 100], with nodes labeled from 0 to n - 1.\n",
    "- The size of flights will be in range [0, n * (n - 1) / 2].\n",
    "- The format of each flight will be (src, dst, price).\n",
    "- The price of each flight will be in the range [1, 10000].\n",
    "- k is in the range of [0, n - 1].\n",
    "- There will not be any duplicated flights or self cycles."
   ]
  },
  {
   "cell_type": "markdown",
   "metadata": {},
   "source": [
    "# Brainstorm\n",
    "\n"
   ]
  },
  {
   "cell_type": "markdown",
   "metadata": {},
   "source": [
    "# Solution 1\n",
    "##### BFS (time limit exceed)"
   ]
  },
  {
   "cell_type": "code",
   "execution_count": null,
   "metadata": {},
   "outputs": [],
   "source": [
    "from collections import deque\n",
    "\n",
    "class Solution:\n",
    "    def findCheapestPrice(self, n: int, flights: List[List[int]], src: int, dst: int, K: int) -> int:\n",
    "        \n",
    "        \n",
    "        graph = {}\n",
    "        for parent, child, cost in flights:\n",
    "            if parent not in graph:\n",
    "                graph[parent] = []\n",
    "            graph[parent].append((child, cost))\n",
    "            \n",
    "        \n",
    "        queue = deque([(src, 0, 0)])\n",
    "        \n",
    "        cost_table = [[float('inf'), 0] for _ in range(n)]\n",
    "        \n",
    "        while queue:\n",
    "            node, costs, stops = queue.popleft()\n",
    "            \n",
    "            if stops > K + 1:\n",
    "                continue\n",
    "                \n",
    "            if costs < cost_table[node][0]:\n",
    "                cost_table[node][0] = costs\n",
    "                cost_table[node][1] = stops\n",
    "                \n",
    "            if node in graph and node != dst: # the node may not be a parent\n",
    "                for child, cost in graph[node]:\n",
    "                    queue.append((child, cost+cost_table[node][0], 1+cost_table[node][1]))\n",
    "                \n",
    "            \n",
    "        if cost_table[dst][0] == float('inf'):\n",
    "            return -1\n",
    "        else:\n",
    "            return cost_table[dst][0]"
   ]
  }
 ],
 "metadata": {
  "kernelspec": {
   "display_name": "Python 3",
   "language": "python",
   "name": "python3"
  },
  "language_info": {
   "codemirror_mode": {
    "name": "ipython",
    "version": 3
   },
   "file_extension": ".py",
   "mimetype": "text/x-python",
   "name": "python",
   "nbconvert_exporter": "python",
   "pygments_lexer": "ipython3",
   "version": "3.6.5"
  }
 },
 "nbformat": 4,
 "nbformat_minor": 2
}
