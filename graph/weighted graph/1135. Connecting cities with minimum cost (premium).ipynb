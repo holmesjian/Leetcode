{
 "cells": [
  {
   "cell_type": "markdown",
   "metadata": {},
   "source": [
    "# Problem\n",
    "\n",
    "There are N cities numbered from 1 to N.\n",
    "\n",
    "You are given connections, where each connections[i] = [city1, city2, cost] represents the cost to connect city1 and city2together.  (A connection is bidirectional: connecting city1 and city2 is the same as connecting city2 and city1.)\n",
    "\n",
    "Return the minimum cost so that for every pair of cities, there exists a path of connections (possibly of length 1) that connects those two cities together.  The cost is the sum of the connection costs used. If the task is impossible, return -1.\n",
    "\n",
    "<img src='./images/city1.png'>\n",
    "Input: N = 3, connections = [[1,2,5],[1,3,6],[2,3,1]]<br>\n",
    "Output: 6<br>\n",
    "Explanation: <br>\n",
    "Choosing any 2 edges will connect all cities so we choose the minimum 2.\n",
    "\n",
    "<img src='./images/city2.png'>\n",
    "Input: N = 4, connections = [[1,2,3],[3,4,4]]<br>\n",
    "Output: -1<br>\n",
    "Explanation:<br>\n",
    "There is no way to connect all cities even if all edges are used.\n",
    "\n",
    "\n",
    "Note:\n",
    "\n",
    "1 <= N <= 10000<br>\n",
    "1 <= connections.length <= 10000<br>\n",
    "1 <= connections[i][0], connections[i][1] <= N<br>\n",
    "0 <= connections[i][2] <= 10^5<br>\n",
    "connections[i][0] != connections[i][1]<br>"
   ]
  }
 ],
 "metadata": {
  "kernelspec": {
   "display_name": "Python 3",
   "language": "python",
   "name": "python3"
  },
  "language_info": {
   "codemirror_mode": {
    "name": "ipython",
    "version": 3
   },
   "file_extension": ".py",
   "mimetype": "text/x-python",
   "name": "python",
   "nbconvert_exporter": "python",
   "pygments_lexer": "ipython3",
   "version": "3.6.5"
  }
 },
 "nbformat": 4,
 "nbformat_minor": 2
}
