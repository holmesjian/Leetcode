{
 "cells": [
  {
   "cell_type": "markdown",
   "metadata": {},
   "source": [
    "# Problem\n",
    "\n",
    "There are N network nodes, labelled 1 to N.\n",
    "\n",
    "Given times, a list of travel times as directed edges times[i] = (u, v, w), where u is the source node, v is the target node, and w is the time it takes for a signal to travel from source to target.\n",
    "\n",
    "Now, we send a signal from a certain node K. How long will it take for all nodes to receive the signal? If it is impossible, return -1.\n",
    "\n",
    "<img src='./images/network.png'>\n",
    "\n",
    "\n",
    "Note:\n",
    "N will be in the range [1, 100].<br>\n",
    "K will be in the range [1, N].<br>\n",
    "The length of times will be in the range [1, 6000].<br>\n",
    "All edges times[i] = (u, v, w) will have 1 <= u, v <= N and 0 <= w <= 100.<br>"
   ]
  },
  {
   "cell_type": "markdown",
   "metadata": {},
   "source": [
    "# Brainstorm\n",
    "\n",
    "We are given weight between any two possible edges. We need a way to compute the accumulated weight from the start node to any node."
   ]
  },
  {
   "cell_type": "markdown",
   "metadata": {},
   "source": [
    "# Solution 1\n",
    "##### BFS"
   ]
  },
  {
   "cell_type": "code",
   "execution_count": null,
   "metadata": {},
   "outputs": [],
   "source": [
    "from collections import deque\n",
    "class Solution:\n",
    "    def networkDelayTime(self, times: List[List[int]], N: int, K: int) -> int:\n",
    "        \n",
    "        graph = {}\n",
    "        \n",
    "        for parent, child, time in times:\n",
    "            if parent not in graph:\n",
    "                graph[parent] = []\n",
    "            graph[parent].append((child, time))\n",
    "            \n",
    "        visited = set()\n",
    "        queue = deque([(K, 0)])\n",
    "        total_time = 0\n",
    "        \n",
    "        while queue:\n",
    "            level_time = 0\n",
    "            for _ in range(len(queue)):\n",
    "                vertex, time = queue.popleft()\n",
    "                visited.add(vertex)\n",
    "                level_time = max(time, level_time)\n",
    "                \n",
    "                if vertex in graph:\n",
    "                    for child, time in graph[vertex]:\n",
    "                        if child not in visited:\n",
    "                            queue.append((child, time))\n",
    "                        \n",
    "            total_time += level_time\n",
    "                        \n",
    "        if len(visited) < N:\n",
    "            return -1\n",
    "        else:\n",
    "            return total_time"
   ]
  }
 ],
 "metadata": {
  "kernelspec": {
   "display_name": "Python 3",
   "language": "python",
   "name": "python3"
  },
  "language_info": {
   "codemirror_mode": {
    "name": "ipython",
    "version": 3
   },
   "file_extension": ".py",
   "mimetype": "text/x-python",
   "name": "python",
   "nbconvert_exporter": "python",
   "pygments_lexer": "ipython3",
   "version": "3.6.5"
  }
 },
 "nbformat": 4,
 "nbformat_minor": 2
}
