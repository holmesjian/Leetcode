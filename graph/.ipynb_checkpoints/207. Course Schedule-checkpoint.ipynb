{
 "cells": [
  {
   "cell_type": "markdown",
   "metadata": {},
   "source": [
    "# Problem\n",
    "\n",
    "There are a total of n courses you have to take, labeled from 0 to n-1. Some courses may have prerequisites, for example to take course 0 you have to first take course 1, which is expressed as a pair: [0,1]<br>\n",
    "Given the total number of courses and a list of prerequisite pairs, is it possible for you to finish all courses?<br>\n",
    "\n",
    "Example 1:<br>\n",
    "Input: 2, [[1,0]]<br> \n",
    "Output: true<br>\n",
    "Explanation: \n",
    "There are a total of 2 courses to take.<br>\n",
    "To take course 1 you should have finished course 0. So it is possible.<br>\n",
    "\n",
    "Example 2:<br>\n",
    "Input: 2, [[1,0],[0,1]]<br>\n",
    "Output: false<br>\n",
    "Explanation:<br>\n",
    "There are a total of 2 courses to take.<br>\n",
    "To take course 1 you should have finished course 0, and to take course 0 you should also have finished course 1. So it is impossible.\n",
    "\n",
    "Note:\n",
    "- The input prerequisites is a graph represented by a list of edges, not adjacency matrices. \n",
    "- You may assume that there are no duplicate edges in the input prerequisites."
   ]
  },
  {
   "cell_type": "markdown",
   "metadata": {},
   "source": [
    "# Brainstorm\n",
    "\n",
    "It is possible for a course to have several prerequisites. In that case, you have to finish all prerequisites to take that course.\n",
    "\n",
    "\n",
    "We have n numbers of courses, and their relationships. As their relationship is nonlinear and has direction, a directed graph seems suitable to model their relationship. \n",
    "\n",
    "What are the characteristics of the graph if we can't finish all courses? Think about connectivity, directions, cycles which are main properties of a graph that affects its traversal.\n",
    "\n",
    "- What if there is a node that is not connected? just take it, no effect\n",
    "- What if there are two way direction, meaning a cycle? aha, then we can't finish the courses in the cycle.\n",
    "\n",
    "\n",
    "Use a dictionary {course: prerequisites} or {prerequisite: courses}? \n",
    "\n",
    "Traverse: start from a node that has no reprequisites. From that node, if we can traverse all courses, then it is possible to final all courses.\n",
    "\n",
    "Need a indegree list, a dictionary to represent relationships, a queue to process, and num_courses to keep track no. of courses taken."
   ]
  },
  {
   "cell_type": "markdown",
   "metadata": {},
   "source": [
    "# Solution "
   ]
  },
  {
   "cell_type": "code",
   "execution_count": null,
   "metadata": {},
   "outputs": [],
   "source": [
    "from collections import defaultdict, deque\n",
    "\n",
    "def canFinish(numCourses, prerequisites):\n",
    "\n",
    "    graph = defaultdict(list)\n",
    "    indegree = [0] * numCourses\n",
    "\n",
    "    # Collect adjacencies for prereq->list(courses).\n",
    "    for course, prerequisite in prerequisites:\n",
    "        graph[prerequisite].append(course)\n",
    "        \n",
    "        # Count number of requisites for each course\n",
    "        indegree[course] += 1\n",
    "\n",
    "    queue = deque()\n",
    "\n",
    "    for course in range(numCourses):\n",
    "        # For course with no prerequisites, we can take them.\n",
    "        if indegree[course] == 0:\n",
    "            queue.append(course)\n",
    "\n",
    "    visited = 0\n",
    "    while queue:\n",
    "        # Take course with no prerequisites.\n",
    "        prerequisite = queue.popleft()\n",
    "        visited += 1\n",
    "        \n",
    "        # What courses can be taken after taking the prerequisits?\n",
    "        \n",
    "        for course in graph[prerequisite]:\n",
    "            indegree[course] -= 1\n",
    "\n",
    "            # If there is no more prerequisites, take next course.\n",
    "            if indegree[course] == 0:\n",
    "                queue.append(course)\n",
    "\n",
    "    return visited == numCourses"
   ]
  },
  {
   "cell_type": "markdown",
   "metadata": {},
   "source": [
    "Space： O(N), we have the graph, indegree list and a queue\n",
    "Time: O(N^2), we traverse the prerequisite list, the numcourses, and the queue; for each item in queue, we traverse the graph."
   ]
  },
  {
   "cell_type": "markdown",
   "metadata": {},
   "source": [
    "Build adjacency list from edge list"
   ]
  },
  {
   "cell_type": "code",
   "execution_count": 4,
   "metadata": {},
   "outputs": [],
   "source": [
    "from collections import defaultdict\n",
    "graph = defaultdict(list)\n",
    "for child, parent in edge_list:\n",
    "    graph[parent].append(child)"
   ]
  },
  {
   "cell_type": "code",
   "execution_count": 8,
   "metadata": {},
   "outputs": [],
   "source": [
    "graph = {}\n",
    "for child, parent in edge_list:\n",
    "    if parent not in graph:\n",
    "        graph[parent] = []\n",
    "    graph[parent].append(child)"
   ]
  },
  {
   "cell_type": "code",
   "execution_count": null,
   "metadata": {},
   "outputs": [],
   "source": []
  }
 ],
 "metadata": {
  "kernelspec": {
   "display_name": "Python 3",
   "language": "python",
   "name": "python3"
  },
  "language_info": {
   "codemirror_mode": {
    "name": "ipython",
    "version": 3
   },
   "file_extension": ".py",
   "mimetype": "text/x-python",
   "name": "python",
   "nbconvert_exporter": "python",
   "pygments_lexer": "ipython3",
   "version": "3.6.5"
  }
 },
 "nbformat": 4,
 "nbformat_minor": 2
}
