{
 "cells": [
  {
   "cell_type": "code",
   "execution_count": null,
   "metadata": {},
   "outputs": [],
   "source": [
    "from collections import deque\n",
    "class Solution:\n",
    "    def maxLevelSum(self, root: TreeNode) -> int:\n",
    "        curr_level = max_level = 1\n",
    "        max_sum = float('-inf')\n",
    "        curr_sum = 0\n",
    "        \n",
    "        marker = None\n",
    "        queue = deque([root, marker])\n",
    "        \n",
    "        while len(queue) > 1:\n",
    "            x = queue.popleft()\n",
    "            # continue current level\n",
    "            if x != marker:\n",
    "                curr_sum += x.val\n",
    "                if x.left:\n",
    "                    queue.append(x.left)\n",
    "                if x.right:\n",
    "                    queue.append(x.right)\n",
    "            # end of current level, go to the next level\n",
    "            else:\n",
    "                if curr_sum > max_sum:\n",
    "                    max_sum, max_level = curr_sum, curr_level  \n",
    "                curr_sum = 0\n",
    "                curr_level += 1\n",
    "                queue.append(marker)\n",
    "            \n",
    "        return max_level"
   ]
  }
 ],
 "metadata": {
  "kernelspec": {
   "display_name": "Python 3",
   "language": "python",
   "name": "python3"
  },
  "language_info": {
   "codemirror_mode": {
    "name": "ipython",
    "version": 3
   },
   "file_extension": ".py",
   "mimetype": "text/x-python",
   "name": "python",
   "nbconvert_exporter": "python",
   "pygments_lexer": "ipython3",
   "version": "3.6.5"
  }
 },
 "nbformat": 4,
 "nbformat_minor": 2
}
