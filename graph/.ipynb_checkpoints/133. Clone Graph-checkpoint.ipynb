{
 "cells": [
  {
   "cell_type": "markdown",
   "metadata": {},
   "source": [
    "# Problem\n",
    "\n",
    "Given a reference of a node in a connected undirected graph, return a deep copy (clone) of the graph. Each node in the\n",
    "graph contains a val (int) and a list (List[Node]) of its neighbors."
   ]
  },
  {
   "cell_type": "markdown",
   "metadata": {},
   "source": [
    "# Brainstorm"
   ]
  },
  {
   "cell_type": "code",
   "execution_count": null,
   "metadata": {},
   "outputs": [],
   "source": [
    "\"\"\"\n",
    "# Definition for a Node.\n",
    "class Node(object):\n",
    "    def __init__(self, val, neighbors):\n",
    "        self.val = val\n",
    "        self.neighbors = neighbors\n",
    "\"\"\"\n",
    "class Solution(object):\n",
    "\n",
    "    def __init__(self):\n",
    "        # Dictionary to save the visited node and it's respective clone\n",
    "        # as key and value respectively. This helps to avoid cycles.\n",
    "        self.visited = {}\n",
    "\n",
    "    def cloneGraph(self, node):\n",
    "        \"\"\"\n",
    "        :type node: Node\n",
    "        :rtype: Node\n",
    "        \"\"\"\n",
    "        if not node:\n",
    "            return node\n",
    "\n",
    "        # If the node was already visited before.\n",
    "        # Return the clone from the visited dictionary.\n",
    "        if node in self.visited:\n",
    "            return self.visited[node]\n",
    "\n",
    "        # Create a clone for the given node.\n",
    "        # Note that we don't have cloned neighbors as of now, hence [].\n",
    "        clone_node = Node(node.val, [])\n",
    "\n",
    "        # The key is original node and value being the clone node.\n",
    "        self.visited[node] = clone_node\n",
    "\n",
    "        # Iterate through the neighbors to generate their clones\n",
    "        # and prepare a list of cloned neighbors to be added to the cloned node.\n",
    "        if node.neighbors:\n",
    "            clone_node.neighbors = [self.cloneGraph(n) for n in node.neighbors]\n",
    "\n",
    "        return clone_node"
   ]
  },
  {
   "cell_type": "code",
   "execution_count": null,
   "metadata": {},
   "outputs": [],
   "source": [
    "\"\"\"\n",
    "# Definition for a Node.\n",
    "class Node(object):\n",
    "    def __init__(self, val, neighbors):\n",
    "        self.val = val\n",
    "        self.neighbors = neighbors\n",
    "\"\"\"\n",
    "from collections import deque\n",
    "class Solution(object):\n",
    "\n",
    "    def cloneGraph(self, node):\n",
    "        \"\"\"\n",
    "        :type node: Node\n",
    "        :rtype: Node\n",
    "        \"\"\"\n",
    "\n",
    "        if not node:\n",
    "            return node\n",
    "\n",
    "        # Dictionary to save the visited node and it's respective clone\n",
    "        # as key and value respectively. This helps to avoid cycles.\n",
    "        visited = {}\n",
    "\n",
    "        # Put the first node in the queue\n",
    "        queue = deque([node])\n",
    "        # Clone the node and put it in the visited dictionary.\n",
    "        visited[node] = Node(node.val, [])\n",
    "\n",
    "        # Start BFS traversal\n",
    "        while queue:\n",
    "            # Pop a node say \"n\" from the from the front of the queue.\n",
    "            n = queue.popleft()\n",
    "            # Iterate through all the neighbors of the node\n",
    "            for neighbor in n.neighbors:\n",
    "                if neighbor not in visited:\n",
    "                    # Clone the neighbor and put in the visited, if not present already\n",
    "                    visited[neighbor] = Node(neighbor.val, [])\n",
    "                    # Add the newly encountered node to the queue.\n",
    "                    queue.append(neighbor)\n",
    "                # Add the clone of the neighbor to the neighbors of the clone node \"n\".\n",
    "                visited[n].neighbors.append(visited[neighbor])\n",
    "\n",
    "        # Return the clone of the node from visited.\n",
    "        return visited[node]"
   ]
  }
 ],
 "metadata": {
  "kernelspec": {
   "display_name": "Python 3",
   "language": "python",
   "name": "python3"
  },
  "language_info": {
   "codemirror_mode": {
    "name": "ipython",
    "version": 3
   },
   "file_extension": ".py",
   "mimetype": "text/x-python",
   "name": "python",
   "nbconvert_exporter": "python",
   "pygments_lexer": "ipython3",
   "version": "3.6.5"
  }
 },
 "nbformat": 4,
 "nbformat_minor": 2
}
