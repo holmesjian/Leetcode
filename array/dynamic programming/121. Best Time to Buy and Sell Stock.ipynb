{
 "cells": [
  {
   "cell_type": "markdown",
   "metadata": {},
   "source": [
    "121. Best Time to Buy and Sell Stock"
   ]
  },
  {
   "cell_type": "code",
   "execution_count": null,
   "metadata": {},
   "outputs": [],
   "source": [
    "def maxProfit(self, prices: List[int]) -> int:\n",
    "    if prices is None or prices == []:\n",
    "        return 0\n",
    "    min_price = prices[0]\n",
    "    max_profit = 0\n",
    "    for i in range(1, len(prices)):\n",
    "        if prices[i] < min_price:\n",
    "            min_price = prices[i]\n",
    "        elif prices[i] - min_price > max_profit:\n",
    "            max_profit = prices[i] - min_price\n",
    "    return max_profit"
   ]
  }
 ],
 "metadata": {
  "kernelspec": {
   "display_name": "Python 3",
   "language": "python",
   "name": "python3"
  },
  "language_info": {
   "codemirror_mode": {
    "name": "ipython",
    "version": 3
   },
   "file_extension": ".py",
   "mimetype": "text/x-python",
   "name": "python",
   "nbconvert_exporter": "python",
   "pygments_lexer": "ipython3",
   "version": "3.6.5"
  }
 },
 "nbformat": 4,
 "nbformat_minor": 2
}
