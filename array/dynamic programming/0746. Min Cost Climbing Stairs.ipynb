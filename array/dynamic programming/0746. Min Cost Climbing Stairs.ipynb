{
 "cells": [
  {
   "cell_type": "markdown",
   "metadata": {},
   "source": [
    "# Problem\n",
    "\n",
    "On a staircase, the i-th step has some non-negative cost cost[i] assigned (0 indexed).<br>\n",
    "\n",
    "Once you pay the cost, you can either climb one or two steps. You need to find minimum cost to reach the top of the floor, and you can either start from the step with index 0, or the step with index 1.<br>\n",
    "\n",
    "Example 1:<br>\n",
    "Input: cost = [10, 15, 20]<br>\n",
    "Output: 15<br>\n",
    "Explanation: Cheapest is start on cost[1], pay that cost and go to the top.<br>\n",
    "\n",
    "Example 2:<br>\n",
    "Input: cost = [1, 100, 1, 1, 1, 100, 1, 1, 100, 1]<br>\n",
    "Output: 6<br>\n",
    "Explanation: Cheapest is start on cost[0], and only step on 1s, skipping cost[3].<br>\n",
    "\n",
    "Note:<br>\n",
    "cost will have a length in the range [2, 1000].<br>\n",
    "Every cost[i] will be an integer in the range [0, 999].<br>"
   ]
  },
  {
   "cell_type": "markdown",
   "metadata": {},
   "source": [
    "# Brainstorm\n",
    "\n",
    "As we can start from index 0 or index 1 and we can climb either 1 step or 2 steps. There seem to be many possibilites.\n",
    "But recognize that the final step is either from i or i-1."
   ]
  },
  {
   "cell_type": "code",
   "execution_count": null,
   "metadata": {},
   "outputs": [],
   "source": [
    "class Solution:\n",
    "    def minCostClimbingStairs(self, cost: List[int]) -> int:\n",
    "        \n",
    "        if not cost:\n",
    "            return 0\n",
    "        elif len(cost) == 1:\n",
    "            return cost[0]\n",
    "        \n",
    "        memo = {0: 0, \n",
    "                1: cost[0], \n",
    "                2: min(cost[0], cost[1]),\n",
    "                3: min(cost[1], cost[0] + cost[2])}\n",
    "        i = len(cost)\n",
    "        return self.recurse(cost, i, memo)\n",
    "    \n",
    "    def recurse(self, cost, i, memo):\n",
    "        if i in memo:\n",
    "            return memo[i]\n",
    "        \n",
    "        memo[i] = min(cost[i-1] + self.recurse(cost, i-1, memo), cost[i-2] + self.recurse(cost, i-2, memo))\n",
    "        return memo[i]\n",
    "        "
   ]
  }
 ],
 "metadata": {
  "kernelspec": {
   "display_name": "Python 3",
   "language": "python",
   "name": "python3"
  },
  "language_info": {
   "codemirror_mode": {
    "name": "ipython",
    "version": 3
   },
   "file_extension": ".py",
   "mimetype": "text/x-python",
   "name": "python",
   "nbconvert_exporter": "python",
   "pygments_lexer": "ipython3",
   "version": "3.6.5"
  }
 },
 "nbformat": 4,
 "nbformat_minor": 2
}
