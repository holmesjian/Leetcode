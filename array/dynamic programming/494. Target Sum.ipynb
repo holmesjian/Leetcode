{
 "cells": [
  {
   "cell_type": "markdown",
   "metadata": {},
   "source": [
    "# Problem\n",
    "\n",
    "You are given a list of non-negative integers, a1, a2, ..., an, and a target, S. Now you have 2 symbols + and -. For each integer, you should choose one from + and - as its new symbol.\n",
    "\n",
    "Find out how many ways to assign symbols to make sum of integers equal to target S.\n",
    "\n",
    "Example 1:\n",
    "Input: nums is [1, 1, 1, 1, 1], S is 3. \n",
    "Output: 5\n",
    "Explanation: <br>\n",
    "\n",
    "-1+1+1+1+1 = 3<br>\n",
    "+1-1+1+1+1 = 3<br>\n",
    "+1+1-1+1+1 = 3<br>\n",
    "+1+1+1-1+1 = 3<br>\n",
    "+1+1+1+1-1 = 3<br>\n",
    "\n",
    "There are 5 ways to assign symbols to make the sum of nums be target 3.<br>\n",
    "\n",
    "Note:\n",
    "The length of the given array is positive and will not exceed 20.<br>\n",
    "The sum of elements in the given array will not exceed 1000.<br>\n",
    "Your output answer is guaranteed to be fitted in a 32-bit integer.<br>"
   ]
  }
 ],
 "metadata": {
  "kernelspec": {
   "display_name": "Python 3",
   "language": "python",
   "name": "python3"
  },
  "language_info": {
   "codemirror_mode": {
    "name": "ipython",
    "version": 3
   },
   "file_extension": ".py",
   "mimetype": "text/x-python",
   "name": "python",
   "nbconvert_exporter": "python",
   "pygments_lexer": "ipython3",
   "version": "3.6.5"
  }
 },
 "nbformat": 4,
 "nbformat_minor": 2
}
