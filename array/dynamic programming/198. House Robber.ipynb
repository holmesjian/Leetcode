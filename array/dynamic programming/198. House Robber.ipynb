{
 "cells": [
  {
   "cell_type": "markdown",
   "metadata": {},
   "source": [
    "# Problem\n",
    "\n",
    "You are a professional robber planning to rob houses along a street. Each house has a certain amount of money stashed, the only constraint stopping you from robbing each of them is that adjacent houses have security system connected and it will automatically contact the police if two adjacent houses were broken into on the same night.\n",
    "\n",
    "Given a list of non-negative integers representing the amount of money of each house, determine the maximum amount of money you can rob tonight without alerting the police.\n",
    "\n",
    "Example 1:\n",
    "\n",
    "Input: [1,2,3,1]\n",
    "Output: 4\n",
    "Explanation: Rob house 1 (money = 1) and then rob house 3 (money = 3).\n",
    "             Total amount you can rob = 1 + 3 = 4.\n",
    "Example 2:\n",
    "\n",
    "Input: [2,7,9,3,1]\n",
    "Output: 12\n",
    "Explanation: Rob house 1 (money = 2), rob house 3 (money = 9) and rob house 5 (money = 1).\n",
    "             Total amount you can rob = 2 + 9 + 1 = 12."
   ]
  },
  {
   "cell_type": "markdown",
   "metadata": {},
   "source": [
    "# Solution 1\n",
    "##### Recursion with list slicing"
   ]
  },
  {
   "cell_type": "code",
   "execution_count": null,
   "metadata": {},
   "outputs": [],
   "source": [
    "class Solution:\n",
    "    def rob(self, nums: List[int]) -> int:\n",
    "        \n",
    "        if not nums:\n",
    "            return 0\n",
    "        \n",
    "        if len(nums) == 1:\n",
    "            return nums[0]\n",
    "        elif len(nums) == 2:\n",
    "            return max(nums)\n",
    "        \n",
    "        max_amount = max(nums[0] + self.rob(nums[2:]), self.rob(nums[1:]))\n",
    "        return max_amount"
   ]
  },
  {
   "cell_type": "markdown",
   "metadata": {},
   "source": [
    "# Solution 2\n",
    "##### Recursion with list indexing"
   ]
  },
  {
   "cell_type": "code",
   "execution_count": null,
   "metadata": {},
   "outputs": [],
   "source": [
    "class Solution:\n",
    "    def rob(self, nums: List[int]) -> int:\n",
    "        \n",
    "        if not nums:\n",
    "            return 0\n",
    "        \n",
    "        curr_index = 0\n",
    "        return self.recurse(nums, curr_index)\n",
    "    \n",
    "    def recurse(self, nums, curr_index):\n",
    "        \n",
    "        if curr_index == len(nums) - 1:\n",
    "            return nums[curr_index]\n",
    "        elif curr_index == len(nums) - 2:\n",
    "            return max(nums[len(nums) - 1], nums[len(nums) - 2])\n",
    "        \n",
    "        max_amount = max(nums[curr_index] + self.recurse(nums, curr_index + 2), self.recurse(nums, curr_index + 1))\n",
    "        return max_amount"
   ]
  },
  {
   "cell_type": "markdown",
   "metadata": {},
   "source": [
    "# Solution 3\n",
    "##### Recursion with memoization"
   ]
  },
  {
   "cell_type": "code",
   "execution_count": null,
   "metadata": {},
   "outputs": [],
   "source": [
    "class Solution:\n",
    "    def rob(self, nums: List[int]) -> int:\n",
    "        \n",
    "        if not nums:\n",
    "            return 0\n",
    "        \n",
    "        length = len(nums)\n",
    "        memo = {length - 1: nums[length - 1], length - 2: max(nums[length - 1], nums[length - 2])}\n",
    "        \n",
    "        curr_index = 0\n",
    "        return self.recurse(nums, curr_index, memo)\n",
    "    \n",
    "    def recurse(self, nums, curr_index, memo):\n",
    "        \n",
    "        if curr_index == len(nums) - 1 or curr_index == len(nums) - 2 or curr_index in memo:\n",
    "            return memo[curr_index]\n",
    "        \n",
    "      \n",
    "        memo[curr_index] = max(nums[curr_index] + self.recurse(nums, curr_index + 2, memo), self.recurse(nums, curr_index + 1, memo))\n",
    "            \n",
    "        return memo[curr_index]"
   ]
  }
 ],
 "metadata": {
  "kernelspec": {
   "display_name": "Python 3",
   "language": "python",
   "name": "python3"
  },
  "language_info": {
   "codemirror_mode": {
    "name": "ipython",
    "version": 3
   },
   "file_extension": ".py",
   "mimetype": "text/x-python",
   "name": "python",
   "nbconvert_exporter": "python",
   "pygments_lexer": "ipython3",
   "version": "3.6.5"
  }
 },
 "nbformat": 4,
 "nbformat_minor": 2
}
