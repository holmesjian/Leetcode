{
 "cells": [
  {
   "cell_type": "markdown",
   "metadata": {},
   "source": [
    "# Problem\n",
    "\n",
    "Given a non-negative integer numRows, generate the first numRows of Pascal's triangle.\n",
    "\n",
    "<img src='./images/triangle.gif'>\n",
    "\n",
    "In Pascal's triangle, each number is the sum of the two numbers directly above it.\n",
    "\n",
    "Example:\n",
    "\n",
    "Input: 5<br>\n",
    "Output:<br>\n",
    "[<br>\n",
    "     [1],<br>\n",
    "    [1,1],<br>\n",
    "   [1,2,1],<br>\n",
    "  [1,3,3,1],<br>\n",
    " [1,4,6,4,1]<br>\n",
    "]"
   ]
  },
  {
   "cell_type": "markdown",
   "metadata": {},
   "source": [
    "# Brainstorm\n",
    "\n",
    "We create the matrix, then fill.\n",
    "How to create the matrix?\n",
    "- [1] * 2 will be [1, 1]. So use [1] * level to create the list with desired size.\n",
    "- For the inside of the list, replace the value of two values from previous level.\n",
    "- Time O(N^2), space O(N^2)\n",
    "\n",
    "How about a recursive solution?\n",
    "- Not so straightforward.\n"
   ]
  },
  {
   "cell_type": "markdown",
   "metadata": {},
   "source": [
    "# Solution 1\n",
    "##### Tabulation"
   ]
  },
  {
   "cell_type": "code",
   "execution_count": 11,
   "metadata": {},
   "outputs": [],
   "source": [
    "class Solution:\n",
    "    def generate(self, numRows: int) -> List[List[int]]:\n",
    "        if numRows == 0:\n",
    "            return []\n",
    "        \n",
    "        matrix = [[1] * (i + 1) for i in range(numRows)]\n",
    "        for i in range(2, numRows):\n",
    "            for j in range(1, len(matrix[i]) - 1):\n",
    "                matrix[i][j] = matrix[i-1][j-1] + matrix[i-1][j]\n",
    "        \n",
    "        return matrix"
   ]
  },
  {
   "cell_type": "code",
   "execution_count": null,
   "metadata": {},
   "outputs": [],
   "source": [
    "class Solution:\n",
    "    def generate(self, numRows: int) -> List[List[int]]:\n",
    "        if numRows == 0:\n",
    "            return []\n",
    "        elif numRows == 1:\n",
    "            return [[1]]\n",
    "        \n",
    "        \n",
    "        triangle = [[1], [1, 1]]\n",
    "        for i in range(2, numRows):\n",
    "            level = [1] * (i + 1)\n",
    "            triangle.append(level)\n",
    "            for j in range(1, len(level) - 1):\n",
    "                triangle[i][j] = triangle[i-1][j] + triangle[i-1][j-1]\n",
    "                \n",
    "        return triangle"
   ]
  },
  {
   "cell_type": "markdown",
   "metadata": {},
   "source": [
    "# Solution 2\n",
    "##### Recursion"
   ]
  }
 ],
 "metadata": {
  "kernelspec": {
   "display_name": "Python 3",
   "language": "python",
   "name": "python3"
  },
  "language_info": {
   "codemirror_mode": {
    "name": "ipython",
    "version": 3
   },
   "file_extension": ".py",
   "mimetype": "text/x-python",
   "name": "python",
   "nbconvert_exporter": "python",
   "pygments_lexer": "ipython3",
   "version": "3.6.5"
  }
 },
 "nbformat": 4,
 "nbformat_minor": 2
}
