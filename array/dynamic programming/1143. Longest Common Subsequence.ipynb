{
 "cells": [
  {
   "cell_type": "markdown",
   "metadata": {},
   "source": [
    "# Problem\n",
    "\n",
    "Given two strings text1 and text2, return the length of their longest common subsequence.\n",
    "\n",
    "A subsequence of a string is a new string generated from the original string with some characters(can be none) deleted without changing the relative order of the remaining characters. (eg, \"ace\" is a subsequence of \"abcde\" while \"aec\" is not). A common subsequence of two strings is a subsequence that is common to both strings.\n",
    "\n",
    " \n",
    "\n",
    "If there is no common subsequence, return 0.\n",
    "\n",
    " \n",
    "\n",
    "Example 1:<br>\n",
    "\n",
    "Input: text1 = \"abcde\", text2 = \"ace\" <br>\n",
    "Output: 3<br>\n",
    "Explanation: The longest common subsequence is \"ace\" and its length is 3.<br>\n",
    "\n",
    "Example 2:\n",
    "\n",
    "Input: text1 = \"abc\", text2 = \"abc\"<br>\n",
    "Output: 3<br>\n",
    "Explanation: The longest common subsequence is \"abc\" and its length is 3.<br>\n",
    "\n",
    "Example 3:\n",
    "\n",
    "Input: text1 = \"abc\", text2 = \"def\"<br>\n",
    "Output: 0<br>\n",
    "Explanation: There is no such common subsequence, so the result is 0.<br>\n",
    " \n",
    "\n",
    "Constraints:\n",
    "\n",
    "1 <= text1.length <= 1000<br>\n",
    "1 <= text2.length <= 1000<br>\n",
    "The input strings consist of lowercase English characters only."
   ]
  },
  {
   "cell_type": "markdown",
   "metadata": {},
   "source": [
    "# Brainstorm\n",
    "\n"
   ]
  },
  {
   "cell_type": "markdown",
   "metadata": {},
   "source": [
    "1. Recursion"
   ]
  },
  {
   "cell_type": "code",
   "execution_count": 3,
   "metadata": {},
   "outputs": [],
   "source": [
    "def lcs(text1, text2):\n",
    "    return helper(len(text1)-1, len(text2)-1, text1, text2)\n",
    "\n",
    "def helper(i, j, text1, text2):\n",
    "    if i < 0 or j < 0:\n",
    "        return 0\n",
    "    \n",
    "    elif text1[i] == text2[j]:\n",
    "        return 1 + helper(i-1, j-1, text1, text2)\n",
    "    \n",
    "    else:\n",
    "        return max(helper(i-1, j, text1, text2), helper(i, j-1, text1, text2))"
   ]
  },
  {
   "cell_type": "code",
   "execution_count": 4,
   "metadata": {},
   "outputs": [
    {
     "data": {
      "text/plain": [
       "3"
      ]
     },
     "execution_count": 4,
     "metadata": {},
     "output_type": "execute_result"
    }
   ],
   "source": [
    "lcs(\"abcde\", \"ace\")"
   ]
  },
  {
   "cell_type": "code",
   "execution_count": 5,
   "metadata": {},
   "outputs": [
    {
     "data": {
      "text/plain": [
       "0"
      ]
     },
     "execution_count": 5,
     "metadata": {},
     "output_type": "execute_result"
    }
   ],
   "source": [
    "lcs(\"abc\",\"def\")"
   ]
  },
  {
   "cell_type": "markdown",
   "metadata": {},
   "source": [
    "2. Memoization\n",
    "We can see that there are many subproblems that are solved again and again. So this problem has Overlapping Substructure property and recomputation of same subproblems can be avoided by either using Memoization or Tabulation."
   ]
  },
  {
   "cell_type": "code",
   "execution_count": 25,
   "metadata": {},
   "outputs": [],
   "source": [
    "def lcs(text1, text2):\n",
    "\n",
    "    end_i = len(text1) - 1\n",
    "    end_j = len(text2) - 1\n",
    "    dp = [[-1 for _ in range(len(text1))] for _ in range(len(text2))]\n",
    "\n",
    "\n",
    "    return helper(text1, text2, end_i, end_j, dp)\n"
   ]
  },
  {
   "cell_type": "code",
   "execution_count": 26,
   "metadata": {},
   "outputs": [],
   "source": [
    "def helper(text1, text2, i, j, dp):\n",
    "\n",
    "    if i == 0 or j == 0:\n",
    "        return 0\n",
    "\n",
    "    elif dp[i][j] != -1:\n",
    "        return dp[i][j]\n",
    "\n",
    "    elif text1[i] == text2[j]:\n",
    "         1 + helper(text1, text2, i-1, j-1, dp)\n",
    "\n",
    "    else:\n",
    "        dp[i][j] = max(helper(text1, text2, i-1, j, dp), helper(text1, text2, i, j-1, dp))\n",
    "        \n",
    "    return dp[-1][-1]\n"
   ]
  },
  {
   "cell_type": "code",
   "execution_count": 27,
   "metadata": {},
   "outputs": [
    {
     "ename": "IndexError",
     "evalue": "list index out of range",
     "output_type": "error",
     "traceback": [
      "\u001b[1;31m---------------------------------------------------------------------------\u001b[0m",
      "\u001b[1;31mIndexError\u001b[0m                                Traceback (most recent call last)",
      "\u001b[1;32m<ipython-input-27-63cc7db6ff8c>\u001b[0m in \u001b[0;36m<module>\u001b[1;34m()\u001b[0m\n\u001b[1;32m----> 1\u001b[1;33m \u001b[0mlcs\u001b[0m\u001b[1;33m(\u001b[0m\u001b[1;34m\"abcde\"\u001b[0m\u001b[1;33m,\u001b[0m \u001b[1;34m\"ace\"\u001b[0m\u001b[1;33m)\u001b[0m\u001b[1;33m\u001b[0m\u001b[0m\n\u001b[0m",
      "\u001b[1;32m<ipython-input-25-f692c6ae72a6>\u001b[0m in \u001b[0;36mlcs\u001b[1;34m(text1, text2)\u001b[0m\n\u001b[0;32m      6\u001b[0m \u001b[1;33m\u001b[0m\u001b[0m\n\u001b[0;32m      7\u001b[0m \u001b[1;33m\u001b[0m\u001b[0m\n\u001b[1;32m----> 8\u001b[1;33m     \u001b[1;32mreturn\u001b[0m \u001b[0mhelper\u001b[0m\u001b[1;33m(\u001b[0m\u001b[0mtext1\u001b[0m\u001b[1;33m,\u001b[0m \u001b[0mtext2\u001b[0m\u001b[1;33m,\u001b[0m \u001b[0mend_i\u001b[0m\u001b[1;33m,\u001b[0m \u001b[0mend_j\u001b[0m\u001b[1;33m,\u001b[0m \u001b[0mdp\u001b[0m\u001b[1;33m)\u001b[0m\u001b[1;33m\u001b[0m\u001b[0m\n\u001b[0m",
      "\u001b[1;32m<ipython-input-26-fe54dafaceb8>\u001b[0m in \u001b[0;36mhelper\u001b[1;34m(text1, text2, i, j, dp)\u001b[0m\n\u001b[0;32m      4\u001b[0m         \u001b[1;32mreturn\u001b[0m \u001b[1;36m0\u001b[0m\u001b[1;33m\u001b[0m\u001b[0m\n\u001b[0;32m      5\u001b[0m \u001b[1;33m\u001b[0m\u001b[0m\n\u001b[1;32m----> 6\u001b[1;33m     \u001b[1;32melif\u001b[0m \u001b[0mdp\u001b[0m\u001b[1;33m[\u001b[0m\u001b[0mi\u001b[0m\u001b[1;33m]\u001b[0m\u001b[1;33m[\u001b[0m\u001b[0mj\u001b[0m\u001b[1;33m]\u001b[0m \u001b[1;33m!=\u001b[0m \u001b[1;33m-\u001b[0m\u001b[1;36m1\u001b[0m\u001b[1;33m:\u001b[0m\u001b[1;33m\u001b[0m\u001b[0m\n\u001b[0m\u001b[0;32m      7\u001b[0m         \u001b[1;32mreturn\u001b[0m \u001b[0mdp\u001b[0m\u001b[1;33m[\u001b[0m\u001b[0mi\u001b[0m\u001b[1;33m]\u001b[0m\u001b[1;33m[\u001b[0m\u001b[0mj\u001b[0m\u001b[1;33m]\u001b[0m\u001b[1;33m\u001b[0m\u001b[0m\n\u001b[0;32m      8\u001b[0m \u001b[1;33m\u001b[0m\u001b[0m\n",
      "\u001b[1;31mIndexError\u001b[0m: list index out of range"
     ]
    }
   ],
   "source": [
    "lcs(\"abcde\", \"ace\")"
   ]
  },
  {
   "cell_type": "code",
   "execution_count": null,
   "metadata": {},
   "outputs": [],
   "source": [
    "class Solution:\n",
    "    def longestCommonSubsequence(self, text1: str, text2: str) -> int:\n",
    "        \n",
    "        end_i = len(text1) - 1\n",
    "        end_j = len(text2) - 1\n",
    "        dp = [[-1 for _ in range(len(text1))] for _ in range(len(text2))]\n",
    "        \n",
    "        def helper(text1, text2, i, j, dp):\n",
    "\n",
    "            \n",
    "            if i < 0 or j < 0:\n",
    "                return 0\n",
    "            \n",
    "            elif dp[i][j] != -1:\n",
    "                return dp[i][j]\n",
    "            \n",
    "            elif text1[i] == text2[j]:\n",
    "                dp[i][j] = 1 + helper(text1, text2, i-1, j-1, dp)\n",
    "                return dp[i][j]\n",
    "            \n",
    "            else:\n",
    "                dp[i][j] = max(helper(text1, text2, i-1, j, dp), helper(text1, text2, i, j-1, dp))\n",
    "                return dp[i][j]\n",
    "            \n",
    "        return helper(text1, text2, end_i, end_j, dp)\n",
    "            "
   ]
  }
 ],
 "metadata": {
  "kernelspec": {
   "display_name": "Python 3",
   "language": "python",
   "name": "python3"
  },
  "language_info": {
   "codemirror_mode": {
    "name": "ipython",
    "version": 3
   },
   "file_extension": ".py",
   "mimetype": "text/x-python",
   "name": "python",
   "nbconvert_exporter": "python",
   "pygments_lexer": "ipython3",
   "version": "3.6.5"
  }
 },
 "nbformat": 4,
 "nbformat_minor": 2
}
