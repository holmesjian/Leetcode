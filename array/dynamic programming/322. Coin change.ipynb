{
 "cells": [
  {
   "cell_type": "markdown",
   "metadata": {},
   "source": [
    "You are given coins of different denominations and a total amount of money amount. Write a function to compute the fewest number of coins that you need to make up that amount. If that amount of money cannot be made up by any combination of the coins, return -1.\n",
    "\n",
    "Example 1:\n",
    "\n",
    "Input: coins = [1, 2, 5], amount = 11\n",
    "Output: 3 \n",
    "Explanation: 11 = 5 + 5 + 1\n",
    "Example 2:\n",
    "\n",
    "Input: coins = [2], amount = 3\n",
    "Output: -1\n",
    "Note:\n",
    "You may assume that you have an infinite number of each kind of coin."
   ]
  },
  {
   "cell_type": "markdown",
   "metadata": {},
   "source": [
    "1. Greedy \n",
    "- This generates wrong result for cases like [4, 6], amount=14"
   ]
  },
  {
   "cell_type": "code",
   "execution_count": 18,
   "metadata": {},
   "outputs": [],
   "source": [
    "def coinChange(coins, amount):\n",
    "\n",
    "    coins.sort()\n",
    "\n",
    "    i = len(coins) - 1\n",
    "    max_coin = coins[i]\n",
    "    coin_count = 0\n",
    "\n",
    "    while amount > 0:       \n",
    "        while max_coin > amount and i > 0:\n",
    "            i -= 1\n",
    "            max_coin = coins[i]\n",
    "\n",
    "        amount -= max_coin\n",
    "        coin_count += 1\n",
    "\n",
    "    if amount == 0:\n",
    "        return coin_count\n",
    "    else:\n",
    "        return -1"
   ]
  },
  {
   "cell_type": "code",
   "execution_count": 17,
   "metadata": {},
   "outputs": [],
   "source": [
    "coins = [4, 6]\n",
    "amount = 14"
   ]
  },
  {
   "cell_type": "code",
   "execution_count": 19,
   "metadata": {},
   "outputs": [
    {
     "data": {
      "text/plain": [
       "-1"
      ]
     },
     "execution_count": 19,
     "metadata": {},
     "output_type": "execute_result"
    }
   ],
   "source": [
    "coinChange(coins, amount)"
   ]
  },
  {
   "cell_type": "markdown",
   "metadata": {},
   "source": [
    "2. Dynamic programming (bottom up)"
   ]
  },
  {
   "cell_type": "code",
   "execution_count": null,
   "metadata": {},
   "outputs": [],
   "source": [
    "def coinChange(self, coins: List[int], amount: int) -> int:\n",
    "\n",
    "    coins.sort()\n",
    "\n",
    "    aux = [0] + [float('inf') for _ in range(1, amount + 1)] \n",
    "\n",
    "    for coin in coins:\n",
    "        for subamount in range(coin, amount+1):\n",
    "            aux[subamount] = min(1 + aux[subamount-coin], aux[subamount])\n",
    "\n",
    "    return aux[-1] if aux[-1] != float('inf') else -1"
   ]
  }
 ],
 "metadata": {
  "kernelspec": {
   "display_name": "Python 3",
   "language": "python",
   "name": "python3"
  },
  "language_info": {
   "codemirror_mode": {
    "name": "ipython",
    "version": 3
   },
   "file_extension": ".py",
   "mimetype": "text/x-python",
   "name": "python",
   "nbconvert_exporter": "python",
   "pygments_lexer": "ipython3",
   "version": "3.6.5"
  }
 },
 "nbformat": 4,
 "nbformat_minor": 2
}
