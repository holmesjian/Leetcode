{
 "cells": [
  {
   "cell_type": "markdown",
   "metadata": {},
   "source": [
    "# Problem\n",
    "\n",
    "You are climbing a stair case. It takes n steps to reach to the top.\n",
    "Each time you can either climb 1 or 2 steps. In how many distinct ways can you climb to the top?\n",
    "Note: Given n will be a positive integer.\n",
    "\n",
    "Example 1:\n",
    "- Input: 2\n",
    "- Output: 2\n",
    "- Explanation: \n",
    "There are two ways to climb to the top.<br>\n",
    "1) 1 step + 1 step<br>\n",
    "2) 2 steps<br>\n",
    "\n",
    "Example 2:\n",
    "- Input: 3\n",
    "- Output: 3\n",
    "- Explanation: \n",
    "There are three ways to climb to the top.<br>\n",
    "1) 1 step + 1 step + 1 step<br>\n",
    "2) 1 step + 2 steps<br>\n",
    "3) 2 steps + 1 step<br>\n",
    "\n",
    "\n",
    "brainstorming:\n",
    "first let's start with simple cases,\n",
    "when N is 1, the ways to reach to the top is [1], where the number inside is the steps that we take.\n",
    "when N is 2, the ways to reach to the top is: [1, 1], [2]\n",
    "when N is 3, the ways to reach to the top is: [1, 1, 1], [1, 2], [2, 1]. If you look at the part from step 1 to step 3,\n",
    "it is actually a staircase with 2 steps, If you ask yourself how to go from step 1 to step 3, that's actually the problem\n",
    "that we have solved before when N is 2.\n",
    "\n",
    "when I want to reach step 4, the total number of ways to reach step 4 is the total number of ways we can reach step 3,\n",
    "(we are left with climb 1 step, that does not change the number of ways), plus the total number of ways we can reach step 2,\n",
    "then we add 2 to them.\n",
    "\n",
    "Let's see whether this works when we have 5 steps.\n",
    "we take the ways to reach step 4, all we have to do is just climb 1 step\n",
    "Then we take the ways to reach step 3, all we have to do is just climb 2 steps."
   ]
  },
  {
   "cell_type": "markdown",
   "metadata": {},
   "source": [
    "# Brainstorm\n",
    "\n",
    "When N is 3, we have to climb 1 or 2 steps from the start. When N is 4, we also climb from the start. So if we can somehow make use of previous results, we can compute the number of ways to reach N.\n",
    "\n",
    "| n   | Number of ways| How to get it|\n",
    "| ----|:-------------:|:-------------:|\n",
    "| 0   |      0        ||\n",
    "| 1   |      1        ||  \n",
    "| 2   |      2        ||\n",
    "| 3   |      3        |1+2|\n",
    "| 4   |      5        |2+3|   \n",
    "| 5   |      8        |3+5|\n",
    "| 6   |      13       |5+8|\n",
    "\n",
    "To get the number of ways for each n, sum the number of ways for n-1 and n-2.\n",
    "- edge case when n is 0, 1 or 2, which does not satisfy the above relation.\n",
    "- Build a list, index is n, fill the list using n = list[n-1] + list[n-2]\n",
    "- Time O(N), space O(N) as we are building a list to store results from 0 to N.\n",
    "\n",
    "Recursion\n",
    "- Time O(2^N) as we have 2^N number of nodes in our recursion tree. Space O(N) as the recursion depth can go upto N.\n",
    "\n",
    "Recursion with memoization\n",
    "- Time O(N), Space O(N)"
   ]
  },
  {
   "cell_type": "markdown",
   "metadata": {},
   "source": [
    "# Solution 1\n",
    "##### Tabulation"
   ]
  },
  {
   "cell_type": "code",
   "execution_count": null,
   "metadata": {},
   "outputs": [],
   "source": [
    "class Solution:\n",
    "    def climbStairs(self, n: int) -> int:\n",
    "        if n == 0 or n == 1 or n == 2:\n",
    "            return n\n",
    "        \n",
    "        num_of_ways = [None] * (n + 1)\n",
    "        num_of_ways[0] = 0\n",
    "        num_of_ways[1] = 1\n",
    "        num_of_ways[2] = 2\n",
    "        \n",
    "        for i in range(3, n+1):\n",
    "            num_of_ways[i] = num_of_ways[i-1] + num_of_ways[i-2]\n",
    "            \n",
    "        return num_of_ways[n]"
   ]
  },
  {
   "cell_type": "markdown",
   "metadata": {},
   "source": [
    "# Solution 2\n",
    "##### Recursion without memoization"
   ]
  },
  {
   "cell_type": "code",
   "execution_count": null,
   "metadata": {},
   "outputs": [],
   "source": [
    "class Solution:\n",
    "    def climbStairs(self, n: int) -> int:\n",
    "    \n",
    "        if n == 1:\n",
    "            return 1\n",
    "        elif n == 2:\n",
    "            return 2\n",
    "        \n",
    "        return self.climbStairs(n-1) + self.climbStairs(n-2)"
   ]
  },
  {
   "cell_type": "markdown",
   "metadata": {},
   "source": [
    "# Solution 3\n",
    "##### Recursion with memoization (array)"
   ]
  },
  {
   "cell_type": "code",
   "execution_count": null,
   "metadata": {},
   "outputs": [],
   "source": [
    "class Solution:\n",
    "    def climbStairs(self, n: int) -> int:\n",
    "        if n == 0 or n == 1 or n == 2:\n",
    "            return n\n",
    "        \n",
    "        memo = [-1] * (n+1)\n",
    "        memo[1] = 1\n",
    "        memo[2] = 2\n",
    "        return self.recurse(n, memo)\n",
    "    \n",
    "    def recurse(self, n, memo):\n",
    "        if n == 1:\n",
    "            return 1\n",
    "        elif n == 2:\n",
    "            return 2\n",
    "        \n",
    "        elif memo[n] != -1:\n",
    "            return memo[n]\n",
    "        \n",
    "        \n",
    "        memo[n] = self.recurse(n-1, memo) + self.recurse(n-2, memo)\n",
    "        \n",
    "        return memo[n]"
   ]
  },
  {
   "cell_type": "markdown",
   "metadata": {},
   "source": [
    "# Solution 4\n",
    "##### Recursion with memoization (dictionary)"
   ]
  },
  {
   "cell_type": "code",
   "execution_count": null,
   "metadata": {},
   "outputs": [],
   "source": [
    "class Solution:\n",
    "    def climbStairs(self, n: int) -> int:\n",
    "        if n == 0 or n == 1 or n == 2:\n",
    "            return n\n",
    "        \n",
    "        memo = {1: 1, 2: 2}\n",
    "        return self.recurse(n, memo)\n",
    "    \n",
    "    def recurse(self, n, memo):\n",
    "        if n == 1 or n == 2:\n",
    "            return memo[n]\n",
    "        \n",
    "        elif n in memo:\n",
    "            return memo[n]\n",
    "        \n",
    "        memo[n] = self.recurse(n-1, memo) + self.recurse(n-2, memo)\n",
    "        return memo[n]"
   ]
  }
 ],
 "metadata": {
  "kernelspec": {
   "display_name": "Python 3",
   "language": "python",
   "name": "python3"
  },
  "language_info": {
   "codemirror_mode": {
    "name": "ipython",
    "version": 3
   },
   "file_extension": ".py",
   "mimetype": "text/x-python",
   "name": "python",
   "nbconvert_exporter": "python",
   "pygments_lexer": "ipython3",
   "version": "3.6.5"
  }
 },
 "nbformat": 4,
 "nbformat_minor": 2
}
