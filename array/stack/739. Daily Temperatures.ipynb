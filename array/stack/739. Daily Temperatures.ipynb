{
 "cells": [
  {
   "cell_type": "markdown",
   "metadata": {},
   "source": [
    "# Problem\n",
    "\n",
    "Given a list of daily temperatures T, return a list such that, for each day in the input, tells you how many days you would have to wait until a warmer temperature. If there is no future day for which this is possible, put 0 instead.<br>\n",
    "\n",
    "For example, given the list of temperatures T = [73, 74, 75, 71, 69, 72, 76, 73], your output should be [1, 1, 4, 2, 1, 1, 0, 0].<br>\n",
    "\n",
    "Note: The length of temperatures will be in the range [1, 30000]. Each temperature will be an integer in the range [30, 100]."
   ]
  },
  {
   "cell_type": "markdown",
   "metadata": {},
   "source": [
    "# Brainstorm\n",
    "\n",
    "If we want to solve it in O(N), we need to store currently unsolved elements. If we find a larger element later, we need to pop elements until the unsolve elements."
   ]
  },
  {
   "cell_type": "markdown",
   "metadata": {},
   "source": [
    "# Solution 1\n",
    "##### nested loops"
   ]
  },
  {
   "cell_type": "code",
   "execution_count": null,
   "metadata": {},
   "outputs": [],
   "source": [
    "class Solution:\n",
    "    def dailyTemperatures(self, T: List[int]) -> List[int]:\n",
    "        wait_days = []\n",
    "        for i in range(len(T) - 1):\n",
    "            days = 0\n",
    "            for j in range(i+1, len(T)):\n",
    "                if T[j] <= T[i]:\n",
    "                    continue\n",
    "                else:\n",
    "                    days = j - i\n",
    "                    break\n",
    "            wait_days.append(days)\n",
    "        \n",
    "        wait_days.append(0)\n",
    "        return wait_days\n",
    "                "
   ]
  },
  {
   "cell_type": "markdown",
   "metadata": {},
   "source": [
    "# Solution 2\n",
    "##### stack"
   ]
  },
  {
   "cell_type": "code",
   "execution_count": null,
   "metadata": {},
   "outputs": [],
   "source": [
    "class Solution:\n",
    "    def dailyTemperatures(self, T: List[int]) -> List[int]:\n",
    "        if not T:\n",
    "            return [0]\n",
    "        \n",
    "        wait_days = [0] * len(T)\n",
    "        \n",
    "        unsolved_indices = []\n",
    "        \n",
    "        for i in range(len(T)):\n",
    "            # Current temperature at i is used to solve previous temperature\n",
    "            while unsolved_indices and T[unsolved_indices[-1]] < T[i]:\n",
    "                unsolved_index = unsolved_indices.pop()\n",
    "                wait_days[unsolved_index] = i - unsolved_index\n",
    "                \n",
    "            unsolved_indices.append(i)\n",
    "        \n",
    "        return wait_days"
   ]
  }
 ],
 "metadata": {
  "kernelspec": {
   "display_name": "Python 3",
   "language": "python",
   "name": "python3"
  },
  "language_info": {
   "codemirror_mode": {
    "name": "ipython",
    "version": 3
   },
   "file_extension": ".py",
   "mimetype": "text/x-python",
   "name": "python",
   "nbconvert_exporter": "python",
   "pygments_lexer": "ipython3",
   "version": "3.6.5"
  }
 },
 "nbformat": 4,
 "nbformat_minor": 2
}
