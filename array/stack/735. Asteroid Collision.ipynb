{
 "cells": [
  {
   "cell_type": "markdown",
   "metadata": {},
   "source": [
    "# Problem\n",
    "\n",
    "We are given an array asteroids of integers representing asteroids in a row.\n",
    "\n",
    "For each asteroid, the absolute value represents its size, and the sign represents its direction (positive meaning right, negative meaning left). Each asteroid moves at the same speed.\n",
    "\n",
    "Find out the state of the asteroids after all collisions. If two asteroids meet, the smaller one will explode. If both are the same size, both will explode. Two asteroids moving in the same direction will never meet.\n",
    "\n",
    "Example 1:<br>\n",
    "Input:<br>\n",
    "asteroids = [5, 10, -5]<br>\n",
    "Output: [5, 10]<br>\n",
    "Explanation: <br>\n",
    "The 10 and -5 collide resulting in 10.  The 5 and 10 never collide.<br>\n",
    "\n",
    "Example 2:<br>\n",
    "Input:<br>\n",
    "asteroids = [8, -8]<br>\n",
    "Output: []<br>\n",
    "Explanation:<br>\n",
    "The 8 and -8 collide exploding each other.<br>\n",
    "\n",
    "Example 3:<br>\n",
    "Input:<br>\n",
    "asteroids = [10, 2, -5]<br>\n",
    "Output: [10]<br>\n",
    "Explanation:<br>\n",
    "The 2 and -5 collide resulting in -5.  The 10 and -5 collide resulting in 10.<br>\n",
    "\n",
    "Example 4:<br>\n",
    "Input:<br>\n",
    "asteroids = [-2, -1, 1, 2]<br>\n",
    "Output: [-2, -1, 1, 2]<br>\n",
    "Explanation:<br>\n",
    "The -2 and -1 are moving left, while the 1 and 2 are moving right.<br>\n",
    "Asteroids moving the same direction never meet, so no asteroids will meet each other.<br>\n",
    "\n",
    "Note:\n",
    "\n",
    "The length of asteroids will be at most 10000.<br>\n",
    "Each asteroid will be a non-zero integer in the range [-1000, 1000].."
   ]
  },
  {
   "cell_type": "markdown",
   "metadata": {},
   "source": [
    "# Brainstorm\n",
    "\n",
    "What are all the possible scenarios? The asteroid can only move left or right.<br>\n",
    "So there are only 4 possible cases:<br>\n",
    "for any two asteroids, 2 and 1 can be any non-zero integer:\n",
    "- +2, -1\n",
    "- -2, -1\n",
    "- +2, +1\n",
    "- -2, +1\n",
    "In case 1, +2, -1, the two will collide and merge. In other cases, we will keep the two numbers."
   ]
  }
 ],
 "metadata": {
  "kernelspec": {
   "display_name": "Python 3",
   "language": "python",
   "name": "python3"
  },
  "language_info": {
   "codemirror_mode": {
    "name": "ipython",
    "version": 3
   },
   "file_extension": ".py",
   "mimetype": "text/x-python",
   "name": "python",
   "nbconvert_exporter": "python",
   "pygments_lexer": "ipython3",
   "version": "3.6.5"
  }
 },
 "nbformat": 4,
 "nbformat_minor": 2
}
