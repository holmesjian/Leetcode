{
 "cells": [
  {
   "cell_type": "markdown",
   "metadata": {},
   "source": [
    "# Problem\n",
    "\n",
    "Given an array A of non-negative integers, return the maximum sum of elements in two non-overlapping (contiguous) subarrays, which have lengths L and M.  (For clarification, the L-length subarray could occur before or after the M-length subarray.)\n",
    "\n",
    "Formally, return the largest V for which V = (A[i] + A[i+1] + ... + A[i+L-1]) + (A[j] + A[j+1] + ... + A[j+M-1]) and either:<br>\n",
    "\n",
    "0 <= i < i + L - 1 < j < j + M - 1 < A.length, or<br>\n",
    "0 <= j < j + M - 1 < i < i + L - 1 < A.length.<br>\n",
    " \n",
    "\n",
    "Example 1:<br>\n",
    "\n",
    "Input: A = [0,6,5,2,2,5,1,9,4], L = 1, M = 2<br>\n",
    "Output: 20<br>\n",
    "Explanation: One choice of subarrays is [9] with length 1, and [6,5] with length 2.<br>\n",
    "\n",
    "Example 2:<br>\n",
    "\n",
    "Input: A = [3,8,1,3,2,1,8,9,0], L = 3, M = 2<br>\n",
    "Output: 29<br>\n",
    "Explanation: One choice of subarrays is [3,8,1] with length 3, and [8,9] with length 2.<br>\n",
    "\n",
    "Example 3:\n",
    "\n",
    "Input: A = [2,1,5,6,0,9,5,0,3,8], L = 4, M = 3<br>\n",
    "Output: 31<br>\n",
    "Explanation: One choice of subarrays is [5,6,0,9] with length 4, and [3,8] with length 3.<br>\n",
    " \n",
    "\n",
    "Note:\n",
    "\n",
    "L >= 1<br>\n",
    "M >= 1<br>\n",
    "L + M <= A.length <= 1000<br>\n",
    "0 <= A[i] <= 1000"
   ]
  }
 ],
 "metadata": {
  "kernelspec": {
   "display_name": "Python 3",
   "language": "python",
   "name": "python3"
  },
  "language_info": {
   "codemirror_mode": {
    "name": "ipython",
    "version": 3
   },
   "file_extension": ".py",
   "mimetype": "text/x-python",
   "name": "python",
   "nbconvert_exporter": "python",
   "pygments_lexer": "ipython3",
   "version": "3.6.5"
  }
 },
 "nbformat": 4,
 "nbformat_minor": 2
}
