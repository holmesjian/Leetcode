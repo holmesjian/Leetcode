{
 "cells": [
  {
   "cell_type": "markdown",
   "metadata": {},
   "source": [
    "# Problem\n",
    "\n",
    "Given an array of integers and an integer k, you need to find the total number of continuous subarrays whose sum equals to k.\n",
    "\n",
    "Example 1:<br>\n",
    "Input:nums = [1,1,1], k = 2<br>\n",
    "Output: 2<br>\n",
    "\n",
    "Note:\n",
    "- The length of the array is in range [1, 20,000].\n",
    "- The range of numbers in the array is [-1000, 1000] and the range of the integer k is [-1e7, 1e7]."
   ]
  },
  {
   "cell_type": "markdown",
   "metadata": {},
   "source": [
    "# Brainstorm\n",
    "\n",
    "Duplicates\n",
    "\n",
    "Brute force: have to check every subarray, because -ve number is possible. If the current sum > k, still needs to go on to check.\n",
    "\n",
    "current_subarray_sum - k:\n",
    "- what if same subarray_sum multiple times."
   ]
  },
  {
   "cell_type": "code",
   "execution_count": null,
   "metadata": {},
   "outputs": [],
   "source": [
    "class Solution:\n",
    "    def subarraySum(self, nums: List[int], k: int) -> int:\n",
    "        \n",
    "        count = 0\n",
    "        for i in range(len(nums)):\n",
    "            curr_sum = nums[i]\n",
    "            if curr_sum == k:\n",
    "                count += 1\n",
    "\n",
    "            for j in range(i+1, len(nums)):\n",
    "                curr_sum += nums[j]\n",
    "                if curr_sum == k:\n",
    "                    count += 1\n",
    "\n",
    "        return count"
   ]
  },
  {
   "cell_type": "code",
   "execution_count": null,
   "metadata": {},
   "outputs": [],
   "source": [
    "class Solution:\n",
    "    def subarraySum(self, nums: List[int], k: int) -> int:\n",
    "        \n",
    "        subarray_sum = {0: 1}\n",
    "        curr_sum = 0\n",
    "        count = 0\n",
    "        for num in nums:\n",
    "            curr_sum += num\n",
    "            if curr_sum - k in subarray_sum:\n",
    "                count += subarray_sum[curr_sum - k]\n",
    "            subarray_sum[curr_sum] = subarray_sum.get(curr_sum, 0) + 1\n",
    "        return count"
   ]
  },
  {
   "cell_type": "markdown",
   "metadata": {},
   "source": [
    "Wrong solution:"
   ]
  },
  {
   "cell_type": "code",
   "execution_count": null,
   "metadata": {},
   "outputs": [],
   "source": [
    "class Solution:\n",
    "    def subarraySum(self, nums: List[int], k: int) -> int:\n",
    "        \n",
    "        subarray_sum = {0: 1}\n",
    "        curr_sum = 0\n",
    "        count = 0\n",
    "        for num in nums:\n",
    "            curr_sum += num\n",
    "            if curr_sum - k in subarray_sum:\n",
    "                count += 1\n",
    "            subarray_sum[curr_sum] = subarray_sum.get(curr_sum, 0) + 1\n",
    "        return count"
   ]
  }
 ],
 "metadata": {
  "kernelspec": {
   "display_name": "Python 3",
   "language": "python",
   "name": "python3"
  },
  "language_info": {
   "codemirror_mode": {
    "name": "ipython",
    "version": 3
   },
   "file_extension": ".py",
   "mimetype": "text/x-python",
   "name": "python",
   "nbconvert_exporter": "python",
   "pygments_lexer": "ipython3",
   "version": "3.6.5"
  }
 },
 "nbformat": 4,
 "nbformat_minor": 2
}
