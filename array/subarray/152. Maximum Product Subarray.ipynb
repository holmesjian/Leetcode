{
 "cells": [
  {
   "cell_type": "markdown",
   "metadata": {},
   "source": [
    "# Problem\n",
    "\n",
    "Given an integer array nums, find the contiguous subarray within an array (containing at least one number) which has the largest product.\n",
    "\n",
    "Example 1:<br>\n",
    "\n",
    "Input: [2,3,-2,4]<br>\n",
    "Output: 6<br>\n",
    "Explanation: [2,3] has the largest product 6.<br>\n",
    "\n",
    "Example 2:\n",
    "\n",
    "Input: [-2,0,-1]<br>\n",
    "Output: 0<br>\n",
    "Explanation: The result cannot be 2, because [-2,-1] is not a subarray."
   ]
  },
  {
   "cell_type": "markdown",
   "metadata": {},
   "source": [
    "# Brainstorm\n",
    "\n",
    "If we encounter a positive number, we will include that number in our potential max product subarray. What if we encounter a negative number or zero, how does that affect our possible max product subarray?"
   ]
  }
 ],
 "metadata": {
  "kernelspec": {
   "display_name": "Python 3",
   "language": "python",
   "name": "python3"
  },
  "language_info": {
   "codemirror_mode": {
    "name": "ipython",
    "version": 3
   },
   "file_extension": ".py",
   "mimetype": "text/x-python",
   "name": "python",
   "nbconvert_exporter": "python",
   "pygments_lexer": "ipython3",
   "version": "3.6.5"
  }
 },
 "nbformat": 4,
 "nbformat_minor": 2
}
