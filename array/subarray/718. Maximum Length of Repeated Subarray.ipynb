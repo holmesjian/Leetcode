{
 "cells": [
  {
   "cell_type": "markdown",
   "metadata": {},
   "source": [
    "# Problem\n",
    "\n",
    "Given two integer arrays A and B, return the maximum length of an subarray that appears in both arrays.\n",
    "\n",
    "Example 1:<br>\n",
    "\n",
    "Input:<br>\n",
    "A: [1,2,3,2,1]<br>\n",
    "B: [3,2,1,4,7]<br>\n",
    "Output: 3<br>\n",
    "Explanation: <br>\n",
    "The repeated subarray with maximum length is [3, 2, 1].\n",
    " \n",
    "\n",
    "Note:\n",
    "\n",
    "1 <= len(A), len(B) <= 1000<br>\n",
    "0 <= A[i], B[i] < 100\n",
    " "
   ]
  },
  {
   "cell_type": "markdown",
   "metadata": {},
   "source": [
    "# Brainstorm\n",
    "\n"
   ]
  },
  {
   "cell_type": "code",
   "execution_count": 1,
   "metadata": {},
   "outputs": [],
   "source": [
    "memo = [[0, 1, 1], [2, 3, 4]]"
   ]
  },
  {
   "cell_type": "code",
   "execution_count": 5,
   "metadata": {},
   "outputs": [
    {
     "data": {
      "text/plain": [
       "4"
      ]
     },
     "execution_count": 5,
     "metadata": {},
     "output_type": "execute_result"
    }
   ],
   "source": [
    "max(max(row) for row in memo)"
   ]
  },
  {
   "cell_type": "code",
   "execution_count": null,
   "metadata": {},
   "outputs": [],
   "source": [
    "class Solution:\n",
    "    def findLength(self, A: List[int], B: List[int]) -> int:\n",
    "        \n",
    "        if not A or not B:\n",
    "            return 0\n",
    "        \n",
    "        memo = [[0] * (len(B) + 1 ) for row in range (len(A) + 1)]\n",
    "        \n",
    "        for i in range(len(A)-1, -1, -1):\n",
    "            for j in range(len(B)-1, -1, -1):\n",
    "                if A[i] == B[j]:\n",
    "                    memo[i][j] = memo[i+1][j+1] + 1\n",
    "                    \n",
    "        # max number in the matrix\n",
    "        max_length = 0\n",
    "        for row_num in range(len(memo)):\n",
    "            for col_num in range(len(memo[0])):\n",
    "                max_length = max(memo[row_num][col_num], max_length)\n",
    "                \n",
    "        return max_length"
   ]
  }
 ],
 "metadata": {
  "kernelspec": {
   "display_name": "Python 3",
   "language": "python",
   "name": "python3"
  },
  "language_info": {
   "codemirror_mode": {
    "name": "ipython",
    "version": 3
   },
   "file_extension": ".py",
   "mimetype": "text/x-python",
   "name": "python",
   "nbconvert_exporter": "python",
   "pygments_lexer": "ipython3",
   "version": "3.6.5"
  }
 },
 "nbformat": 4,
 "nbformat_minor": 2
}
