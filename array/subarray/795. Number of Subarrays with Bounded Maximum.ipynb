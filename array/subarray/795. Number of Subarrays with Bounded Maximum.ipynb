{
 "cells": [
  {
   "cell_type": "markdown",
   "metadata": {},
   "source": [
    "# Problem\n",
    "\n",
    "We are given an array A of positive integers, and two positive integers L and R (L <= R).\n",
    "\n",
    "Return the number of (contiguous, non-empty) subarrays such that the value of the maximum array element in that subarray is at least L and at most R.\n",
    "\n",
    "Example :<br>\n",
    "Input: <br>\n",
    "A = [2, 1, 4, 3]<br>\n",
    "L = 2<br>\n",
    "R = 3<br>\n",
    "Output: 3<br>\n",
    "Explanation: There are three subarrays that meet the requirements: [2], [2, 1], [3].<br>\n",
    "\n",
    "Note:\n",
    "\n",
    "L, R  and A[i] will be an integer in the range [0, 10^9].<br>\n",
    "The length of A will be in the range of [1, 50000]."
   ]
  }
 ],
 "metadata": {
  "kernelspec": {
   "display_name": "Python 3",
   "language": "python",
   "name": "python3"
  },
  "language_info": {
   "codemirror_mode": {
    "name": "ipython",
    "version": 3
   },
   "file_extension": ".py",
   "mimetype": "text/x-python",
   "name": "python",
   "nbconvert_exporter": "python",
   "pygments_lexer": "ipython3",
   "version": "3.6.5"
  }
 },
 "nbformat": 4,
 "nbformat_minor": 2
}
