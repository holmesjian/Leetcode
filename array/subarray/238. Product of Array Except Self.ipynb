{
 "cells": [
  {
   "cell_type": "markdown",
   "metadata": {},
   "source": [
    "# 238. Product of Array Except Self\n",
    "\n",
    "Given an array nums of n integers where n > 1,  return an array output such that output[i] is equal to the product of all the elements of nums except nums[i].\n",
    "\n",
    "Example:\n",
    "Input:  [1,2,3,4]<br>\n",
    "Output: [24,12,8,6]<br>\n",
    "Note: Please solve it without division and in O(n).\n",
    "\n",
    "Follow up:\n",
    "Could you solve it with constant space complexity? (The output array does not count as extra space for the purpose of space complexity analysis.)"
   ]
  },
  {
   "cell_type": "markdown",
   "metadata": {},
   "source": [
    "# Brainstorm\n",
    "\n",
    "For each number, we compute the product of the elements on its left through iterating the indices, and the product of the elements on its right through iteration. Then times the two products.\n",
    "- Time O(N^2). Space O(N) to store the product array.\n",
    "\n",
    "Can we reduce the time? Then we have to think of ways to store the products along the way. And probably we have to do multiple iterations.\n"
   ]
  },
  {
   "cell_type": "markdown",
   "metadata": {},
   "source": [
    "# Solution 1\n",
    "##### left and right product arrays"
   ]
  },
  {
   "cell_type": "code",
   "execution_count": null,
   "metadata": {},
   "outputs": [],
   "source": [
    "class Solution:\n",
    "    def productExceptSelf(self, nums: List[int]) -> List[int]:\n",
    "        \n",
    "        if not nums:\n",
    "            return []\n",
    "        \n",
    "        length = len(nums)\n",
    "        left_products = [1] * length\n",
    "        right_products = [1] * length\n",
    "        \n",
    "        # Compute products to the left of nums[i]\n",
    "        for i in range(1, length):\n",
    "            left_products[i] = left_products[i-1] * nums[i-1]\n",
    "        \n",
    "        # Similarly, compute products to the right of nums[j]\n",
    "        for j in range(length-2, -1, -1):\n",
    "            right_products[j] = right_products[j+1] * nums[j+1]\n",
    "            \n",
    "            \n",
    "        products = [left * right for left, right in zip(left_products, right_products)]\n",
    "        \n",
    "        return products"
   ]
  },
  {
   "cell_type": "markdown",
   "metadata": {},
   "source": [
    "# Solution 2\n",
    "##### left product array and right product variable"
   ]
  },
  {
   "cell_type": "code",
   "execution_count": null,
   "metadata": {},
   "outputs": [],
   "source": [
    "class Solution:\n",
    "    def productExceptSelf(self, nums: List[int]) -> List[int]:\n",
    "        \n",
    "        if not nums:\n",
    "            return []\n",
    "        \n",
    "        length = len(nums)\n",
    "        products = [1] * length\n",
    "\n",
    "        # Compute products to the left of nums[i]\n",
    "        for i in range(1, length):\n",
    "            products[i] = products[i-1] * nums[i-1]\n",
    "        \n",
    "        \n",
    "        right_product = 1\n",
    "        for j in range(length-2, -1, -1):\n",
    "            right_product *= nums[j+1]\n",
    "            products[j] *= right_product\n",
    "        \n",
    "        return products"
   ]
  }
 ],
 "metadata": {
  "kernelspec": {
   "display_name": "Python 3",
   "language": "python",
   "name": "python3"
  },
  "language_info": {
   "codemirror_mode": {
    "name": "ipython",
    "version": 3
   },
   "file_extension": ".py",
   "mimetype": "text/x-python",
   "name": "python",
   "nbconvert_exporter": "python",
   "pygments_lexer": "ipython3",
   "version": "3.6.5"
  }
 },
 "nbformat": 4,
 "nbformat_minor": 2
}
