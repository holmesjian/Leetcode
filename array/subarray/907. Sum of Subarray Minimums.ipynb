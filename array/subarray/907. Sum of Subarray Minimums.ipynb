{
 "cells": [
  {
   "cell_type": "markdown",
   "metadata": {},
   "source": [
    "# Problem\n",
    "\n",
    "Given an array of integers A, find the sum of min(B), where B ranges over every (contiguous) subarray of A.\n",
    "\n",
    "Since the answer may be large, return the answer modulo 10^9 + 7.\n",
    "\n",
    " \n",
    "\n",
    "Example 1:<br>\n",
    "\n",
    "Input: [3,1,2,4]<br>\n",
    "Output: 17<br>\n",
    "Explanation: Subarrays are [3], [1], [2], [4], [3,1], [1,2], [2,4], [3,1,2], [1,2,4], [3,1,2,4]. <br>\n",
    "Minimums are 3, 1, 2, 4, 1, 1, 2, 1, 1, 1.  Sum is 17.<br>\n",
    " \n",
    "\n",
    "Note:\n",
    "\n",
    "1 <= A.length <= 30000<br>\n",
    "1 <= A[i] <= 30000"
   ]
  }
 ],
 "metadata": {
  "kernelspec": {
   "display_name": "Python 3",
   "language": "python",
   "name": "python3"
  },
  "language_info": {
   "codemirror_mode": {
    "name": "ipython",
    "version": 3
   },
   "file_extension": ".py",
   "mimetype": "text/x-python",
   "name": "python",
   "nbconvert_exporter": "python",
   "pygments_lexer": "ipython3",
   "version": "3.6.5"
  }
 },
 "nbformat": 4,
 "nbformat_minor": 2
}
