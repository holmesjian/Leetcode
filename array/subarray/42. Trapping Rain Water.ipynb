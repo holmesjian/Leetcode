{
 "cells": [
  {
   "cell_type": "markdown",
   "metadata": {},
   "source": [
    "# 42. Trapping Rain Water\n",
    "\n",
    "Given n non-negative integers representing an elevation map where the width of each bar is 1, compute how much water it is able to trap after raining.\n",
    "<img src='./images/rainwatertrap.png'>\n",
    "The above elevation map is represented by array [0,1,0,2,1,0,1,3,2,1,2,1]. In this case, 6 units of rain water (blue section) are being trapped. Thanks Marcos for contributing this image!\n",
    "\n",
    "Example:<br>\n",
    "Input: [0,1,0,2,1,0,1,3,2,1,2,1]<br>\n",
    "Output: 6"
   ]
  },
  {
   "cell_type": "markdown",
   "metadata": {},
   "source": [
    "# Brainstorm\n",
    "\n",
    "Two pointers left and right from both ends\n",
    "- If height at left is smaller than height at right, we calculate water from left; we also move left pointer because the water is limited by lower bar. (imagine all middle bars removed).\n",
    "- we calculate area above each bar. "
   ]
  },
  {
   "cell_type": "markdown",
   "metadata": {},
   "source": [
    "# Solution 1\n",
    "##### histogram"
   ]
  },
  {
   "cell_type": "code",
   "execution_count": null,
   "metadata": {},
   "outputs": [],
   "source": [
    "def findWater(arr, n): \n",
    "  \n",
    "    # left[i] contains height of tallest bar to the \n",
    "    # left of i'th bar including itself \n",
    "    left = [0]*n \n",
    "  \n",
    "    # Right [i] contains height of tallest bar to \n",
    "    # the right of ith bar including itself \n",
    "    right = [0]*n \n",
    "  \n",
    "    # Initialize result \n",
    "    water = 0\n",
    "  \n",
    "    # Fill left array \n",
    "    left[0] = arr[0] \n",
    "    for i in range( 1, n): \n",
    "        left[i] = max(left[i-1], arr[i]) \n",
    "  \n",
    "    # Fill right array \n",
    "    right[n-1] = arr[n-1] \n",
    "    for i in range(n-2, -1, -1): \n",
    "        right[i] = max(right[i+1], arr[i]); \n",
    "  \n",
    "    # Calculate the accumulated water element by element \n",
    "    # consider the amount of water on i'th bar, the \n",
    "    # amount of water accumulated on this particular \n",
    "    # bar will be equal to min(left[i], right[i]) - arr[i] . \n",
    "    for i in range(0, n): \n",
    "        water += min(left[i],right[i]) - arr[i] \n",
    "  \n",
    "    return water "
   ]
  },
  {
   "cell_type": "markdown",
   "metadata": {},
   "source": [
    "# Solution 2\n",
    "##### two pointers"
   ]
  },
  {
   "cell_type": "code",
   "execution_count": null,
   "metadata": {},
   "outputs": [],
   "source": [
    "class Solution:\n",
    "    def trap(self, height: List[int]) -> int:\n",
    "        left = 0 \n",
    "        right = len(height) - 1\n",
    "        left_max = 0\n",
    "        right_max = 0\n",
    "        area = 0\n",
    "        while left < right:\n",
    "            left_max = max(left_max, height[left])\n",
    "            right_max = max(right_max, height[right])\n",
    "            \n",
    "            if left_max < right_max:\n",
    "                left_area = left_max - height[left]\n",
    "                area += left_area\n",
    "                left += 1\n",
    "            \n",
    "            else:\n",
    "                right_area = right_max - height[right]\n",
    "                area += right_area\n",
    "                right -= 1\n",
    "        \n",
    "        return area"
   ]
  }
 ],
 "metadata": {
  "kernelspec": {
   "display_name": "Python 3",
   "language": "python",
   "name": "python3"
  },
  "language_info": {
   "codemirror_mode": {
    "name": "ipython",
    "version": 3
   },
   "file_extension": ".py",
   "mimetype": "text/x-python",
   "name": "python",
   "nbconvert_exporter": "python",
   "pygments_lexer": "ipython3",
   "version": "3.6.5"
  }
 },
 "nbformat": 4,
 "nbformat_minor": 2
}
