{
 "cells": [
  {
   "cell_type": "markdown",
   "metadata": {},
   "source": [
    "# Problem\n",
    "\n",
    "Given an integer array nums, find the contiguous subarray (containing at least one number) which has the largest sum and return its sum.\n",
    "\n",
    "Example:<br>\n",
    "\n",
    "Input: [-2,1,-3,4,-1,2,1,-5,4],<br>\n",
    "Output: 6<br>\n",
    "Explanation: [4,-1,2,1] has the largest sum = 6.<br>\n",
    "\n",
    "Follow up:\n",
    "\n",
    "If you have figured out the O(n) solution, try coding another solution using the divide and conquer approach, which is more subtle."
   ]
  },
  {
   "cell_type": "markdown",
   "metadata": {},
   "source": [
    "# Brainstorm\n",
    "\n",
    "How to handle negative numbers?\n",
    "- If it is at the start or the end of the array, ignore. It will not be in the maximum subarray.\n",
    "- If it is in between, store the previous positive number, keep computing the sum, if the sum is positive, include the previous subarray, if not, restart the subarray"
   ]
  },
  {
   "cell_type": "code",
   "execution_count": null,
   "metadata": {},
   "outputs": [],
   "source": [
    "class Solution:\n",
    "    def maxSubArray(self, nums: List[int]) -> int:\n",
    "        if not nums:\n",
    "            return 0\n",
    "        \n",
    "        # If all numbers are negative:\n",
    "        count_negative = 0\n",
    "        for num in nums:\n",
    "            if num < 0:\n",
    "                count_negative += 1\n",
    "        if count_negative == len(nums):\n",
    "            return max(nums)\n",
    "        \n",
    "        max_sum = 0\n",
    "        curr_sum = 0\n",
    "        for i in range(len(nums)):\n",
    "            if nums[i] >= 0:\n",
    "                curr_sum += nums[i]\n",
    "                max_sum = max(max_sum, curr_sum)\n",
    "            else:\n",
    "                if curr_sum + nums[i] < 0:\n",
    "                    curr_sum = 0\n",
    "                else:\n",
    "                    curr_sum += nums[i]\n",
    "                    \n",
    "        return max_sum"
   ]
  }
 ],
 "metadata": {
  "kernelspec": {
   "display_name": "Python 3",
   "language": "python",
   "name": "python3"
  },
  "language_info": {
   "codemirror_mode": {
    "name": "ipython",
    "version": 3
   },
   "file_extension": ".py",
   "mimetype": "text/x-python",
   "name": "python",
   "nbconvert_exporter": "python",
   "pygments_lexer": "ipython3",
   "version": "3.6.5"
  }
 },
 "nbformat": 4,
 "nbformat_minor": 2
}
