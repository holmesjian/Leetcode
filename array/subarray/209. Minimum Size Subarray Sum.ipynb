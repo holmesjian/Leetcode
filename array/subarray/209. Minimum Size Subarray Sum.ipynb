{
 "cells": [
  {
   "cell_type": "markdown",
   "metadata": {},
   "source": [
    "# Problem\n",
    "\n",
    "Given an array of n positive integers and a positive integer s, find the minimal length of a contiguous subarray of which the sum ≥ s. If there isn't one, return 0 instead.\n",
    "\n",
    "Example:<br>\n",
    "\n",
    "Input: s = 7, nums = [2,3,1,2,4,3]<br>\n",
    "Output: 2<br>\n",
    "Explanation: the subarray [4,3] has the minimal length under the problem constraint.<br>\n",
    "\n",
    "Follow up:<br>\n",
    "If you have figured out the O(n) solution, try coding another solution of which the time complexity is O(n log n). "
   ]
  },
  {
   "cell_type": "markdown",
   "metadata": {},
   "source": [
    "# Brainstorm\n",
    "\n",
    "Why given positive integers? compare with test cases when there are negative numbers and zeroes.\n",
    "\n"
   ]
  },
  {
   "cell_type": "code",
   "execution_count": null,
   "metadata": {},
   "outputs": [],
   "source": [
    "class Solution:\n",
    "    def minSubArrayLen(self, s: int, nums: List[int]) -> int:\n",
    "        if not nums or not s:\n",
    "            return 0\n",
    "        \n",
    "        min_length = float('inf')\n",
    "        for i in range(len(nums)):\n",
    "            curr_sum = 0\n",
    "            for j in range(i, len(nums)):\n",
    "                curr_sum += nums[j]\n",
    "                if curr_sum >= s:\n",
    "                    length = j - i + 1\n",
    "                    min_length = min(min_length, length)\n",
    "                    break\n",
    "        \n",
    "        if min_length == float('inf'):\n",
    "            return 0\n",
    "        else:\n",
    "            return min_length"
   ]
  }
 ],
 "metadata": {
  "kernelspec": {
   "display_name": "Python 3",
   "language": "python",
   "name": "python3"
  },
  "language_info": {
   "codemirror_mode": {
    "name": "ipython",
    "version": 3
   },
   "file_extension": ".py",
   "mimetype": "text/x-python",
   "name": "python",
   "nbconvert_exporter": "python",
   "pygments_lexer": "ipython3",
   "version": "3.6.5"
  }
 },
 "nbformat": 4,
 "nbformat_minor": 2
}
