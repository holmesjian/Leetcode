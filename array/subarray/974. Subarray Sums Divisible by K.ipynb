{
 "cells": [
  {
   "cell_type": "markdown",
   "metadata": {},
   "source": [
    "# Problem\n",
    "\n",
    "Given an array A of integers, return the number of (contiguous, non-empty) subarrays that have a sum divisible by K.\n",
    "\n",
    "\n",
    "Example 1:<br>\n",
    "\n",
    "Input: A = [4,5,0,-2,-3,1], K = 5<br>\n",
    "Output: 7<br>\n",
    "Explanation: There are 7 subarrays with a sum divisible by K = 5:<br>\n",
    "[4, 5, 0, -2, -3, 1], [5], [5, 0], [5, 0, -2, -3], [0], [0, -2, -3], [-2, -3]<br>\n",
    " \n",
    "\n",
    "Note:\n",
    "\n",
    "1 <= A.length <= 30000<br>\n",
    "-10000 <= A[i] <= 10000<br>\n",
    "2 <= K <= 10000"
   ]
  },
  {
   "cell_type": "code",
   "execution_count": null,
   "metadata": {},
   "outputs": [],
   "source": [
    "class Solution:\n",
    "    def subarraysDivByK(self, A: List[int], K: int) -> int:\n",
    "        \n",
    "        subarray_sum = {0: 1}\n",
    "        count = 0\n",
    "        curr_sum = 0\n",
    "        for num in A:\n",
    "            curr_sum += num\n",
    "            if curr_sum % K in subarray_sum:\n",
    "                count += subarray_sum[curr_sum % K]\n",
    "            subarray_sum[curr_sum % K] = subarray_sum.get(curr_sum % K, 0) + 1\n",
    "        return count"
   ]
  }
 ],
 "metadata": {
  "kernelspec": {
   "display_name": "Python 3",
   "language": "python",
   "name": "python3"
  },
  "language_info": {
   "codemirror_mode": {
    "name": "ipython",
    "version": 3
   },
   "file_extension": ".py",
   "mimetype": "text/x-python",
   "name": "python",
   "nbconvert_exporter": "python",
   "pygments_lexer": "ipython3",
   "version": "3.6.5"
  }
 },
 "nbformat": 4,
 "nbformat_minor": 2
}
