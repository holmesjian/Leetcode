{
 "cells": [
  {
   "cell_type": "markdown",
   "metadata": {},
   "source": [
    "# Problem\n",
    "\n",
    "Say you have an array prices for which the ith element is the price of a given stock on day i.\n",
    "\n",
    "Design an algorithm to find the maximum profit. You may complete as many transactions as you like (i.e., buy one and sell one share of the stock multiple times).\n",
    "\n",
    "Note: You may not engage in multiple transactions at the same time (i.e., you must sell the stock before you buy again).\n",
    "\n",
    "Example 1:<br>\n",
    "\n",
    "Input: [7,1,5,3,6,4]<br>\n",
    "Output: 7<br>\n",
    "Explanation: Buy on day 2 (price = 1) and sell on day 3 (price = 5), profit = 5-1 = 4.\n",
    "             Then buy on day 4 (price = 3) and sell on day 5 (price = 6), profit = 6-3 = 3.\n",
    "Example 2:<br>\n",
    "\n",
    "Input: [1,2,3,4,5]<br>\n",
    "Output: 4<br>\n",
    "Explanation: Buy on day 1 (price = 1) and sell on day 5 (price = 5), profit = 5-1 = 4.\n",
    "             Note that you cannot buy on day 1, buy on day 2 and sell them later, as you are\n",
    "             engaging multiple transactions at the same time. You must sell before buying again.\n",
    "\n",
    "Example 3:<br>\n",
    "\n",
    "Input: [7,6,4,3,1]<br>\n",
    "Output: 0\n",
    "Explanation: In this case, no transaction is done, i.e. max profit = 0.\n",
    " \n",
    "\n",
    "Constraints:\n",
    "\n",
    "1 <= prices.length <= 3 * 10 ^ 4\n",
    "0 <= prices[i] <= 10 ^ 4"
   ]
  },
  {
   "cell_type": "markdown",
   "metadata": {},
   "source": [
    "# Solution"
   ]
  },
  {
   "cell_type": "code",
   "execution_count": null,
   "metadata": {},
   "outputs": [],
   "source": [
    "class Solution:\n",
    "    def maxProfit(self, prices: List[int]) -> int:\n",
    "        \n",
    "        buy = 0\n",
    "        sell = -1 # in case no sell until the end of the array\n",
    "        profits = 0\n",
    "        i = 0\n",
    "        while i < len(prices):\n",
    "            # Buy first, then sell\n",
    "            while i + 1 < len(prices) and prices[i+1] < prices[i]:\n",
    "                buy = i + 1\n",
    "                i += 1\n",
    "            \n",
    "            while i + 1 < len(prices) and prices[i+1] >= prices[i]:\n",
    "                sell = i + 1\n",
    "                i += 1\n",
    "            \n",
    "        \n",
    "            profits += prices[sell] - prices[buy]\n",
    "            i += 1\n",
    "            buy = i\n",
    "            sell = -1\n",
    "        \n",
    "        return profits"
   ]
  }
 ],
 "metadata": {
  "kernelspec": {
   "display_name": "Python 3",
   "language": "python",
   "name": "python3"
  },
  "language_info": {
   "codemirror_mode": {
    "name": "ipython",
    "version": 3
   },
   "file_extension": ".py",
   "mimetype": "text/x-python",
   "name": "python",
   "nbconvert_exporter": "python",
   "pygments_lexer": "ipython3",
   "version": "3.6.5"
  }
 },
 "nbformat": 4,
 "nbformat_minor": 2
}
