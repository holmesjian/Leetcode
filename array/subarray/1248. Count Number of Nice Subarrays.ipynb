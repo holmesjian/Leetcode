{
 "cells": [
  {
   "cell_type": "markdown",
   "metadata": {},
   "source": [
    "# Problem\n",
    "\n",
    "Given an array of integers nums and an integer k. A subarray is called nice if there are k odd numbers on it.\n",
    "\n",
    "Return the number of nice sub-arrays.<br>\n",
    "\n",
    " \n",
    "\n",
    "Example 1:<br>\n",
    "\n",
    "Input: nums = [1,1,2,1,1], k = 3<br>\n",
    "Output: 2<br>\n",
    "Explanation: The only sub-arrays with 3 odd numbers are [1,1,2,1] and [1,2,1,1].<br>\n",
    "\n",
    "Example 2:\n",
    "\n",
    "Input: nums = [2,4,6], k = 1<br>\n",
    "Output: 0<br>\n",
    "Explanation: There is no odd numbers in the array.<br>\n",
    "\n",
    "Example 3:\n",
    "\n",
    "Input: nums = [2,2,2,1,2,2,1,2,2,2], k = 2<br>\n",
    "Output: 16<br>\n",
    " \n",
    "\n",
    "Constraints:\n",
    "\n",
    "1 <= nums.length <= 50000<br>\n",
    "1 <= nums[i] <= 10^5<br>\n",
    "1 <= k <= nums.length<br>"
   ]
  }
 ],
 "metadata": {
  "kernelspec": {
   "display_name": "Python 3",
   "language": "python",
   "name": "python3"
  },
  "language_info": {
   "codemirror_mode": {
    "name": "ipython",
    "version": 3
   },
   "file_extension": ".py",
   "mimetype": "text/x-python",
   "name": "python",
   "nbconvert_exporter": "python",
   "pygments_lexer": "ipython3",
   "version": "3.6.5"
  }
 },
 "nbformat": 4,
 "nbformat_minor": 2
}
