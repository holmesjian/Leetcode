{
 "cells": [
  {
   "cell_type": "markdown",
   "metadata": {},
   "source": [
    "# Problem\n",
    "\n",
    "Given an unsorted integer array, find the smallest missing positive integer.<br>\n",
    "\n",
    "Example 1:<br>\n",
    "\n",
    "Input: [1,2,0]<br>\n",
    "Output: 3<br>\n",
    "\n",
    "Example 2:<br>\n",
    "\n",
    "Input: [3,4,-1,1]<br>\n",
    "Output: 2<br>\n",
    "\n",
    "Example 3:<br>\n",
    "\n",
    "Input: [7,8,9,11,12]<br>\n",
    "Output: 1<br>\n",
    "\n",
    "Note:<br>\n",
    "Your algorithm should run in O(n) time and uses constant extra space."
   ]
  },
  {
   "cell_type": "markdown",
   "metadata": {},
   "source": [
    "# Brainstorm\n",
    "\n",
    "Start with a brute force\n",
    "- Sort the array.\n",
    "- For the positive part of the array, compare it with a set containing 1 to max of the positive array.\n",
    "- Remove numbers from the array that are also present in the set\n",
    "- The smallest number in the set is now what we want.\n",
    "\n",
    "First, can we reduce the search space?\n",
    "- If the array is all positive from 1 to length - 1, the smallest missing positive is between 1 and n + 1.\n",
    "\n",
    "Can we eliminate the set?\n",
    "- if the array is [5, 2, 4], the set will be just {1, 2, 3, 4}\n",
    "- It seems that the set is like the index of an array.\n"
   ]
  },
  {
   "cell_type": "code",
   "execution_count": 1,
   "metadata": {},
   "outputs": [],
   "source": [
    "nums = [1, 2]\n",
    "nums.insert(0, 0)"
   ]
  },
  {
   "cell_type": "code",
   "execution_count": 2,
   "metadata": {},
   "outputs": [
    {
     "data": {
      "text/plain": [
       "[0, 1, 2]"
      ]
     },
     "execution_count": 2,
     "metadata": {},
     "output_type": "execute_result"
    }
   ],
   "source": [
    "nums"
   ]
  }
 ],
 "metadata": {
  "kernelspec": {
   "display_name": "Python 3",
   "language": "python",
   "name": "python3"
  },
  "language_info": {
   "codemirror_mode": {
    "name": "ipython",
    "version": 3
   },
   "file_extension": ".py",
   "mimetype": "text/x-python",
   "name": "python",
   "nbconvert_exporter": "python",
   "pygments_lexer": "ipython3",
   "version": "3.6.5"
  }
 },
 "nbformat": 4,
 "nbformat_minor": 2
}
