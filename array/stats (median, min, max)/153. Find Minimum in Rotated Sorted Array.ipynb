{
 "cells": [
  {
   "cell_type": "markdown",
   "metadata": {},
   "source": [
    "# Problem \n",
    "\n",
    "Suppose an array sorted in ascending order is rotated at some pivot unknown to you beforehand.<br>\n",
    "\n",
    "(i.e.,  [0,1,2,4,5,6,7] might become  [4,5,6,7,0,1,2]).<br>\n",
    "\n",
    "Find the minimum element.<br>\n",
    "\n",
    "You may assume no duplicate exists in the array.<br>\n",
    "\n",
    "Example 1:<br>\n",
    "\n",
    "Input: [3,4,5,1,2] <br>\n",
    "Output: 1<br>\n",
    "\n",
    "Example 2:<br>\n",
    "\n",
    "Input: [4,5,6,7,0,1,2]<br>\n",
    "Output: 0"
   ]
  },
  {
   "cell_type": "markdown",
   "metadata": {},
   "source": [
    "# Brainstorm\n",
    "\n"
   ]
  }
 ],
 "metadata": {
  "kernelspec": {
   "display_name": "Python 3",
   "language": "python",
   "name": "python3"
  },
  "language_info": {
   "codemirror_mode": {
    "name": "ipython",
    "version": 3
   },
   "file_extension": ".py",
   "mimetype": "text/x-python",
   "name": "python",
   "nbconvert_exporter": "python",
   "pygments_lexer": "ipython3",
   "version": "3.6.5"
  }
 },
 "nbformat": 4,
 "nbformat_minor": 2
}
