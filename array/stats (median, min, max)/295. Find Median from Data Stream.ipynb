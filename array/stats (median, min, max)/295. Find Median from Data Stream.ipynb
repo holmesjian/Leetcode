{
 "cells": [
  {
   "cell_type": "markdown",
   "metadata": {},
   "source": [
    "# Problem\n",
    "\n",
    "Median is the middle value in an ordered integer list. If the size of the list is even, there is no middle value. So the median is the mean of the two middle value.\n",
    "\n",
    "For example,<br>\n",
    "[2,3,4], the median is 3<br>\n",
    "\n",
    "[2,3], the median is (2 + 3) / 2 = 2.5<br>\n",
    "\n",
    "Design a data structure that supports the following two operations:\n",
    "\n",
    "- void addNum(int num) - Add a integer number from the data stream to the data structure.\n",
    "- double findMedian() - Return the median of all elements so far.\n",
    " \n",
    "\n",
    "Example:<br>\n",
    "addNum(1)<br>\n",
    "addNum(2)<br>\n",
    "findMedian() -> 1.5<br>\n",
    "addNum(3) <br>\n",
    "findMedian() -> 2<br>\n",
    " \n",
    "\n",
    "Follow up:\n",
    "- If all integer numbers from the stream are between 0 and 100, how would you optimize it?\n",
    "- If 99% of all integer numbers from the stream are between 0 and 100, how would you optimize it?"
   ]
  },
  {
   "cell_type": "markdown",
   "metadata": {},
   "source": [
    "Approach 1: Brute force\n",
    "- store the element in a resizable container. Everytime you need to output the median, sort the container and output the median"
   ]
  },
  {
   "cell_type": "code",
   "execution_count": null,
   "metadata": {},
   "outputs": [],
   "source": [
    "class MedianFinder:\n",
    "\n",
    "    def __init__(self):\n",
    "        \"\"\"\n",
    "        initialize your data structure here.\n",
    "        \"\"\"\n",
    "        self.container = []\n",
    "\n",
    "    def addNum(self, num: int) -> None:\n",
    "        self.container.append(num)\n",
    "\n",
    "    def findMedian(self) -> float:\n",
    "        self.container.sort()\n",
    "        \n",
    "        if len(self.container) % 2 == 0:\n",
    "            median_index_left = int(len(self.container) / 2 - 1)\n",
    "            median_index_right = int(len(self.container) / 2)\n",
    "            median = (self.container[median_index_left] + self.container[median_index_right]) / 2\n",
    "        else:\n",
    "            median_index = int(len(self.container) // 2)\n",
    "            median = self.container[median_index]\n",
    "        return median\n",
    "            \n",
    "\n",
    "\n",
    "# Your MedianFinder object will be instantiated and called as such:\n",
    "# obj = MedianFinder()\n",
    "# obj.addNum(num)\n",
    "# param_2 = obj.findMedian()"
   ]
  },
  {
   "cell_type": "markdown",
   "metadata": {},
   "source": [
    "Time complexity: O(nlogn)+O(1)≃O(nlogn).\n",
    "\n",
    "Adding a number takes amortized O(1)O(1) time for a container with an efficient resizing scheme.\n",
    "Finding the median is primarily dependent on the sorting that takes place. This takes O(n\\log n)O(nlogn) time for a standard comparative sort.\n",
    "Space complexity: O(n)O(n) linear space to hold input in a container. No extra space other than that needed (since sorting can usually be done in-place)."
   ]
  },
  {
   "cell_type": "markdown",
   "metadata": {},
   "source": [
    "Approach 2: insertion sort using binary search"
   ]
  },
  {
   "cell_type": "code",
   "execution_count": null,
   "metadata": {},
   "outputs": [],
   "source": [
    "class MedianFinder:\n",
    "\n",
    "    def __init__(self):\n",
    "        \"\"\"\n",
    "        initialize your data structure here.\n",
    "        \"\"\"\n",
    "        self.nums = []\n",
    "        \n",
    "    def addNum(self, num: int) -> None:\n",
    "        if not self.nums:\n",
    "            self.nums.append(num)\n",
    "            return \n",
    "        l = 0\n",
    "        r = len(self.nums)-1\n",
    "        while l < r:\n",
    "            m = (l+r)//2\n",
    "            if self.nums[m] == num:\n",
    "                self.nums.insert(m,num)\n",
    "                return \n",
    "            elif self.nums[m] < num:\n",
    "                l = m+1\n",
    "            else:\n",
    "                r = m-1      \n",
    "        if self.nums[l] < num:\n",
    "            self.nums.insert(l+1,num)\n",
    "        else:\n",
    "            self.nums.insert(l,num)\n",
    "\n",
    "    def findMedian(self) -> float:\n",
    "        mid = (0 + len(self.nums)-1 )//2\n",
    "        if (len(self.nums)-1) & 1:\n",
    "            return (self.nums[mid] + self.nums[mid+1])/2\n",
    "        else:\n",
    "            return self.nums[mid]"
   ]
  },
  {
   "cell_type": "markdown",
   "metadata": {},
   "source": [
    "Approach 3: heap\n",
    "- Time complexity: O(logn)"
   ]
  },
  {
   "cell_type": "code",
   "execution_count": null,
   "metadata": {},
   "outputs": [],
   "source": [
    "import heapq\n",
    "\n",
    "class MedianFinder:\n",
    "    def __init__(self):\n",
    "        self.small = [] # max queue\n",
    "        self.large = [] # min queue\n",
    "\n",
    "    def addNum(self, num):\n",
    "        if len(self.small) == 0:\n",
    "            # max heap is the negative of min heap\n",
    "            heapq.heappush(self.small, -num)\n",
    "            return\n",
    "        \n",
    "        if num <= -self.small[0]:\n",
    "            # push to small part\n",
    "            heapq.heappush(self.small, -num)\n",
    "        else:\n",
    "            # push to large part\n",
    "            heapq.heappush(self.large, num)\n",
    "            \n",
    "        # adjust small and large balance\n",
    "        if len(self.small) - len(self.large) == 2:\n",
    "            heapq.heappush(self.large, -heapq.heappop(self.small))\n",
    "        elif len(self.small) - len(self.large) == -2:\n",
    "            heapq.heappush(self.small, -heapq.heappop(self.large))\n",
    "\n",
    "    def findMedian(self):\n",
    "        \"\"\"\n",
    "        Returns the median of current data stream\n",
    "        :rtype: float\n",
    "        \"\"\"\n",
    "        if len(self.small) == len(self.large):\n",
    "            return (self.large[0] - self.small[0]) / 2.0\n",
    "        \n",
    "        elif len(self.small) > len(self.large):\n",
    "            return -float(self.small[0])\n",
    "        else:\n",
    "            return float(self.large[0])"
   ]
  },
  {
   "cell_type": "markdown",
   "metadata": {},
   "source": [
    "Approach 4: BST"
   ]
  },
  {
   "cell_type": "markdown",
   "metadata": {},
   "source": [
    "Approach 5: binary tree"
   ]
  }
 ],
 "metadata": {
  "kernelspec": {
   "display_name": "Python 3",
   "language": "python",
   "name": "python3"
  },
  "language_info": {
   "codemirror_mode": {
    "name": "ipython",
    "version": 3
   },
   "file_extension": ".py",
   "mimetype": "text/x-python",
   "name": "python",
   "nbconvert_exporter": "python",
   "pygments_lexer": "ipython3",
   "version": "3.6.5"
  }
 },
 "nbformat": 4,
 "nbformat_minor": 2
}
