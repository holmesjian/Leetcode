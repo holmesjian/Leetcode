{
 "cells": [
  {
   "cell_type": "markdown",
   "metadata": {},
   "source": [
    "# Problem\n",
    "\n",
    "Given an array nums of n integers, are there elements a, b, c in nums such that a + b + c = 0? Find all unique triplets in the array which gives the sum of zero.<br>\n",
    "\n",
    "Note:<br>\n",
    "\n",
    "The solution set must not contain duplicate triplets.<br>\n",
    "\n",
    "Example:<br>\n",
    "\n",
    "Given array nums = [-1, 0, 1, 2, -1, -4],<br>\n",
    "\n",
    "A solution set is:<br>\n",
    "[<br>\n",
    "  [-1, 0, 1],<br>\n",
    "  [-1, -1, 2]<br>\n",
    "]"
   ]
  },
  {
   "cell_type": "markdown",
   "metadata": {},
   "source": [
    "# Brainstorm\n"
   ]
  },
  {
   "cell_type": "markdown",
   "metadata": {},
   "source": [
    "My wrong solution. It does not handle the case when there are two groups of two_sums. and does not handle duplicate three sums."
   ]
  },
  {
   "cell_type": "code",
   "execution_count": null,
   "metadata": {},
   "outputs": [],
   "source": [
    "class Solution:\n",
    "    def threeSum(self, nums: List[int]) -> List[List[int]]:\n",
    "        if len(nums) < 3:\n",
    "            return []\n",
    "        \n",
    "        if len(nums) == 3:\n",
    "            if sum(nums) == 0:\n",
    "                return [nums]\n",
    "            else:\n",
    "                return []\n",
    "        \n",
    "        three_sum = []    \n",
    "        for i in range(len(nums) - 3):\n",
    "            complement = 0 - nums[i]\n",
    "            two_sum_elements = self.two_sum(nums[i + 1:], complement)\n",
    "            if two_sum_elements:\n",
    "                two_sum_elements.append(nums[i])\n",
    "                three_sum += [two_sum_elements]\n",
    "                \n",
    "        return three_sum\n",
    "    \n",
    "    def two_sum(self, nums, target):\n",
    "        nums_set = set()\n",
    "        for num in nums:\n",
    "            complement = target - num\n",
    "            if complement in nums_set:\n",
    "                return [complement, num]\n",
    "            nums_set.add(num)"
   ]
  }
 ],
 "metadata": {
  "kernelspec": {
   "display_name": "Python 3",
   "language": "python",
   "name": "python3"
  },
  "language_info": {
   "codemirror_mode": {
    "name": "ipython",
    "version": 3
   },
   "file_extension": ".py",
   "mimetype": "text/x-python",
   "name": "python",
   "nbconvert_exporter": "python",
   "pygments_lexer": "ipython3",
   "version": "3.6.5"
  }
 },
 "nbformat": 4,
 "nbformat_minor": 2
}
