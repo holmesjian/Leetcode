{
 "cells": [
  {
   "cell_type": "markdown",
   "metadata": {},
   "source": [
    "Given an int array nums and an int target. Find two integers in nums such that the sum is closest to target.\n",
    "\n",
    "Example 1:<br>\n",
    "Input: nums = [1, 2, 3, 4, 5], target = 10<br>\n",
    "Output: [4, 5]<br>\n",
    "\n",
    "Example 2:<br>\n",
    "Input: nums= [-1, 2, 1, -4], target = 4<br>\n",
    "Output: [2, 1]<br>"
   ]
  },
  {
   "cell_type": "code",
   "execution_count": null,
   "metadata": {},
   "outputs": [],
   "source": []
  }
 ],
 "metadata": {
  "kernelspec": {
   "display_name": "Python 3",
   "language": "python",
   "name": "python3"
  },
  "language_info": {
   "codemirror_mode": {
    "name": "ipython",
    "version": 3
   },
   "file_extension": ".py",
   "mimetype": "text/x-python",
   "name": "python",
   "nbconvert_exporter": "python",
   "pygments_lexer": "ipython3",
   "version": "3.6.5"
  }
 },
 "nbformat": 4,
 "nbformat_minor": 2
}
