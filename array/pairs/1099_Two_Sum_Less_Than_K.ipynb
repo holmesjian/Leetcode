{
 "cells": [
  {
   "cell_type": "markdown",
   "metadata": {},
   "source": [
    "# Problem\n",
    "Given an array A of integers and integer K, return the maximum S such that there exists i < j with A[i] + A[j] = S and S < K. If no i, j exist satisfying this equation, return -1.\n",
    "\n",
    "Example 1:<br>\n",
    "Input: A = [34,23,1,24,75,33,54,8], K = 60<br>\n",
    "Output: 58<br>\n",
    "Explanation:<br>\n",
    "We can use 34 and 24 to sum 58 which is less than 60.<br>\n",
    "\n",
    "Example 2:<br>\n",
    "Input: A = [10,20,30], K = 15<br>\n",
    "Output: -1<br>\n",
    "Explanation: <br>\n",
    "In this case it's not possible to get a pair sum less that 15.\n",
    "\n",
    "Note:\n",
    "- 1 <= A.length <= 100\n",
    "- 1 <= A[i] <= 1000\n",
    "- 1 <= K <= 2000"
   ]
  },
  {
   "cell_type": "markdown",
   "metadata": {},
   "source": [
    "# Brainstorm\n",
    "Start with brute force solution\n",
    "- Calculate all sums.\n",
    "- Sort all sums.\n",
    "- Iterate the sums and stop when the sum exceeds K.\n",
    "- Return the previous sum.\n",
    "- Time O(N^2), space O(N)\n",
    "\n",
    "To reduce time, think of sorting\n",
    "- Sort the elements first.\n",
    "- Use two pointers. From the two ends of the array"
   ]
  },
  {
   "cell_type": "code",
   "execution_count": 1,
   "metadata": {},
   "outputs": [],
   "source": [
    "def twoSumLessThanK(A, K):\n",
    "    \n",
    "    A.sort()\n",
    "    \n",
    "    low = 0\n",
    "    high = len(A) - 1\n",
    "    \n",
    "    answer = -1\n",
    "    while low < high:\n",
    "        curr_sum = A[low] + A[high]\n",
    "        \n",
    "        if curr_sum < K:\n",
    "            answer = max(answer, curr_sum)\n",
    "            low += 1\n",
    "        \n",
    "        else:\n",
    "            high -= 1\n",
    "            \n",
    "    return answer       "
   ]
  }
 ],
 "metadata": {
  "kernelspec": {
   "display_name": "Python 3",
   "language": "python",
   "name": "python3"
  },
  "language_info": {
   "codemirror_mode": {
    "name": "ipython",
    "version": 3
   },
   "file_extension": ".py",
   "mimetype": "text/x-python",
   "name": "python",
   "nbconvert_exporter": "python",
   "pygments_lexer": "ipython3",
   "version": "3.6.5"
  }
 },
 "nbformat": 4,
 "nbformat_minor": 2
}
