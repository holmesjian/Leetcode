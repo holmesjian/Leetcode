{
 "cells": [
  {
   "cell_type": "markdown",
   "metadata": {},
   "source": [
    "# Problem\n",
    "Given an array of integers, return indices of the two numbers such that they add up to a specific target.\n",
    "\n",
    "You may assume that each input would have exactly one solution, and you may not use the same element twice.\n",
    "\n",
    "Example:<br>\n",
    "\n",
    "Given nums = [2, 7, 11, 15], target = 9,\n",
    "\n",
    "Because nums[0] + nums[1] = 2 + 7 = 9,\n",
    "return [0, 1]."
   ]
  },
  {
   "cell_type": "markdown",
   "metadata": {},
   "source": [
    "# Brainstorm\n",
    "##### Start with a brute force solution\n",
    "- Compute all possible sums. \n",
    "- This can be done by iterating the array and for each iteration, iterate the rest of the array again. \n",
    "- If the sum is equal to the target, we will return the indices of the elements. \n",
    "- Time O(N^2), space O(1).\n",
    "\n",
    "##### To reduce the time, we think of ways to trade space for time. So we need to store some kinds of values as we iterate.\n",
    "- During iteration, at a particular element, compute its complement, and check whether the complement is in the array.\n",
    "- For faster check, we store elements in a dictionary.\n",
    "- As there may be duplicate elements, we build the dictionary as we iterate and check.\n",
    "- This is to check previous elements as we iterate.\n",
    "- Time O(N), space O(N).\n",
    "\n",
    "##### To further reduce space, think of pointers\n",
    "- Sort the elements in ascending order. As we need to keep the original index, we have to use additional space.\n",
    "- Start pointer at the start of the array, end pointer at the end of the array\n",
    "- Compute the sum at the two pointers. If the sum is smaller than the target, increment the start pointer to increase sum. If the sum is larger than the target, decrement the end pointer to reduce the sum. If the sum equals the target, return the pointers.\n",
    "- When to stop iteration? start pointer equals end pointer.\n",
    "- Time O(N), space O(N)."
   ]
  },
  {
   "cell_type": "markdown",
   "metadata": {},
   "source": [
    "# Solution 1 \n",
    "#####  Brute force"
   ]
  },
  {
   "cell_type": "code",
   "execution_count": 1,
   "metadata": {},
   "outputs": [],
   "source": [
    "def two_sum(nums, target):\n",
    "    # edge cases\n",
    "    if not nums:\n",
    "        return []\n",
    "    \n",
    "    for i in range(len(nums)):\n",
    "        for j in range(i + 1, len(nums)):\n",
    "            if nums[i] + nums[j] == target:\n",
    "                return [i, j]"
   ]
  },
  {
   "cell_type": "markdown",
   "metadata": {},
   "source": [
    "# Solution 2 \n",
    "##### Hash table "
   ]
  },
  {
   "cell_type": "code",
   "execution_count": 2,
   "metadata": {},
   "outputs": [],
   "source": [
    "def two_sum(nums, target):\n",
    "    # edge cases\n",
    "    if not nums:\n",
    "        return []\n",
    "\n",
    "    nums_dict = {}\n",
    "    for i, num in enumerate(nums):\n",
    "        complement = target - num\n",
    "        if complement in nums_dict:\n",
    "            return [i, nums_dict[complement]] \n",
    "        nums_dict[num] = i"
   ]
  },
  {
   "cell_type": "markdown",
   "metadata": {},
   "source": [
    "# Solution 3\n",
    "##### Two pointer"
   ]
  },
  {
   "cell_type": "code",
   "execution_count": 3,
   "metadata": {},
   "outputs": [],
   "source": [
    "def two_sum(nums, target):\n",
    "    # edge cases\n",
    "    if not nums:\n",
    "        return []\n",
    "\n",
    "    nums_sort = [(num, index) for index, num in enumerate(nums)]\n",
    "    nums_sort.sort()\n",
    "\n",
    "    low = 0\n",
    "    high = len(nums) - 1\n",
    "\n",
    "    while low < high:\n",
    "        curr_sum = nums_sort[low][0] + nums_sort[high][0]\n",
    "        if curr_sum < target:\n",
    "            low += 1\n",
    "        elif curr_sum > target:\n",
    "            high -= 1\n",
    "        else:\n",
    "            return [nums_sort[low][1], nums_sort[high][1]]"
   ]
  },
  {
   "cell_type": "markdown",
   "metadata": {},
   "source": [
    "#### My wrong solution\n",
    "It does not pass the test case [3, 3], target = 6. This is because dictionary does not store duplicate keys."
   ]
  },
  {
   "cell_type": "code",
   "execution_count": 4,
   "metadata": {},
   "outputs": [],
   "source": [
    "def two_sum(nums, target):\n",
    "    # edge cases\n",
    "    if not nums:\n",
    "        return []\n",
    "\n",
    "    nums_dict = {num: index for index, num in enumerate(nums)}\n",
    "\n",
    "    for i, num in enumerate(nums):\n",
    "        nums_dict.pop(num)\n",
    "        complement = target - num\n",
    "        if complement in nums_dict:\n",
    "            return [i, nums_dict[complement]] "
   ]
  }
 ],
 "metadata": {
  "kernelspec": {
   "display_name": "Python 3",
   "language": "python",
   "name": "python3"
  },
  "language_info": {
   "codemirror_mode": {
    "name": "ipython",
    "version": 3
   },
   "file_extension": ".py",
   "mimetype": "text/x-python",
   "name": "python",
   "nbconvert_exporter": "python",
   "pygments_lexer": "ipython3",
   "version": "3.6.5"
  }
 },
 "nbformat": 4,
 "nbformat_minor": 2
}
