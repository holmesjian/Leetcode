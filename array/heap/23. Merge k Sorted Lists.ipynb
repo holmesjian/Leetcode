{
 "cells": [
  {
   "cell_type": "markdown",
   "metadata": {},
   "source": [
    "Merge k sorted linked lists and return it as one sorted list. Analyze and describe its complexity.\n",
    "\n",
    "Example:\n",
    "\n",
    "Input:<br>\n",
    "1->4->5<br>\n",
    "1->3->4<br>\n",
    "2->6<br>\n",
    "Output:<br>\n",
    "1->1->2->3->4->4->5->6"
   ]
  },
  {
   "cell_type": "markdown",
   "metadata": {},
   "source": [
    "1. Clarify the question\n",
    "\n",
    "So we are given k linked lists, which are sorted, and we need to return one sorted linked list.\n",
    "\n",
    "Assumptions: - duplicate values?"
   ]
  },
  {
   "cell_type": "markdown",
   "metadata": {},
   "source": [
    "2. Input and output"
   ]
  },
  {
   "cell_type": "markdown",
   "metadata": {},
   "source": [
    "3. test cases and edge cases"
   ]
  },
  {
   "cell_type": "markdown",
   "metadata": {},
   "source": [
    "4. Brainstorming\n",
    "\n",
    "If we just want to merge 2 linked lists, think of merge sort. we can just compare Node1 and Node2\n",
    "\n",
    "But if we want to generalize to k linked lists, how to make the comparison?\n"
   ]
  }
 ],
 "metadata": {
  "kernelspec": {
   "display_name": "Python 3",
   "language": "python",
   "name": "python3"
  },
  "language_info": {
   "codemirror_mode": {
    "name": "ipython",
    "version": 3
   },
   "file_extension": ".py",
   "mimetype": "text/x-python",
   "name": "python",
   "nbconvert_exporter": "python",
   "pygments_lexer": "ipython3",
   "version": "3.6.5"
  }
 },
 "nbformat": 4,
 "nbformat_minor": 2
}
