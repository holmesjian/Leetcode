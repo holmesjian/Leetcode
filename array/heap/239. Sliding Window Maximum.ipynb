{
 "cells": [
  {
   "cell_type": "markdown",
   "metadata": {},
   "source": [
    "Given an array nums, there is a sliding window of size k which is moving from the very left of the array to the very right. You can only see the k numbers in the window. Each time the sliding window moves right by one position. Return the max sliding window.\n",
    "\n",
    "Example:<br>\n",
    "Input: nums = [1,3,-1,-3,5,3,6,7], and k = 3 <br>\n",
    "Output: [3,3,5,5,6,7] <br>\n",
    "Explanation:<br>\n",
    "\n",
    "| Window position | Max |\n",
    "| --- | --- | \n",
    "| [1  3  -1] -3  5  3  6  7  | 3 | \n",
    "| 1 [3  -1  -3] 5  3  6  7  | 3 | \n",
    "| 1  3 [-1  -3  5] 3  6  7    | 5 | \n",
    "| 1  3  -1 [-3  5  3] 6  7   | 5 | \n",
    "|  1  3  -1  -3 [5  3  6] 7    | 6 | \n",
    "|1  3  -1  -3  5 [3  6  7]  | 7 | "
   ]
  }
 ],
 "metadata": {
  "kernelspec": {
   "display_name": "Python 3",
   "language": "python",
   "name": "python3"
  },
  "language_info": {
   "codemirror_mode": {
    "name": "ipython",
    "version": 3
   },
   "file_extension": ".py",
   "mimetype": "text/x-python",
   "name": "python",
   "nbconvert_exporter": "python",
   "pygments_lexer": "ipython3",
   "version": "3.6.5"
  }
 },
 "nbformat": 4,
 "nbformat_minor": 2
}
