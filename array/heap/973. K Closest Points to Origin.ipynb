{
 "cells": [
  {
   "cell_type": "markdown",
   "metadata": {},
   "source": [
    "# Problem\n",
    "\n",
    "We have a list of points on the plane.  Find the K closest points to the origin (0, 0). (Here, the distance between two points on a plane is the Euclidean distance.) You may return the answer in any order.  The answer is guaranteed to be unique (except for the order that it is in.)\n",
    "\n",
    " \n",
    "\n",
    "Example 1:<br>\n",
    "Input: points = [[1,3],[-2,2]], K = 1<br>\n",
    "Output: [[-2,2]]<br>\n",
    "\n",
    "Example 2:<br>\n",
    "Input: points = [[3,3],[5,-1],[-2,4]], K = 2<br>\n",
    "Output: [[3,3],[-2,4]]<br>\n",
    "(The answer [[-2,4],[3,3]] would also be accepted.)"
   ]
  },
  {
   "cell_type": "code",
   "execution_count": null,
   "metadata": {},
   "outputs": [],
   "source": [
    "from heapq import heappush, heappop\n",
    "class Solution:\n",
    "    def kClosest(self, points: List[List[int]], K: int) -> List[List[int]]:\n",
    "        # min heap, but want max heap\n",
    "        heap = []\n",
    "        for point in points:\n",
    "            distance = (point[0] ** 2 + point[1] ** 2) * (-1)\n",
    "            \n",
    "            if len(heap) == K:\n",
    "                if heap[0][0] < distance:\n",
    "                    heappop(heap)\n",
    "                    heappush(heap, (distance, point))\n",
    "            else:\n",
    "                heappush(heap, (distance, point))\n",
    "            \n",
    "            \n",
    "            \n",
    "        return [pair[1] for pair in heap]"
   ]
  },
  {
   "cell_type": "markdown",
   "metadata": {},
   "source": [
    "The comparision if heap[0][0] < distance works unnessicary extra steps. Since we are building the heap, the building process involves comparision. The below solution gives same time and space complexity."
   ]
  },
  {
   "cell_type": "code",
   "execution_count": null,
   "metadata": {},
   "outputs": [],
   "source": [
    "from heapq import heappush, heappop, heappushpop\n",
    "class Solution:\n",
    "    def kClosest(self, points: List[List[int]], K: int) -> List[List[int]]:\n",
    "        # min heap, but want max heap\n",
    "        heap = []\n",
    "        for point in points:\n",
    "            distance = (point[0] ** 2 + point[1] ** 2) * (-1)\n",
    "            \n",
    "            if len(heap) == K:\n",
    "                heappushpop(heap, (distance, point))\n",
    "            else:\n",
    "                heappush(heap, (distance, point))\n",
    "            \n",
    "            \n",
    "            \n",
    "        return [pair[1] for pair in heap]"
   ]
  }
 ],
 "metadata": {
  "kernelspec": {
   "display_name": "Python 3",
   "language": "python",
   "name": "python3"
  },
  "language_info": {
   "codemirror_mode": {
    "name": "ipython",
    "version": 3
   },
   "file_extension": ".py",
   "mimetype": "text/x-python",
   "name": "python",
   "nbconvert_exporter": "python",
   "pygments_lexer": "ipython3",
   "version": "3.6.5"
  }
 },
 "nbformat": 4,
 "nbformat_minor": 2
}
