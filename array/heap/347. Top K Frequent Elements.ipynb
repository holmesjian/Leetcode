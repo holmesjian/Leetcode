{
 "cells": [
  {
   "cell_type": "markdown",
   "metadata": {},
   "source": [
    "Given a non-empty array of integers, return the k most frequent elements.\n",
    "\n",
    "Example 1:<br>\n",
    "Input: nums = [1,1,1,2,2,3], k = 2<br>\n",
    "Output: [1,2]<br>\n",
    "\n",
    "Example 2:<br>\n",
    "Input: nums = [1], k = 1<br>\n",
    "Output: [1]<br>\n",
    "\n",
    "Note:\n",
    "- You may assume k is always valid, 1 ≤ k ≤ number of unique elements.\n",
    "- Your algorithm's time complexity must be better than O(n log n), where n is the array's size."
   ]
  },
  {
   "cell_type": "code",
   "execution_count": null,
   "metadata": {},
   "outputs": [],
   "source": [
    "from collections import Counter\n",
    "class Solution:\n",
    "    def topKFrequent(self, nums: List[int], k: int) -> List[int]:\n",
    "        count = Counter(nums)\n",
    "        \n",
    "        top_k = count.most_common(k)\n",
    "        \n",
    "        result = []\n",
    "        for item in top_k:\n",
    "            result.append(item[0])\n",
    "            \n",
    "        return result"
   ]
  },
  {
   "cell_type": "markdown",
   "metadata": {},
   "source": [
    "most_common use heap"
   ]
  }
 ],
 "metadata": {
  "kernelspec": {
   "display_name": "Python 3",
   "language": "python",
   "name": "python3"
  },
  "language_info": {
   "codemirror_mode": {
    "name": "ipython",
    "version": 3
   },
   "file_extension": ".py",
   "mimetype": "text/x-python",
   "name": "python",
   "nbconvert_exporter": "python",
   "pygments_lexer": "ipython3",
   "version": "3.6.5"
  }
 },
 "nbformat": 4,
 "nbformat_minor": 2
}
