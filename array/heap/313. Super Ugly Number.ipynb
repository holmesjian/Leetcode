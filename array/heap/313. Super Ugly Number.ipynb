{
 "cells": [
  {
   "cell_type": "markdown",
   "metadata": {},
   "source": [
    "Write a program to find the nth super ugly number.\n",
    "\n",
    "Super ugly numbers are positive numbers whose all prime factors are in the given prime list primes of size k.\n",
    "\n",
    "Example: <br>\n",
    "\n",
    "Input: n = 12, primes = [2,7,13,19]<br>\n",
    "Output: 32 <br>\n",
    "Explanation: [1,2,4,7,8,13,14,16,19,26,28,32] is the sequence of the first 12\n",
    "             super ugly numbers given primes = [2,7,13,19] of size 4.\n",
    "Note:\n",
    "\n",
    "- 1 is a super ugly number for any given primes.\n",
    "- The given numbers in primes are in ascending order.\n",
    "- 0 < k ≤ 100, 0 < n ≤ 106, 0 < primes[i] < 1000.\n",
    "- The nth super ugly number is guaranteed to fit in a 32-bit signed integer."
   ]
  }
 ],
 "metadata": {
  "kernelspec": {
   "display_name": "Python 3",
   "language": "python",
   "name": "python3"
  },
  "language_info": {
   "codemirror_mode": {
    "name": "ipython",
    "version": 3
   },
   "file_extension": ".py",
   "mimetype": "text/x-python",
   "name": "python",
   "nbconvert_exporter": "python",
   "pygments_lexer": "ipython3",
   "version": "3.6.5"
  }
 },
 "nbformat": 4,
 "nbformat_minor": 2
}
