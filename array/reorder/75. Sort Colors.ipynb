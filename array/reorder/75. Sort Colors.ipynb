{
 "cells": [
  {
   "cell_type": "markdown",
   "metadata": {},
   "source": [
    "# Problem\n",
    "\n",
    "Given an array with n objects colored red, white or blue, sort them in-place so that objects of the same color are adjacent, with the colors in the order red, white and blue.<br>\n",
    "\n",
    "Here, we will use the integers 0, 1, and 2 to represent the color red, white, and blue respectively.<br>\n",
    "\n",
    "Note: You are not suppose to use the library's sort function for this problem.<br>\n",
    "\n",
    "Example:<br>\n",
    "\n",
    "Input: [2,0,2,1,1,0]<br>\n",
    "Output: [0,0,1,1,2,2]<br>\n",
    "\n",
    "Follow up:<br>\n",
    "\n",
    "A rather straight forward solution is a two-pass algorithm using counting sort.<br>\n",
    "First, iterate the array counting number of 0's, 1's, and 2's, then overwrite array with total number of 0's, then 1's and followed by 2's.<br>\n",
    "Could you come up with a one-pass algorithm using only constant space?<br>"
   ]
  },
  {
   "cell_type": "markdown",
   "metadata": {},
   "source": [
    "# Brainstorm\n",
    "\n",
    "What are the differences between this problem and normal sorting problems?\n",
    "- only 3 types of values: 0, 1, 2\n",
    "\n",
    "Note that we want constant space solution, so we probably need to swap elements around.<br>\n",
    "\n",
    "With only three values, it is very close to sorted. So think about two or multiple pointers that help iterate and swap.<br>\n",
    "\n",
    "This is the Dutch National flag problem. It is hard to come up with the O(N) time and O(1) space solution. <br>"
   ]
  },
  {
   "cell_type": "markdown",
   "metadata": {},
   "source": [
    "# Solution"
   ]
  },
  {
   "cell_type": "markdown",
   "metadata": {},
   "source": [
    "The following for loop does not work because after swapping current number with high, we have to evaluate current number again. This is different from other conditions when current number is 0 or 1."
   ]
  },
  {
   "cell_type": "code",
   "execution_count": null,
   "metadata": {},
   "outputs": [],
   "source": [
    "class Solution:\n",
    "    def sortColors(self, nums):\n",
    "        \"\"\"\n",
    "        Do not return anything, modify nums in-place instead.\n",
    "        \"\"\"\n",
    "\n",
    "        low = 0\n",
    "        high = len(nums) - 1\n",
    "        \n",
    "        for i in range(len(nums)):\n",
    "            if i > high:\n",
    "                break\n",
    "                \n",
    "            if nums[i] == 0:\n",
    "                nums[i], nums[low] = nums[low], nums[i]\n",
    "                low += 1\n",
    "                \n",
    "            elif nums[i] == 1:\n",
    "                continue\n",
    "            else:\n",
    "                nums[i], nums[high] = nums[high], nums[i]\n",
    "                high -= 1\n",
    "                # How to keep the same i and evaluate again?"
   ]
  },
  {
   "cell_type": "markdown",
   "metadata": {},
   "source": [
    "Use a while loop to address that problem."
   ]
  },
  {
   "cell_type": "code",
   "execution_count": null,
   "metadata": {},
   "outputs": [],
   "source": [
    "class Solution:\n",
    "    def sortColors(self, nums):\n",
    "        \"\"\"\n",
    "        Do not return anything, modify nums in-place instead.\n",
    "        \"\"\"\n",
    "        low = 0\n",
    "        high = len(nums) - 1\n",
    "        i = 0\n",
    "        \n",
    "        # Loop ends when i crosses high\n",
    "        # because when i reaches high, value at i not evaluate yet.\n",
    "        while i <= high:\n",
    "            \n",
    "            if nums[i] == 0:\n",
    "                nums[i], nums[low] = nums[low], nums[i]\n",
    "                low += 1\n",
    "                i += 1\n",
    "\n",
    "            elif nums[i] == 1:\n",
    "                i += 1\n",
    "            else:\n",
    "                # Have to check again after swapping\n",
    "                # so don't increment i\n",
    "                nums[i], nums[high] = nums[high], nums[i]\n",
    "                high -= 1"
   ]
  }
 ],
 "metadata": {
  "kernelspec": {
   "display_name": "Python 3",
   "language": "python",
   "name": "python3"
  },
  "language_info": {
   "codemirror_mode": {
    "name": "ipython",
    "version": 3
   },
   "file_extension": ".py",
   "mimetype": "text/x-python",
   "name": "python",
   "nbconvert_exporter": "python",
   "pygments_lexer": "ipython3",
   "version": "3.6.5"
  }
 },
 "nbformat": 4,
 "nbformat_minor": 2
}
