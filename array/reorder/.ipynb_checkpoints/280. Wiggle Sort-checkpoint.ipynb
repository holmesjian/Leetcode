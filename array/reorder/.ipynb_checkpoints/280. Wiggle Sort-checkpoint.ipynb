{
 "cells": [
  {
   "cell_type": "markdown",
   "metadata": {},
   "source": [
    "# Problem\n",
    "\n",
    "Given an unsorted array nums, reorder it in-place such that nums[0] <= nums[1] >= nums[2] <= nums[3]....\n",
    "\n",
    "Example:<br>\n",
    "\n",
    "Input: nums = [3,5,2,1,6,4]<br>\n",
    "Output: One possible answer is [3,5,1,6,2,4]<br>"
   ]
  },
  {
   "cell_type": "markdown",
   "metadata": {},
   "source": [
    "# Brainstorm\n",
    "\n",
    "List out possible scenaria and swap."
   ]
  },
  {
   "cell_type": "code",
   "execution_count": null,
   "metadata": {},
   "outputs": [],
   "source": [
    "class Solution:\n",
    "    def wiggleSort(self, nums):\n",
    "        \"\"\"\n",
    "        Do not return anything, modify nums in-place instead.\n",
    "    \n",
    "        \"\"\"\n",
    "        if not nums or len(nums) == 1:\n",
    "            return\n",
    "        \n",
    "        elif len(nums) == 2:\n",
    "            if nums[0] > nums[1]:\n",
    "                nums[0], nums[1] = nums[1], nums[0]\n",
    "            return\n",
    "\n",
    "        for i in range(1, len(nums)-1, 2):\n",
    "            if nums[i] < nums[i-1]:\n",
    "                nums[i], nums[i-1] = nums[i-1], nums[i]\n",
    "            if nums[i] < nums[i+1]:\n",
    "                nums[i], nums[i+1] = nums[i+1], nums[i]\n",
    "                \n",
    "        if nums[-1] < nums[-2] and len(nums) % 2 == 0:\n",
    "            nums[-1], nums[-2] = nums[-2], nums[-1]\n"
   ]
  }
 ],
 "metadata": {
  "kernelspec": {
   "display_name": "Python 3",
   "language": "python",
   "name": "python3"
  },
  "language_info": {
   "codemirror_mode": {
    "name": "ipython",
    "version": 3
   },
   "file_extension": ".py",
   "mimetype": "text/x-python",
   "name": "python",
   "nbconvert_exporter": "python",
   "pygments_lexer": "ipython3",
   "version": "3.6.5"
  }
 },
 "nbformat": 4,
 "nbformat_minor": 2
}
