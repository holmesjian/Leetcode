{
 "cells": [
  {
   "cell_type": "markdown",
   "metadata": {},
   "source": [
    "# Problem\n",
    "\n",
    "Given an array nums, write a function to move all 0's to the end of it while maintaining the relative order of the non-zero elements.<br>\n",
    "\n",
    "Example:<br>\n",
    "\n",
    "Input: [0,1,0,3,12]<br>\n",
    "Output: [1,3,12,0,0]<br>\n",
    "\n",
    "Note:\n",
    "\n",
    "You must do this in-place without making a copy of the array.<br>\n",
    "Minimize the total number of operations.<br>"
   ]
  },
  {
   "cell_type": "markdown",
   "metadata": {},
   "source": [
    "# Brainstorm\n",
    "\n",
    "In-place sorting algorithms are bubble sort, selection sort, insertion sort, quick sort.\n",
    "\n",
    "Selection sort is not suitable as it will change the position of non-zero elements.\n",
    "\n",
    "Bubble sort is ok but too many swaps and iterations.\n",
    "\n",
    "Insertion sort is good as not too many iterations compared to bubble sort.\n",
    "- but too many cases to skip the swaps.\n",
    "\n",
    "In place quick sort change the order?"
   ]
  },
  {
   "cell_type": "markdown",
   "metadata": {},
   "source": [
    "# Solution 1\n",
    "##### Bubble sort"
   ]
  },
  {
   "cell_type": "code",
   "execution_count": null,
   "metadata": {},
   "outputs": [],
   "source": [
    "class Solution:\n",
    "    def moveZeroes(self, nums: List[int]) -> None:\n",
    "        \"\"\"\n",
    "        Do not return anything, modify nums in-place instead.\n",
    "        \"\"\"\n",
    "        # Edge cases\n",
    "        if not nums or len(nums) == 1:\n",
    "            return nums\n",
    "        \n",
    "        \n",
    "        finished = False\n",
    "        while not finished:\n",
    "            num_of_swaps = 0\n",
    "            for i in range(len(nums) - 1):\n",
    "                if nums[i] == 0 and nums[i+1] != 0:\n",
    "                    nums[i], nums[i+1] = nums[i+1], nums[i]\n",
    "                    num_of_swaps += 1\n",
    "                    \n",
    "            if num_of_swaps == 0:\n",
    "                finished = True\n",
    "                \n",
    "        return nums"
   ]
  }
 ],
 "metadata": {
  "kernelspec": {
   "display_name": "Python 3",
   "language": "python",
   "name": "python3"
  },
  "language_info": {
   "codemirror_mode": {
    "name": "ipython",
    "version": 3
   },
   "file_extension": ".py",
   "mimetype": "text/x-python",
   "name": "python",
   "nbconvert_exporter": "python",
   "pygments_lexer": "ipython3",
   "version": "3.6.5"
  }
 },
 "nbformat": 4,
 "nbformat_minor": 2
}
