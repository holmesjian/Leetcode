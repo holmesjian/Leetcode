{
 "cells": [
  {
   "cell_type": "markdown",
   "metadata": {},
   "source": [
    "# Problem\n",
    "\n",
    "Given an array, rotate the array to the right by k steps, where k is non-negative.\n",
    "\n",
    "Follow up:<br>\n",
    "\n",
    "Try to come up as many solutions as you can, there are at least 3 different ways to solve this problem.\n",
    "Could you do it in-place with O(1) extra space?<br>\n",
    " \n",
    "\n",
    "Example 1:<br>\n",
    "\n",
    "Input: nums = [1,2,3,4,5,6,7], k = 3<br>\n",
    "Output: [5,6,7,1,2,3,4]<br>\n",
    "Explanation:<br>\n",
    "rotate 1 steps to the right: [7,1,2,3,4,5,6]<br>\n",
    "rotate 2 steps to the right: [6,7,1,2,3,4,5]<br>\n",
    "rotate 3 steps to the right: [5,6,7,1,2,3,4]<br>\n",
    "\n",
    "\n",
    "Example 2:<br>\n",
    "\n",
    "Input: nums = [-1,-100,3,99], k = 2<br>\n",
    "Output: [3,99,-1,-100]<br>\n",
    "Explanation: <br>\n",
    "rotate 1 steps to the right: [99,-1,-100,3]<br>\n",
    "rotate 2 steps to the right: [3,99,-1,-100]<br>\n",
    " \n",
    "\n",
    "Constraints:\n",
    "\n",
    "1 <= nums.length <= 2 * 10^4<br>\n",
    "It's guaranteed that nums[i] fits in a 32 bit-signed integer.<br>\n",
    "k >= 0<br>"
   ]
  },
  {
   "cell_type": "markdown",
   "metadata": {},
   "source": [
    "# Brainstorm\n",
    "\n",
    "List slicing and concatenation\n",
    "- Time O(1), space O(N)\n",
    "\n",
    "Swap, like buble sort\n",
    "- Time O(N^2), space O(1)\n",
    "\n",
    "In O(N) time or O(kN) time? ..."
   ]
  },
  {
   "cell_type": "markdown",
   "metadata": {},
   "source": [
    "# Solution 1\n",
    "##### List slicing and concatenation"
   ]
  },
  {
   "cell_type": "code",
   "execution_count": 2,
   "metadata": {},
   "outputs": [],
   "source": [
    "class Solution:\n",
    "    def rotate(self, nums, k):\n",
    "        \"\"\"\n",
    "        Do not return anything, modify nums in-place instead.\n",
    "        \"\"\"\n",
    "        \n",
    "        if not nums:\n",
    "            return nums\n",
    "        \n",
    "        # In case k is 100000000000\n",
    "        length = len(nums)\n",
    "        if k >= length:\n",
    "            k %= length\n",
    "        \n",
    "        if k == 0:\n",
    "            return nums\n",
    "        \n",
    "        # nums[:] returns a reference to the same object\n",
    "        nums[:] = nums[length-k:] + nums[:length-k]        "
   ]
  },
  {
   "cell_type": "markdown",
   "metadata": {},
   "source": [
    "# Solution 2\n",
    "##### swap"
   ]
  },
  {
   "cell_type": "code",
   "execution_count": 6,
   "metadata": {},
   "outputs": [],
   "source": [
    "class Solution:\n",
    "    def rotate(self, nums, k):\n",
    "        \"\"\"\n",
    "        Do not return anything, modify nums in-place instead.\n",
    "        \"\"\"\n",
    "        \n",
    "        if not nums:\n",
    "            return nums\n",
    "        \n",
    "        length = len(nums)\n",
    "        if k >= length:\n",
    "            k %= length\n",
    "        \n",
    "        if k == 0:\n",
    "            return nums\n",
    "        \n",
    "        swap_until = 0\n",
    "        for num_to_rotate_index in range(length-k, length):\n",
    "            for i in range(num_to_rotate_index, swap_until, -1):\n",
    "                nums[i], nums[i-1] = nums[i-1], nums[i]\n",
    "            swap_until += 1\n",
    "            \n",
    "        return nums"
   ]
  },
  {
   "cell_type": "code",
   "execution_count": 7,
   "metadata": {},
   "outputs": [
    {
     "name": "stdout",
     "output_type": "stream",
     "text": [
      "[3, 4, 5, 1, 2]\n"
     ]
    }
   ],
   "source": [
    "s = Solution()\n",
    "nums = [1, 2, 3, 4, 5]\n",
    "k = 3\n",
    "print(s.rotate(nums, k))"
   ]
  },
  {
   "cell_type": "code",
   "execution_count": null,
   "metadata": {},
   "outputs": [],
   "source": []
  }
 ],
 "metadata": {
  "kernelspec": {
   "display_name": "Python 3",
   "language": "python",
   "name": "python3"
  },
  "language_info": {
   "codemirror_mode": {
    "name": "ipython",
    "version": 3
   },
   "file_extension": ".py",
   "mimetype": "text/x-python",
   "name": "python",
   "nbconvert_exporter": "python",
   "pygments_lexer": "ipython3",
   "version": "3.6.5"
  }
 },
 "nbformat": 4,
 "nbformat_minor": 2
}
