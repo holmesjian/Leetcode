{
 "cells": [
  {
   "cell_type": "markdown",
   "metadata": {},
   "source": [
    "# Problem\n",
    "\n",
    "Given an unsorted array of integers, find the length of longest continuous increasing subsequence (subarray).\n",
    "\n",
    "Example 1:<br>\n",
    "Input: [1,3,5,4,7]<br>\n",
    "Output: 3<br>\n",
    "Explanation: The longest continuous increasing subsequence is [1,3,5], its length is 3.<br>\n",
    "Even though [1,3,5,7] is also an increasing subsequence, it's not a continuous one where 5 and 7 are separated by 4. \n",
    "\n",
    "Example 2:<br>\n",
    "Input: [2,2,2,2,2]<br>\n",
    "Output: 1<br>\n",
    "Explanation: The longest continuous increasing subsequence is [2], its length is 1.<br>\n",
    "Note: Length of the array will not exceed 10,000."
   ]
  }
 ],
 "metadata": {
  "kernelspec": {
   "display_name": "Python 3",
   "language": "python",
   "name": "python3"
  },
  "language_info": {
   "codemirror_mode": {
    "name": "ipython",
    "version": 3
   },
   "file_extension": ".py",
   "mimetype": "text/x-python",
   "name": "python",
   "nbconvert_exporter": "python",
   "pygments_lexer": "ipython3",
   "version": "3.6.5"
  }
 },
 "nbformat": 4,
 "nbformat_minor": 2
}
