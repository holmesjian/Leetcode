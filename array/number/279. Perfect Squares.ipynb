{
 "cells": [
  {
   "cell_type": "markdown",
   "metadata": {},
   "source": [
    "# Problem \n",
    "\n",
    "Given a positive integer n, find the least number of perfect square numbers (for example, 1, 4, 9, 16, ...) which sum to n.<br>\n",
    "\n",
    "Example 1:<br>\n",
    "\n",
    "Input: n = 12<br>\n",
    "Output: 3 <br>\n",
    "Explanation: 12 = 4 + 4 + 4.<br>\n",
    "\n",
    "Example 2:<br>\n",
    "\n",
    "Input: n = 13<br>\n",
    "Output: 2<br>\n",
    "Explanation: 13 = 4 + 9."
   ]
  }
 ],
 "metadata": {
  "kernelspec": {
   "display_name": "Python 3",
   "language": "python",
   "name": "python3"
  },
  "language_info": {
   "codemirror_mode": {
    "name": "ipython",
    "version": 3
   },
   "file_extension": ".py",
   "mimetype": "text/x-python",
   "name": "python",
   "nbconvert_exporter": "python",
   "pygments_lexer": "ipython3",
   "version": "3.6.5"
  }
 },
 "nbformat": 4,
 "nbformat_minor": 2
}
