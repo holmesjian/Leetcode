{
 "cells": [
  {
   "cell_type": "markdown",
   "metadata": {},
   "source": [
    "# Problem\n",
    "\n",
    "Given a string that contains only digits 0-9 and a target value, return all possibilities to add binary operators (not unary) +, -, or * between the digits so they evaluate to the target value.\n",
    "\n",
    "Example 1:<br>\n",
    "\n",
    "Input: num = \"123\", target = 6<br>\n",
    "Output: [\"1+2+3\", \"1*2*3\"] <br>\n",
    "\n",
    "Example 2:\n",
    "\n",
    "Input: num = \"232\", target = 8<br>\n",
    "Output: [\"2*3+2\", \"2+3*2\"]<br>\n",
    "\n",
    "Example 3:\n",
    "\n",
    "Input: num = \"105\", target = 5<br>\n",
    "Output: [\"1*0+5\",\"10-5\"]<br>\n",
    "\n",
    "Example 4:\n",
    "\n",
    "Input: num = \"00\", target = 0<br>\n",
    "Output: [\"0+0\", \"0-0\", \"0*0\"]<br>\n",
    "\n",
    "Example 5:\n",
    "\n",
    "Input: num = \"3456237490\", target = 9191<br>\n",
    "Output: []"
   ]
  }
 ],
 "metadata": {
  "kernelspec": {
   "display_name": "Python 3",
   "language": "python",
   "name": "python3"
  },
  "language_info": {
   "codemirror_mode": {
    "name": "ipython",
    "version": 3
   },
   "file_extension": ".py",
   "mimetype": "text/x-python",
   "name": "python",
   "nbconvert_exporter": "python",
   "pygments_lexer": "ipython3",
   "version": "3.6.5"
  }
 },
 "nbformat": 4,
 "nbformat_minor": 2
}
