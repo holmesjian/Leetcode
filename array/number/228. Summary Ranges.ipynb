{
 "cells": [
  {
   "cell_type": "markdown",
   "metadata": {},
   "source": [
    "# Problem\n",
    "\n",
    "Given a sorted integer array without duplicates, return the summary of its ranges.\n",
    "\n",
    "Example 1:<br>\n",
    "\n",
    "Input:  [0,1,2,4,5,7]<br>\n",
    "Output: [\"0->2\",\"4->5\",\"7\"]<br>\n",
    "Explanation: 0,1,2 form a continuous range; 4,5 form a continuous range.<br>\n",
    "\n",
    "Example 2:\n",
    "\n",
    "Input:  [0,2,3,4,6,8,9]<br>\n",
    "Output: [\"0\",\"2->4\",\"6\",\"8->9\"]<br>\n",
    "Explanation: 2,3,4 form a continuous range; 8,9 form a continuous range."
   ]
  },
  {
   "cell_type": "markdown",
   "metadata": {},
   "source": [
    "# Brainstorm\n",
    "\n",
    "This problem is very prone to off-by-one error.\n",
    "- Time O(N)\n",
    "- space O(N)"
   ]
  },
  {
   "cell_type": "code",
   "execution_count": null,
   "metadata": {},
   "outputs": [],
   "source": [
    "class Solution:\n",
    "    def summaryRanges(self, nums: List[int]) -> List[str]:\n",
    "        \n",
    "        summary = []\n",
    "        i = 0\n",
    "        while i < len(nums):\n",
    "            start_num = nums[i]\n",
    "            \n",
    "            while i + 1 < len(nums) and nums[i+1] == nums[i] + 1:\n",
    "                i += 1\n",
    "            \n",
    "            if start_num != nums[i]:\n",
    "                s = str(start_num) + '->' + str(nums[i])\n",
    "            else:\n",
    "                s = str(start_num)\n",
    "            \n",
    "            i += 1\n",
    "            summary.append(s)\n",
    "        return summary"
   ]
  }
 ],
 "metadata": {
  "kernelspec": {
   "display_name": "Python 3",
   "language": "python",
   "name": "python3"
  },
  "language_info": {
   "codemirror_mode": {
    "name": "ipython",
    "version": 3
   },
   "file_extension": ".py",
   "mimetype": "text/x-python",
   "name": "python",
   "nbconvert_exporter": "python",
   "pygments_lexer": "ipython3",
   "version": "3.6.5"
  }
 },
 "nbformat": 4,
 "nbformat_minor": 2
}
