{
 "cells": [
  {
   "cell_type": "markdown",
   "metadata": {},
   "source": [
    "# Problem\n",
    "\n",
    "Given an array containing n distinct numbers taken from 0, 1, 2, ..., n, find the one that is missing from the array.\n",
    "\n",
    "Example 1:\n",
    "\n",
    "Input: [3,0,1]\n",
    "Output: 2\n",
    "Example 2:\n",
    "\n",
    "Input: [9,6,4,2,3,5,7,0,1]\n",
    "Output: 8\n",
    "Note:\n",
    "Your algorithm should run in linear runtime complexity. Could you implement it using only constant extra space complexity?"
   ]
  },
  {
   "cell_type": "code",
   "execution_count": 2,
   "metadata": {},
   "outputs": [],
   "source": [
    "# Solution 1\n",
    "def missingNumber(self, nums):\n",
    "    if not nums:\n",
    "        return 0\n",
    "\n",
    "    max_num = len(nums) + 1\n",
    "\n",
    "    all_nums = set([n for n in range(max_num + 1)])\n",
    "\n",
    "    for num in nums:\n",
    "        all_nums.remove(num)\n",
    "\n",
    "    return all_nums.pop()"
   ]
  },
  {
   "cell_type": "code",
   "execution_count": 3,
   "metadata": {},
   "outputs": [],
   "source": [
    "# Solution 2:\n",
    "def missingNumber(self, nums):\n",
    "    if not nums:\n",
    "        return 0\n",
    "\n",
    "    max_num = len(nums) + 1\n",
    "\n",
    "    nums_set = set(nums)\n",
    "\n",
    "    for num in range(max_num + 1):\n",
    "        if num not in nums_set:\n",
    "            return num"
   ]
  },
  {
   "cell_type": "code",
   "execution_count": 4,
   "metadata": {},
   "outputs": [],
   "source": [
    "# Solution 3\n",
    "# a number XOR itself will become 0, any number XOR with 0 will stay unchanged.\n",
    "def missingNumber(self, nums):\n",
    "    missing = len(nums)\n",
    "    for i, num in enumerate(nums):\n",
    "        missing ^= i ^ num\n",
    "    return missing"
   ]
  }
 ],
 "metadata": {
  "kernelspec": {
   "display_name": "Python 3",
   "language": "python",
   "name": "python3"
  },
  "language_info": {
   "codemirror_mode": {
    "name": "ipython",
    "version": 3
   },
   "file_extension": ".py",
   "mimetype": "text/x-python",
   "name": "python",
   "nbconvert_exporter": "python",
   "pygments_lexer": "ipython3",
   "version": "3.6.5"
  }
 },
 "nbformat": 4,
 "nbformat_minor": 2
}
