{
 "cells": [
  {
   "cell_type": "markdown",
   "metadata": {},
   "source": [
    "# Problem\n",
    "\n",
    "Given a sorted (in ascending order) integer array nums of n elements and a target value, write a function to search target in nums. If target exists, then return its index, otherwise return -1.<br>\n",
    "\n",
    "\n",
    "Example 1:<br>\n",
    "\n",
    "Input: nums = [-1,0,3,5,9,12], target = 9<br>\n",
    "Output: 4<br>\n",
    "Explanation: 9 exists in nums and its index is 4<br>\n",
    "\n",
    "Example 2:<br>\n",
    "\n",
    "Input: nums = [-1,0,3,5,9,12], target = 2<br>\n",
    "Output: -1<br>\n",
    "Explanation: 2 does no<br>t exist in nums so return -1\n",
    " \n",
    "\n",
    "Note:\n",
    "\n",
    "You may assume that all elements in nums are unique.<br>\n",
    "n will be in the range [1, 10000].<br>\n",
    "The value of each element in nums will be in the range [-9999, 9999]."
   ]
  },
  {
   "cell_type": "markdown",
   "metadata": {},
   "source": [
    "# Brainstorm\n",
    "\n",
    "Time O(logN), space O(1)"
   ]
  },
  {
   "cell_type": "code",
   "execution_count": null,
   "metadata": {},
   "outputs": [],
   "source": [
    "class Solution:\n",
    "    def search(self, nums, target):\n",
    "        # Edge case: nums is None or empty\n",
    "        if not nums:\n",
    "            return -1\n",
    "        # Edge case: target exceeds range\n",
    "        if target > nums[-1] or target < nums[0]:\n",
    "            return -1\n",
    "        \n",
    "        low = 0\n",
    "        high = len(nums) - 1\n",
    "        while low <= high:\n",
    "            # If odd length, mid position is the middle\n",
    "            # If even, mid poistion is the first one between the middle two\n",
    "            mid = (low + high) // 2\n",
    "            mid_num = nums[mid]\n",
    "            if mid_num == target:\n",
    "                return mid\n",
    "            elif mid_num < target:\n",
    "                low = mid + 1\n",
    "            else:\n",
    "                high = mid - 1\n",
    "                \n",
    "        # If target not found\n",
    "        return -1\n",
    "            "
   ]
  }
 ],
 "metadata": {
  "kernelspec": {
   "display_name": "Python 3",
   "language": "python",
   "name": "python3"
  },
  "language_info": {
   "codemirror_mode": {
    "name": "ipython",
    "version": 3
   },
   "file_extension": ".py",
   "mimetype": "text/x-python",
   "name": "python",
   "nbconvert_exporter": "python",
   "pygments_lexer": "ipython3",
   "version": "3.6.5"
  }
 },
 "nbformat": 4,
 "nbformat_minor": 2
}
