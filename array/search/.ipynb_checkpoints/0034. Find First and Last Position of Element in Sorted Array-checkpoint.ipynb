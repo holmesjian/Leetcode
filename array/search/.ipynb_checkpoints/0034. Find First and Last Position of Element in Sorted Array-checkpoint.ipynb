{
 "cells": [
  {
   "cell_type": "markdown",
   "metadata": {},
   "source": [
    "# Problem\n",
    "\n",
    "Given an array of integers nums sorted in ascending order, find the starting and ending position of a given target value.<br>\n",
    "\n",
    "Your algorithm's runtime complexity must be in the order of O(log n).<br>\n",
    "\n",
    "If the target is not found in the array, return [-1, -1].<br>\n",
    "\n",
    "Example 1:<br>\n",
    "\n",
    "Input: nums = [5,7,7,8,8,10], target = 8<br>\n",
    "Output: [3,4]<br>\n",
    "\n",
    "Example 2:<br>\n",
    "\n",
    "Input: nums = [5,7,7,8,8,10], target = 6<br>\n",
    "Output: [-1,-1]"
   ]
  },
  {
   "cell_type": "markdown",
   "metadata": {},
   "source": [
    "# Brainstorm\n",
    "\n",
    "Binary search until target found, then continues to walk to left and right to find all targets\n",
    "- Time O(N), space O(1)\n",
    "\n",
    "To reduce time, we can do binary search after we have found one target.\n",
    "- "
   ]
  },
  {
   "cell_type": "markdown",
   "metadata": {},
   "source": [
    "# Solution 1\n",
    "##### Binary search + linear search "
   ]
  },
  {
   "cell_type": "code",
   "execution_count": null,
   "metadata": {},
   "outputs": [],
   "source": [
    "class Solution:\n",
    "    def searchRange(self, nums: List[int], target: int) -> List[int]:\n",
    "        \n",
    "        if not nums:\n",
    "            return [-1, -1]\n",
    "        \n",
    "        # binary search\n",
    "        low = 0\n",
    "        high = len(nums) - 1\n",
    "        \n",
    "        while low <= high:\n",
    "            mid = (low + high) // 2 \n",
    "            mid_num = nums[mid]\n",
    "            \n",
    "            if mid_num < target:\n",
    "                low = mid + 1\n",
    "            elif mid_num > target:\n",
    "                high = mid - 1\n",
    "            else:\n",
    "                i = j = mid\n",
    "                # Found target, continue to walk to right\n",
    "                while i < len(nums) and nums[i] == target:\n",
    "                    i += 1\n",
    "                # Found target, continue to walk to left\n",
    "                while j >= 0 and nums[j] == target:\n",
    "                    j -= 1\n",
    "                return [j + 1, i - 1]\n",
    "        \n",
    "        return [-1, -1]"
   ]
  },
  {
   "cell_type": "markdown",
   "metadata": {},
   "source": [
    "# Solution 2\n",
    "##### 2 binary search"
   ]
  },
  {
   "cell_type": "code",
   "execution_count": null,
   "metadata": {},
   "outputs": [],
   "source": [
    "class Solution:\n",
    "    def searchRange(self, nums, target):\n",
    "        if nums == []:\n",
    "            return [-1, -1]\n",
    "        \n",
    "        target_range = [-1, -1]\n",
    "        \n",
    "        # Binary search to find the leftmost index of target\n",
    "        low = 0\n",
    "        high = len(nums) - 1\n",
    "        while low < high:\n",
    "            mid = (low + high) // 2 # mid towards low\n",
    "            mid_num = nums[mid]\n",
    "            \n",
    "            if target == mid_num:\n",
    "                high = mid\n",
    "            elif target < mid_num:\n",
    "                high = mid - 1\n",
    "            else:\n",
    "                low = mid + 1\n",
    "        \n",
    "        # If target found, low == high; if target not found, high == -1\n",
    "        # so usng both low or high is ok; high will not be out of list range\n",
    "        if nums[low] == target: \n",
    "            target_range[0] = low\n",
    "        \n",
    "        # Binary search to find the rightmost index of target\n",
    "        low = 0\n",
    "        high = len(nums) - 1\n",
    "        while low < high:\n",
    "            mid = (low + high) // 2 + 1 # mid towards high\n",
    "            mid_num = nums[mid]\n",
    "            \n",
    "            if target == mid_num:\n",
    "                low = mid\n",
    "            elif target < mid_num:\n",
    "                high = mid - 1\n",
    "            else:\n",
    "                low = mid + 1\n",
    "        \n",
    "        # If target not found, low == len(nums), out of range\n",
    "        # So we can only use high pointer\n",
    "        if nums[high] == target: \n",
    "            target_range[1] = high\n",
    "            \n",
    "        return target_range"
   ]
  }
 ],
 "metadata": {
  "kernelspec": {
   "display_name": "Python 3",
   "language": "python",
   "name": "python3"
  },
  "language_info": {
   "codemirror_mode": {
    "name": "ipython",
    "version": 3
   },
   "file_extension": ".py",
   "mimetype": "text/x-python",
   "name": "python",
   "nbconvert_exporter": "python",
   "pygments_lexer": "ipython3",
   "version": "3.6.5"
  }
 },
 "nbformat": 4,
 "nbformat_minor": 2
}
