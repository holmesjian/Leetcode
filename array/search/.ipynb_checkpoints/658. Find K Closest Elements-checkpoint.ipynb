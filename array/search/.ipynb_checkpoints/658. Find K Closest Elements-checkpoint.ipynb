{
 "cells": [
  {
   "cell_type": "markdown",
   "metadata": {},
   "source": [
    "# Problem\n",
    "\n",
    "Given a sorted array arr, two integers k and x, find the k closest elements to x in the array. The result should also be sorted in ascending order. If there is a tie, the smaller elements are always preferred.\n",
    "\n",
    "\n",
    "Example 1:\n",
    "\n",
    "Input: arr = [1,2,3,4,5], k = 4, x = 3<br>\n",
    "Output: [1,2,3,4]<br>\n",
    "\n",
    "Example 2:\n",
    "\n",
    "Input: arr = [1,2,3,4,5], k = 4, x = -1<br>\n",
    "Output: [1,2,3,4]<br>\n",
    " \n",
    "\n",
    "Constraints:\n",
    "\n",
    "1 <= k <= arr.length<br>\n",
    "1 <= arr.length <= 10^4<br>\n",
    "Absolute value of elements in the array and x will not exceed 10^4"
   ]
  },
  {
   "cell_type": "markdown",
   "metadata": {},
   "source": [
    "# Brainstorm\n",
    "\n",
    "Calculate the difference between elements and x, then sort the differences in ascending order, take the first k\n",
    "- Time O(NlogN), space O(N)\n",
    "\n",
    "Use a heap of size k\n",
    "- Time O(NLogN), space O(k)\n",
    "\n",
    "Use binary search to find the closet, then add elements around it until k\n",
    "- Time O(LogN + k), space O(k)"
   ]
  },
  {
   "cell_type": "code",
   "execution_count": null,
   "metadata": {},
   "outputs": [],
   "source": [
    "class Solution:\n",
    "    def findClosestElements(self, arr: List[int], k: int, x: int) -> List[int]:\n",
    "        if len(arr) == 1:\n",
    "            return arr\n",
    "\n",
    "        # Binary search to find last two elements\n",
    "        low = 0\n",
    "        high = len(arr) - 1\n",
    "        while high - low > 1:\n",
    "            mid = (high + low) // 2\n",
    "            mid_num = arr[mid]\n",
    "\n",
    "            if x >= mid_num:\n",
    "                low = mid\n",
    "            else:\n",
    "                high = mid\n",
    "            \n",
    "        # We have two elements from previous search\n",
    "        # need to find the closer one\n",
    "        closest_num_index = 0\n",
    "        if abs(arr[low] - x) <= abs(arr[high] - x):\n",
    "            closest_num_index = low\n",
    "        else:\n",
    "            closest_num_index = high\n",
    "            \n",
    "        # Special case \n",
    "        if k == 1:\n",
    "            return [arr[closest_num_index]]\n",
    "        \n",
    "        left = closest_num_index - 1\n",
    "        right = closest_num_index + 1\n",
    "        count = 1\n",
    "        while count < k:\n",
    "            if left < 0:\n",
    "                right += 1\n",
    "                count += 1\n",
    "            elif right == len(arr):\n",
    "                left -= 1\n",
    "                count += 1\n",
    "            elif abs(arr[left] - x) <= abs(arr[right] - x):\n",
    "                count += 1\n",
    "                left -= 1\n",
    "            else:\n",
    "                count += 1\n",
    "                right += 1\n",
    "        \n",
    "        if left < 0:\n",
    "            left = -1\n",
    "        \n",
    "        return arr[left+1:right]"
   ]
  }
 ],
 "metadata": {
  "kernelspec": {
   "display_name": "Python 3",
   "language": "python",
   "name": "python3"
  },
  "language_info": {
   "codemirror_mode": {
    "name": "ipython",
    "version": 3
   },
   "file_extension": ".py",
   "mimetype": "text/x-python",
   "name": "python",
   "nbconvert_exporter": "python",
   "pygments_lexer": "ipython3",
   "version": "3.6.5"
  }
 },
 "nbformat": 4,
 "nbformat_minor": 2
}
