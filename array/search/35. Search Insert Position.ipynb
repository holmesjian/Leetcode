{
 "cells": [
  {
   "cell_type": "markdown",
   "metadata": {},
   "source": [
    "# Problem\n",
    "\n",
    "Given a sorted array and a target value, return the index if the target is found. If not, return the index where it would be if it were inserted in order.\n",
    "\n",
    "You may assume no duplicates in the array.\n",
    "\n",
    "Example 1:<br>\n",
    "\n",
    "Input: [1,3,5,6], 5<br>\n",
    "Output: 2<br>\n",
    "\n",
    "Example 2:\n",
    "\n",
    "Input: [1,3,5,6], 2<br>\n",
    "Output: 1<br>\n",
    "\n",
    "Example 3:\n",
    "\n",
    "Input: [1,3,5,6], 7<br>\n",
    "Output: 4<br>\n",
    "\n",
    "Example 4:\n",
    "\n",
    "Input: [1,3,5,6], 0<br>\n",
    "Output: 0"
   ]
  },
  {
   "cell_type": "markdown",
   "metadata": {},
   "source": [
    "# Brainstorm\n",
    "\n",
    "Vanila binary search until low reaches high. \n",
    "- If the value and the target are equal, return index\n",
    "- If the value < target, insert at index + 1\n",
    "- if the value > target, insert at index\n",
    "\n",
    "Time O(logN), space O(1)"
   ]
  },
  {
   "cell_type": "markdown",
   "metadata": {},
   "source": [
    "# Solution"
   ]
  },
  {
   "cell_type": "code",
   "execution_count": null,
   "metadata": {},
   "outputs": [],
   "source": [
    "class Solution:\n",
    "    def searchInsert(self, nums, target):\n",
    "        if nums == []:\n",
    "            return 0\n",
    "        \n",
    "        low = 0\n",
    "        high = len(nums) - 1\n",
    "        while low < high:\n",
    "            mid = (low + high) // 2\n",
    "            mid_num = nums[mid]\n",
    "            \n",
    "            if mid_num == target:\n",
    "                return mid\n",
    "            elif mid_num < target:\n",
    "                low = mid + 1\n",
    "            else:\n",
    "                high = mid - 1\n",
    "         \n",
    "        \n",
    "        # We have reach low == high\n",
    "        # and that element has not been checked\n",
    "        if nums[low] == target:\n",
    "            return low\n",
    "        elif nums[low] < target:\n",
    "            return low + 1 # insert at one position higher \n",
    "        else:\n",
    "            # if target is smaller than the final value, \n",
    "            # insert at the final value's position\n",
    "            return low \n",
    "            "
   ]
  },
  {
   "cell_type": "markdown",
   "metadata": {},
   "source": [
    "Simplify code:"
   ]
  },
  {
   "cell_type": "code",
   "execution_count": null,
   "metadata": {},
   "outputs": [],
   "source": [
    "class Solution:\n",
    "    def searchInsert(self, nums, target):\n",
    "        if nums == []:\n",
    "            return 0\n",
    "        \n",
    "        low = 0\n",
    "        high = len(nums) - 1\n",
    "        while low <= high:\n",
    "            mid = (low + high) // 2\n",
    "            mid_num = nums[mid]\n",
    "            \n",
    "            if mid_num == target:\n",
    "                return mid\n",
    "            elif mid_num < target:\n",
    "                low = mid + 1\n",
    "            else:\n",
    "                high = mid - 1\n",
    "         \n",
    "        # Now target is not found, we need to decide where to insert\n",
    "        # At the final step of the above iteration,\n",
    "        # if the last searched element < target, \n",
    "        # we should insert at the position of last searched element + 1, while is the current low\n",
    "        # If the last searched element > target,\n",
    "        # we should insert at the position of last searched element, which is also the current low\n",
    "        return low"
   ]
  }
 ],
 "metadata": {
  "kernelspec": {
   "display_name": "Python 3",
   "language": "python",
   "name": "python3"
  },
  "language_info": {
   "codemirror_mode": {
    "name": "ipython",
    "version": 3
   },
   "file_extension": ".py",
   "mimetype": "text/x-python",
   "name": "python",
   "nbconvert_exporter": "python",
   "pygments_lexer": "ipython3",
   "version": "3.6.5"
  }
 },
 "nbformat": 4,
 "nbformat_minor": 2
}
