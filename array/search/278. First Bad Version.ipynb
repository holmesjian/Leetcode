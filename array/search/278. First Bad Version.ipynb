{
 "cells": [
  {
   "cell_type": "markdown",
   "metadata": {},
   "source": [
    "# Problem\n",
    "\n",
    "You are a product manager and currently leading a team to develop a new product. Unfortunately, the latest version of your product fails the quality check. Since each version is developed based on the previous version, all the versions after a bad version are also bad.<br>\n",
    "\n",
    "Suppose you have n versions [1, 2, ..., n] and you want to find out the first bad one, which causes all the following ones to be bad.<br>\n",
    "\n",
    "You are given an API bool isBadVersion(version) which will return whether version is bad. Implement a function to find the first bad version. You should minimize the number of calls to the API.<br>\n",
    "\n",
    "Example:<br>\n",
    "\n",
    "Given n = 5, and version = 4 is the first bad version.<br>\n",
    "\n",
    "call isBadVersion(3) -> false<br>\n",
    "call isBadVersion(5) -> true<br>\n",
    "call isBadVersion(4) -> true<br>\n",
    "\n",
    "Then 4 is the first bad version. "
   ]
  },
  {
   "cell_type": "markdown",
   "metadata": {},
   "source": [
    "# Brainstorm\n",
    "\n"
   ]
  },
  {
   "cell_type": "code",
   "execution_count": null,
   "metadata": {},
   "outputs": [],
   "source": [
    "# The isBadVersion API is already defined for you.\n",
    "# @param version, an integer\n",
    "# @return an integer\n",
    "# def isBadVersion(version):\n",
    "\n",
    "class Solution:\n",
    "    def firstBadVersion(self, n):\n",
    "        \"\"\"\n",
    "        :type n: int\n",
    "        :rtype: int\n",
    "        \"\"\"\n",
    "        \n",
    "        low = 0\n",
    "        high = n - 1\n",
    "        while low < high:\n",
    "            mid = (low + high) // 2\n",
    "            mid_is_bad = isBadVersion(mid + 1)\n",
    "            \n",
    "            if mid_is_bad:\n",
    "                high = mid\n",
    "            else:\n",
    "                low = mid + 1\n",
    "            \n",
    "            if low == high:\n",
    "                break\n",
    "                  \n",
    "        return low + 1"
   ]
  }
 ],
 "metadata": {
  "kernelspec": {
   "display_name": "Python 3",
   "language": "python",
   "name": "python3"
  },
  "language_info": {
   "codemirror_mode": {
    "name": "ipython",
    "version": 3
   },
   "file_extension": ".py",
   "mimetype": "text/x-python",
   "name": "python",
   "nbconvert_exporter": "python",
   "pygments_lexer": "ipython3",
   "version": "3.6.5"
  }
 },
 "nbformat": 4,
 "nbformat_minor": 2
}
