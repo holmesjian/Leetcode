{
 "cells": [
  {
   "cell_type": "markdown",
   "metadata": {},
   "source": [
    "# Problem\n",
    "\n",
    "Suppose you have a long flowerbed in which some of the plots are planted and some are not. However, flowers cannot be planted in adjacent plots - they would compete for water and both would die.\n",
    "\n",
    "Given a flowerbed (represented as an array containing 0 and 1, where 0 means empty and 1 means not empty), and a number n, return if n new flowers can be planted in it without violating the no-adjacent-flowers rule.\n",
    "\n",
    "Example 1:<br>\n",
    "Input: flowerbed = [1,0,0,0,1], n = 1<br>\n",
    "Output: True<br>\n",
    "\n",
    "Example 2:<br>\n",
    "Input: flowerbed = [1,0,0,0,1], n = 2<br>\n",
    "Output: False<br>\n",
    "\n",
    "Note:\n",
    "The input array won't violate no-adjacent-flowers rule.<br>\n",
    "The input array size is in the range of [1, 20000].<br>\n",
    "n is a non-negative integer which won't exceed the input array size."
   ]
  },
  {
   "cell_type": "markdown",
   "metadata": {},
   "source": [
    "# Brainstorm\n",
    "\n",
    "Always plant from the earliest available spot. This is a greedy solution."
   ]
  },
  {
   "cell_type": "code",
   "execution_count": null,
   "metadata": {},
   "outputs": [],
   "source": [
    "class Solution:\n",
    "    def canPlaceFlowers(self, flowerbed, n):\n",
    "        # Special cases\n",
    "        if n == 0:\n",
    "            return True\n",
    "        if not flowerbed:\n",
    "            return False\n",
    "        if len(flowerbed) == 1:\n",
    "            if flowerbed[0] == 1 or n > 1:\n",
    "                return False\n",
    "            else:\n",
    "                return True\n",
    "        \n",
    "        # Find nearest possible spot and plant\n",
    "        for i in range(len(flowerbed)-1):\n",
    "            if i == 0 and flowerbed[0] == 0 and flowerbed[1] == 0:\n",
    "                flowerbed[0] = 1\n",
    "                n -= 1\n",
    "            elif flowerbed[i] == 0 and flowerbed[i - 1] == 0 and flowerbed[i + 1] == 0:\n",
    "                flowerbed[i] = 1\n",
    "                i += 2\n",
    "                n -= 1\n",
    "            if n == 0:\n",
    "                return True\n",
    "                \n",
    "        \n",
    "        # We have not checked the last spot yet        \n",
    "        if flowerbed[-1] == 0 and flowerbed[-2] == 0:\n",
    "            flowerbed[-1] = 1\n",
    "            n -= 1\n",
    "            if n == 0:\n",
    "                return True\n",
    "            \n",
    "        return False"
   ]
  }
 ],
 "metadata": {
  "kernelspec": {
   "display_name": "Python 3",
   "language": "python",
   "name": "python3"
  },
  "language_info": {
   "codemirror_mode": {
    "name": "ipython",
    "version": 3
   },
   "file_extension": ".py",
   "mimetype": "text/x-python",
   "name": "python",
   "nbconvert_exporter": "python",
   "pygments_lexer": "ipython3",
   "version": "3.6.5"
  }
 },
 "nbformat": 4,
 "nbformat_minor": 2
}
