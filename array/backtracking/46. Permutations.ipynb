{
 "cells": [
  {
   "cell_type": "markdown",
   "metadata": {},
   "source": [
    "# Problem\n",
    "\n",
    "Given a collection of distinct integers, return all possible permutations.\n",
    "\n",
    "Example:<br>\n",
    "\n",
    "Input: [1,2,3]<br>\n",
    "Output:<br>\n",
    "[\n",
    "  [1,2,3],\n",
    "  [1,3,2],\n",
    "  [2,1,3],\n",
    "  [2,3,1],\n",
    "  [3,1,2],\n",
    "  [3,2,1]\n",
    "]"
   ]
  },
  {
   "cell_type": "markdown",
   "metadata": {},
   "source": [
    "# Brainstorm "
   ]
  },
  {
   "cell_type": "code",
   "execution_count": 21,
   "metadata": {},
   "outputs": [],
   "source": [
    "def permute(nums):\n",
    "\n",
    "    current_list = []\n",
    "    all_lists = []\n",
    "\n",
    "    return permute_helper(nums, current_list, all_lists)\n",
    "\n",
    "def permute_helper(nums, current_list, all_lists):\n",
    "    if nums == []:\n",
    "        all_lists.append(current_list)\n",
    "\n",
    "    for i in range(len(nums)):\n",
    "        permute_helper(nums.remove(nums[i]), current_list+[nums[i]], all_lists) # this removes nums for nodes at the same level\n",
    "\n",
    "    return all_lists"
   ]
  },
  {
   "cell_type": "markdown",
   "metadata": {},
   "source": [
    "remove elements from a collection while iterating it leads to None."
   ]
  },
  {
   "cell_type": "markdown",
   "metadata": {},
   "source": [
    "Solution 1: bfs"
   ]
  },
  {
   "cell_type": "code",
   "execution_count": 1,
   "metadata": {},
   "outputs": [],
   "source": [
    "def permute(nums):\n",
    "    permutations = []\n",
    "    dfs(nums, [], permutations)\n",
    "    return permutations\n",
    "\n",
    "def dfs(nums, templist, permutations):\n",
    "    if not nums:\n",
    "        permutations.append(templist)\n",
    "        #return # backtracking\n",
    "    for i in range(len(nums)):\n",
    "        dfs(nums[:i]+nums[i+1:], templist+[nums[i]], permutations)"
   ]
  },
  {
   "cell_type": "code",
   "execution_count": 2,
   "metadata": {},
   "outputs": [
    {
     "data": {
      "text/plain": [
       "[[1, 2, 3], [1, 3, 2], [2, 1, 3], [2, 3, 1], [3, 1, 2], [3, 2, 1]]"
      ]
     },
     "execution_count": 2,
     "metadata": {},
     "output_type": "execute_result"
    }
   ],
   "source": [
    "nums = [1, 2, 3]\n",
    "permute(nums)"
   ]
  },
  {
   "cell_type": "markdown",
   "metadata": {},
   "source": [
    "Solution 2: backtrack"
   ]
  },
  {
   "cell_type": "code",
   "execution_count": 5,
   "metadata": {},
   "outputs": [],
   "source": [
    "def permute_backtrack(nums):\n",
    "    permutations = []\n",
    "    backtrack(nums, 0, permutations)\n",
    "    return permutations\n",
    "\n",
    "def backtrack(nums, start, permutations):\n",
    "    if start == len(nums):\n",
    "        permutations.append(nums[:])\n",
    "        \n",
    "    for i in range(start, len(nums)):\n",
    "        nums[start], nums[i] = nums[i], nums[start]\n",
    "        backtrack(nums, start+1, permutations)\n",
    "        nums[start], nums[i] = nums[i], nums[start]"
   ]
  },
  {
   "cell_type": "code",
   "execution_count": 6,
   "metadata": {},
   "outputs": [
    {
     "data": {
      "text/plain": [
       "[[1, 2, 3], [1, 3, 2], [2, 1, 3], [2, 3, 1], [3, 2, 1], [3, 1, 2]]"
      ]
     },
     "execution_count": 6,
     "metadata": {},
     "output_type": "execute_result"
    }
   ],
   "source": [
    "nums = [1, 2, 3]\n",
    "permute_backtrack(nums)"
   ]
  }
 ],
 "metadata": {
  "kernelspec": {
   "display_name": "Python 3",
   "language": "python",
   "name": "python3"
  },
  "language_info": {
   "codemirror_mode": {
    "name": "ipython",
    "version": 3
   },
   "file_extension": ".py",
   "mimetype": "text/x-python",
   "name": "python",
   "nbconvert_exporter": "python",
   "pygments_lexer": "ipython3",
   "version": "3.6.5"
  }
 },
 "nbformat": 4,
 "nbformat_minor": 2
}
