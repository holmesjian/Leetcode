{
 "cells": [
  {
   "cell_type": "markdown",
   "metadata": {},
   "source": [
    "# Problem\n",
    "\n",
    "Given two integers n and k, return all possible combinations of k numbers out of 1 ... n.<br>\n",
    "\n",
    "Example:<br>\n",
    "Input: n = 4, k = 2<br>\n",
    "Output:<br>\n",
    "[\n",
    "  [2,4],\n",
    "  [3,4],\n",
    "  [2,3],\n",
    "  [1,2],\n",
    "  [1,3],\n",
    "  [1,4],\n",
    "]"
   ]
  },
  {
   "cell_type": "markdown",
   "metadata": {},
   "source": [
    "# Brainstorm\n",
    "\n"
   ]
  },
  {
   "cell_type": "code",
   "execution_count": null,
   "metadata": {},
   "outputs": [],
   "source": [
    "class Solution:\n",
    "    def combine(self, n: int, k: int) -> List[List[int]]:\n",
    "        all_subsets = []\n",
    "        subset = []\n",
    "        start_index = 0\n",
    "        return self.helper(n, k, start_index, subset, all_subsets)\n",
    "    \n",
    "    def helper(self, n, k, start_index, subset, all_subsets):\n",
    "        if len(subset) == k:\n",
    "            all_subsets.append(subset)\n",
    "            return\n",
    "        \n",
    "        for i in range(start_index, n):\n",
    "            self.helper(n, k, i+1, subset+[i+1], all_subsets)\n",
    "        \n",
    "        return all_subsets"
   ]
  },
  {
   "cell_type": "code",
   "execution_count": 3,
   "metadata": {},
   "outputs": [],
   "source": [
    "def combine(n, k):\n",
    "    combinations = []\n",
    "    nums = range(1, n+1)\n",
    "    dfs(nums, k, 0, [], combinations)\n",
    "    return combinations\n",
    "    \n",
    "def dfs(nums, k, start, templist, combinations):\n",
    "    if k == 0:\n",
    "        combinations.append(templist)\n",
    "        return # backtracking \n",
    "    for i in range(start, len(nums)):\n",
    "        dfs(nums, k-1, i+1, templist+[nums[i]], combinations)"
   ]
  }
 ],
 "metadata": {
  "kernelspec": {
   "display_name": "Python 3",
   "language": "python",
   "name": "python3"
  },
  "language_info": {
   "codemirror_mode": {
    "name": "ipython",
    "version": 3
   },
   "file_extension": ".py",
   "mimetype": "text/x-python",
   "name": "python",
   "nbconvert_exporter": "python",
   "pygments_lexer": "ipython3",
   "version": "3.6.5"
  }
 },
 "nbformat": 4,
 "nbformat_minor": 2
}
