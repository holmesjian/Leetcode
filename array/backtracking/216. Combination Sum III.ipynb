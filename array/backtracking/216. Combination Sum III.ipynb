{
 "cells": [
  {
   "cell_type": "markdown",
   "metadata": {},
   "source": [
    "# Problem \n",
    "\n",
    "Find all possible combinations of k numbers that add up to a number n, given that only numbers from 1 to 9 can be used and each combination should be a unique set of numbers.<br>\n",
    "\n",
    "Note:\n",
    "- All numbers will be positive integers.\n",
    "- The solution set must not contain duplicate combinations.\n",
    "\n",
    "Example 1:<br>\n",
    "Input: k = 3, n = 7<br>\n",
    "Output: [[1,2,4]]<br>\n",
    "\n",
    "Example 2:<br>\n",
    "Input: k = 3, n = 9<br>\n",
    "Output: [[1,2,6], [1,3,5], [2,3,4]]"
   ]
  },
  {
   "cell_type": "code",
   "execution_count": null,
   "metadata": {},
   "outputs": [],
   "source": [
    " def combinationSum3(self, k: int, n: int) -> List[List[int]]:\n",
    "        result = []\n",
    "        nums = [i  for i in range(1,10)]\n",
    "        def backtrack(nums,index,n,k,path):\n",
    "            if n < 0:\n",
    "                return\n",
    "            if k == 0 and n == 0:\n",
    "                result.append(path)\n",
    "                return\n",
    "            for i in range(index,len(nums)):\n",
    "                if nums[i] > n:\n",
    "                    continue\n",
    "                backtrack(nums,i+1,n-nums[i],k-1,path+[nums[i]])\n",
    "        backtrack(nums,0,n,k,[])\n",
    "        return result"
   ]
  }
 ],
 "metadata": {
  "kernelspec": {
   "display_name": "Python 3",
   "language": "python",
   "name": "python3"
  },
  "language_info": {
   "codemirror_mode": {
    "name": "ipython",
    "version": 3
   },
   "file_extension": ".py",
   "mimetype": "text/x-python",
   "name": "python",
   "nbconvert_exporter": "python",
   "pygments_lexer": "ipython3",
   "version": "3.6.5"
  }
 },
 "nbformat": 4,
 "nbformat_minor": 2
}
