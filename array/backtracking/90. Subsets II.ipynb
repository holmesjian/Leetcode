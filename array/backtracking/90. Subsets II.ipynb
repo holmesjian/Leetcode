{
 "cells": [
  {
   "cell_type": "markdown",
   "metadata": {},
   "source": [
    "# Problem\n",
    "\n",
    "Given a collection of integers that might contain **duplicates**, nums, return all possible subsets (the power set).\n",
    "\n",
    "Note: \n",
    "- The solution set must not contain duplicate subsets.\n",
    "\n",
    "Example:<br>\n",
    "Input: [1,2,2]<br>\n",
    "Output:<br>\n",
    "[\n",
    "  [2],\n",
    "  [1],\n",
    "  [1,2,2],\n",
    "  [2,2],\n",
    "  [1,2],\n",
    "  []\n",
    "]"
   ]
  },
  {
   "cell_type": "markdown",
   "metadata": {},
   "source": [
    "# Brainstorm\n",
    "\n"
   ]
  },
  {
   "cell_type": "markdown",
   "metadata": {},
   "source": [
    "Solution 1: BFS"
   ]
  },
  {
   "cell_type": "code",
   "execution_count": 3,
   "metadata": {},
   "outputs": [],
   "source": [
    "def subsets_withdup(nums):\n",
    "    subsets = []\n",
    "    nums.sort()\n",
    "    dfs(nums, 0, [], subsets)\n",
    "    return subsets\n",
    "    \n",
    "def dfs(nums, start, templist, subsets):\n",
    "    subsets.append(templist)\n",
    "    for i in range(start, len(nums)):\n",
    "        if i > start and nums[i] == nums[i-1]:\n",
    "            continue\n",
    "        dfs(nums, i+1, templist+[nums[i]], subsets)"
   ]
  },
  {
   "cell_type": "code",
   "execution_count": 4,
   "metadata": {},
   "outputs": [
    {
     "data": {
      "text/plain": [
       "[[], [1], [1, 2], [1, 2, 2], [2], [2, 2]]"
      ]
     },
     "execution_count": 4,
     "metadata": {},
     "output_type": "execute_result"
    }
   ],
   "source": [
    "nums = [1, 2, 2]\n",
    "subsets_withdup(nums)"
   ]
  },
  {
   "cell_type": "markdown",
   "metadata": {},
   "source": [
    "Solution 2: backtrack"
   ]
  },
  {
   "cell_type": "code",
   "execution_count": 7,
   "metadata": {},
   "outputs": [],
   "source": [
    "def subsets_withdup_backtrack(nums):\n",
    "    subsets = []\n",
    "    nums.sort()\n",
    "    backtrack(nums, 0, [], subsets)\n",
    "    return subsets\n",
    "\n",
    "def backtrack(nums, start, templist, subsets):\n",
    "    subsets.append(templist[:])\n",
    "    for i in range(start, len(nums)):\n",
    "        if i > start and nums[i] == nums[i-1]:\n",
    "            continue\n",
    "        templist.append(nums[i])\n",
    "        backtrack(nums, i+1, templist, subsets)\n",
    "        templist.pop()"
   ]
  },
  {
   "cell_type": "code",
   "execution_count": 8,
   "metadata": {},
   "outputs": [
    {
     "data": {
      "text/plain": [
       "[[], [1], [1, 2], [1, 2, 2], [2], [2, 2]]"
      ]
     },
     "execution_count": 8,
     "metadata": {},
     "output_type": "execute_result"
    }
   ],
   "source": [
    "nums = [1, 2, 2]\n",
    "subsets_withdup_backtrack(nums)"
   ]
  }
 ],
 "metadata": {
  "kernelspec": {
   "display_name": "Python 3",
   "language": "python",
   "name": "python3"
  },
  "language_info": {
   "codemirror_mode": {
    "name": "ipython",
    "version": 3
   },
   "file_extension": ".py",
   "mimetype": "text/x-python",
   "name": "python",
   "nbconvert_exporter": "python",
   "pygments_lexer": "ipython3",
   "version": "3.6.5"
  }
 },
 "nbformat": 4,
 "nbformat_minor": 2
}
