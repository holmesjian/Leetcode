{
 "cells": [
  {
   "cell_type": "markdown",
   "metadata": {},
   "source": [
    "# Problem\n",
    "\n",
    "Given a collection of numbers that might contain duplicates, return all possible unique permutations.<br>\n",
    "\n",
    "Example:<br>\n",
    "Input: [1,1,2]<br>\n",
    "Output:<br>\n",
    "[\n",
    "  [1,1,2],\n",
    "  [1,2,1],\n",
    "  [2,1,1]\n",
    "]"
   ]
  },
  {
   "cell_type": "markdown",
   "metadata": {},
   "source": [
    "# Brainstorm"
   ]
  },
  {
   "cell_type": "markdown",
   "metadata": {},
   "source": [
    "Solution 1: BFS"
   ]
  },
  {
   "cell_type": "code",
   "execution_count": 2,
   "metadata": {},
   "outputs": [],
   "source": [
    "def permute_unique(nums):\n",
    "    permutations = []\n",
    "    visited = [False]*len(nums)\n",
    "    nums.sort()\n",
    "    dfs(nums, visited, [], permutations)\n",
    "    return permutations\n",
    "    \n",
    "def dfs(nums, visited, templist, permutations):\n",
    "    if len(nums) == len(templist):\n",
    "        permutations.append(templist)\n",
    "        return \n",
    "    for i in range(len(nums)):\n",
    "        if not visited[i]: \n",
    "            if i > 0 and not visited[i-1] and nums[i] == nums[i-1]:  # here should pay attention\n",
    "                continue\n",
    "            visited[i] = True\n",
    "            dfs(nums, visited, templist+[nums[i]], permutations)\n",
    "            visited[i] = False"
   ]
  },
  {
   "cell_type": "code",
   "execution_count": 3,
   "metadata": {},
   "outputs": [
    {
     "data": {
      "text/plain": [
       "[[1, 1, 2], [1, 2, 1], [2, 1, 1]]"
      ]
     },
     "execution_count": 3,
     "metadata": {},
     "output_type": "execute_result"
    }
   ],
   "source": [
    "nums = [1, 1, 2]\n",
    "permute_unique(nums)"
   ]
  },
  {
   "cell_type": "markdown",
   "metadata": {},
   "source": [
    "Solution 2: backtrack"
   ]
  },
  {
   "cell_type": "code",
   "execution_count": 4,
   "metadata": {},
   "outputs": [],
   "source": [
    "def permute_unique_backtrack(nums):\n",
    "    permutations = []\n",
    "    visited = [False] * len(nums)\n",
    "    nums.sort()\n",
    "    backtrack(nums, [], visited, permutations)\n",
    "    return permutations\n",
    "    \n",
    "def backtrack(nums, templist, visited, permutations):\n",
    "    if len(templist) == len(nums):\n",
    "        permutations.append(templist[:])\n",
    "    else:\n",
    "        for i in range(len(nums)):\n",
    "            if visited[i] or (i > 0 and nums[i-1] == nums[i] and not visited[i-1]):\n",
    "                continue\n",
    "            visited[i] = True\n",
    "            templist.append(nums[i])\n",
    "            backtrack(nums, templist, visited, permutations)\n",
    "            templist.pop()\n",
    "            visited[i] = False"
   ]
  },
  {
   "cell_type": "code",
   "execution_count": 5,
   "metadata": {},
   "outputs": [
    {
     "data": {
      "text/plain": [
       "[[1, 1, 2], [1, 2, 1], [2, 1, 1]]"
      ]
     },
     "execution_count": 5,
     "metadata": {},
     "output_type": "execute_result"
    }
   ],
   "source": [
    "nums = [1, 1, 2]\n",
    "permute_unique_backtrack(nums)"
   ]
  }
 ],
 "metadata": {
  "kernelspec": {
   "display_name": "Python 3",
   "language": "python",
   "name": "python3"
  },
  "language_info": {
   "codemirror_mode": {
    "name": "ipython",
    "version": 3
   },
   "file_extension": ".py",
   "mimetype": "text/x-python",
   "name": "python",
   "nbconvert_exporter": "python",
   "pygments_lexer": "ipython3",
   "version": "3.6.5"
  }
 },
 "nbformat": 4,
 "nbformat_minor": 2
}
