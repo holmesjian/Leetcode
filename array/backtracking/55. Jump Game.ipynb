{
 "cells": [
  {
   "cell_type": "markdown",
   "metadata": {},
   "source": [
    "# Problem\n",
    "\n",
    "Given an array of non-negative integers, you are initially positioned at the first index of the array.<br>\n",
    "\n",
    "Each element in the array represents your maximum jump length at that position.<br>\n",
    "\n",
    "Determine if you are able to reach the last index.<br>\n",
    "\n",
    " \n",
    "\n",
    "Example 1:<br>\n",
    "\n",
    "Input: nums = [2,3,1,1,4]<br>\n",
    "Output: true<br>\n",
    "Explanation: Jump 1 step from index 0 to 1, then 3 steps to the last index.<br>\n",
    "\n",
    "Example 2:<br>\n",
    "\n",
    "Input: nums = [3,2,1,0,4]<br>\n",
    "Output: false<br>\n",
    "Explanation: You will always arrive at index 3 no matter what. Its maximum jump length is 0, which makes it impossible to reach the last index.<br>\n",
    " \n",
    "\n",
    "Constraints:\n",
    "\n",
    "1 <= nums.length <= 3 * 10^4<br>\n",
    "0 <= nums[i][j] <= 10^5<br>"
   ]
  }
 ],
 "metadata": {
  "kernelspec": {
   "display_name": "Python 3",
   "language": "python",
   "name": "python3"
  },
  "language_info": {
   "codemirror_mode": {
    "name": "ipython",
    "version": 3
   },
   "file_extension": ".py",
   "mimetype": "text/x-python",
   "name": "python",
   "nbconvert_exporter": "python",
   "pygments_lexer": "ipython3",
   "version": "3.6.5"
  }
 },
 "nbformat": 4,
 "nbformat_minor": 2
}
