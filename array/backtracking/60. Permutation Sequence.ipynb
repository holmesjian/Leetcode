{
 "cells": [
  {
   "cell_type": "markdown",
   "metadata": {},
   "source": [
    "# Problem\n",
    "\n",
    "The set [1,2,3,...,n] contains a total of n! unique permutations.<br>\n",
    "By listing and labeling all of the permutations in order, we get the following sequence for n = 3:<br>\n",
    "\n",
    "\"123\"<br>\n",
    "\"132\"<br>\n",
    "\"213\"<br>\n",
    "\"231\"<br>\n",
    "\"312\"<br>\n",
    "\"321\"<br>\n",
    "Given n and k, return the kth permutation sequence.<br>\n",
    "\n",
    "Note:\n",
    "- Given n will be between 1 and 9 inclusive.\n",
    "- Given k will be between 1 and n! inclusive.\n",
    "\n",
    "Example 1:<br>\n",
    "Input: n = 3, k = 3<br>\n",
    "Output: \"213\"<br>\n",
    "\n",
    "Example 2:<br>\n",
    "Input: n = 4, k = 9<br>\n",
    "Output: \"2314\""
   ]
  },
  {
   "cell_type": "markdown",
   "metadata": {},
   "source": [
    "Solution 1: backtrack"
   ]
  },
  {
   "cell_type": "code",
   "execution_count": 3,
   "metadata": {},
   "outputs": [],
   "source": [
    "def get_permutation(n, k):\n",
    "    nums = [str(i) for i in range(1, n+1)]\n",
    "    fact = [1] * n\n",
    "    for i in range(1, n):\n",
    "        fact[i] = i*fact[i-1]\n",
    "    k -= 1\n",
    "    \n",
    "    permutations = []\n",
    "    for i in range(n, 0, -1):\n",
    "        id = k // fact[i-1]\n",
    "        k %= fact[i-1]\n",
    "        permutations.append(nums[id])\n",
    "        nums.pop(id)\n",
    "    return ''.join(permutations)"
   ]
  },
  {
   "cell_type": "code",
   "execution_count": 4,
   "metadata": {},
   "outputs": [
    {
     "data": {
      "text/plain": [
       "'213'"
      ]
     },
     "execution_count": 4,
     "metadata": {},
     "output_type": "execute_result"
    }
   ],
   "source": [
    "n = 3\n",
    "k = 3\n",
    "get_permutation(3, 3)"
   ]
  }
 ],
 "metadata": {
  "kernelspec": {
   "display_name": "Python 3",
   "language": "python",
   "name": "python3"
  },
  "language_info": {
   "codemirror_mode": {
    "name": "ipython",
    "version": 3
   },
   "file_extension": ".py",
   "mimetype": "text/x-python",
   "name": "python",
   "nbconvert_exporter": "python",
   "pygments_lexer": "ipython3",
   "version": "3.6.5"
  }
 },
 "nbformat": 4,
 "nbformat_minor": 2
}
