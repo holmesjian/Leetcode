{
 "cells": [
  {
   "cell_type": "markdown",
   "metadata": {},
   "source": [
    "# Problem\n",
    "\n",
    "Given a set of distinct integers, nums, return all possible subsets (the power set).<br>\n",
    "\n",
    "Note: The solution set must not contain duplicate subsets.<br>\n",
    "\n",
    "Example:<br>\n",
    "Input: nums = [1,2,3]<br>\n",
    "Output:\n",
    "[\n",
    "  [3],\n",
    "  [1],\n",
    "  [2],\n",
    "  [1,2,3],\n",
    "  [1,3],\n",
    "  [2,3],\n",
    "  [1,2],\n",
    "  []\n",
    "]"
   ]
  },
  {
   "cell_type": "markdown",
   "metadata": {},
   "source": [
    "# Brainstorm\n",
    "\n",
    "This question seems easy but it is not.\n"
   ]
  },
  {
   "cell_type": "markdown",
   "metadata": {},
   "source": [
    "append() or **+=** will modify the same copy. "
   ]
  },
  {
   "cell_type": "code",
   "execution_count": 32,
   "metadata": {},
   "outputs": [],
   "source": [
    "nums = [1, 2, 3]"
   ]
  },
  {
   "cell_type": "code",
   "execution_count": 35,
   "metadata": {},
   "outputs": [],
   "source": [
    "all_combinations = []\n",
    "\n",
    "for i in range(len(nums)):\n",
    "    subset = [nums[i]]\n",
    "    all_combinations.append(subset)\n",
    "    for j in range(i+1, len(nums)):\n",
    "        subset.append(nums[j])\n",
    "        all_combinations.append(subset)\n",
    "        "
   ]
  },
  {
   "cell_type": "code",
   "execution_count": 36,
   "metadata": {},
   "outputs": [
    {
     "data": {
      "text/plain": [
       "[[1, 2, 3], [1, 2, 3], [1, 2, 3], [2, 3], [2, 3], [3]]"
      ]
     },
     "execution_count": 36,
     "metadata": {},
     "output_type": "execute_result"
    }
   ],
   "source": [
    "all_combinations"
   ]
  },
  {
   "cell_type": "code",
   "execution_count": 39,
   "metadata": {},
   "outputs": [
    {
     "name": "stdout",
     "output_type": "stream",
     "text": [
      "[[1], [2], [3]]\n"
     ]
    }
   ],
   "source": [
    "nums = [1, 2, 3]\n",
    "all_combinations = []\n",
    "for num in nums:\n",
    "    all_combinations.append([num])\n",
    "print(all_combinations)"
   ]
  },
  {
   "cell_type": "code",
   "execution_count": 52,
   "metadata": {},
   "outputs": [
    {
     "name": "stdout",
     "output_type": "stream",
     "text": [
      "[[1], [1, 2], [1, 2, 3], [1, 2, 3, 4], [1, 3], [1, 3, 4], [1, 4], [2], [2, 3], [2, 3, 4], [2, 4], [3], [3, 4], [4]]\n",
      "14\n"
     ]
    }
   ],
   "source": [
    "nums = [1, 2, 3, 4]\n",
    "all_combinations = []\n",
    "\n",
    "\n",
    "for i in range(len(nums)):\n",
    "    subset = [nums[i]]\n",
    "    all_combinations.append(subset[:])\n",
    "    \n",
    "    \n",
    "    for j in range(i+1, len(nums)):\n",
    "        subset = [nums[i]]\n",
    "        subset.append(nums[j])\n",
    "        all_combinations.append(subset[:])\n",
    "        \n",
    "        for k in range(j+1, len(nums)):   \n",
    "            subset.append(nums[k])\n",
    "            all_combinations.append(subset[:])          \n",
    "\n",
    "print(all_combinations)\n",
    "print(len(all_combinations))"
   ]
  },
  {
   "cell_type": "markdown",
   "metadata": {},
   "source": [
    "- copy vs modify mutable object \n",
    "    - list.append() adds a reference to the list, not a copy. \n",
    "- keep track inside the for loop is not trivial. How about saving outside the loop and update?"
   ]
  },
  {
   "cell_type": "code",
   "execution_count": 86,
   "metadata": {},
   "outputs": [],
   "source": [
    "def subsets(nums):\n",
    "    all_subsets = [[]]\n",
    "    \n",
    "    for num in nums:\n",
    "        for i in range(len(all_subsets)): # use length to record the length of all_subsets before appending\n",
    "            all_subsets.append(all_subsets[i]+[num]) # cancatenation to create new list\n",
    "    return all_subsets"
   ]
  },
  {
   "cell_type": "code",
   "execution_count": 104,
   "metadata": {},
   "outputs": [],
   "source": [
    "def subsets_test(nums):\n",
    "    all_subsets = [[]]\n",
    "    \n",
    "    for num in nums:\n",
    "        for i in range(len(all_subsets)):\n",
    "            \n",
    "            all_subsets[i].append(num)\n",
    "            all_subsets.append(all_subsets[i])\n",
    "    return all_subsets"
   ]
  },
  {
   "cell_type": "code",
   "execution_count": 105,
   "metadata": {},
   "outputs": [
    {
     "data": {
      "text/plain": [
       "[[1, 2, 2, 3, 3, 3, 3],\n",
       " [1, 2, 2, 3, 3, 3, 3],\n",
       " [1, 2, 2, 3, 3, 3, 3],\n",
       " [1, 2, 2, 3, 3, 3, 3],\n",
       " [1, 2, 2, 3, 3, 3, 3],\n",
       " [1, 2, 2, 3, 3, 3, 3],\n",
       " [1, 2, 2, 3, 3, 3, 3],\n",
       " [1, 2, 2, 3, 3, 3, 3]]"
      ]
     },
     "execution_count": 105,
     "metadata": {},
     "output_type": "execute_result"
    }
   ],
   "source": [
    "subsets_test([1, 2, 3])"
   ]
  },
  {
   "cell_type": "code",
   "execution_count": 100,
   "metadata": {},
   "outputs": [],
   "source": [
    "def subsets(nums):\n",
    "    all_subsets = [[]]\n",
    "    if not nums:\n",
    "        return all_subsets\n",
    "    for num in nums:\n",
    "        for subset in all_subsets[:]:\n",
    "            temp = subset + [num]\n",
    "            all_subsets.append(temp) # this results in infinite loop.\n",
    "    return all_subsets"
   ]
  },
  {
   "cell_type": "code",
   "execution_count": null,
   "metadata": {},
   "outputs": [],
   "source": []
  },
  {
   "cell_type": "markdown",
   "metadata": {},
   "source": [
    "# Solution 1: bottom up "
   ]
  },
  {
   "cell_type": "markdown",
   "metadata": {},
   "source": [
    "Solution 2: top down dynamic programming"
   ]
  },
  {
   "cell_type": "code",
   "execution_count": 72,
   "metadata": {},
   "outputs": [],
   "source": [
    "def subsets(nums):\n",
    "    subsets = []\n",
    "    dfs(subsets, [], nums, 0)\n",
    "    return subsets\n",
    "\n",
    "def dfs(subsets, templist, nums, start):\n",
    "    subsets.append(templist)\n",
    "    for i in range(start, len(nums)):\n",
    "        dfs(subsets, templist+[nums[i]], nums, i+1)"
   ]
  },
  {
   "cell_type": "code",
   "execution_count": 73,
   "metadata": {},
   "outputs": [],
   "source": [
    "nums = [1, 2, 3]"
   ]
  },
  {
   "cell_type": "code",
   "execution_count": 74,
   "metadata": {},
   "outputs": [
    {
     "data": {
      "text/plain": [
       "[[], [1], [1, 2], [1, 2, 3], [1, 3], [2], [2, 3], [3]]"
      ]
     },
     "execution_count": 74,
     "metadata": {},
     "output_type": "execute_result"
    }
   ],
   "source": [
    "subsets(nums)"
   ]
  },
  {
   "cell_type": "markdown",
   "metadata": {},
   "source": [
    "Solution 3: backtrack"
   ]
  },
  {
   "cell_type": "code",
   "execution_count": 69,
   "metadata": {},
   "outputs": [],
   "source": [
    "def find_subsets(nums):\n",
    "    subsets = []\n",
    "    backtrack(subsets, 0, [])\n",
    "    return subsets\n",
    "\n",
    "def backtrack(subsets, start, templist):\n",
    "    subsets.append(templist[:])\n",
    "    for i in range(start, len(nums)):\n",
    "        templist.append(nums[i])\n",
    "        backtrack(subsets, i+1, templist)\n",
    "        templist.pop()"
   ]
  },
  {
   "cell_type": "code",
   "execution_count": 70,
   "metadata": {},
   "outputs": [],
   "source": [
    "nums = [1, 2, 3]"
   ]
  },
  {
   "cell_type": "code",
   "execution_count": 71,
   "metadata": {},
   "outputs": [
    {
     "data": {
      "text/plain": [
       "[[], [1], [1, 2], [1, 2, 3], [1, 3], [2], [2, 3], [3]]"
      ]
     },
     "execution_count": 71,
     "metadata": {},
     "output_type": "execute_result"
    }
   ],
   "source": [
    "find_subsets(nums)"
   ]
  }
 ],
 "metadata": {
  "kernelspec": {
   "display_name": "Python 3",
   "language": "python",
   "name": "python3"
  },
  "language_info": {
   "codemirror_mode": {
    "name": "ipython",
    "version": 3
   },
   "file_extension": ".py",
   "mimetype": "text/x-python",
   "name": "python",
   "nbconvert_exporter": "python",
   "pygments_lexer": "ipython3",
   "version": "3.6.5"
  }
 },
 "nbformat": 4,
 "nbformat_minor": 2
}
