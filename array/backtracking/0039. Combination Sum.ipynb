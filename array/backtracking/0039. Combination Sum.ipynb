{
 "cells": [
  {
   "cell_type": "markdown",
   "metadata": {},
   "source": [
    "# Problem\n",
    "Given a set of candidate numbers (candidates) (without duplicates) and a target number (target), find all unique combinations in candidates where the candidate numbers sums to target. The same repeated number may be chosen from candidates unlimited number of times.\n",
    "\n",
    "Note:\n",
    "\n",
    "- All numbers (including target) will be positive integers.\n",
    "- The solution set must not contain duplicate combinations.\n",
    "\n",
    "Example 1:<br>\n",
    "Input: candidates = [2,3,6,7], target = 7,<br>\n",
    "A solution set is:<br>\n",
    "[\n",
    "  [7],\n",
    "  [2,2,3]\n",
    "]\n",
    "\n",
    "Example 2:<br>\n",
    "Input: candidates = [2,3,5], target = 8,<br>\n",
    "A solution set is:<br>\n",
    "[\n",
    "  [2,2,2,2],\n",
    "  [2,3,3],\n",
    "  [3,5]\n",
    "]"
   ]
  },
  {
   "cell_type": "markdown",
   "metadata": {},
   "source": [
    "# Brainstorm\n",
    "\n",
    "\n",
    "\n"
   ]
  },
  {
   "cell_type": "markdown",
   "metadata": {},
   "source": [
    "# Solution 1\n",
    "##### dfs"
   ]
  },
  {
   "cell_type": "code",
   "execution_count": null,
   "metadata": {},
   "outputs": [],
   "source": [
    "class Solution:\n",
    "    def combinationSum(self, candidates: List[int], target: int) -> List[List[int]]:\n",
    "        candidates.sort()\n",
    "        subset = []\n",
    "        all_subsets = []\n",
    "        loop_start = 0\n",
    "        return self.helper(candidates, target, loop_start, subset, all_subsets)\n",
    "    \n",
    "    def helper(self, candidates, target, loop_start, subset, all_subsets):\n",
    "        \n",
    "        if sum(subset) > target:\n",
    "            return\n",
    "        elif sum(subset) == target:\n",
    "            all_subsets.append(subset)\n",
    "            return\n",
    "            \n",
    "        for i in range(loop_start, len(candidates)):\n",
    "            self.helper(candidates, target, i, subset+[candidates[i]], all_subsets)\n",
    "            \n",
    "        return all_subsets"
   ]
  },
  {
   "cell_type": "code",
   "execution_count": 4,
   "metadata": {},
   "outputs": [],
   "source": [
    "def combination_sum(candidates, target):\n",
    "    subsets = []\n",
    "    candidates.sort()\n",
    "    dfs(candidates, target, 0, [], subsets)\n",
    "    return subsets\n",
    "    \n",
    "def dfs(candidates, target, start, templist, subsets):\n",
    "    if target < 0:\n",
    "        return  # backtracking\n",
    "    if target == 0:\n",
    "        subsets.append(templist)\n",
    "        return \n",
    "    for i in range(start, len(candidates)):\n",
    "        dfs(candidates, target-candidates[i], i, templist+[candidates[i]], subsets)"
   ]
  },
  {
   "cell_type": "markdown",
   "metadata": {},
   "source": [
    "My wrong solution, which counted duplicate combinations:"
   ]
  },
  {
   "cell_type": "code",
   "execution_count": null,
   "metadata": {},
   "outputs": [],
   "source": [
    "class Solution:\n",
    "    def combinationSum(self, candidates: List[int], target: int) -> List[List[int]]:\n",
    "        candidates.sort()\n",
    "        subset = []\n",
    "        all_subsets = []\n",
    "        return self.helper(candidates, target, subset, all_subsets)\n",
    "    \n",
    "    def helper(self, candidates, target, subset, all_subsets):\n",
    "        \n",
    "        if sum(subset) > target:\n",
    "            return\n",
    "        elif sum(subset) == target:\n",
    "            all_subsets.append(subset)\n",
    "            return\n",
    "            \n",
    "        for i in range(len(candidates)):\n",
    "            self.helper(candidates, target, subset+[candidates[i]], all_subsets)\n",
    "            \n",
    "        return all_subsets"
   ]
  },
  {
   "cell_type": "markdown",
   "metadata": {},
   "source": [
    "# Solution 2: backtracking"
   ]
  },
  {
   "cell_type": "code",
   "execution_count": 9,
   "metadata": {},
   "outputs": [],
   "source": [
    "def combination_sum_backtrack(candidates, target):\n",
    "    subsets = [] \n",
    "    candidates.sort(reverse=True)\n",
    "    backtrack(candidates, target, 0, [], subsets)\n",
    "    return subsets\n",
    "    \n",
    "def backtrack(candidates, target, start, templist, subsets):\n",
    "    if target == 0:\n",
    "        subsets.append(templist[:])\n",
    "    elif target > 0:\n",
    "        for i in range(start, len(candidates)):\n",
    "            templist.append(candidates[i])\n",
    "            backtrack(candidates, target-candidates[i], i, templist, subsets)\n",
    "            templist.pop()"
   ]
  },
  {
   "cell_type": "code",
   "execution_count": 10,
   "metadata": {},
   "outputs": [
    {
     "data": {
      "text/plain": [
       "[[5, 3], [3, 3, 2], [2, 2, 2, 2]]"
      ]
     },
     "execution_count": 10,
     "metadata": {},
     "output_type": "execute_result"
    }
   ],
   "source": [
    "candidates = [2, 3, 5]\n",
    "target = 8\n",
    "combination_sum_backtrack(candidates, target)"
   ]
  },
  {
   "cell_type": "markdown",
   "metadata": {},
   "source": [
    "# Solution 3: bottom up dynamic programming"
   ]
  },
  {
   "cell_type": "code",
   "execution_count": 33,
   "metadata": {},
   "outputs": [
    {
     "name": "stdout",
     "output_type": "stream",
     "text": [
      "[[2, 3], [4], [5]]\n"
     ]
    }
   ],
   "source": [
    "def combinationSum(candidates, target):\n",
    "\n",
    "    if not candidates or not target:\n",
    "        return []\n",
    "\n",
    "    aux = [[] for _ in range(target + 1)]\n",
    "    aux[0].append([]) # this is because [[2] + comb for comb in []] will be []. \n",
    "\n",
    "    for val in candidates:\n",
    "        for i in range(val, 1+target):\n",
    "            dp[i].extend(comb+[val] for comb in dp[i-val])\n",
    "    return dp[target]"
   ]
  },
  {
   "cell_type": "code",
   "execution_count": 52,
   "metadata": {},
   "outputs": [
    {
     "name": "stdout",
     "output_type": "stream",
     "text": [
      "[[2, 2], [2]]\n"
     ]
    }
   ],
   "source": [
    "a = [[2, 2]]\n",
    "a.extend([2] + comb for comb in [[]])\n",
    "print(a)"
   ]
  },
  {
   "cell_type": "code",
   "execution_count": 51,
   "metadata": {},
   "outputs": [
    {
     "data": {
      "text/plain": [
       "[[2]]"
      ]
     },
     "execution_count": 51,
     "metadata": {},
     "output_type": "execute_result"
    }
   ],
   "source": [
    "[[2] + comb for comb in [[]]]"
   ]
  }
 ],
 "metadata": {
  "kernelspec": {
   "display_name": "Python 3",
   "language": "python",
   "name": "python3"
  },
  "language_info": {
   "codemirror_mode": {
    "name": "ipython",
    "version": 3
   },
   "file_extension": ".py",
   "mimetype": "text/x-python",
   "name": "python",
   "nbconvert_exporter": "python",
   "pygments_lexer": "ipython3",
   "version": "3.6.5"
  }
 },
 "nbformat": 4,
 "nbformat_minor": 2
}
