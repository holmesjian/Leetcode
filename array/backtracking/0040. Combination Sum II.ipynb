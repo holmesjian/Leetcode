{
 "cells": [
  {
   "cell_type": "markdown",
   "metadata": {},
   "source": [
    "# Problem\n",
    "\n",
    "Given a collection of candidate numbers (candidates) and a target number (target), find all unique combinations in candidates where the candidate numbers sums to target. Each number in candidates may only be used once in the combination.\n",
    "\n",
    "Note:\n",
    "- All numbers (including target) will be positive integers.\n",
    "- The solution set must not contain duplicate combinations.\n",
    "\n",
    "Example 1:<br>\n",
    "Input: candidates = [10,1,2,7,6,1,5], target = 8,<br>\n",
    "A solution set is:<br>\n",
    "[\n",
    "  [1, 7],\n",
    "  [1, 2, 5],\n",
    "  [2, 6],\n",
    "  [1, 1, 6]\n",
    "]\n",
    "\n",
    "Example 2:<br>\n",
    "Input: candidates = [2,5,2,1,2], target = 5,<br>\n",
    "A solution set is:<br>\n",
    "[\n",
    "  [1,2,2],\n",
    "  [5]\n",
    "]"
   ]
  },
  {
   "cell_type": "markdown",
   "metadata": {},
   "source": [
    "# Brainstorm\n",
    "\n"
   ]
  },
  {
   "cell_type": "code",
   "execution_count": 1,
   "metadata": {},
   "outputs": [],
   "source": [
    "a = [2, 5, 2, 1, 2]"
   ]
  },
  {
   "cell_type": "code",
   "execution_count": 2,
   "metadata": {},
   "outputs": [],
   "source": [
    "all_combinations = []"
   ]
  },
  {
   "cell_type": "code",
   "execution_count": 4,
   "metadata": {},
   "outputs": [],
   "source": [
    "for i in range(len(a)):\n",
    "    combination = []\n",
    "    for j in range(i+1, len(a)):\n",
    "        combination.append([a[i], a[j]])\n",
    "    all_combinations.append(combination)        "
   ]
  },
  {
   "cell_type": "code",
   "execution_count": 5,
   "metadata": {},
   "outputs": [
    {
     "data": {
      "text/plain": [
       "[[[2, 5], [2, 2], [2, 1], [2, 2]],\n",
       " [[5, 2], [5, 1], [5, 2]],\n",
       " [[2, 1], [2, 2]],\n",
       " [[1, 2]],\n",
       " []]"
      ]
     },
     "execution_count": 5,
     "metadata": {},
     "output_type": "execute_result"
    }
   ],
   "source": [
    "all_combinations"
   ]
  },
  {
   "cell_type": "markdown",
   "metadata": {},
   "source": [
    "# Solution 1: top down dynamic programming (dfs)"
   ]
  },
  {
   "cell_type": "code",
   "execution_count": null,
   "metadata": {},
   "outputs": [],
   "source": [
    "class Solution:\n",
    "    def combinationSum2(self, candidates: List[int], target: int) -> List[List[int]]:\n",
    "        \n",
    "        candidates.sort()\n",
    "        all_subsets = []\n",
    "        subset = []\n",
    "        start_index = 0\n",
    "        return self.helper(candidates, target, start_index, subset, all_subsets)\n",
    "    \n",
    "    def helper(self, candidates, target, start_index, subset, all_subsets):\n",
    "        \n",
    "        if sum(subset) > target:\n",
    "            return\n",
    "        elif sum(subset) == target:\n",
    "            all_subsets.append(subset)\n",
    "            return\n",
    "        \n",
    "        for i in range(start_index, len(candidates)):\n",
    "            if candidates[i] == candidates[i-1] and i > start_index:\n",
    "                continue\n",
    "                \n",
    "            self.helper(candidates, target, i+1, subset+[candidates[i]], all_subsets)\n",
    "            \n",
    "        return all_subsets"
   ]
  },
  {
   "cell_type": "code",
   "execution_count": 1,
   "metadata": {},
   "outputs": [],
   "source": [
    "def combination_sum2(candidates, target):\n",
    "    result = []\n",
    "    candidates.sort()\n",
    "    dfs(candidates, target, 0, [], result)\n",
    "    return result\n",
    "    \n",
    "def dfs(candidates, target, start, templist, result):\n",
    "    if target < 0:\n",
    "        return  \n",
    "    if target == 0:\n",
    "        result.append(templist)\n",
    "        return  \n",
    "    for i in range(start, len(candidates)):\n",
    "        if i > start and candidates[i] == candidates[i-1]:\n",
    "            continue\n",
    "        dfs(candidates, target-candidates[i], i+1, templist+[candidates[i]], result)"
   ]
  },
  {
   "cell_type": "markdown",
   "metadata": {},
   "source": [
    "Solution 2: Backtracking"
   ]
  },
  {
   "cell_type": "code",
   "execution_count": 5,
   "metadata": {},
   "outputs": [],
   "source": [
    "def combination_sum2_backtrack(candidates, target):\n",
    "    subsets = []\n",
    "    candidates.sort(reverse=True)\n",
    "    backtrack(candidates, target, 0, [], subsets)\n",
    "    return subsets\n",
    "\n",
    "def backtrack(candidates, target, start, templist, subsets):\n",
    "    if target == 0:\n",
    "        subsets.append(templist[:])\n",
    "        \n",
    "    elif target > 0:\n",
    "        for i in range(start, len(candidates)):\n",
    "            if i > start and candidates[i] == candidates[i-1]:\n",
    "                continue\n",
    "            templist.append(candidates[i])\n",
    "            backtrack(candidates, target-candidates[i], i+1, templist, subsets)\n",
    "            templist.pop()   "
   ]
  },
  {
   "cell_type": "markdown",
   "metadata": {},
   "source": [
    "# Solution 3: bottom up dynamic programming"
   ]
  },
  {
   "cell_type": "code",
   "execution_count": null,
   "metadata": {},
   "outputs": [],
   "source": [
    "def combinationSum2(self, candidates: List[int], target: int) -> List[List[int]]:\n",
    "    candidates.sort()\n",
    "    aux = [set() for i in range(target + 1)]\n",
    "    aux[0].add(())\n",
    "    for candidate in candidates:\n",
    "        for subtarget in range(target, candidate - 1, -1):\n",
    "            for prev in aux[subtarget - candidate]:\n",
    "                aux[subtarget].add(prev + (candidate,))\n",
    "    return list(aux[-1])"
   ]
  }
 ],
 "metadata": {
  "kernelspec": {
   "display_name": "Python 3",
   "language": "python",
   "name": "python3"
  },
  "language_info": {
   "codemirror_mode": {
    "name": "ipython",
    "version": 3
   },
   "file_extension": ".py",
   "mimetype": "text/x-python",
   "name": "python",
   "nbconvert_exporter": "python",
   "pygments_lexer": "ipython3",
   "version": "3.6.5"
  }
 },
 "nbformat": 4,
 "nbformat_minor": 2
}
