{
 "cells": [
  {
   "cell_type": "markdown",
   "metadata": {},
   "source": [
    "# Problem\n",
    "\n",
    "Given an array of meeting time intervals consisting of start and end times [[s1,e1],[s2,e2],...] (si < ei), determine if a person could attend all meetings.\n",
    "\n",
    "Example 1:<br>\n",
    "\n",
    "Input: [[0,30],[5,10],[15,20]]<br>\n",
    "Output: false<br>\n",
    "\n",
    "Example 2:<br>\n",
    "\n",
    "Input: [[7,10],[2,4]]<br>\n",
    "Output: true"
   ]
  },
  {
   "cell_type": "markdown",
   "metadata": {},
   "source": [
    "# Brainstorm\n",
    "\n",
    "Greedy approach:\n",
    "- Take meeting with earlist starting time\n",
    "- If overlap, return False\n",
    "- Time: NlogN for sorting, N for comparison of slot pairs, overall O(NlogN)\n",
    "- Space: O(1)."
   ]
  },
  {
   "cell_type": "code",
   "execution_count": null,
   "metadata": {},
   "outputs": [],
   "source": [
    "class Solution:\n",
    "    def canAttendMeetings(self, intervals):\n",
    "        if not intervals:\n",
    "            return True\n",
    "        \n",
    "        # Sort based on start time\n",
    "        intervals.sort(key=lambda x: x[0])\n",
    "        \n",
    "        for i in range(1, len(intervals)):\n",
    "            curr_start = intervals[i][0]\n",
    "            prev_end = intervals[i-1][1]\n",
    "            \n",
    "            # If previous slot ending time is later \n",
    "            # than current slot starting time\n",
    "            if prev_end > curr_start:\n",
    "                # There is overlap\n",
    "                return False\n",
    "        return True"
   ]
  }
 ],
 "metadata": {
  "kernelspec": {
   "display_name": "Python 3",
   "language": "python",
   "name": "python3"
  },
  "language_info": {
   "codemirror_mode": {
    "name": "ipython",
    "version": 3
   },
   "file_extension": ".py",
   "mimetype": "text/x-python",
   "name": "python",
   "nbconvert_exporter": "python",
   "pygments_lexer": "ipython3",
   "version": "3.6.5"
  }
 },
 "nbformat": 4,
 "nbformat_minor": 2
}
