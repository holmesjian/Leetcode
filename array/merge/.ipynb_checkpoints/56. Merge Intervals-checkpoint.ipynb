{
 "cells": [
  {
   "cell_type": "markdown",
   "metadata": {},
   "source": [
    "# 56. Merge Intervals\n",
    "Given a collection of intervals, merge all overlapping intervals.\n",
    "\n",
    "Example 1:<br>\n",
    "Input: [[1,3],[2,6],[8,10],[15,18]]<br>\n",
    "Output: [[1,6],[8,10],[15,18]]<br>\n",
    "Explanation: Since intervals [1,3] and [2,6] overlaps, merge them into [1,6].\n",
    "\n",
    "Example 2:<br>\n",
    "Input: [[1,4],[4,5]]<br>\n",
    "Output: [[1,5]]<br>\n",
    "Explanation: Intervals [1,4] and [4,5] are considered overlapping."
   ]
  },
  {
   "cell_type": "markdown",
   "metadata": {},
   "source": [
    "# Brainstorm\n",
    "\n",
    "sort with start time, then merge 2nd with 1st, they become the first, then merge with the next, until last one."
   ]
  },
  {
   "cell_type": "code",
   "execution_count": 8,
   "metadata": {},
   "outputs": [],
   "source": [
    "class Solution:\n",
    "    def merge(self, intervals: List[List[int]]) -> List[List[int]]:\n",
    "        if not intervals:\n",
    "            return []\n",
    "        \n",
    "        intervals.sort(key=lambda x: x[0])\n",
    "        \n",
    "        merged = [intervals[0]]\n",
    "        \n",
    "        for i in range(1, len(intervals)):\n",
    "            if merged[-1][0] <= intervals[i][0] <= merged[-1][1]:\n",
    "                merged[-1] = [merged[-1][0], max(intervals[i][1], merged[-1][1])]\n",
    "            else:\n",
    "                merged.append(intervals[i])\n",
    "                \n",
    "        return merged"
   ]
  }
 ],
 "metadata": {
  "kernelspec": {
   "display_name": "Python 3",
   "language": "python",
   "name": "python3"
  },
  "language_info": {
   "codemirror_mode": {
    "name": "ipython",
    "version": 3
   },
   "file_extension": ".py",
   "mimetype": "text/x-python",
   "name": "python",
   "nbconvert_exporter": "python",
   "pygments_lexer": "ipython3",
   "version": "3.6.5"
  }
 },
 "nbformat": 4,
 "nbformat_minor": 2
}
