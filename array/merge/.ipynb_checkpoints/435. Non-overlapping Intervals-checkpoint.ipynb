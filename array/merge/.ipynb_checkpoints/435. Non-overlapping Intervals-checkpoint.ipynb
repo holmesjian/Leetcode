{
 "cells": [
  {
   "cell_type": "markdown",
   "metadata": {},
   "source": [
    "# Problem\n",
    "\n",
    "Given a collection of intervals, find the minimum number of intervals you need to remove to make the rest of the intervals non-overlapping.\n",
    "\n",
    "\n",
    "Example 1:<br>\n",
    "\n",
    "Input: [[1,2],[2,3],[3,4],[1,3]]<br>\n",
    "Output: 1<br>\n",
    "Explanation: [1,3] can be removed and the rest of intervals are non-overlapping.<br>\n",
    "\n",
    "Example 2:<br>\n",
    "\n",
    "Input: [[1,2],[1,2],[1,2]]<br>\n",
    "Output: 2<br>\n",
    "Explanation: You need to remove two [1,2] to make the rest of intervals non-overlapping.\n",
    "\n",
    "Example 3:<br>\n",
    "\n",
    "Input: [[1,2],[2,3]]<br>\n",
    "Output: 0<br>\n",
    "Explanation: You don't need to remove any of the intervals since they're already non-overlapping.\n",
    " \n",
    "\n",
    "Note:\n",
    "\n",
    "You may assume the interval's end point is always bigger than its start point.<br>\n",
    "Intervals like [1,2] and [2,3] have borders \"touching\" but they don't overlap each other."
   ]
  }
 ],
 "metadata": {
  "kernelspec": {
   "display_name": "Python 3",
   "language": "python",
   "name": "python3"
  },
  "language_info": {
   "codemirror_mode": {
    "name": "ipython",
    "version": 3
   },
   "file_extension": ".py",
   "mimetype": "text/x-python",
   "name": "python",
   "nbconvert_exporter": "python",
   "pygments_lexer": "ipython3",
   "version": "3.6.5"
  }
 },
 "nbformat": 4,
 "nbformat_minor": 2
}
