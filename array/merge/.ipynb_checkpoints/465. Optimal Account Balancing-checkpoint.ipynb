{
 "cells": [
  {
   "cell_type": "markdown",
   "metadata": {},
   "source": [
    "# Problem\n",
    "\n",
    "A group of friends went on holiday and sometimes lent each other money. For example, Alice paid for Bill's lunch for $10. Then later Chris gave Alice $5 for a taxi ride. We can model each transaction as a tuple (x, y, z) which means person x gave person y $z. Assuming Alice, Bill, and Chris are person 0, 1, and 2 respectively (0, 1, 2 are the person's ID), the transactions can be represented as [[0, 1, 10], [2, 0, 5]].\n",
    "\n",
    "Given a list of transactions between a group of people, return the minimum number of transactions required to settle the debt.\n",
    "\n",
    "Note:\n",
    "\n",
    "A transaction will be given as a tuple (x, y, z). Note that x ≠ y and z > 0.\n",
    "Person's IDs may not be linear, e.g. we could have the persons 0, 1, 2 or we could also have the persons 0, 2, 6.\n",
    "\n",
    "Example 1:\n",
    "\n",
    "Input:<br>\n",
    "[[0,1,10], [2,0,5]] \n",
    "\n",
    "Output:<br>\n",
    "2\n",
    "\n",
    "Explanation:\n",
    "Person 0 gave person 1 $10.\n",
    "Person 2 gave person 0 $5.\n",
    "\n",
    "Two transactions are needed. One way to settle the debt is person #1 pays person #0 and #2 $5 each.<br>\n",
    "\n",
    "Example 2:\n",
    "\n",
    "Input:<br>\n",
    "[[0,1,10], [1,0,1], [1,2,5], [2,0,5]]<br>\n",
    "\n",
    "Output:<br>\n",
    "1\n",
    "\n",
    "Explanation:<br>\n",
    "Person 0 gave person 1 $10.\n",
    "Person 1 gave person 0 $1.\n",
    "Person 1 gave person 2 $5.\n",
    "Person 2 gave person 0 $5.\n",
    "\n",
    "Therefore, person #1 only need to give person #0 $4, and all debt is settled."
   ]
  }
 ],
 "metadata": {
  "kernelspec": {
   "display_name": "Python 3",
   "language": "python",
   "name": "python3"
  },
  "language_info": {
   "codemirror_mode": {
    "name": "ipython",
    "version": 3
   },
   "file_extension": ".py",
   "mimetype": "text/x-python",
   "name": "python",
   "nbconvert_exporter": "python",
   "pygments_lexer": "ipython3",
   "version": "3.6.5"
  }
 },
 "nbformat": 4,
 "nbformat_minor": 2
}
