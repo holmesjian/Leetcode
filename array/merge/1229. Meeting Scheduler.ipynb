{
 "cells": [
  {
   "cell_type": "markdown",
   "metadata": {},
   "source": [
    "# Problem\n",
    "\n",
    "Given the availability time slots arrays slots1 and slots2 of two people and a meeting duration duration, return the earliest time slot that works for both of them and is of duration duration.\n",
    "\n",
    "If there is no common time slot that satisfies the requirements, return an empty array.\n",
    "\n",
    "The format of a time slot is an array of two elements [start, end] representing an inclusive time range from start to end.  \n",
    "\n",
    "It is guaranteed that no two availability slots of the same person intersect with each other. That is, for any two time slots [start1, end1] and [start2, end2] of the same person, either start1 > end2 or start2 > end1.\n",
    "\n",
    " \n",
    "\n",
    "Example 1:\n",
    "\n",
    "Input: slots1 = [[10,50],[60,120],[140,210]], slots2 = [[0,15],[60,70]], duration = 8<br>\n",
    "Output: [60,68]<br>\n",
    "\n",
    "Example 2:\n",
    "\n",
    "Input: slots1 = [[10,50],[60,120],[140,210]], slots2 = [[0,15],[60,70]], duration = 12<br>\n",
    "Output: []<br>\n",
    " \n",
    "\n",
    "Constraints:\n",
    "\n",
    "1 <= slots1.length, slots2.length <= 10^4<br>\n",
    "slots1[i].length, slots2[i].length == 2<br>\n",
    "slots1[i][0] < slots1[i][1]<br>\n",
    "slots2[i][0] < slots2[i][1]<br>\n",
    "0 <= slots1[i][j], slots2[i][j] <= 10^9<br>\n",
    "1 <= duration <= 10^6 "
   ]
  },
  {
   "cell_type": "markdown",
   "metadata": {},
   "source": [
    "# Brainstorm\n",
    "\n",
    "Find overlapping time slots between the two people. \n",
    "- later start time + duration < end time of both people\n",
    "- "
   ]
  },
  {
   "cell_type": "markdown",
   "metadata": {},
   "source": [
    "Time limit exceed solution"
   ]
  },
  {
   "cell_type": "code",
   "execution_count": null,
   "metadata": {},
   "outputs": [],
   "source": [
    "class Solution:\n",
    "    def minAvailableDuration(self, slots1, slots2, duration):\n",
    "        \n",
    "        if not slots1 or not slots2:\n",
    "            return []\n",
    "        \n",
    "        slots1.sort(key=lambda x: x[0])\n",
    "        slots2.sort(key=lambda x: x[0])\n",
    "        \n",
    "        for slot1 in slots1:\n",
    "            for slot2 in slots2:\n",
    "                if slot1[0] <= slot2[0] < slot1[1] or slot2[0] <= slot1[0] < slot2[1]:\n",
    "                    start = max(slot1[0], slot2[0])\n",
    "                    meeting_end = start + duration\n",
    "                    if meeting_end <= slot1[1] and meeting_end <= slot2[1]:\n",
    "                        return [start, meeting_end]\n",
    "                \n",
    "        return []"
   ]
  },
  {
   "cell_type": "markdown",
   "metadata": {},
   "source": [
    "This does not make use of the fact that both lists are sorted."
   ]
  },
  {
   "cell_type": "code",
   "execution_count": null,
   "metadata": {},
   "outputs": [],
   "source": []
  }
 ],
 "metadata": {
  "kernelspec": {
   "display_name": "Python 3",
   "language": "python",
   "name": "python3"
  },
  "language_info": {
   "codemirror_mode": {
    "name": "ipython",
    "version": 3
   },
   "file_extension": ".py",
   "mimetype": "text/x-python",
   "name": "python",
   "nbconvert_exporter": "python",
   "pygments_lexer": "ipython3",
   "version": "3.6.5"
  }
 },
 "nbformat": 4,
 "nbformat_minor": 2
}
