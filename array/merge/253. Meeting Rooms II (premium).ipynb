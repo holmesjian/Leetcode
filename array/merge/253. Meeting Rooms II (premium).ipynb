{
 "cells": [
  {
   "cell_type": "markdown",
   "metadata": {},
   "source": [
    "# Problem\n",
    "\n",
    "Given an array of meeting time intervals consisting of start and end times [[s1,e1],[s2,e2],...] (si < ei), find the minimum number of conference rooms required.<br>\n",
    "\n",
    "Example 1:<br>\n",
    "Input: [[0, 30],[5, 10],[15, 20]]<br>\n",
    "Output: 2<br>\n",
    "\n",
    "Example 2:<br>\n",
    "Input: [[7,10],[2,4]]<br>\n",
    "Output: 1<br>"
   ]
  },
  {
   "cell_type": "markdown",
   "metadata": {},
   "source": [
    "# Brainstorm\n",
    "\n",
    "If we sort the meetings based on start time, there are several scenarios:\n",
    "- the next meeting does not overlap with the previous meeting, so we don't need to allocate a new room.\n",
    "- the next meeting overlaps with the previous meeting, and there is only 1 meeting happening, we will allocate a new room.\n",
    "- the next meeting overlaps with the previous meeting, but an even earlier meeting has ended, then we don't allocate a new room.\n",
    "- the next meeting overlaps with the previous meeting, all earlier meetings have not ended, then we will allocate a new room.\n",
    "\n",
    "So we need to keep track of previous meetings' ending time and check an earlier ending meeting and compare it with the current meeting, a min heap could help to reduce time complexicity from O(N^2) to O(N Log N). heap push take logN time. So using heap, the time is dominated by sorting which is O(NlogN). Space is O(N), same as an array.\n"
   ]
  },
  {
   "cell_type": "markdown",
   "metadata": {},
   "source": [
    "# Solution"
   ]
  },
  {
   "cell_type": "code",
   "execution_count": null,
   "metadata": {},
   "outputs": [],
   "source": [
    "import heapq\n",
    "\n",
    "class Solution:\n",
    "    def minMeetingRooms(self, intervals):\n",
    "        if not intervals:\n",
    "            return 0\n",
    "        \n",
    "        # Sort intervals based on start time\n",
    "        intervals.sort(key=lambda x: x[0])\n",
    "        \n",
    "        room_heap = []\n",
    "        heapq.heappush(room_heap, (intervals[0][1], intervals[0][0])) \n",
    "        room_count = 1\n",
    "        \n",
    "        for i in range(1, len(intervals)):\n",
    "            curr_start = intervals[i][0]\n",
    "            prev_end = intervals[i-1][1]\n",
    "            \n",
    "            # If two meetings overlap\n",
    "            if curr_start < prev_end:\n",
    "                # Check if any earlier meeting has ended\n",
    "                earliest_end_meeting = room_heap[0]\n",
    "                earliest_end = earliest_end_meeting[0]\n",
    "                \n",
    "                # If got a meeting ended\n",
    "                if curr_start >= earliest_end:\n",
    "                    heapq.heappushpop(room_heap, (intervals[i][1], intervals[i][0]))\n",
    "                else:\n",
    "                    # no meeting ended\n",
    "                    # allocate a new room\n",
    "                    # add to room heap\n",
    "                    room_count += 1\n",
    "                    heapq.heappush(room_heap, (intervals[i][1], intervals[i][0]))\n",
    "            \n",
    "            # If two meetings do not overlap\n",
    "            # Use the same meeting room as previous meeting\n",
    "            # So the room in heap of previous meeting changed \n",
    "            # to current meeting time\n",
    "            else:\n",
    "                heapq.heappushpop(room_heap, (intervals[i][1], intervals[i][0]))\n",
    "        \n",
    "        return room_count"
   ]
  },
  {
   "cell_type": "markdown",
   "metadata": {},
   "source": [
    "Simplify the code:"
   ]
  },
  {
   "cell_type": "code",
   "execution_count": null,
   "metadata": {},
   "outputs": [],
   "source": [
    "import heapq\n",
    "\n",
    "class Solution:\n",
    "    def minMeetingRooms(self, intervals: List[List[int]]) -> int:\n",
    "        if not intervals:\n",
    "            return 0\n",
    "        \n",
    "        # Sort intervals based on start time\n",
    "        intervals.sort(key=lambda x: x[0])\n",
    "        \n",
    "        room_heap = []\n",
    "        heapq.heappush(room_heap, intervals[0][1]) \n",
    "        room_count = 1\n",
    "        \n",
    "        for i in range(1, len(intervals)):\n",
    "            curr_start = intervals[i][0]\n",
    "            prev_end = intervals[i-1][1]\n",
    "            \n",
    "            # If two meetings overlap\n",
    "            if curr_start < prev_end:\n",
    "                # Check if any earlier meeting has ended\n",
    "                earliest_end = room_heap[0]\n",
    "                \n",
    "                # If got a meeting ended\n",
    "                if curr_start >= earliest_end:\n",
    "                    heapq.heappushpop(room_heap, intervals[i][1])\n",
    "                else:\n",
    "                    # no meeting ended\n",
    "                    # allocate a new room\n",
    "                    # add to room heap\n",
    "                    room_count += 1\n",
    "                    heapq.heappush(room_heap, intervals[i][1])\n",
    "            \n",
    "            # If two meetings do not overlap\n",
    "            # Use the same meeting room as previous meeting\n",
    "            # So the room in heap of previous meeting changed \n",
    "            # to current meeting time\n",
    "            else:\n",
    "                heapq.heappushpop(room_heap, intervals[i][1])\n",
    "        \n",
    "        return room_count"
   ]
  }
 ],
 "metadata": {
  "kernelspec": {
   "display_name": "Python 3",
   "language": "python",
   "name": "python3"
  },
  "language_info": {
   "codemirror_mode": {
    "name": "ipython",
    "version": 3
   },
   "file_extension": ".py",
   "mimetype": "text/x-python",
   "name": "python",
   "nbconvert_exporter": "python",
   "pygments_lexer": "ipython3",
   "version": "3.6.5"
  }
 },
 "nbformat": 4,
 "nbformat_minor": 2
}
