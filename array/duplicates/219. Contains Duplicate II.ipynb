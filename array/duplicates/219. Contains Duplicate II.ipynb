{
 "cells": [
  {
   "cell_type": "markdown",
   "metadata": {},
   "source": [
    "# Problem\n",
    "\n",
    "Given an array of integers and an integer k, find out whether there are two distinct indices i and j in the array such that nums[i] = nums[j] and the absolute difference between i and j is at most k.\n",
    "\n",
    "Example 1:<br>\n",
    "\n",
    "Input: nums = [1,2,3,1], k = 3<br>\n",
    "Output: true<br>\n",
    "\n",
    "Example 2:<br>\n",
    "\n",
    "Input: nums = [1,0,1,1], k = 1<br>\n",
    "Output: true<br>\n",
    "\n",
    "Example 3:\n",
    "\n",
    "Input: nums = [1,2,3,1,2,3], k = 2<br>\n",
    "Output: false"
   ]
  },
  {
   "cell_type": "markdown",
   "metadata": {},
   "source": [
    "# Brainstorm\n",
    "\n",
    "In addition to find the duplicates, we need to keep track of the index of the each element so that we can know the distance between current and previousely seen elements."
   ]
  },
  {
   "cell_type": "markdown",
   "metadata": {},
   "source": [
    "# Solution"
   ]
  },
  {
   "cell_type": "code",
   "execution_count": null,
   "metadata": {},
   "outputs": [],
   "source": [
    "class Solution:\n",
    "    def containsNearbyDuplicate(self, nums, k):\n",
    "        if not nums or k == 0:\n",
    "            return False\n",
    "        \n",
    "        seen = {}\n",
    "        min_distance = float('inf')\n",
    "        for i, num in enumerate(nums):\n",
    "            if num in seen:\n",
    "                distance = i - seen[num]\n",
    "                min_distance = min(min_distance, distance)\n",
    "                seen[num] = i\n",
    "            else:\n",
    "                seen[num] = i\n",
    "                \n",
    "        return min_distance <= k"
   ]
  },
  {
   "cell_type": "markdown",
   "metadata": {},
   "source": [
    "Simplify code, no need to keep a min_distance variable:"
   ]
  },
  {
   "cell_type": "code",
   "execution_count": null,
   "metadata": {},
   "outputs": [],
   "source": [
    "class Solution:\n",
    "    def containsNearbyDuplicate(self, nums, k):\n",
    "        if not nums or k == 0:\n",
    "            return False\n",
    "        \n",
    "        # Use a dictionary to keep track\n",
    "        # seen elements and their indices\n",
    "        seen = {}\n",
    "        for i, num in enumerate(nums):\n",
    "            if num in seen:\n",
    "                distance = i - seen[num]\n",
    "                if distance <= k:\n",
    "                    return True\n",
    "            seen[num] = i\n",
    "                \n",
    "        return False\n",
    "                "
   ]
  }
 ],
 "metadata": {
  "kernelspec": {
   "display_name": "Python 3",
   "language": "python",
   "name": "python3"
  },
  "language_info": {
   "codemirror_mode": {
    "name": "ipython",
    "version": 3
   },
   "file_extension": ".py",
   "mimetype": "text/x-python",
   "name": "python",
   "nbconvert_exporter": "python",
   "pygments_lexer": "ipython3",
   "version": "3.6.5"
  }
 },
 "nbformat": 4,
 "nbformat_minor": 2
}
