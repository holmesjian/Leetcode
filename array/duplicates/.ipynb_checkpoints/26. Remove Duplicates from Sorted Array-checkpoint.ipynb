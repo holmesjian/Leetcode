{
 "cells": [
  {
   "cell_type": "markdown",
   "metadata": {},
   "source": [
    "# Problem\n",
    "\n",
    "Given a sorted array nums, remove the duplicates in-place such that each element appear only once and return the new length.\n",
    "\n",
    "Do not allocate extra space for another array, you must do this by modifying the input array in-place with O(1) extra memory.\n",
    "\n",
    "Example 1:<br>\n",
    "\n",
    "Given nums = [1,1,2],<br>\n",
    "\n",
    "Your function should return length = 2, with the first two elements of nums being 1 and 2 respectively.<br>\n",
    "\n",
    "It doesn't matter what you leave beyond the returned length.<br>\n",
    "\n",
    "Example 2:\n",
    "\n",
    "Given nums = [0,0,1,1,1,2,2,3,3,4],<br>\n",
    "\n",
    "Your function should return length = 5, with the first five elements of nums being modified to 0, 1, 2, 3, and 4 respectively.<br>\n",
    "\n",
    "It doesn't matter what values are set beyond the returned length."
   ]
  },
  {
   "cell_type": "markdown",
   "metadata": {},
   "source": [
    "# Brainstorm\n",
    "\n",
    "The above example tells us that the goal of the problem is to keep unique values in the first length of n, not delete the duplicate elements. The delete operation costs time.\n",
    "- Time O(N), space O(1)."
   ]
  },
  {
   "cell_type": "markdown",
   "metadata": {},
   "source": [
    "# Solution"
   ]
  },
  {
   "cell_type": "code",
   "execution_count": null,
   "metadata": {},
   "outputs": [],
   "source": [
    "class Solution:\n",
    "    def removeDuplicates(self, nums):\n",
    "        if not nums:\n",
    "            return 0\n",
    "        if len(nums) == 1:\n",
    "            return 1\n",
    "        \n",
    "        # i and j are initially adjacent\n",
    "        # If the numbers at i and j are different, \n",
    "        # increment both i and j to compare the next adjacent pair\n",
    "        # If they are the same, increment j to find the nearest nonduplicate\n",
    "        # fill i+1 (original same as i) with j\n",
    "        i = 0\n",
    "        for j in range(1, len(nums)):\n",
    "            if nums[i] == nums[j]:\n",
    "                # Increment j to find next nonduplicate\n",
    "                continue\n",
    "            else:\n",
    "                # Found nonduplicate, modify i+1 value to be j\n",
    "                # We have to keep copying all values after j to i+1\n",
    "                # This also holds when i and j are adjacent and distinct,\n",
    "                # in this case, i+1 is just j\n",
    "                i += 1\n",
    "                nums[i] = nums[j]\n",
    "        \n",
    "        # i is index, we want to return length\n",
    "        # so i + 1 to get the length\n",
    "        return i + 1"
   ]
  }
 ],
 "metadata": {
  "kernelspec": {
   "display_name": "Python 3",
   "language": "python",
   "name": "python3"
  },
  "language_info": {
   "codemirror_mode": {
    "name": "ipython",
    "version": 3
   },
   "file_extension": ".py",
   "mimetype": "text/x-python",
   "name": "python",
   "nbconvert_exporter": "python",
   "pygments_lexer": "ipython3",
   "version": "3.6.5"
  }
 },
 "nbformat": 4,
 "nbformat_minor": 2
}
