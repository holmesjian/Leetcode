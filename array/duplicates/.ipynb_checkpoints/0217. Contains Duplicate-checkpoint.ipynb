{
 "cells": [
  {
   "cell_type": "markdown",
   "metadata": {},
   "source": [
    "# Problem\n",
    "\n",
    "Given an array of integers, find if the array contains any duplicates.\n",
    "\n",
    "Your function should return true if any value appears at least twice in the array, and it should return false if every element is distinct.\n",
    "\n",
    "Example 1:<br>\n",
    "Input: [1,2,3,1]<br>\n",
    "Output: true<br>\n",
    "\n",
    "Example 2:<br>\n",
    "Input: [1,2,3,4]<br>\n",
    "Output: false<br>\n",
    "\n",
    "Example 3:<br>\n",
    "Input: [1,1,1,3,3,4,3,2,4,2]<br>\n",
    "Output: true<br>"
   ]
  },
  {
   "cell_type": "markdown",
   "metadata": {},
   "source": [
    "# Brainstorm\n",
    "Start with brute force\n",
    "- for each element, compare with every other element in the rest of the array\n",
    "- Time O(N^2), space O(1)\n",
    "\n",
    "Hash table\n",
    "- Time O(N), space O(N)\n",
    "\n",
    "Sort (check whether we can modify the original array)\n",
    "- Iterate time O(N), sorting O(NlogN) so overall time is dominated by sorting O(NlogN); space O(1)"
   ]
  },
  {
   "cell_type": "markdown",
   "metadata": {},
   "source": [
    "# Solution 1\n",
    "##### Brute force"
   ]
  },
  {
   "cell_type": "code",
   "execution_count": 2,
   "metadata": {},
   "outputs": [],
   "source": [
    "class Solution:\n",
    "    def containsDuplicate(self, nums):\n",
    "        \n",
    "        if not nums:\n",
    "            return False\n",
    "        \n",
    "        for i in range(len(nums) - 1):\n",
    "            for j in range(i + 1, len(nums)):\n",
    "                if nums[i] == nums[j]:\n",
    "                    return True\n",
    "        return False"
   ]
  },
  {
   "cell_type": "markdown",
   "metadata": {},
   "source": [
    "# Solution 2\n",
    "##### Hash table"
   ]
  },
  {
   "cell_type": "code",
   "execution_count": null,
   "metadata": {},
   "outputs": [],
   "source": [
    "class Solution:\n",
    "    def containsDuplicate(self, nums):\n",
    "        # Special cases\n",
    "        if not nums:\n",
    "            return False\n",
    "        \n",
    "        if len(nums) == 1:\n",
    "            return False\n",
    "        \n",
    "        # Compare elements with previously\n",
    "        # seen elements\n",
    "        seen = set()\n",
    "        for num in nums:\n",
    "            if num in seen:\n",
    "                return True\n",
    "            seen.add(num)\n",
    "        return False"
   ]
  },
  {
   "cell_type": "markdown",
   "metadata": {},
   "source": [
    "# Solution 3\n",
    "##### Sort"
   ]
  },
  {
   "cell_type": "code",
   "execution_count": null,
   "metadata": {},
   "outputs": [],
   "source": [
    "class Solution:\n",
    "    def containsDuplicate(self, nums):\n",
    "        # Special cases\n",
    "        if not nums:\n",
    "            return False\n",
    "        \n",
    "        if len(nums) == 1:\n",
    "            return False\n",
    "        \n",
    "        nums.sort()\n",
    "        \n",
    "        # Compare adjacent elements\n",
    "        for i in range(len(nums)):\n",
    "            if nums[i] == nums[i - 1]:\n",
    "                return True\n",
    "        return False"
   ]
  }
 ],
 "metadata": {
  "kernelspec": {
   "display_name": "Python 3",
   "language": "python",
   "name": "python3"
  },
  "language_info": {
   "codemirror_mode": {
    "name": "ipython",
    "version": 3
   },
   "file_extension": ".py",
   "mimetype": "text/x-python",
   "name": "python",
   "nbconvert_exporter": "python",
   "pygments_lexer": "ipython3",
   "version": "3.6.5"
  }
 },
 "nbformat": 4,
 "nbformat_minor": 2
}
