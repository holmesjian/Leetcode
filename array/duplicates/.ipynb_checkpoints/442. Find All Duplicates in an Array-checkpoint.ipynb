{
 "cells": [
  {
   "cell_type": "markdown",
   "metadata": {},
   "source": [
    "# Problem\n",
    "\n",
    "Given an array of integers, 1 ≤ a[i] ≤ n (n = size of array), some elements appear twice and others appear once.\n",
    "\n",
    "Find all the elements that appear twice in this array.\n",
    "\n",
    "Could you do it without extra space and in O(n) runtime?\n",
    "\n",
    "Example:<br>\n",
    "Input:<br>\n",
    "[4,3,2,7,8,2,3,1]<br>\n",
    "\n",
    "Output:<br>\n",
    "[2,3]<br>"
   ]
  },
  {
   "cell_type": "markdown",
   "metadata": {},
   "source": [
    "# Brainstorm\n",
    "\n",
    "How can we make use use of the two pieces of information?\n",
    "- duplicates occur twice\n",
    "- the elements in the array are from 1 to n\n",
    "- Can we modify the given array?"
   ]
  },
  {
   "cell_type": "markdown",
   "metadata": {},
   "source": [
    "# Solution"
   ]
  },
  {
   "cell_type": "code",
   "execution_count": null,
   "metadata": {},
   "outputs": [],
   "source": [
    "class Solution:\n",
    "    def findDuplicates(self, nums):\n",
    "        if not nums:\n",
    "            return []\n",
    "        \n",
    "        duplicates = []\n",
    "        for num in nums:\n",
    "            num = abs(num)\n",
    "            \n",
    "            # Use index to represent the number,\n",
    "            # the sign of the value is whether we \n",
    "            # have seen the number before\n",
    "            # num-1 because index starts from zero, number starts from 1\n",
    "            if nums[num-1] < 0: \n",
    "                duplicates.append(num)\n",
    "            else:\n",
    "                nums[num-1] *= -1\n",
    "        \n",
    "        return duplicates\n",
    "        "
   ]
  }
 ],
 "metadata": {
  "kernelspec": {
   "display_name": "Python 3",
   "language": "python",
   "name": "python3"
  },
  "language_info": {
   "codemirror_mode": {
    "name": "ipython",
    "version": 3
   },
   "file_extension": ".py",
   "mimetype": "text/x-python",
   "name": "python",
   "nbconvert_exporter": "python",
   "pygments_lexer": "ipython3",
   "version": "3.6.5"
  }
 },
 "nbformat": 4,
 "nbformat_minor": 2
}
