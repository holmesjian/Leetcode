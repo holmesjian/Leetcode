{
 "cells": [
  {
   "cell_type": "markdown",
   "metadata": {},
   "source": [
    "# Problem \n",
    "\n",
    "Given an array nums containing n + 1 integers where each integer is between 1 and n (inclusive), prove that at least one duplicate number must exist. Assume that there is only one duplicate number, find the duplicate one.<br>\n",
    "\n",
    "Example 1:<br>\n",
    "\n",
    "Input: [1,3,4,2,2]<br>\n",
    "Output: 2<br>\n",
    "\n",
    "Example 2:<br>\n",
    "\n",
    "Input: [3,1,3,4,2]<br>\n",
    "Output: 3<br>\n",
    "\n",
    "Note:<br>\n",
    "You must not modify the array (assume the array is read only).<br>\n",
    "You must use only constant, O(1) extra space.<br>\n",
    "Your runtime complexity should be less than O(n2).<br>\n",
    "There is only one duplicate number in the array, but it could be repeated more than once."
   ]
  },
  {
   "cell_type": "markdown",
   "metadata": {},
   "source": [
    "# Brainstorm\n",
    "hash table and sorting solutions do not meet the requirement.\n",
    "Floyd's Tortoise and Hare (Cycle Detection). This is very hard to think of if you have not seen the problem before. And it has very strict conditions for its use case here: only 1 duplicate, the values of the numbers are constrained by the indices.<br><br>\n",
    "How to represent the link between numbers as required by the tortoise and hare algorithm?\n"
   ]
  },
  {
   "cell_type": "markdown",
   "metadata": {},
   "source": [
    "# Solution"
   ]
  },
  {
   "cell_type": "code",
   "execution_count": null,
   "metadata": {},
   "outputs": [],
   "source": [
    "class Solution:\n",
    "    def findDuplicate(self, nums):\n",
    "        if not nums:\n",
    "            return 0\n",
    "        \n",
    "        # Assume there is a dummy head 0 \n",
    "        # so slow = head.next\n",
    "        # fast = head.next.next\n",
    "        # this step is to make the ending condition \n",
    "        # of the following while loop to be false \n",
    "        # so the loop can run\n",
    "        slow = nums[0] \n",
    "        fast = nums[nums[0]]\n",
    "        \n",
    "        while slow != fast:\n",
    "            # slow moves 1 step forward\n",
    "            slow = nums[slow]\n",
    "            # fast moves 2 steps forward\n",
    "            fast = nums[nums[fast]]\n",
    "        \n",
    "        # Important: remember we have a dummy head\n",
    "        slow = 0\n",
    "        while slow != fast:\n",
    "            slow = nums[slow]\n",
    "            fast = nums[fast]\n",
    "        \n",
    "        return slow"
   ]
  },
  {
   "cell_type": "markdown",
   "metadata": {},
   "source": [
    "If we don't want the dummy head:"
   ]
  },
  {
   "cell_type": "code",
   "execution_count": null,
   "metadata": {},
   "outputs": [],
   "source": [
    "class Solution:\n",
    "    def findDuplicate(self, nums):\n",
    "        if not nums:\n",
    "            return 0\n",
    "        \n",
    "        slow = nums[0] \n",
    "        fast = nums[0]\n",
    "        \n",
    "        while True:\n",
    "            # slow moves 1 step forward\n",
    "            slow = nums[slow]\n",
    "            # fast moves 2 steps forward\n",
    "            fast = nums[nums[fast]]\n",
    "            if slow == fast:\n",
    "                break\n",
    "                \n",
    "        slow = nums[0]\n",
    "        while slow != fast:\n",
    "            slow = nums[slow]\n",
    "            fast = nums[fast]\n",
    "        \n",
    "        return slow"
   ]
  }
 ],
 "metadata": {
  "kernelspec": {
   "display_name": "Python 3",
   "language": "python",
   "name": "python3"
  },
  "language_info": {
   "codemirror_mode": {
    "name": "ipython",
    "version": 3
   },
   "file_extension": ".py",
   "mimetype": "text/x-python",
   "name": "python",
   "nbconvert_exporter": "python",
   "pygments_lexer": "ipython3",
   "version": "3.6.5"
  }
 },
 "nbformat": 4,
 "nbformat_minor": 2
}
