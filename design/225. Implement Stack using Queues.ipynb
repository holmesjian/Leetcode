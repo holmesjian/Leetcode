{
 "cells": [
  {
   "cell_type": "markdown",
   "metadata": {},
   "source": [
    "# Problem\n",
    "\n",
    "Implement the following operations of a stack using queues.<br>\n",
    "\n",
    "push(x) -- Push element x onto stack.<br>\n",
    "pop() -- Removes the element on top of the stack.<br>\n",
    "top() -- Get the top element.<br>\n",
    "empty() -- Return whether the stack is empty.<br>\n",
    "\n",
    "Example:\n",
    "\n",
    "MyStack stack = new MyStack();<br>\n",
    "\n",
    "stack.push(1);<br>\n",
    "stack.push(2);<br>\n",
    "stack.top();   // returns 2<br>\n",
    "stack.pop();   // returns 2<br>\n",
    "stack.empty(); // returns false<br>\n",
    "\n",
    "Notes:\n",
    "\n",
    "You must use only standard operations of a queue -- which means only push to back, peek/pop from front, size, and is empty operations are valid.<br>\n",
    "Depending on your language, queue may not be supported natively. You may simulate a queue by using a list or deque (double-ended queue), as long as you use only standard operations of a queue.<br>\n",
    "You may assume that all operations are valid (for example, no pop or top operations will be called on an empty stack).\n"
   ]
  },
  {
   "cell_type": "markdown",
   "metadata": {},
   "source": [
    "# Brainstorm\n",
    "\n",
    "- push O(N) to reverse the queue\n",
    "- pop O(1)"
   ]
  },
  {
   "cell_type": "code",
   "execution_count": null,
   "metadata": {},
   "outputs": [],
   "source": [
    "from collections import deque\n",
    "class MyStack:\n",
    "\n",
    "    def __init__(self):\n",
    "        \"\"\"\n",
    "        Initialize your data structure here.\n",
    "        \"\"\"\n",
    "        self.stack = deque()\n",
    "\n",
    "    def push(self, x: int) -> None:\n",
    "        \"\"\"\n",
    "        Push element x onto stack.\n",
    "        \"\"\"\n",
    "        # Store its original length\n",
    "        length = len(self.stack)\n",
    "        \n",
    "        self.stack.append(x)\n",
    "        for _ in range(length):\n",
    "            item = self.stack.popleft()\n",
    "            self.stack.append(item)\n",
    "\n",
    "    def pop(self) -> int:\n",
    "        \"\"\"\n",
    "        Removes the element on top of the stack and returns that element.\n",
    "        \"\"\"\n",
    "        return self.stack.popleft()\n",
    "\n",
    "    def top(self) -> int:\n",
    "        \"\"\"\n",
    "        Get the top element.\n",
    "        \"\"\"\n",
    "        return self.stack[0]\n",
    "\n",
    "    def empty(self) -> bool:\n",
    "        \"\"\"\n",
    "        Returns whether the stack is empty.\n",
    "        \"\"\"\n",
    "        return len(self.stack) == 0"
   ]
  }
 ],
 "metadata": {
  "kernelspec": {
   "display_name": "Python 3",
   "language": "python",
   "name": "python3"
  },
  "language_info": {
   "codemirror_mode": {
    "name": "ipython",
    "version": 3
   },
   "file_extension": ".py",
   "mimetype": "text/x-python",
   "name": "python",
   "nbconvert_exporter": "python",
   "pygments_lexer": "ipython3",
   "version": "3.6.5"
  }
 },
 "nbformat": 4,
 "nbformat_minor": 2
}
