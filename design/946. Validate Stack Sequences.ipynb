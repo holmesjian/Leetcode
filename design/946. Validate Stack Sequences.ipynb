{
 "cells": [
  {
   "cell_type": "markdown",
   "metadata": {},
   "source": [
    "# Problem\n",
    "\n",
    "Given two sequences pushed and popped with distinct values, return true if and only if this could have been the result of a sequence of push and pop operations on an initially empty stack.\n",
    "\n",
    "Example 1:<br>\n",
    "\n",
    "Input: pushed = [1,2,3,4,5], popped = [4,5,3,2,1]<br>\n",
    "Output: true<br>\n",
    "Explanation: We might do the following sequence:<br>\n",
    "push(1), push(2), push(3), push(4), pop() -> 4,<br>\n",
    "push(5), pop() -> 5, pop() -> 3, pop() -> 2, pop() -> 1<br>\n",
    "\n",
    "Example 2:<br>\n",
    "\n",
    "Input: pushed = [1,2,3,4,5], popped = [4,3,5,1,2]<br>\n",
    "Output: false<br>\n",
    "Explanation: 1 cannot be popped before 2.<br>\n",
    " \n",
    "\n",
    "Note:\n",
    "\n",
    "0 <= pushed.length == popped.length <= 1000<br>\n",
    "0 <= pushed[i], popped[i] < 1000<br>\n",
    "pushed is a permutation of popped.<br>\n",
    "pushed and popped have distinct values.<br>"
   ]
  },
  {
   "cell_type": "markdown",
   "metadata": {},
   "source": [
    "# Brainstorm\n",
    "\n",
    "Use the pushed stack to simulate the formation of the stack. As we perform the push to a new stack, we pop when the top of the new stack is the same as the popped stack. If they match, we remove that item from both the popped array and the new stack. After we pushed all elements, the popped array should be empty if the sequences are valid.\n",
    "- Time O(N)\n",
    "- space O(N)"
   ]
  },
  {
   "cell_type": "markdown",
   "metadata": {},
   "source": [
    "# Solution"
   ]
  },
  {
   "cell_type": "code",
   "execution_count": null,
   "metadata": {},
   "outputs": [],
   "source": [
    "class Solution:\n",
    "    def validateStackSequences(self, pushed: List[int], popped: List[int]) -> bool:\n",
    "        stack = [] # To push elements in pushed\n",
    "        i = 0 # To check elements in popped\n",
    "        for item in pushed:\n",
    "            stack.append(item)\n",
    "            while stack:\n",
    "                if stack[-1] == popped[i]:\n",
    "                    stack.pop()\n",
    "                    i += 1\n",
    "                else:\n",
    "                    break\n",
    "        \n",
    "        # If stack is empty, that means all elements match the sequence of popped\n",
    "        return stack == []"
   ]
  }
 ],
 "metadata": {
  "kernelspec": {
   "display_name": "Python 3",
   "language": "python",
   "name": "python3"
  },
  "language_info": {
   "codemirror_mode": {
    "name": "ipython",
    "version": 3
   },
   "file_extension": ".py",
   "mimetype": "text/x-python",
   "name": "python",
   "nbconvert_exporter": "python",
   "pygments_lexer": "ipython3",
   "version": "3.6.5"
  }
 },
 "nbformat": 4,
 "nbformat_minor": 2
}
