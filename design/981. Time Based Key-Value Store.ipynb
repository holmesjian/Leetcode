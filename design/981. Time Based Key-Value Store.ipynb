{
 "cells": [
  {
   "cell_type": "markdown",
   "metadata": {},
   "source": [
    "# Problem\n",
    "\n",
    "Create a timebased key-value store class TimeMap, that supports two operations.\n",
    "\n",
    "1. set(string key, string value, int timestamp)<br>\n",
    "\n",
    "Stores the key and value, along with the given timestamp.\n",
    "2. get(string key, int timestamp)\n",
    "\n",
    "Returns a value such that set(key, value, timestamp_prev) was called previously, with timestamp_prev <= timestamp.<br>\n",
    "If there are multiple such values, it returns the one with the largest timestamp_prev.<br>\n",
    "If there are no values, it returns the empty string (\"\").<br>\n",
    " \n",
    "\n",
    "Example 1:\n",
    "\n",
    "Input: inputs = [\"TimeMap\",\"set\",\"get\",\"get\",\"set\",\"get\",\"get\"], inputs = [[],[\"foo\",\"bar\",1],[\"foo\",1],[\"foo\",3],<br>[\"foo\",\"bar2\",4],[\"foo\",4],[\"foo\",5]]<br>\n",
    "Output: [null,null,\"bar\",\"bar\",null,\"bar2\",\"bar2\"]<br>\n",
    "\n",
    "Explanation:   \n",
    "TimeMap kv;   \n",
    "kv.set(\"foo\", \"bar\", 1); // store the key \"foo\" and value \"bar\" along with timestamp = 1   \n",
    "kv.get(\"foo\", 1);  // output \"bar\"   \n",
    "kv.get(\"foo\", 3); // output \"bar\" since there is no value corresponding to foo at timestamp 3 and timestamp 2, then the only value is at timestamp 1 ie \"bar\"   \n",
    "kv.set(\"foo\", \"bar2\", 4);   \n",
    "kv.get(\"foo\", 4); // output \"bar2\"   \n",
    "kv.get(\"foo\", 5); //output \"bar2\"   \n",
    "\n",
    "Example 2:\n",
    "\n",
    "Input: inputs = [\"TimeMap\",\"set\",\"set\",\"get\",\"get\",\"get\",\"get\",\"get\"], inputs = [[],[\"love\",\"high\",10],[\"love\",\"low\",20],[\"love\",5],[\"love\",10],[\"love\",15],[\"love\",20],[\"love\",25]]\n",
    "Output: [null,null,null,\"\",\"high\",\"high\",\"low\",\"low\"]\n",
    " \n",
    "\n",
    "Note:\n",
    "\n",
    "All key/value strings are lowercase.<br>\n",
    "All key/value strings have length in the range [1, 100]<br>\n",
    "The timestamps for all TimeMap.set operations are strictly increasing.<br>\n",
    "1 <= timestamp <= 10^7<br>\n",
    "TimeMap.set and TimeMap.get functions will be called a total of 120000 times (combined) per test case."
   ]
  }
 ],
 "metadata": {
  "kernelspec": {
   "display_name": "Python 3",
   "language": "python",
   "name": "python3"
  },
  "language_info": {
   "codemirror_mode": {
    "name": "ipython",
    "version": 3
   },
   "file_extension": ".py",
   "mimetype": "text/x-python",
   "name": "python",
   "nbconvert_exporter": "python",
   "pygments_lexer": "ipython3",
   "version": "3.6.5"
  }
 },
 "nbformat": 4,
 "nbformat_minor": 2
}
