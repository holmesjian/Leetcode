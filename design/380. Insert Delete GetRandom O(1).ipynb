{
 "cells": [
  {
   "cell_type": "markdown",
   "metadata": {},
   "source": [
    "# Problem\n",
    "\n",
    "Design a data structure that supports all following operations in average O(1) time.\n",
    "\n",
    "insert(val): Inserts an item val to the set if not already present.<br>\n",
    "remove(val): Removes an item val from the set if present.<br>\n",
    "getRandom: Returns a random element from current set of elements. Each element must have the same probability of being returned.<br>\n",
    "\n",
    "Example:\n",
    "\n",
    "// Init an empty set.<br>\n",
    "RandomizedSet randomSet = new RandomizedSet();<br>\n",
    "\n",
    "// Inserts 1 to the set. Returns true as 1 was inserted successfully.<br>\n",
    "randomSet.insert(1);<br>\n",
    "\n",
    "// Returns false as 2 does not exist in the set.<br>\n",
    "randomSet.remove(2);<br>\n",
    "\n",
    "// Inserts 2 to the set, returns true. Set now contains [1,2].<br>\n",
    "randomSet.insert(2);<br>\n",
    "\n",
    "// getRandom should return either 1 or 2 randomly.<br>\n",
    "randomSet.getRandom();<br>\n",
    "\n",
    "// Removes 1 from the set, returns true. Set now contains [2].<br>\n",
    "randomSet.remove(1);<br>\n",
    "\n",
    "// 2 was already in the set, so return false.<br>\n",
    "randomSet.insert(2);<br>\n",
    "\n",
    "// Since 2 is the only number in the set, getRandom always return 2.<br>\n",
    "randomSet.getRandom();<br>"
   ]
  },
  {
   "cell_type": "markdown",
   "metadata": {},
   "source": [
    "# Brainstorm\n",
    "\n",
    "A set allows insert and remove at average and amortized O(1) time. However, it doesn't allow random sampling of elements. set.pop() does not remove in a random manner. After Python 3.6, it removes the first element added.<br>\n",
    "\n",
    "To pick a random integer between a and b inclusive, there are three options:\n",
    "- n = random.randint(0, 2)\n",
    "- n = random.choice([0, 1, 2])\n",
    "\n",
    "Therefore, we need an index to identify each element in the set. So a dictionary with key as the , \n",
    "- How to assign a number to an element that we inserted\n",
    "- adding a class attribute that is incremented each time we call insert() does not work as the range of values "
   ]
  },
  {
   "cell_type": "markdown",
   "metadata": {},
   "source": [
    "# Solution"
   ]
  },
  {
   "cell_type": "code",
   "execution_count": null,
   "metadata": {},
   "outputs": [],
   "source": [
    "import random\n",
    "class RandomizedSet:\n",
    "\n",
    "    def __init__(self):\n",
    "        \"\"\"\n",
    "        Initialize your data structure here.\n",
    "        \"\"\"\n",
    "        self.dict = {}\n",
    "        self.array = []\n",
    "\n",
    "    def insert(self, val: int) -> bool:\n",
    "        \"\"\"\n",
    "        Inserts a value to the set. Returns true if the set did not already contain the specified element.\n",
    "        \"\"\"\n",
    "        if val not in self.dict:\n",
    "            # Insert to dict\n",
    "            self.dict[val] = len(self.array)\n",
    "            # Insert to array\n",
    "            self.array.append(val)\n",
    "            return True\n",
    "        return False\n",
    "\n",
    "    def remove(self, val: int) -> bool:\n",
    "        \"\"\"\n",
    "        Removes a value from the set. Returns true if the set contained the specified element.\n",
    "        \"\"\"\n",
    "        if val in self.dict:\n",
    "            # swap element with last element in array\n",
    "            # remove last element in array\n",
    "            index = self.dict[val]\n",
    "            last_element = self.array[-1]\n",
    "            self.array[index], self.array[-1] = self.array[-1], self.array[index]\n",
    "            self.array.pop()\n",
    "            # update index for the original last element\n",
    "            self.dict[last_element] = index\n",
    "            \n",
    "            # remove from dict\n",
    "            del self.dict[val]\n",
    "            return True\n",
    "        return False\n",
    "        \n",
    "\n",
    "    def getRandom(self) -> int:\n",
    "        \"\"\"\n",
    "        Get a random element from the set.\n",
    "        \"\"\"\n",
    "        return random.choice(self.array)\n",
    "\n"
   ]
  }
 ],
 "metadata": {
  "kernelspec": {
   "display_name": "Python 3",
   "language": "python",
   "name": "python3"
  },
  "language_info": {
   "codemirror_mode": {
    "name": "ipython",
    "version": 3
   },
   "file_extension": ".py",
   "mimetype": "text/x-python",
   "name": "python",
   "nbconvert_exporter": "python",
   "pygments_lexer": "ipython3",
   "version": "3.6.5"
  }
 },
 "nbformat": 4,
 "nbformat_minor": 2
}
