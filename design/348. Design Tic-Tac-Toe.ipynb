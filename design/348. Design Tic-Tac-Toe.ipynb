{
 "cells": [
  {
   "cell_type": "markdown",
   "metadata": {},
   "source": [
    "# Problem\n",
    "\n",
    "Design a Tic-tac-toe game that is played between two players on a n x n grid.\n",
    "\n",
    "You may assume the following rules:\n",
    "\n",
    "A move is guaranteed to be valid and is placed on an empty block.<br>\n",
    "Once a winning condition is reached, no more moves is allowed.<br>\n",
    "A player who succeeds in placing n of their marks in a horizontal, vertical, or diagonal row wins the game."
   ]
  },
  {
   "cell_type": "markdown",
   "metadata": {},
   "source": [
    "# Brainstorms\n",
    "\n",
    "We need to keep track of variables that describe the status of the board:\n",
    "- number of marks each player places in each row, column and diagonal."
   ]
  }
 ],
 "metadata": {
  "kernelspec": {
   "display_name": "Python 3",
   "language": "python",
   "name": "python3"
  },
  "language_info": {
   "codemirror_mode": {
    "name": "ipython",
    "version": 3
   },
   "file_extension": ".py",
   "mimetype": "text/x-python",
   "name": "python",
   "nbconvert_exporter": "python",
   "pygments_lexer": "ipython3",
   "version": "3.6.5"
  }
 },
 "nbformat": 4,
 "nbformat_minor": 2
}
