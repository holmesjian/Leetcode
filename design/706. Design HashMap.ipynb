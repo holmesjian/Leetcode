{
 "cells": [
  {
   "cell_type": "markdown",
   "metadata": {},
   "source": [
    "# Problem\n",
    "\n",
    "Design a HashMap without using any built-in hash table libraries.\n",
    "\n",
    "To be specific, your design should include these functions:\n",
    "\n",
    "put(key, value) : Insert a (key, value) pair into the HashMap. If the value already exists in the HashMap, update the value.\n",
    "get(key): Returns the value to which the specified key is mapped, or -1 if this map contains no mapping for the key.\n",
    "remove(key) : Remove the mapping for the value key if this map contains the mapping for the key.\n",
    "\n",
    "Example:\n",
    "\n",
    "MyHashMap hashMap = new MyHashMap();<br>\n",
    "hashMap.put(1, 1); <br>         \n",
    "hashMap.put(2, 2); <br>        \n",
    "hashMap.get(1);            // returns 1<br>\n",
    "hashMap.get(3);            // returns -1 (not found)<br>\n",
    "hashMap.put(2, 1);          // update the existing value<br>\n",
    "hashMap.get(2);            // returns 1 <br>\n",
    "hashMap.remove(2);          // remove the mapping for 2<br>\n",
    "hashMap.get(2);            // returns -1 (not found) <br>\n",
    "\n",
    "Note:\n",
    "\n",
    "All keys and values will be in the range of [0, 1000000].<br>\n",
    "The number of operations will be in the range of [1, 10000].<br>\n",
    "Please do not use the built-in HashMap library."
   ]
  },
  {
   "cell_type": "markdown",
   "metadata": {},
   "source": [
    "# Brainstorm\n",
    "\n",
    "- Design a hash function\n",
    "       - hash function: key mod n will give the index for the value.\n",
    "       - table size n: prime number to reduce collion\n",
    "- How to handle collion?\n",
    "       - separate chaining: using an array or linked list to store values with the same hash code (key mod n)\n",
    "     \n",
    "- more about inital capacity, load factor and rehashing:\n",
    "       - if the default table size is 10 (10 buckets) and load factor is 70%, this means the maximum number of data in the hash table is 7. Then if we want to add the 8th item, the table size doubles to 20."
   ]
  },
  {
   "cell_type": "markdown",
   "metadata": {},
   "source": [
    "# Solution"
   ]
  },
  {
   "cell_type": "code",
   "execution_count": null,
   "metadata": {},
   "outputs": [],
   "source": [
    "class MyHashMap:\n",
    "\n",
    "    def __init__(self):\n",
    "        \"\"\"\n",
    "        Initialize your data structure here.\n",
    "        \"\"\"\n",
    "        self.table_size = 2069\n",
    "        self.hash_table = [Bucket() for _ in range(self.table_size)]\n",
    "\n",
    "    def put(self, key: int, value: int) -> None:\n",
    "        \"\"\"\n",
    "        value will always be non-negative.\n",
    "        \"\"\"\n",
    "        hash_code = key % self.table_size\n",
    "        self.hash_table[hash_code].update(key, value)\n",
    "        \n",
    "\n",
    "    def get(self, key: int) -> int:\n",
    "        \"\"\"\n",
    "        Returns the value to which the specified key is mapped, or -1 if this map contains no mapping for the key\n",
    "        \"\"\"\n",
    "        hash_code = key % self.table_size\n",
    "        return self.hash_table[hash_code].get(key)\n",
    "\n",
    "    def remove(self, key: int) -> None:\n",
    "        \"\"\"\n",
    "        Removes the mapping of the specified value key if this map contains a mapping for the key\n",
    "        \"\"\"\n",
    "        hash_code = key % self.table_size\n",
    "        self.hash_table[hash_code].remove(key)\n",
    "        \n",
    "        \n",
    "class Bucket:\n",
    "    def __init__(self):\n",
    "        self.bucket = []\n",
    "    \n",
    "    def update(self, key, value):\n",
    "        key_found = False\n",
    "        for i, (k, v) in enumerate(self.bucket):\n",
    "            if key == k:\n",
    "                self.bucket[i] = key, value\n",
    "                key_found = True\n",
    "                break\n",
    "        if not key_found:\n",
    "            self.bucket.append((key, value))\n",
    "    \n",
    "    def get(self, key):\n",
    "        for k, v in self.bucket:\n",
    "            if k == key:\n",
    "                return v\n",
    "        return -1\n",
    "    \n",
    "    def remove(self, key):\n",
    "        for k, v in self.bucket:\n",
    "            if k == key:\n",
    "                self.bucket.remove((k, v))\n",
    "            "
   ]
  }
 ],
 "metadata": {
  "kernelspec": {
   "display_name": "Python 3",
   "language": "python",
   "name": "python3"
  },
  "language_info": {
   "codemirror_mode": {
    "name": "ipython",
    "version": 3
   },
   "file_extension": ".py",
   "mimetype": "text/x-python",
   "name": "python",
   "nbconvert_exporter": "python",
   "pygments_lexer": "ipython3",
   "version": "3.6.5"
  }
 },
 "nbformat": 4,
 "nbformat_minor": 2
}
