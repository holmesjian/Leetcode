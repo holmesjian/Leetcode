{
 "cells": [
  {
   "cell_type": "markdown",
   "metadata": {},
   "source": [
    "# Problem\n",
    "\n",
    "Given two non-negative integers num1 and num2 represented as strings, return the product of num1 and num2, also represented as a string.\n",
    "\n",
    "Example 1:<br>\n",
    "\n",
    "Input: num1 = \"2\", num2 = \"3\"<br>\n",
    "Output: \"6\"<br>\n",
    "\n",
    "Example 2:<br>\n",
    "\n",
    "Input: num1 = \"123\", num2 = \"456\"<br>\n",
    "Output: \"56088\"<br>\n",
    "\n",
    "Note:\n",
    "\n",
    "The length of both num1 and num2 is < 110.<br>\n",
    "Both num1 and num2 contain only digits 0-9.<br>\n",
    "Both num1 and num2 do not contain any leading zero, except the number 0 itself.<br>\n",
    "You must not use any built-in BigInteger library or convert the inputs to integer directly."
   ]
  },
  {
   "cell_type": "code",
   "execution_count": null,
   "metadata": {},
   "outputs": [],
   "source": []
  }
 ],
 "metadata": {
  "kernelspec": {
   "display_name": "Python 3",
   "language": "python",
   "name": "python3"
  },
  "language_info": {
   "codemirror_mode": {
    "name": "ipython",
    "version": 3
   },
   "file_extension": ".py",
   "mimetype": "text/x-python",
   "name": "python",
   "nbconvert_exporter": "python",
   "pygments_lexer": "ipython3",
   "version": "3.6.5"
  }
 },
 "nbformat": 4,
 "nbformat_minor": 2
}
