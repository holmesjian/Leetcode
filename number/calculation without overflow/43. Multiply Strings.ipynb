{
 "cells": [
  {
   "cell_type": "markdown",
   "metadata": {},
   "source": [
    "# Problem\n",
    "\n",
    "Given two non-negative integers num1 and num2 represented as strings, return the product of num1 and num2, also represented as a string.\n",
    "\n",
    "Example 1:<br>\n",
    "\n",
    "Input: num1 = \"2\", num2 = \"3\"<br>\n",
    "Output: \"6\"<br>\n",
    "\n",
    "Example 2:<br>\n",
    "\n",
    "Input: num1 = \"123\", num2 = \"456\"<br>\n",
    "Output: \"56088\"<br>\n",
    "\n",
    "Note:\n",
    "\n",
    "The length of both num1 and num2 is < 110.<br>\n",
    "Both num1 and num2 contain only digits 0-9.<br>\n",
    "Both num1 and num2 do not contain any leading zero, except the number 0 itself.<br>\n",
    "You must not use any built-in BigInteger library or convert the inputs to integer directly."
   ]
  },
  {
   "cell_type": "code",
   "execution_count": null,
   "metadata": {},
   "outputs": [],
   "source": [
    "class Solution:\n",
    "    def multiply(self, num1, num2):\n",
    "        len1 = len(num1)\n",
    "        len2 = len(num2)\n",
    "        power = 0\n",
    "        total_sum = 0\n",
    "        \n",
    "        # From least significant digit \n",
    "        for i in range(len1 - 1, -1, -1):\n",
    "            power1 = len1 - 1 - i\n",
    "            curr_sum = 0\n",
    "            for j in range(len2 - 1, -1, -1):\n",
    "                power2 = len2 - 1 - j\n",
    "                curr_sum += int(num1[i]) * (10**power1) * int(num2[j]) * (10**power2)\n",
    "            total_sum += curr_sum\n",
    "        return str(total_sum)"
   ]
  }
 ],
 "metadata": {
  "kernelspec": {
   "display_name": "Python 3",
   "language": "python",
   "name": "python3"
  },
  "language_info": {
   "codemirror_mode": {
    "name": "ipython",
    "version": 3
   },
   "file_extension": ".py",
   "mimetype": "text/x-python",
   "name": "python",
   "nbconvert_exporter": "python",
   "pygments_lexer": "ipython3",
   "version": "3.6.5"
  }
 },
 "nbformat": 4,
 "nbformat_minor": 2
}
