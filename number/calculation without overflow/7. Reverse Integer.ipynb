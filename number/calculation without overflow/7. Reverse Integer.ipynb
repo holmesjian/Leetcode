{
 "cells": [
  {
   "cell_type": "markdown",
   "metadata": {},
   "source": [
    "# Problem\n",
    "\n",
    "Given a 32-bit signed integer, reverse digits of an integer.\n",
    "\n",
    "Example 1:<br>\n",
    "\n",
    "Input: 123<br>\n",
    "Output: 321<br>\n",
    "\n",
    "Example 2:\n",
    "\n",
    "Input: -123<br>\n",
    "Output: -321<br>\n",
    "\n",
    "Example 3:\n",
    "\n",
    "Input: 120<br>\n",
    "Output: 21<br>\n",
    "\n",
    "Note:<br>\n",
    "Assume we are dealing with an environment which could only store integers within the 32-bit signed integer range: [−231,  231 − 1]. For the purpose of this problem, assume that your function returns 0 when the reversed integer overflows."
   ]
  },
  {
   "cell_type": "code",
   "execution_count": null,
   "metadata": {},
   "outputs": [],
   "source": [
    "\n",
    "import sys\n",
    "\n",
    "class Solution:\n",
    "    def reverse(self, x: int) -> int:\n",
    "        \"\"\"\n",
    "        x_pos = abs(x)\n",
    "            \n",
    "        reverted_number = 0\n",
    "        while x_pos > 0:\n",
    "            reverted_number = reverted_number * 10 + x_pos % 10\n",
    "            x_pos //= 10\n",
    "        \n",
    "        if reverted_number > 2 ** 31:\n",
    "            return 0\n",
    "        if x >= 0:\n",
    "            return reverted_number\n",
    "        else:\n",
    "            return reverted_number * (-1)\n",
    "        \"\"\"\n",
    "        # improve solution\n",
    "        max_int = sys.maxsize\n",
    "        min_int = -sys.maxsize - 1\n",
    "        \n",
    "        reverted_number = 0\n",
    "        while x != 0:\n",
    "            \n",
    "            if reverted_number > 2**31-1 or reverted_number < -2**31:\n",
    "            #if reverted_number > max_int or reverted_number < min_int:\n",
    "                return 0\n",
    "            \n",
    "            reverted_number = reverted_number * 10 + x % 10\n",
    "            x //= 10\n",
    "            \n",
    "\n",
    "        return reverted_number"
   ]
  }
 ],
 "metadata": {
  "kernelspec": {
   "display_name": "Python 3",
   "language": "python",
   "name": "python3"
  },
  "language_info": {
   "codemirror_mode": {
    "name": "ipython",
    "version": 3
   },
   "file_extension": ".py",
   "mimetype": "text/x-python",
   "name": "python",
   "nbconvert_exporter": "python",
   "pygments_lexer": "ipython3",
   "version": "3.6.5"
  }
 },
 "nbformat": 4,
 "nbformat_minor": 2
}
