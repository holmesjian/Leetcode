{
 "cells": [
  {
   "cell_type": "markdown",
   "metadata": {},
   "source": [
    "# Problem\n",
    "\n",
    "Given two non-negative integers num1 and num2 represented as string, return the sum of num1 and num2.\n",
    "\n",
    "Note:\n",
    "\n",
    "The length of both num1 and num2 is < 5100.<br>\n",
    "Both num1 and num2 contains only digits 0-9.<br>\n",
    "Both num1 and num2 does not contain any leading zero.<br>\n",
    "You must not use any built-in BigInteger library or convert the inputs to integer directly.<br>"
   ]
  },
  {
   "cell_type": "markdown",
   "metadata": {},
   "source": [
    "# Solution 1"
   ]
  },
  {
   "cell_type": "code",
   "execution_count": 2,
   "metadata": {},
   "outputs": [
    {
     "data": {
      "text/plain": [
       "4"
      ]
     },
     "execution_count": 2,
     "metadata": {},
     "output_type": "execute_result"
    }
   ],
   "source": [
    "class Solution:\n",
    "    def addStrings(self, num1, num2):\n",
    "        \n",
    "        # From least significant digit,\n",
    "        # convert character to digit \n",
    "        # sum digit and carry\n",
    "        carry = 0\n",
    "        i = len(num1) - 1\n",
    "        j = len(num2) - 1\n",
    "        curr_sum = 0\n",
    "        power = 0\n",
    "        total_sum = 0\n",
    "        while i >= 0 or j >= 0 or carry:\n",
    "            curr_sum = 0\n",
    "            \n",
    "            if i >= 0:\n",
    "                curr_sum += ord(num1[i]) - ord('0')\n",
    "                i -= 1\n",
    "            if j >= 0:\n",
    "                curr_sum += ord(num2[j]) - ord('0')\n",
    "                j -= 1\n",
    "            if carry:\n",
    "                curr_sum += carry\n",
    "                \n",
    "            carry = curr_sum // 10\n",
    "            digit = curr_sum % 10\n",
    "            total_sum = digit * (10**power) + total_sum\n",
    "            base += 1\n",
    "        return str(total_sum)"
   ]
  },
  {
   "cell_type": "markdown",
   "metadata": {},
   "source": [
    "# Solution 2"
   ]
  },
  {
   "cell_type": "code",
   "execution_count": null,
   "metadata": {},
   "outputs": [],
   "source": [
    "class Solution:\n",
    "    def addStrings(self, num1, num2):\n",
    "        \n",
    "        # From least significant digit,\n",
    "        # convert character to digit \n",
    "        # sum digit and carry\n",
    "        carry = 0\n",
    "        i = len(num1) - 1\n",
    "        j = len(num2) - 1\n",
    "        curr_sum = 0\n",
    "        total_sum = ''\n",
    "        while i >= 0 or j >= 0 or carry:\n",
    "            curr_sum = 0\n",
    "            \n",
    "            if i >= 0:\n",
    "                curr_sum += ord(num1[i]) - ord('0')\n",
    "                i -= 1\n",
    "            if j >= 0:\n",
    "                curr_sum += ord(num2[j]) - ord('0')\n",
    "                j -= 1\n",
    "            if carry:\n",
    "                curr_sum += carry\n",
    "                \n",
    "            carry = curr_sum // 10\n",
    "            digit = curr_sum % 10\n",
    "            \n",
    "            total_sum += str(digit)\n",
    "            \n",
    "        return total_sum[::-1]"
   ]
  },
  {
   "cell_type": "markdown",
   "metadata": {},
   "source": [
    "As string concatenation creates a new string every time, we can use a list."
   ]
  },
  {
   "cell_type": "code",
   "execution_count": null,
   "metadata": {},
   "outputs": [],
   "source": [
    "class Solution:\n",
    "    def addStrings(self, num1, num2):\n",
    "        \n",
    "        # From least significant digit,\n",
    "        # convert character to digit \n",
    "        # sum digit and carry\n",
    "        carry = 0\n",
    "        i = len(num1) - 1\n",
    "        j = len(num2) - 1\n",
    "        curr_sum = 0\n",
    "        total_sum = []\n",
    "        while i >= 0 or j >= 0 or carry:\n",
    "            curr_sum = 0\n",
    "            \n",
    "            if i >= 0:\n",
    "                curr_sum += ord(num1[i]) - ord('0')\n",
    "                i -= 1\n",
    "            if j >= 0:\n",
    "                curr_sum += ord(num2[j]) - ord('0')\n",
    "                j -= 1\n",
    "            if carry:\n",
    "                curr_sum += carry\n",
    "                \n",
    "            carry = curr_sum // 10\n",
    "            digit = curr_sum % 10\n",
    "            \n",
    "            total_sum.append()\n",
    "        \n",
    "        total_sum = ''.join(total_sum)    \n",
    "        return total_sum[::-1]"
   ]
  }
 ],
 "metadata": {
  "kernelspec": {
   "display_name": "Python 3",
   "language": "python",
   "name": "python3"
  },
  "language_info": {
   "codemirror_mode": {
    "name": "ipython",
    "version": 3
   },
   "file_extension": ".py",
   "mimetype": "text/x-python",
   "name": "python",
   "nbconvert_exporter": "python",
   "pygments_lexer": "ipython3",
   "version": "3.6.5"
  }
 },
 "nbformat": 4,
 "nbformat_minor": 2
}
