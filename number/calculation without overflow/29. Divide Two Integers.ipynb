{
 "cells": [
  {
   "cell_type": "markdown",
   "metadata": {},
   "source": [
    "# Problem\n",
    "\n",
    "Given two integers dividend and divisor, divide two integers without using multiplication, division and mod operator.\n",
    "\n",
    "Return the quotient after dividing dividend by divisor.\n",
    "\n",
    "The integer division should truncate toward zero, which means losing its fractional part. For example, truncate(8.345) = 8 and truncate(-2.7335) = -2.\n",
    "\n",
    "Example 1:<br>\n",
    "\n",
    "Input: dividend = 10, divisor = 3<br>\n",
    "Output: 3<br>\n",
    "Explanation: 10/3 = truncate(3.33333..) = 3.<br>\n",
    "\n",
    "Example 2:<br>\n",
    "\n",
    "Input: dividend = 7, divisor = -3<br>\n",
    "Output: -2<br>\n",
    "Explanation: 7/-3 = truncate(-2.33333..) = -2.<br>\n",
    "\n",
    "Note:\n",
    "\n",
    "Both dividend and divisor will be 32-bit signed integers.<br>\n",
    "The divisor will never be 0.<br>\n",
    "Assume we are dealing with an environment which could only store integers within the 32-bit signed integer range: [−231,  231 − 1]. For the purpose of this problem, assume that your function returns 231 − 1 when the division result overflows."
   ]
  }
 ],
 "metadata": {
  "kernelspec": {
   "display_name": "Python 3",
   "language": "python",
   "name": "python3"
  },
  "language_info": {
   "codemirror_mode": {
    "name": "ipython",
    "version": 3
   },
   "file_extension": ".py",
   "mimetype": "text/x-python",
   "name": "python",
   "nbconvert_exporter": "python",
   "pygments_lexer": "ipython3",
   "version": "3.6.5"
  }
 },
 "nbformat": 4,
 "nbformat_minor": 2
}
