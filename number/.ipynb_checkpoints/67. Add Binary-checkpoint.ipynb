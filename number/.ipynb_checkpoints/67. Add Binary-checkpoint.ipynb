{
 "cells": [
  {
   "cell_type": "markdown",
   "metadata": {},
   "source": [
    "# Problem\n",
    "\n",
    "Given two binary strings, return their sum (also a binary string).\n",
    "\n",
    "The input strings are both non-empty and contains only characters 1 or 0.\n",
    "\n",
    "Example 1:<br>\n",
    "\n",
    "Input: a = \"11\", b = \"1\"<br>\n",
    "Output: \"100\"<br>\n",
    "\n",
    "Example 2:<br>\n",
    "\n",
    "Input: a = \"1010\", b = \"1011\"<br>\n",
    "Output: \"10101\"<br>\n",
    " \n",
    "\n",
    "Constraints:\n",
    "\n",
    "Each string consists only of '0' or '1' characters.<br>\n",
    "1 <= a.length, b.length <= 10^4<br>\n",
    "Each string is either \"0\" or doesn't contain any leading zero."
   ]
  },
  {
   "cell_type": "code",
   "execution_count": null,
   "metadata": {},
   "outputs": [],
   "source": [
    "class Solution:\n",
    "    def addBinary(self, a, b):\n",
    "        # Convert string to binary \n",
    "        num1 = int(a, 2)\n",
    "        num2 = int(b, 2)\n",
    "        \n",
    "        # Compute digit and carry\n",
    "        # No need to do a loop as we \n",
    "        # can use bit operation to compute in one go\n",
    "        # without integer overflow\n",
    "        while num2:\n",
    "            digits = num1 ^ num2\n",
    "            carry = (num1 & num2) << 1\n",
    "            num1 = digits\n",
    "            num2 = carry\n",
    "            \n",
    "        # Convert result to string\n",
    "        return bin(num1)[2:]"
   ]
  }
 ],
 "metadata": {
  "kernelspec": {
   "display_name": "Python 3",
   "language": "python",
   "name": "python3"
  },
  "language_info": {
   "codemirror_mode": {
    "name": "ipython",
    "version": 3
   },
   "file_extension": ".py",
   "mimetype": "text/x-python",
   "name": "python",
   "nbconvert_exporter": "python",
   "pygments_lexer": "ipython3",
   "version": "3.6.5"
  }
 },
 "nbformat": 4,
 "nbformat_minor": 2
}
