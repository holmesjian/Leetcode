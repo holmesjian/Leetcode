{
 "cells": [
  {
   "cell_type": "markdown",
   "metadata": {},
   "source": [
    "# Problem\n",
    "\n",
    "A character in UTF8 can be from 1 to 4 bytes long, subjected to the following rules:\n",
    "\n",
    "For 1-byte character, the first bit is a 0, followed by its unicode code.\n",
    "For n-bytes character, the first n-bits are all one's, the n+1 bit is 0, followed by n-1 bytes with most significant 2 bits being 10.\n",
    "\n",
    "This is how the UTF-8 encoding would work:\n",
    "\n",
    "   |Char. number range  (hexadecimal)  |        UTF-8 octet sequence(binary)|\n",
    "   |--------------------|---------------------------------------------|\n",
    "   |0000 0000-0000 007F | 0xxxxxxx|\n",
    "   |0000 0080-0000 07FF | 110xxxxx 10xxxxxx|\n",
    "   |0000 0800-0000 FFFF | 1110xxxx 10xxxxxx 10xxxxxx|\n",
    "   |0001 0000-0010 FFFF | 11110xxx 10xxxxxx 10xxxxxx 10xxxxxx|\n",
    "   \n",
    "Given an array of integers representing the data, return whether it is a valid utf-8 encoding.\n",
    "\n",
    "Note:<br>\n",
    "The input is an array of integers. Only the least significant 8 bits of each integer is used to store the data. This means each integer represents only 1 byte of data.<br>\n",
    "\n",
    "Example 1:<br>\n",
    "\n",
    "data = [197, 130, 1], which represents the octet sequence: 11000101 10000010 00000001.<br>\n",
    "\n",
    "Return true.<br>\n",
    "\n",
    "It is a valid utf-8 encoding for a 2-bytes character followed by a 1-byte character.\n",
    "\n",
    "Example 2:<br>\n",
    "\n",
    "data = [235, 140, 4], which represented the octet sequence: 11101011 10001100 00000100.<br>\n",
    "\n",
    "Return false.<br>\n",
    "The first 3 bits are all one's and the 4th bit is 0 means it is a 3-bytes character.<br>\n",
    "The next byte is a continuation byte which starts with 10 and that's correct.<br>\n",
    "But the second continuation byte does not start with 10, so it is invalid."
   ]
  }
 ],
 "metadata": {
  "kernelspec": {
   "display_name": "Python 3",
   "language": "python",
   "name": "python3"
  },
  "language_info": {
   "codemirror_mode": {
    "name": "ipython",
    "version": 3
   },
   "file_extension": ".py",
   "mimetype": "text/x-python",
   "name": "python",
   "nbconvert_exporter": "python",
   "pygments_lexer": "ipython3",
   "version": "3.6.5"
  }
 },
 "nbformat": 4,
 "nbformat_minor": 2
}
