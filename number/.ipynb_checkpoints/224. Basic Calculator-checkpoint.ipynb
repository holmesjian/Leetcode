{
 "cells": [
  {
   "cell_type": "markdown",
   "metadata": {},
   "source": [
    "# Problem\n",
    "\n",
    "Implement a basic calculator to evaluate a simple expression string.\n",
    "\n",
    "The expression string may contain open ( and closing parentheses ), the plus + or minus sign -, non-negative integers and empty spaces .<br>\n",
    "\n",
    "Example 1:\n",
    "\n",
    "Input: \"1 + 1\"<br>\n",
    "Output: 2<br>\n",
    "\n",
    "Example 2:\n",
    "\n",
    "Input: \" 2-1 + 2 \"<br>\n",
    "Output: 3<br>\n",
    "\n",
    "Example 3:\n",
    "\n",
    "Input: \"(1+(4+5+2)-3)+(6+8)\"<br>\n",
    "Output: 23<br>\n",
    "\n",
    "Note:\n",
    "You may assume that the given expression is always valid.<br>\n",
    "Do not use the eval built-in library function."
   ]
  }
 ],
 "metadata": {
  "kernelspec": {
   "display_name": "Python 3",
   "language": "python",
   "name": "python3"
  },
  "language_info": {
   "codemirror_mode": {
    "name": "ipython",
    "version": 3
   },
   "file_extension": ".py",
   "mimetype": "text/x-python",
   "name": "python",
   "nbconvert_exporter": "python",
   "pygments_lexer": "ipython3",
   "version": "3.6.5"
  }
 },
 "nbformat": 4,
 "nbformat_minor": 2
}
