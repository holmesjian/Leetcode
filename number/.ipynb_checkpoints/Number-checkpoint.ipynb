{
 "cells": [
  {
   "cell_type": "markdown",
   "metadata": {},
   "source": [
    "1. Calculation based on its digits"
   ]
  },
  {
   "cell_type": "code",
   "execution_count": 30,
   "metadata": {},
   "outputs": [
    {
     "name": "stdout",
     "output_type": "stream",
     "text": [
      "Ones digit: 5, tens digit: 6, hundreds digit: 9\n"
     ]
    }
   ],
   "source": [
    "def next_number(n):\n",
    "    total_sum = 0\n",
    "    while n > 0:\n",
    "        digit = n % 10\n",
    "        total_sum += digit ** 2\n",
    "        n = n // 10\n",
    "    return tobtal_sum"
   ]
  },
  {
   "cell_type": "markdown",
   "metadata": {},
   "source": [
    "2. Count number of digits"
   ]
  },
  {
   "cell_type": "code",
   "execution_count": 25,
   "metadata": {},
   "outputs": [],
   "source": [
    "def count_digits(n):\n",
    "    assert n >= 0\n",
    "    if n == 0:\n",
    "        count = 1\n",
    "        return count\n",
    "    \n",
    "    count = 0\n",
    "    while n > 0:\n",
    "        count += 1\n",
    "        n = n // 10\n",
    "    return count"
   ]
  },
  {
   "cell_type": "markdown",
   "metadata": {},
   "source": [
    "3. Given two binary strings, return their sum (also a binary string).\n",
    "The input strings are both non-empty and contains only characters 1 or 0."
   ]
  }
 ],
 "metadata": {
  "kernelspec": {
   "display_name": "Python 3",
   "language": "python",
   "name": "python3"
  },
  "language_info": {
   "codemirror_mode": {
    "name": "ipython",
    "version": 3
   },
   "file_extension": ".py",
   "mimetype": "text/x-python",
   "name": "python",
   "nbconvert_exporter": "python",
   "pygments_lexer": "ipython3",
   "version": "3.6.5"
  }
 },
 "nbformat": 4,
 "nbformat_minor": 2
}
