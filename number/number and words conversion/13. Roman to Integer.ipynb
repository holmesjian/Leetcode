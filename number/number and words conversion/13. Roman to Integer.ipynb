{
 "cells": [
  {
   "cell_type": "markdown",
   "metadata": {},
   "source": [
    "# Problem\n",
    "\n",
    "Roman numerals are represented by seven different symbols: I, V, X, L, C, D and M.\n",
    "\n",
    "|Symbol| Value|\n",
    "| ------------- |:-------------:| \n",
    "|I   |  1|\n",
    "|V   |  5|\n",
    "|X   |  10|\n",
    "|L   |  50|\n",
    "|C   |  100|\n",
    "|D   |  500|\n",
    "|M   |  1000|\n",
    "\n",
    "For example, two is written as II in Roman numeral, just two one's added together. Twelve is written as, XII, which is simply X + II. The number twenty seven is written as XXVII, which is XX + V + II.\n",
    "\n",
    "Roman numerals are usually written largest to smallest from left to right. However, the numeral for four is not IIII. Instead, the number four is written as IV. Because the one is before the five we subtract it making four. The same principle applies to the number nine, which is written as IX. There are six instances where subtraction is used:\n",
    "\n",
    "I can be placed before V (5) and X (10) to make 4 and 9.<br>\n",
    "X can be placed before L (50) and C (100) to make 40 and 90. <br>\n",
    "C can be placed before D (500) and M (1000) to make 400 and 900.<br>\n",
    "Given a roman numeral, convert it to an integer. Input is guaranteed to be within the range from 1 to 3999.\n",
    "\n",
    "Example 1:<br>\n",
    "\n",
    "Input: \"III\"<br>\n",
    "Output: 3<br>\n",
    "\n",
    "Example 2:<br>\n",
    "\n",
    "Input: \"IV\"<br>\n",
    "Output: 4<br>\n",
    "\n",
    "Example 3:<br>\n",
    "\n",
    "Input: \"IX\"<br>\n",
    "Output: 9<br>\n",
    "\n",
    "Example 4:\n",
    "\n",
    "Input: \"LVIII\"<br>\n",
    "Output: 58<br>\n",
    "Explanation: L = 50, V= 5, III = 3.<br>\n",
    "\n",
    "Example 5:\n",
    "\n",
    "Input: \"MCMXCIV\"<br>\n",
    "Output: 1994<br>\n",
    "Explanation: M = 1000, CM = 900, XC = 90 and IV = 4."
   ]
  },
  {
   "cell_type": "markdown",
   "metadata": {},
   "source": [
    "# Solution 1"
   ]
  },
  {
   "cell_type": "code",
   "execution_count": null,
   "metadata": {},
   "outputs": [],
   "source": [
    "class Solution:\n",
    "    def romanToInt(self, s: str) -> int:\n",
    "        \n",
    "        symbols = {'I': 1,\n",
    "                   'V': 5,\n",
    "                   'X': 10,\n",
    "                   'L': 50,\n",
    "                   'C': 100,\n",
    "                   'D': 500,\n",
    "                   'M': 1000}\n",
    "        \n",
    "        specials = {'I': set(['V', 'X']),\n",
    "                  'X': set(['L', 'C']),\n",
    "                  'C': set(['D', 'M'])}\n",
    "        \n",
    "        number = 0\n",
    "        for i in range(len(s)):\n",
    "            if s[i] in specials and i < len(s) - 1:\n",
    "                if s[i+1] in specials[s[i]]:\n",
    "                    number -= symbols[s[i]]\n",
    "                else:\n",
    "                    number += symbols[s[i]]\n",
    "            else:\n",
    "                number += symbols[s[i]]\n",
    "        return number"
   ]
  },
  {
   "cell_type": "markdown",
   "metadata": {},
   "source": [
    "# Solution 2"
   ]
  },
  {
   "cell_type": "code",
   "execution_count": null,
   "metadata": {},
   "outputs": [],
   "source": [
    "class Solution:\n",
    "    def romanToInt(self, s):\n",
    "        \n",
    "        symbols = {'I': 1,\n",
    "                   'V': 5,\n",
    "                   'X': 10,\n",
    "                   'L': 50,\n",
    "                   'C': 100,\n",
    "                   'D': 500,\n",
    "                   'M': 1000}\n",
    "        \n",
    "        number = 0\n",
    "        for i in range(len(s)):\n",
    "            # Observe that the special cases are when \n",
    "            # the current number is smaller than the next one\n",
    "            if i < len(s) - 1 and symbols[s[i]] < symbols[s[i+1]]:\n",
    "                number -= symbols[s[i]]\n",
    "            else:\n",
    "                number += symbols[s[i]]\n",
    "        return number"
   ]
  }
 ],
 "metadata": {
  "kernelspec": {
   "display_name": "Python 3",
   "language": "python",
   "name": "python3"
  },
  "language_info": {
   "codemirror_mode": {
    "name": "ipython",
    "version": 3
   },
   "file_extension": ".py",
   "mimetype": "text/x-python",
   "name": "python",
   "nbconvert_exporter": "python",
   "pygments_lexer": "ipython3",
   "version": "3.6.5"
  }
 },
 "nbformat": 4,
 "nbformat_minor": 2
}
