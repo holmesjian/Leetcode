{
 "cells": [
  {
   "cell_type": "markdown",
   "metadata": {},
   "source": [
    "# Problem\n",
    "\n",
    "Convert a non-negative integer to its english words representation. Given input is guaranteed to be less than 231 - 1.\n",
    "\n",
    "Example 1:<br>\n",
    "\n",
    "Input: 123<br>\n",
    "Output: \"One Hundred Twenty Three\"<br>\n",
    "\n",
    "Example 2:\n",
    "\n",
    "Input: 12345<br>\n",
    "Output: \"Twelve Thousand Three Hundred Forty Five\"<br>\n",
    "\n",
    "Example 3:\n",
    "\n",
    "Input: 1234567<br>\n",
    "Output: \"One Million Two Hundred Thirty Four Thousand Five Hundred Sixty Seven\"<br>\n",
    "\n",
    "Example 4:\n",
    "\n",
    "Input: 1234567891<br>\n",
    "Output: \"One Billion Two Hundred Thirty Four Million Five Hundred Sixty Seven Thousand Eight Hundred Ninety One\""
   ]
  },
  {
   "cell_type": "markdown",
   "metadata": {},
   "source": [
    "# Brainstorm\n",
    "\n"
   ]
  }
 ],
 "metadata": {
  "kernelspec": {
   "display_name": "Python 3",
   "language": "python",
   "name": "python3"
  },
  "language_info": {
   "codemirror_mode": {
    "name": "ipython",
    "version": 3
   },
   "file_extension": ".py",
   "mimetype": "text/x-python",
   "name": "python",
   "nbconvert_exporter": "python",
   "pygments_lexer": "ipython3",
   "version": "3.6.5"
  }
 },
 "nbformat": 4,
 "nbformat_minor": 2
}
