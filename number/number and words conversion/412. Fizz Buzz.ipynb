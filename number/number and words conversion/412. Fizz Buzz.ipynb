{
 "cells": [
  {
   "cell_type": "markdown",
   "metadata": {},
   "source": [
    "# Problem\n",
    "\n",
    "Write a program that outputs the string representation of numbers from 1 to n.\n",
    "\n",
    "But for multiples of three it should output “Fizz” instead of the number and for the multiples of five output “Buzz”. For numbers which are multiples of both three and five output “FizzBuzz”.\n",
    "\n",
    "Example:\n",
    "\n",
    "n = 15,<br>\n",
    "\n",
    "Return:<br>\n",
    "[<br>\n",
    "    \"1\",<br>\n",
    "    \"2\",<br>\n",
    "    \"Fizz\",<br>\n",
    "    \"4\",<br>\n",
    "    \"Buzz\",<br>\n",
    "    \"Fizz\",<br>\n",
    "    \"7\",<br>\n",
    "    \"8\",<br>\n",
    "    \"Fizz\",<br>\n",
    "    \"Buzz\",<br>\n",
    "    \"11\",<br>\n",
    "    \"Fizz\",<br>\n",
    "    \"13\",<br>\n",
    "    \"14\",<br>\n",
    "    \"FizzBuzz\"<br>\n",
    "]"
   ]
  }
 ],
 "metadata": {
  "kernelspec": {
   "display_name": "Python 3",
   "language": "python",
   "name": "python3"
  },
  "language_info": {
   "codemirror_mode": {
    "name": "ipython",
    "version": 3
   },
   "file_extension": ".py",
   "mimetype": "text/x-python",
   "name": "python",
   "nbconvert_exporter": "python",
   "pygments_lexer": "ipython3",
   "version": "3.6.5"
  }
 },
 "nbformat": 4,
 "nbformat_minor": 2
}
