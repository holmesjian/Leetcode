{
 "cells": [
  {
   "cell_type": "markdown",
   "metadata": {},
   "source": [
    "# Problem\n",
    "\n",
    "Given a string, find the first non-repeating character in it and return it's index. If it doesn't exist, return -1.<br>\n",
    "\n",
    "Examples:<br>\n",
    "\n",
    "s = \"leetcode\"<br>\n",
    "return 0.<br>\n",
    "\n",
    "s = \"loveleetcode\",<br>\n",
    "return 2.<br>\n",
    "\n",
    "Note: You may assume the string contain only lowercase letters."
   ]
  },
  {
   "cell_type": "markdown",
   "metadata": {},
   "source": [
    "# Brainstorm\n",
    "\n",
    "If using indices and constant space, time is O(N^2).\n",
    "To reduce time, think of keeping track of the elements using a data structure. \n",
    "- non-repeating, a set or dictionary seems suitable."
   ]
  },
  {
   "cell_type": "markdown",
   "metadata": {},
   "source": [
    "# Solution"
   ]
  },
  {
   "cell_type": "code",
   "execution_count": null,
   "metadata": {},
   "outputs": [],
   "source": [
    "def firstUniqChar(self, s: str) -> int:\n",
    "    if not s:\n",
    "        return -1\n",
    "\n",
    "    if len(s) == 1:\n",
    "        return 0\n",
    "\n",
    "    count = Counter(s)\n",
    "\n",
    "    for i, char in enumerate(s):\n",
    "        if count[char] == 1:\n",
    "            return i\n",
    "    return -1"
   ]
  }
 ],
 "metadata": {
  "kernelspec": {
   "display_name": "Python 3",
   "language": "python",
   "name": "python3"
  },
  "language_info": {
   "codemirror_mode": {
    "name": "ipython",
    "version": 3
   },
   "file_extension": ".py",
   "mimetype": "text/x-python",
   "name": "python",
   "nbconvert_exporter": "python",
   "pygments_lexer": "ipython3",
   "version": "3.6.5"
  }
 },
 "nbformat": 4,
 "nbformat_minor": 2
}
