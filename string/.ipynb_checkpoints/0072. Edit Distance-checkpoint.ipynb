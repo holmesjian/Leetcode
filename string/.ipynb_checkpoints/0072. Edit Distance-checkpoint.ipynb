{
 "cells": [
  {
   "cell_type": "markdown",
   "metadata": {},
   "source": [
    "# Problem\n",
    "\n",
    "Given two words word1 and word2, find the minimum number of operations required to convert word1 to word2.\n",
    "\n",
    "You have the following 3 operations permitted on a word:\n",
    "\n",
    "Insert a character<br>\n",
    "Delete a character<br>\n",
    "Replace a character<br>\n",
    "\n",
    "Example 1:<br>\n",
    "Input: word1 = \"horse\", word2 = \"ros\"<br>\n",
    "Output: 3<br>\n",
    "Explanation: <br>\n",
    "horse -> rorse (replace 'h' with 'r')<br>\n",
    "rorse -> rose (remove 'r')<br>\n",
    "rose -> ros (remove 'e')<br>\n",
    "\n",
    "Example 2:<br>\n",
    "Input: word1 = \"intention\", word2 = \"execution\"<br>\n",
    "Output: 5<br>\n",
    "Explanation:<br>\n",
    "intention -> inention (remove 't')<br>\n",
    "inention -> enention (replace 'i' with 'e')<br>\n",
    "enention -> exention (replace 'n' with 'x')<br>\n",
    "exention -> exection (replace 'n' with 'c')<br>\n",
    "exection -> execution (insert 'u')<br>"
   ]
  },
  {
   "cell_type": "markdown",
   "metadata": {},
   "source": [
    "# Brainstorm\n",
    "\n"
   ]
  },
  {
   "cell_type": "code",
   "execution_count": null,
   "metadata": {},
   "outputs": [],
   "source": [
    "# check if they are one edit or zero edits away\n",
    "def oneAway(string1, string2):\n",
    "    \n",
    "    if (len(string1) - len(string2) > 1) or (len(string2) - len(string1) > 1):\n",
    "        return False\n",
    "    \n",
    "    elif len(string1) - len(string2) == 1:\n",
    "        count = 0\n",
    "        for i in range(len(string1)):\n",
    "            if string1[i] != string2[i]:\n",
    "                string2 = string2[:i] + \"F\" + string2[i:]\n",
    "                count += 1\n",
    "                \n",
    "    elif len(string2) - len(string1) == 1:\n",
    "        count = 0\n",
    "        for i in range(len(string1)):\n",
    "            if string1[i] != string2[i]:\n",
    "                string2 = string2[:i] + \"F\" + string2[i:]\n",
    "                count += 1\n",
    "                \n",
    "    else:\n",
    "        count = 0\n",
    "        for i in range(len(string1)):\n",
    "            if string1[i] != string2[i]:\n",
    "                count += 1\n",
    "    \n",
    "    if count == 1:\n",
    "        return True\n",
    "    else:\n",
    "        return False        "
   ]
  }
 ],
 "metadata": {
  "kernelspec": {
   "display_name": "Python 3",
   "language": "python",
   "name": "python3"
  },
  "language_info": {
   "codemirror_mode": {
    "name": "ipython",
    "version": 3
   },
   "file_extension": ".py",
   "mimetype": "text/x-python",
   "name": "python",
   "nbconvert_exporter": "python",
   "pygments_lexer": "ipython3",
   "version": "3.6.5"
  }
 },
 "nbformat": 4,
 "nbformat_minor": 2
}
