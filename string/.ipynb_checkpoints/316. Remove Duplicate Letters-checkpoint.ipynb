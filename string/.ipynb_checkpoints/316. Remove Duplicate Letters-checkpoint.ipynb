{
 "cells": [
  {
   "cell_type": "markdown",
   "metadata": {},
   "source": [
    "# Problem\n",
    "\n",
    "Given a string which contains only lowercase letters, remove duplicate letters so that every letter appears once and only once. You must make sure your result is the smallest in lexicographical order among all possible results.\n",
    "\n",
    "Example 1:<br>\n",
    "\n",
    "Input: \"bcabc\"<br>\n",
    "Output: \"abc\"<br>\n",
    "\n",
    "Example 2:<br>\n",
    "\n",
    "Input: \"cbacdcbc\"<br>\n",
    "Output: \"acdb\"<br>\n",
    "\n",
    "Note: This question is the same as 1081: https://leetcode.com/problems/smallest-subsequence-of-distinct-characters/"
   ]
  },
  {
   "cell_type": "markdown",
   "metadata": {},
   "source": [
    "# Brainstorm\n",
    "\n",
    "Removing duplicates is straightforward if O(N) time and O(N) space --- Use a set to contain nonduplicate letters and convert to string.\n",
    "\n",
    "How to find the smallest lexicograpical order? \n",
    "Use sort does not work as the result should not only be the smallest but also in the order of the characters in the given string. "
   ]
  },
  {
   "cell_type": "code",
   "execution_count": null,
   "metadata": {},
   "outputs": [],
   "source": []
  }
 ],
 "metadata": {
  "kernelspec": {
   "display_name": "Python 3",
   "language": "python",
   "name": "python3"
  },
  "language_info": {
   "codemirror_mode": {
    "name": "ipython",
    "version": 3
   },
   "file_extension": ".py",
   "mimetype": "text/x-python",
   "name": "python",
   "nbconvert_exporter": "python",
   "pygments_lexer": "ipython3",
   "version": "3.6.5"
  }
 },
 "nbformat": 4,
 "nbformat_minor": 2
}
