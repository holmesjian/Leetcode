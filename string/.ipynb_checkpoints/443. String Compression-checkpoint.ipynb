{
 "cells": [
  {
   "cell_type": "markdown",
   "metadata": {},
   "source": [
    "# Problem\n",
    "\n",
    "Given an array of characters, compress it in-place.\n",
    "\n",
    "The length after compression must always be smaller than or equal to the original array.\n",
    "\n",
    "Every element of the array should be a character (not int) of length 1.\n",
    "\n",
    "After you are done modifying the input array in-place, return the new length of the array.\n",
    "\n",
    " \n",
    "Follow up:\n",
    "Could you solve it using only O(1) extra space?"
   ]
  },
  {
   "cell_type": "markdown",
   "metadata": {},
   "source": [
    "# Brainstorm\n",
    "\n",
    "Prone to off-by-one error"
   ]
  },
  {
   "cell_type": "code",
   "execution_count": null,
   "metadata": {},
   "outputs": [],
   "source": [
    "class Solution:\n",
    "    def compress(self, chars: List[str]) -> int:\n",
    "        \n",
    "        i = 0\n",
    "        fill_index = 0  \n",
    "        while i < len(chars):\n",
    "            start_char = chars[i]\n",
    "            count = 1\n",
    "            while i + 1 < len(chars) and chars[i+1] == chars[i]:\n",
    "                i += 1\n",
    "                count += 1\n",
    "                \n",
    "            if count > 1:\n",
    "                chars[fill_index] = start_char\n",
    "                for digit in str(count):\n",
    "                    fill_index += 1\n",
    "                    chars[fill_index] = digit\n",
    "            else:\n",
    "                chars[fill_index] = start_char\n",
    "            \n",
    "            fill_index += 1\n",
    "            i += 1\n",
    "        return len(chars[:fill_index])"
   ]
  }
 ],
 "metadata": {
  "kernelspec": {
   "display_name": "Python 3",
   "language": "python",
   "name": "python3"
  },
  "language_info": {
   "codemirror_mode": {
    "name": "ipython",
    "version": 3
   },
   "file_extension": ".py",
   "mimetype": "text/x-python",
   "name": "python",
   "nbconvert_exporter": "python",
   "pygments_lexer": "ipython3",
   "version": "3.6.5"
  }
 },
 "nbformat": 4,
 "nbformat_minor": 2
}
