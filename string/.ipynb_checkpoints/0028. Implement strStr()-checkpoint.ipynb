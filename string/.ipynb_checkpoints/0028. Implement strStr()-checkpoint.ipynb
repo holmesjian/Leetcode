{
 "cells": [
  {
   "cell_type": "markdown",
   "metadata": {},
   "source": [
    "# Problem\n",
    "\n",
    "Implement strStr().<br>\n",
    "\n",
    "Return the index of the first occurrence of needle in haystack, or -1 if needle is not part of haystack.<br>\n",
    "\n",
    "Example 1:<br>\n",
    "\n",
    "Input: haystack = \"hello\", needle = \"ll\"<br>\n",
    "Output: 2<br>\n",
    "\n",
    "Example 2:<br>\n",
    "\n",
    "Input: haystack = \"aaaaa\", needle = \"bba\"<br>\n",
    "Output: -1<br>\n",
    "\n",
    "Clarification:<br>\n",
    "\n",
    "What should we return when needle is an empty string? This is a great question to ask during an interview.\n",
    "\n",
    "For the purpose of this problem, we will return 0 when needle is an empty string. This is consistent to C's strstr() and Java's indexOf()."
   ]
  },
  {
   "cell_type": "markdown",
   "metadata": {},
   "source": [
    "# Brainstorm\n",
    "Compare character by character\n",
    "- Time O(N*M), space O(1)\n",
    "- since it compares character by character instead of substring, so operations of comparison is len(needle) times more.\n",
    "\n",
    "Compare substring\n",
    "- Time O(N), space O(N*M)\n",
    "\n",
    "KMP algorithm\n",
    "- Time O(N+M), space O(M)"
   ]
  },
  {
   "cell_type": "code",
   "execution_count": 40,
   "metadata": {},
   "outputs": [],
   "source": [
    "class Solution:\n",
    "    def strStr(self, haystack: str, needle: str) -> int:\n",
    "        if not needle:\n",
    "            return 0\n",
    "\n",
    "        if not haystack:\n",
    "            return -1        \n",
    "\n",
    "        if len(needle) > len(haystack):\n",
    "            return -1\n",
    "\n",
    "        for i in range(len(haystack) - len(needle) + 1):\n",
    "            if haystack[i] == needle[0]:\n",
    "                j = 1\n",
    "                found = True\n",
    "                while j < len(needle):\n",
    "                    if i+j >= len(haystack) or haystack[i+j] != needle[j]:\n",
    "                        found = False\n",
    "                        break\n",
    "                    else:\n",
    "                        j += 1\n",
    "\n",
    "                if found == False:\n",
    "                    continue\n",
    "                else:\n",
    "                    return i\n",
    "\n",
    "        return -1"
   ]
  },
  {
   "cell_type": "markdown",
   "metadata": {},
   "source": [
    "# Solution 2\n"
   ]
  },
  {
   "cell_type": "code",
   "execution_count": null,
   "metadata": {},
   "outputs": [],
   "source": [
    "def strStr(self, haystack, needle):\n",
    "    if needle == \"\":\n",
    "        return 0\n",
    "    for i in range(len(haystack)-len(needle)+1):\n",
    "        for j in range(len(needle)):\n",
    "            if haystack[i+j] != needle[j]:\n",
    "                break\n",
    "            if j == len(needle)-1:\n",
    "                return i\n",
    "    return -1"
   ]
  },
  {
   "cell_type": "markdown",
   "metadata": {},
   "source": [
    "# Solution 3\n",
    "##### string slicing"
   ]
  },
  {
   "cell_type": "code",
   "execution_count": null,
   "metadata": {},
   "outputs": [],
   "source": [
    "class Solution(object):\n",
    "def strStr(self, haystack, needle):\n",
    "    \"\"\"\n",
    "    :type haystack: str\n",
    "    :type needle: str\n",
    "    :rtype: int\n",
    "    \"\"\"\n",
    "    for i in range(len(haystack) - len(needle)+1):\n",
    "        if haystack[i:i+len(needle)] == needle:\n",
    "            return i\n",
    "    return -1"
   ]
  },
  {
   "cell_type": "code",
   "execution_count": null,
   "metadata": {},
   "outputs": [],
   "source": []
  }
 ],
 "metadata": {
  "kernelspec": {
   "display_name": "Python 3",
   "language": "python",
   "name": "python3"
  },
  "language_info": {
   "codemirror_mode": {
    "name": "ipython",
    "version": 3
   },
   "file_extension": ".py",
   "mimetype": "text/x-python",
   "name": "python",
   "nbconvert_exporter": "python",
   "pygments_lexer": "ipython3",
   "version": "3.6.5"
  }
 },
 "nbformat": 4,
 "nbformat_minor": 2
}
