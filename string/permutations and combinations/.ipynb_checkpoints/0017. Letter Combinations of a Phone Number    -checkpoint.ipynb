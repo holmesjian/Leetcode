{
 "cells": [
  {
   "cell_type": "markdown",
   "metadata": {},
   "source": [
    "# Problem\n",
    "\n",
    "Given a string containing digits from 2-9 inclusive, return all possible letter combinations that the number could represent.\n",
    "\n",
    "A mapping of digit to letters (just like on the telephone buttons) is given below. Note that 1 does not map to any letters.\n",
    "\n",
    "Example:\n",
    "\n",
    "Input: \"23\"<br>\n",
    "Output: [\"ad\", \"ae\", \"af\", \"bd\", \"be\", \"bf\", \"cd\", \"ce\", \"cf\"].<br>\n",
    "\n",
    "Note:\n",
    "\n",
    "Although the above answer is in lexicographical order, your answer could be in any order you want."
   ]
  },
  {
   "cell_type": "markdown",
   "metadata": {},
   "source": [
    "# Brainstorm\n",
    "\n",
    "List out all choices and build from each digit.\n",
    "- Time O(3^K * 4^M) where k + M is the total number of digits. K digits have 3 choices of letters, M digits have 4 choices of letters.\n",
    "- Space like the height of a tree, O(K + M) for the recursion stack."
   ]
  },
  {
   "cell_type": "markdown",
   "metadata": {},
   "source": [
    "# Solution "
   ]
  },
  {
   "cell_type": "code",
   "execution_count": null,
   "metadata": {},
   "outputs": [],
   "source": [
    "class Solution:\n",
    "    def letterCombinations(self, digits):\n",
    "        if not digits:\n",
    "            return []\n",
    "        \n",
    "        mapping = {'2': ['a', 'b', 'c'],\n",
    "                  '3': ['d', 'e', 'f'],\n",
    "                  '4': ['g', 'h', 'i'],\n",
    "                  '5': ['j', 'k', 'l'],\n",
    "                  '6': ['m', 'n', 'o'],\n",
    "                  '7': ['p', 'q', 'r', 's'],\n",
    "                  '8': ['t', 'u', 'v'],\n",
    "                  '9': ['w', 'x', 'y', 'z']}\n",
    "        \n",
    "        all_letters = []\n",
    "        self.helper(all_letters, digits, 0, '', mapping)\n",
    "        return all_letters\n",
    "    \n",
    "    def helper(self, all_letters, digits, i, curr_combination, mapping):\n",
    "        # No more letters to add to a combination\n",
    "        if i >= len(digits):\n",
    "            all_letters.append(curr_combination)\n",
    "            return\n",
    "        \n",
    "        digit = digits[i]\n",
    "        for letter in mapping[digit]:\n",
    "            self.helper(all_letters, digits, i+1, curr_combination+letter, mapping)"
   ]
  }
 ],
 "metadata": {
  "kernelspec": {
   "display_name": "Python 3",
   "language": "python",
   "name": "python3"
  },
  "language_info": {
   "codemirror_mode": {
    "name": "ipython",
    "version": 3
   },
   "file_extension": ".py",
   "mimetype": "text/x-python",
   "name": "python",
   "nbconvert_exporter": "python",
   "pygments_lexer": "ipython3",
   "version": "3.6.5"
  }
 },
 "nbformat": 4,
 "nbformat_minor": 2
}
