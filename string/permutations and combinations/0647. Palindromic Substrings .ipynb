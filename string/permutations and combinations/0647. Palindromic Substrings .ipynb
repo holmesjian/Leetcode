{
 "cells": [
  {
   "cell_type": "markdown",
   "metadata": {},
   "source": [
    "# Problem\n",
    "\n",
    "Given a string, your task is to count how many palindromic substrings in this string.\n",
    "\n",
    "The substrings with different start indexes or end indexes are counted as different substrings even they consist of same characters.\n",
    "\n",
    "Example 1:<br>\n",
    "\n",
    "Input: \"abc\"<br>\n",
    "Output: 3<br>\n",
    "Explanation: Three palindromic strings: \"a\", \"b\", \"c\".<br>\n",
    " \n",
    "\n",
    "Example 2:<br>\n",
    "\n",
    "Input: \"aaa\"<br>\n",
    "Output: 6<br>\n",
    "Explanation: Six palindromic strings: \"a\", \"a\", \"a\", \"aa\", \"aa\", \"aaa\".\n",
    " \n",
    "\n",
    "Note:\n",
    "\n",
    "The input string length won't exceed 1000."
   ]
  }
 ],
 "metadata": {
  "kernelspec": {
   "display_name": "Python 3",
   "language": "python",
   "name": "python3"
  },
  "language_info": {
   "codemirror_mode": {
    "name": "ipython",
    "version": 3
   },
   "file_extension": ".py",
   "mimetype": "text/x-python",
   "name": "python",
   "nbconvert_exporter": "python",
   "pygments_lexer": "ipython3",
   "version": "3.6.5"
  }
 },
 "nbformat": 4,
 "nbformat_minor": 2
}
