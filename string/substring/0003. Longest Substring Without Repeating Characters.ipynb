{
 "cells": [
  {
   "cell_type": "markdown",
   "metadata": {},
   "source": [
    "# Problem\n",
    "\n",
    "Given a string, find the length of the longest substring without repeating characters.\n",
    "\n",
    "Example 1:\n",
    "\n",
    "Input: \"abcabcbb\"<br>\n",
    "Output: 3 <br>\n",
    "Explanation: The answer is \"abc\", with the length of 3. <br>\n",
    "\n",
    "Example 2:\n",
    "\n",
    "Input: \"bbbbb\"<br>\n",
    "Output: 1<br>\n",
    "Explanation: The answer is \"b\", with the length of 1.<br>\n",
    "\n",
    "Example 3:\n",
    "\n",
    "Input: \"pwwkew\"<br>\n",
    "Output: 3<br>\n",
    "Explanation: The answer is \"wke\", with the length of 3. \n",
    "             Note that the answer must be a substring, \"pwke\" is a subsequence and not a substring."
   ]
  },
  {
   "cell_type": "markdown",
   "metadata": {},
   "source": [
    "# Brainstorm\n",
    "\n",
    "Be careful of edge cases like '' and ' '.\n",
    "\n",
    "Use a set to record seen letters every time we iterate i\n",
    "- for each i, initiate a new set, iterate s again from i+1 until the end of the string\n",
    "- fill set until letter is already seen\n",
    "- length of nonduplicated substring is the length of the set\n",
    "- move to the next i\n",
    "- Time O(N^2), space O(Nm) where m is the length of each set.\n",
    "\n",
    "Use a dictionary to record seen letters and their position, so we can skip some i\n",
    "- for each i, initiate a new dict, iterate s again from i+1 until the end of the string\n",
    "- fill dictionary with value and index\n",
    "- If a letter is already seen at a previous position, start next i from that position + 1 to skip the seen letter.\n",
    "- Same time and space complexity as above\n",
    "\n",
    "Can we use only one dictionary? If so, we cannot use the length of the dictionary to calculate each nonduplicated substring. In the previous dictionary solution, we already know the start of the substring. We can use that to calculate the nonduplicated substring."
   ]
  },
  {
   "cell_type": "markdown",
   "metadata": {},
   "source": [
    "# Solution 1\n",
    "##### set"
   ]
  },
  {
   "cell_type": "code",
   "execution_count": 2,
   "metadata": {},
   "outputs": [],
   "source": [
    "class Solution:\n",
    "    def lengthOfLongestSubstring(self, s):\n",
    "        \n",
    "        max_length = 0\n",
    "        for i in range(len(s)): # it may be tempting to end the range as len(s)-1, but think about the case when len(s) == 1\n",
    "            seen = set([s[i]])\n",
    "            for j in range(i+1, len(s)):\n",
    "                if s[j] in seen:\n",
    "                    break\n",
    "                else:\n",
    "                    seen.add(s[j])\n",
    "                    \n",
    "            length = len(seen)\n",
    "            max_length = max(max_length, length)\n",
    "            \n",
    "        return max_length\n",
    "                    "
   ]
  },
  {
   "cell_type": "markdown",
   "metadata": {},
   "source": [
    "# Solution 2\n",
    "##### dictionary"
   ]
  },
  {
   "cell_type": "code",
   "execution_count": null,
   "metadata": {},
   "outputs": [],
   "source": [
    "class Solution:\n",
    "    def lengthOfLongestSubstring(self, s: str) -> int:\n",
    "        \n",
    "        start = 0\n",
    "        max_length = 0\n",
    "        for i in range(start, len(s)):\n",
    "            seen_at = {s[i]: i}\n",
    "            for j in range(i+1, len(s)):\n",
    "                if s[j] in seen_at:\n",
    "                    start = seen_at[s[j]] + 1\n",
    "                    break\n",
    "                else:\n",
    "                    seen_at[s[j]] = j\n",
    "            length = len(seen_at)\n",
    "            max_length = max(max_length, length)\n",
    "        \n",
    "        return max_length"
   ]
  },
  {
   "cell_type": "markdown",
   "metadata": {},
   "source": [
    "# Solution 3\n",
    "##### Use only 1 dictionary"
   ]
  },
  {
   "cell_type": "code",
   "execution_count": null,
   "metadata": {},
   "outputs": [],
   "source": [
    "class Solution:\n",
    "    def lengthOfLongestSubstring(self, s: str) -> int:\n",
    "        \n",
    "        start = 0\n",
    "        max_length = 0\n",
    "        seen_at = {}\n",
    "        \n",
    "        for i in range(len(s)):\n",
    "            if s[i] not in seen_at or (s[i] in seen_at and seen_at[s[i]] < start):\n",
    "                length = i - start + 1\n",
    "                max_length = max(max_length, length)\n",
    "                seen_at[s[i]] = i\n",
    "            else:\n",
    "                start = seen_at[s[i]] + 1\n",
    "                # length = i - start\n",
    "                # max_length = max(max_length, length)\n",
    "                seen_at[s[i]] = i\n",
    "        \n",
    "        return max_length"
   ]
  }
 ],
 "metadata": {
  "kernelspec": {
   "display_name": "Python 3",
   "language": "python",
   "name": "python3"
  },
  "language_info": {
   "codemirror_mode": {
    "name": "ipython",
    "version": 3
   },
   "file_extension": ".py",
   "mimetype": "text/x-python",
   "name": "python",
   "nbconvert_exporter": "python",
   "pygments_lexer": "ipython3",
   "version": "3.6.5"
  }
 },
 "nbformat": 4,
 "nbformat_minor": 2
}
