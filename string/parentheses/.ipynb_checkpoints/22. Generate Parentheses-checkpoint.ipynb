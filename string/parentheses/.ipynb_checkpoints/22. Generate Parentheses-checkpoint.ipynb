{
 "cells": [
  {
   "cell_type": "markdown",
   "metadata": {},
   "source": [
    "# Problem\n",
    "\n",
    "Given n pairs of parentheses, write a function to generate all combinations of well-formed parentheses.\n",
    "\n",
    "For example, given n = 3, a solution set is:<br>\n",
    "\n",
    "[<br>\n",
    "  \"((()))\",<br>\n",
    "  \"(()())\",<br>\n",
    "  \"(())()\",<br>\n",
    "  \"()(())\",<br>\n",
    "  \"()()()\"<br>\n",
    "]"
   ]
  },
  {
   "cell_type": "markdown",
   "metadata": {},
   "source": [
    "# Brainstorm\n",
    "\n",
    "We are actually trying to find all possible combinations of 2n brackets, each with 2 choices only.\n",
    "The challenge is that we have to make sure the brackets generated are balanced. What does this mean?\n",
    "How can we check this? "
   ]
  },
  {
   "cell_type": "code",
   "execution_count": null,
   "metadata": {},
   "outputs": [],
   "source": [
    "class Solution:\n",
    "    def generateParenthesis(self, n):\n",
    "        if n == 0:\n",
    "            return []\n",
    "        \n",
    "        all_parentheses = []\n",
    "        curr_combination = ''\n",
    "        self.helper(all_parentheses, curr_combination, n, 0, 0, 0)\n",
    "        return all_parentheses\n",
    "    \n",
    "    def helper(self, all_parentheses, curr_combination, n, i, nopen, nclose):\n",
    "        if i == 2*n:\n",
    "            all_parentheses.append(curr_combination)\n",
    "            return \n",
    "    \n",
    "        # If the number of open brackets so far > that of close brackets\n",
    "        if i != 0 and nopen > nclose:\n",
    "            self.helper(all_parentheses, curr_combination+')', n, i+1, nopen, nclose+1)\n",
    "        \n",
    "        # Use 'if' not 'elif' as this is at the same level as the above in the recursion tree\n",
    "        if nopen < n:\n",
    "            self.helper(all_parentheses, curr_combination+'(', n, i+1, nopen+1, nclose)"
   ]
  }
 ],
 "metadata": {
  "kernelspec": {
   "display_name": "Python 3",
   "language": "python",
   "name": "python3"
  },
  "language_info": {
   "codemirror_mode": {
    "name": "ipython",
    "version": 3
   },
   "file_extension": ".py",
   "mimetype": "text/x-python",
   "name": "python",
   "nbconvert_exporter": "python",
   "pygments_lexer": "ipython3",
   "version": "3.6.5"
  }
 },
 "nbformat": 4,
 "nbformat_minor": 2
}
