{
 "cells": [
  {
   "cell_type": "markdown",
   "metadata": {},
   "source": [
    "# Problem\n",
    "\n",
    "Given a string containing just the characters '(', ')', '{', '}', '[' and ']', determine if the input string is valid.\n",
    "An input string is valid if:\n",
    "\n",
    "1. Open brackets must be closed by the same type of brackets.\n",
    "2. Open brackets must be closed in the correct order.\n",
    "Note that an empty string is also considered valid.\n",
    "\n",
    "Solution:\n",
    "1. Clarify the question:\n",
    "Repeat the question: So we are given a linked list and a value x, and we need to shift the elements in the linked list\n",
    "such that the elements less that x come before the elements greater or equal to x.\n",
    "Clarify assumptions: -\n",
    "                     - Is it a singly or doubly linked list? (We will assume singly.).\n",
    "\n",
    "2. Inputs and outputs:\n",
    "\n",
    "Input: \"{[]}\"<br>\n",
    "Output: true<br>\n",
    "\n",
    "Input: \"()\"<br>\n",
    "Output: true<br>\n",
    "\n",
    "Input: \"()[]{}\"<br>\n",
    "Output: true<br>\n",
    "\n",
    "Input: \"(]\"<br>\n",
    "Output: false<br>\n",
    "\n",
    "Input: \"([)]\"<br>\n",
    "Output: false<br>\n"
   ]
  },
  {
   "cell_type": "markdown",
   "metadata": {},
   "source": [
    "# Brainstorm\n",
    "\n",
    "Matching brackets:\n",
    "- stack to handle matches"
   ]
  },
  {
   "cell_type": "markdown",
   "metadata": {},
   "source": [
    "# Solution\n",
    "##### Stack"
   ]
  },
  {
   "cell_type": "code",
   "execution_count": null,
   "metadata": {},
   "outputs": [],
   "source": [
    "class Solution:\n",
    "    def isValid(self, s):\n",
    "        if not s:\n",
    "            return True\n",
    "        \n",
    "        # Use a dictionary so that when we see a close bracket,\n",
    "        # we quickly know what its matching open bracket is,\n",
    "        # and compare with latest seen open bracket\n",
    "        close_brackets = {')': '(', ']': '[', '}': '{'}\n",
    "        seen = []\n",
    "        \n",
    "        for char in s:\n",
    "            if char not in close_brackets:\n",
    "                # char is open bracket\n",
    "                seen.append(char)\n",
    "                \n",
    "            else: # char is close bracket\n",
    "                if not seen or close_brackets[char] != seen[-1]:\n",
    "                    return False\n",
    "                else:\n",
    "                    seen.pop()\n",
    "        \n",
    "        if seen: # We have unmatched open brackets\n",
    "            return False\n",
    "        return True"
   ]
  }
 ],
 "metadata": {
  "kernelspec": {
   "display_name": "Python 3",
   "language": "python",
   "name": "python3"
  },
  "language_info": {
   "codemirror_mode": {
    "name": "ipython",
    "version": 3
   },
   "file_extension": ".py",
   "mimetype": "text/x-python",
   "name": "python",
   "nbconvert_exporter": "python",
   "pygments_lexer": "ipython3",
   "version": "3.6.5"
  }
 },
 "nbformat": 4,
 "nbformat_minor": 2
}
