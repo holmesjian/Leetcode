{
 "cells": [
  {
   "cell_type": "markdown",
   "metadata": {},
   "source": [
    "# Problem\n",
    "\n",
    "Given an encoded string, return its decoded string.\n",
    "\n",
    "The encoding rule is: k[encoded_string], where the encoded_string inside the square brackets is being repeated exactly k times. Note that k is guaranteed to be a positive integer.\n",
    "\n",
    "You may assume that the input string is always valid; No extra white spaces, square brackets are well-formed, etc.\n",
    "\n",
    "Furthermore, you may assume that the original data does not contain any digits and that digits are only for those repeat numbers, k. For example, there won't be input like 3a or 2[4].\n",
    "\n",
    "Examples:\n",
    "\n",
    "s = \"3[a]2[bc]\", return \"aaabcbc\".<br>\n",
    "s = \"3[a2[c]]\", return \"accaccacc\".<br>\n",
    "s = \"2[abc]3[cd]ef\", return \"abcabccdcdcdef\"."
   ]
  },
  {
   "cell_type": "markdown",
   "metadata": {},
   "source": [
    "# Brainstorm\n",
    "\n",
    "We see brackets, so a stack is a potential data structure to help us reduce iterations.\n",
    "\n",
    "Also notice, besides brackets, we deal with numbers (eg. 2, 20, 200) and letters (eg. a, ab, abc). So if the number is 100, we need to add [100] to the stack, not [1, 0, 0]\n",
    "\n",
    "Then have to try several representative examples that cover enough cases:\n",
    "- 2[a2[b]] where we have letter followed by digits. Because of cases like this, it is not trivial to find the patten."
   ]
  },
  {
   "cell_type": "code",
   "execution_count": null,
   "metadata": {},
   "outputs": [],
   "source": [
    "class Solution:\n",
    "    def decodeString(self, s: str) -> str:\n",
    "        \n",
    "        num = []\n",
    "        substring = []\n",
    "        chars = None\n",
    "        decoded_s = None\n",
    "        \n",
    "        for i, char in enumerate(s):\n",
    "            if char.isdigit() or char == '[':\n",
    "                num.append(char)\n",
    "            elif char.isalpha():\n",
    "                j = i + 1\n",
    "                chars = char\n",
    "                while j < len(s) and s[j].isalpha():\n",
    "                    chars += s[j]\n",
    "                    j += 1\n",
    "                substring.append(chars)\n",
    "                \n",
    "            else:\n",
    "                num.pop()\n",
    "                n = num.pop()\n",
    "      \n",
    "                substring[-1] *= int(n)\n",
    "                if decoded_s:\n",
    "                    decoded_s += substring\n",
    "                else:\n",
    "                    decoded_s = substring\n",
    "                substring.pop()\n",
    "        \n",
    "        return decoded_s"
   ]
  }
 ],
 "metadata": {
  "kernelspec": {
   "display_name": "Python 3",
   "language": "python",
   "name": "python3"
  },
  "language_info": {
   "codemirror_mode": {
    "name": "ipython",
    "version": 3
   },
   "file_extension": ".py",
   "mimetype": "text/x-python",
   "name": "python",
   "nbconvert_exporter": "python",
   "pygments_lexer": "ipython3",
   "version": "3.6.5"
  }
 },
 "nbformat": 4,
 "nbformat_minor": 2
}
