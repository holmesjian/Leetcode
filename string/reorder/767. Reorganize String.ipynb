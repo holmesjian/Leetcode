{
 "cells": [
  {
   "cell_type": "markdown",
   "metadata": {},
   "source": [
    "# Problem\n",
    "\n",
    "Given a string S, check if the letters can be rearranged so that two characters that are adjacent to each other are not the same.\n",
    "\n",
    "If possible, output any possible result.  If not possible, return the empty string.\n",
    "\n",
    "Example 1:<br>\n",
    "\n",
    "Input: S = \"aab\"<br>\n",
    "Output: \"aba\"<br>\n",
    "\n",
    "Example 2:\n",
    "\n",
    "Input: S = \"aaab\"<br>\n",
    "Output: \"\"<br>\n",
    "\n",
    "Note:\n",
    "\n",
    "S will consist of lowercase letters and have length in range [1, 500]."
   ]
  },
  {
   "cell_type": "markdown",
   "metadata": {},
   "source": [
    "# Brainstorm\n",
    "\n"
   ]
  }
 ],
 "metadata": {
  "kernelspec": {
   "display_name": "Python 3",
   "language": "python",
   "name": "python3"
  },
  "language_info": {
   "codemirror_mode": {
    "name": "ipython",
    "version": 3
   },
   "file_extension": ".py",
   "mimetype": "text/x-python",
   "name": "python",
   "nbconvert_exporter": "python",
   "pygments_lexer": "ipython3",
   "version": "3.6.5"
  }
 },
 "nbformat": 4,
 "nbformat_minor": 2
}
