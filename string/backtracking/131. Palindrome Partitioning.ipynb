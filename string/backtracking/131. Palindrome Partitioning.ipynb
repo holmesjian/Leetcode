{
 "cells": [
  {
   "cell_type": "markdown",
   "metadata": {},
   "source": [
    "# Problem\n",
    "\n",
    "Given a string s, partition s such that every substring of the partition is a palindrome.<br>\n",
    "\n",
    "Return all possible palindrome partitioning of s.<br>\n",
    "\n",
    "Example:<br>\n",
    "Input: \"aab\"<br>\n",
    "Output:<br>\n",
    "[\n",
    "  [\"aa\",\"b\"],\n",
    "  [\"a\",\"a\",\"b\"]\n",
    "]"
   ]
  },
  {
   "cell_type": "markdown",
   "metadata": {},
   "source": [
    "Solution 1: Backtrack"
   ]
  },
  {
   "cell_type": "code",
   "execution_count": 1,
   "metadata": {},
   "outputs": [],
   "source": [
    "def partition(s):\n",
    "    partitions = []\n",
    "    backtrack(s, 0, [], partitions)\n",
    "    return partitions\n",
    "    \n",
    "def backtrack(s, start, templist, partitions):\n",
    "    if start == len(s):\n",
    "        partitions.append(templist[:])\n",
    "    for i in range(start, len(s)):\n",
    "        current = s[start:i+1]\n",
    "        if current == current[::-1]:\n",
    "            templist.append(current)\n",
    "            backtrack(s, i+1, templist, partitions)\n",
    "            templist.pop()"
   ]
  },
  {
   "cell_type": "code",
   "execution_count": 2,
   "metadata": {},
   "outputs": [
    {
     "data": {
      "text/plain": [
       "[['a', 'a', 'b'], ['aa', 'b']]"
      ]
     },
     "execution_count": 2,
     "metadata": {},
     "output_type": "execute_result"
    }
   ],
   "source": [
    "s = 'aab'\n",
    "partition(s)"
   ]
  }
 ],
 "metadata": {
  "kernelspec": {
   "display_name": "Python 3",
   "language": "python",
   "name": "python3"
  },
  "language_info": {
   "codemirror_mode": {
    "name": "ipython",
    "version": 3
   },
   "file_extension": ".py",
   "mimetype": "text/x-python",
   "name": "python",
   "nbconvert_exporter": "python",
   "pygments_lexer": "ipython3",
   "version": "3.6.5"
  }
 },
 "nbformat": 4,
 "nbformat_minor": 2
}
