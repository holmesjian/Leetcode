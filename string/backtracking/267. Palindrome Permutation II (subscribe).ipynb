{
 "cells": [
  {
   "cell_type": "markdown",
   "metadata": {},
   "source": [
    "# Problem\n",
    "\n",
    "Given a string s, return all the palindromic permutations (without duplicates) of it. Return an empty list if no palindromic permutation could be form.<br>\n",
    "\n",
    "Example 1:<br>\n",
    "\n",
    "Input: \"aabb\"<br>\n",
    "Output: [\"abba\", \"baab\"]<br>\n",
    "\n",
    "\n",
    "Example 2:\n",
    "\n",
    "Input: \"abc\"<br>\n",
    "Output: []"
   ]
  },
  {
   "cell_type": "code",
   "execution_count": null,
   "metadata": {},
   "outputs": [],
   "source": [
    "def generatePalindromes(self, s):\n",
    "        kv = collections.Counter(s)\n",
    "        mid = [k for k, v in kv.iteritems() if v%2]\n",
    "        if len(mid) > 1:\n",
    "            return []\n",
    "        mid = '' if mid == [] else mid[0]\n",
    "        half = ''.join([k * (v/2) for k, v in kv.iteritems()])\n",
    "        half = [c for c in half]\n",
    "        \n",
    "        def backtrack(end, tmp):\n",
    "            if len(tmp) == end:\n",
    "                cur = ''.join(tmp)\n",
    "                ans.append(cur + mid + cur[::-1])\n",
    "            else:\n",
    "                for i in range(end):\n",
    "                    if visited[i] or (i>0 and half[i] == half[i-1] and not visited[i-1]):\n",
    "                        continue\n",
    "                    visited[i] = True\n",
    "                    tmp.append(half[i])\n",
    "                    backtrack(end, tmp)\n",
    "                    visited[i] = False\n",
    "                    tmp.pop()\n",
    "                    \n",
    "        ans = []\n",
    "        visited = [False] * len(half)\n",
    "        backtrack(len(half), [])\n",
    "        return ans"
   ]
  }
 ],
 "metadata": {
  "kernelspec": {
   "display_name": "Python 3",
   "language": "python",
   "name": "python3"
  },
  "language_info": {
   "codemirror_mode": {
    "name": "ipython",
    "version": 3
   },
   "file_extension": ".py",
   "mimetype": "text/x-python",
   "name": "python",
   "nbconvert_exporter": "python",
   "pygments_lexer": "ipython3",
   "version": "3.6.5"
  }
 },
 "nbformat": 4,
 "nbformat_minor": 2
}
