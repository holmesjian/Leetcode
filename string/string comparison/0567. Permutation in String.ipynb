{
 "cells": [
  {
   "cell_type": "markdown",
   "metadata": {},
   "source": [
    "# Problem\n",
    "\n",
    "\n",
    "Given two strings s1 and s2, write a function to return true if s2 contains the permutation of s1. In other words, one of the first string's permutations is the substring of the second string.\n",
    "\n",
    " \n",
    "\n",
    "Example 1:<br>\n",
    "Input: s1 = \"ab\" s2 = \"eidbaooo\"<br>\n",
    "Output: True<br>\n",
    "Explanation: s2 contains one permutation of s1 (\"ba\").<br>\n",
    "\n",
    "Example 2:<br>\n",
    "Input:s1= \"ab\" s2 = \"eidboaoo\"<br>\n",
    "Output: False<br>"
   ]
  },
  {
   "cell_type": "markdown",
   "metadata": {},
   "source": [
    "# Brainstorm\n",
    "\n",
    "There are several complications in this problem:\n",
    "- duplicate letters in s1\n",
    "- permutations\n",
    "\n",
    "\n",
    "We see permutation, so a hash table may be helpful to reduce iterations as the order of letters is not important and we need to quickly search for the presence of a letter.\n",
    "\n",
    "- Store the characters in s1 into a set. eg. 'ab' to set([a, b])\n",
    "- Iterate s2, eg. 'ebcbaooooa'\n",
    "      - if a letter in s2 exists in s1, check for the substring starting from that letter. we find b at index 1 in s2. check for substring with length 2 --'bc', which is not the same as 'ab', then go on to the next index in s2.\n",
    "- Time O(N) where N is the length of s2. Space O(kM) where M is the length of s1, k is the set, and multiple substrings created for comparision."
   ]
  },
  {
   "cell_type": "markdown",
   "metadata": {},
   "source": [
    "# Solution\n",
    "\n",
    "We see permutations, so a hash table could be helpful to reduce iterations as we don't care about the order and need quick "
   ]
  },
  {
   "cell_type": "code",
   "execution_count": null,
   "metadata": {},
   "outputs": [],
   "source": []
  }
 ],
 "metadata": {
  "kernelspec": {
   "display_name": "Python 3",
   "language": "python",
   "name": "python3"
  },
  "language_info": {
   "codemirror_mode": {
    "name": "ipython",
    "version": 3
   },
   "file_extension": ".py",
   "mimetype": "text/x-python",
   "name": "python",
   "nbconvert_exporter": "python",
   "pygments_lexer": "ipython3",
   "version": "3.6.5"
  }
 },
 "nbformat": 4,
 "nbformat_minor": 2
}
