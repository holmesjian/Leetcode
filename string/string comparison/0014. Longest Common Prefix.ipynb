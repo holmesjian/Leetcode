{
 "cells": [
  {
   "cell_type": "markdown",
   "metadata": {},
   "source": [
    "# Problem\n",
    "\n",
    "Write a function to find the longest common prefix string amongst an array of strings.<br>\n",
    "\n",
    "If there is no common prefix, return an empty string \"\".<br>\n",
    "\n",
    "Example 1:<br>\n",
    "\n",
    "Input: [\"flower\",\"flow\",\"flight\"]<br>\n",
    "Output: \"fl\"<br>\n",
    "\n",
    "Example 2:\n",
    "\n",
    "Input: [\"dog\",\"racecar\",\"car\"]<br>\n",
    "Output: \"\"<br>\n",
    "Explanation: There is no common prefix among the input strings.<br>\n",
    "\n",
    "Note:\n",
    "\n",
    "All given inputs are in lowercase letters a-z."
   ]
  },
  {
   "cell_type": "markdown",
   "metadata": {},
   "source": [
    "# Brainstorm\n",
    "\n",
    "string contecanation\n",
    "- Time O(mN) where m is the length of the first string, space O(M) where M is the length of the common prefix, the longest M can be the shortest string. \n",
    "- be careful of the case when strs are ['', '', '']"
   ]
  },
  {
   "cell_type": "markdown",
   "metadata": {},
   "source": [
    "# Solution"
   ]
  },
  {
   "cell_type": "code",
   "execution_count": null,
   "metadata": {},
   "outputs": [],
   "source": [
    "class Solution:\n",
    "    def longestCommonPrefix(self, strs: List[str]) -> str:\n",
    "        if not strs:\n",
    "            return \"\"\n",
    "        \n",
    "        pre = \"\"\n",
    "        first_str = strs[0]\n",
    "        \n",
    "        for i in range(len(first_str)):\n",
    "            add_i_to_pre = True\n",
    "            for s in strs[1:]:\n",
    "                if i >= len(s) or s[i] != first_str[i]:\n",
    "                    add_i_to_pre = False\n",
    "                    break\n",
    "                else:\n",
    "                    continue\n",
    "            \n",
    "            if add_i_to_pre == False:\n",
    "                return pre\n",
    "            else:\n",
    "                pre += first_str[i]\n",
    "        \n",
    "        return pre"
   ]
  },
  {
   "cell_type": "markdown",
   "metadata": {},
   "source": [
    "Simplify:"
   ]
  },
  {
   "cell_type": "code",
   "execution_count": null,
   "metadata": {},
   "outputs": [],
   "source": [
    "class Solution:\n",
    "    def longestCommonPrefix(self, strs: List[str]) -> str:\n",
    "        if not strs:\n",
    "            return \"\"\n",
    "\n",
    "        \n",
    "        first_str = strs[0]\n",
    "        \n",
    "        for i in range(len(first_str)):\n",
    "\n",
    "            for s in strs[1:]:\n",
    "                if i >= len(s) or s[i] != first_str[i]:\n",
    "                    return first_str[:i]\n",
    "                \n",
    "        return first_str"
   ]
  }
 ],
 "metadata": {
  "kernelspec": {
   "display_name": "Python 3",
   "language": "python",
   "name": "python3"
  },
  "language_info": {
   "codemirror_mode": {
    "name": "ipython",
    "version": 3
   },
   "file_extension": ".py",
   "mimetype": "text/x-python",
   "name": "python",
   "nbconvert_exporter": "python",
   "pygments_lexer": "ipython3",
   "version": "3.6.5"
  }
 },
 "nbformat": 4,
 "nbformat_minor": 2
}
