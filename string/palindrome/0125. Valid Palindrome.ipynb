{
 "cells": [
  {
   "cell_type": "markdown",
   "metadata": {},
   "source": [
    "# Problem\n",
    "\n",
    "Given a string, determine if it is a palindrome, considering only alphanumeric characters and ignoring cases.<br>\n",
    "\n",
    "Note: For the purpose of this problem, we define empty string as valid palindrome.<br>\n",
    "\n",
    "Example 1:<br>\n",
    "\n",
    "Input: \"A man, a plan, a canal: Panama\"<br>\n",
    "Output: true<br>\n",
    "\n",
    "Example 2:<br>\n",
    "\n",
    "Input: \"race a car\"<br>\n",
    "Output: false<br>"
   ]
  },
  {
   "cell_type": "markdown",
   "metadata": {},
   "source": [
    "# Brainstorm\n",
    "\n",
    "Basics:<br>\n",
    "Check whether a character in string is a letter or a number:\n",
    "- char.isalnum()\n",
    "\n",
    "Convert string to lower letters:\n",
    "- string.lower()\n",
    "\n",
    "\n",
    "Solution:\n",
    "Using two pointers, from each end of the string, moving to the middle.\n",
    "- Time: O(N) as we iterate through the string once, space O(1)\n",
    "\n",
    "Using regular expressions\n",
    "- Time: O(N), space O(N) as we store two new strings: one is the cleaned string, the other is the reverse of the cleaned string."
   ]
  },
  {
   "cell_type": "markdown",
   "metadata": {},
   "source": [
    "# Solution 1\n",
    "##### Pointers"
   ]
  },
  {
   "cell_type": "code",
   "execution_count": 1,
   "metadata": {},
   "outputs": [],
   "source": [
    "class Solution:\n",
    "    def isPalindrome(self, s):\n",
    "        \n",
    "        if not s:\n",
    "            return True\n",
    "        \n",
    "        left = 0\n",
    "        right = len(s) - 1\n",
    "        \n",
    "        while left < right:\n",
    "            if not s[left].isalnum():\n",
    "                left += 1\n",
    "                \n",
    "            elif not s[right].isalnum():\n",
    "                right -= 1\n",
    "            \n",
    "            \n",
    "            elif s[left].lower() != s[right].lower():\n",
    "                return False\n",
    "            \n",
    "            else:\n",
    "                left += 1\n",
    "                right -= 1\n",
    "            \n",
    "        return True"
   ]
  },
  {
   "cell_type": "markdown",
   "metadata": {},
   "source": [
    "# Solution 2\n",
    "##### Regular expression"
   ]
  },
  {
   "cell_type": "code",
   "execution_count": 2,
   "metadata": {},
   "outputs": [],
   "source": [
    "import re\n",
    "class Solution:\n",
    "    def isPalindrome(self, s):\n",
    "        \n",
    "        if not s:\n",
    "            return True\n",
    "        \n",
    "        s1 = re.sub('[^a-zA-Z0-9]+', '', s).lower()\n",
    "        \n",
    "        return s1 == s1[::-1]"
   ]
  }
 ],
 "metadata": {
  "kernelspec": {
   "display_name": "Python 3",
   "language": "python",
   "name": "python3"
  },
  "language_info": {
   "codemirror_mode": {
    "name": "ipython",
    "version": 3
   },
   "file_extension": ".py",
   "mimetype": "text/x-python",
   "name": "python",
   "nbconvert_exporter": "python",
   "pygments_lexer": "ipython3",
   "version": "3.6.5"
  }
 },
 "nbformat": 4,
 "nbformat_minor": 2
}
