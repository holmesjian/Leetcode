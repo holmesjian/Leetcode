{
 "cells": [
  {
   "cell_type": "markdown",
   "metadata": {},
   "source": [
    "# Problem\n",
    "\n",
    "Given a string, determine if a permutation of the string could form a palindrome.<br>\n",
    "\n",
    "Example 1:<br>\n",
    "Input: \"code\"<br>\n",
    "Output: false<br>\n",
    "\n",
    "Example 2:<br>\n",
    "Input: \"aab\"<br>\n",
    "Output: true<br>\n",
    "\n",
    "Example 3:<br>\n",
    "Input: \"carerac\"<br>\n",
    "Output: true"
   ]
  },
  {
   "cell_type": "markdown",
   "metadata": {},
   "source": [
    "# Brainstorm \n",
    "\n",
    "We see permutations, so a hash table could be helpful to reduce iterations as we don't care about the order and need quick about the presence or count of a letter in the string."
   ]
  },
  {
   "cell_type": "markdown",
   "metadata": {},
   "source": [
    "# Solution 1\n",
    "##### hash table and frequency check"
   ]
  },
  {
   "cell_type": "code",
   "execution_count": 1,
   "metadata": {},
   "outputs": [],
   "source": [
    "from collections import Counter\n",
    "def can_permute_palindrome1(s):\n",
    "    if not s:\n",
    "        return True\n",
    "    \n",
    "    letter_count = Counter(s)\n",
    "    odd_count = 0\n",
    "    for value in letter_count.values():\n",
    "        if value % 2 == 1:\n",
    "            odd_count += 1\n",
    "            if odd_count == 2:\n",
    "                return False\n",
    "        \n",
    "    return True    "
   ]
  },
  {
   "cell_type": "code",
   "execution_count": null,
   "metadata": {},
   "outputs": [],
   "source": [
    "import unittest\n",
    "\n",
    "class Test(unittest.TestCase):\n",
    "    def setUp(self):\n",
    "        self.s1 = ''\n",
    "        self.s2 = 'bba'\n",
    "        self.s3 = 'abcbac'\n",
    "        self.s4 = 'abc'\n",
    "\n",
    "    def test_palindrome1(self):\n",
    "        self.assertTrue(can_permute_palindrome(self.s1))\n",
    "        self.assertFalse(find_loop1(self.head2), self.loop_node)\n",
    "        \n",
    "\n",
    "    def test_palindrome2(self):\n",
    "        self.assertIsNone(find_loop2(self.head1))\n",
    "        self.assertEqual(find_loop2(self.head2), self.loop_node)\n",
    "        self.assertIsNone(find_loop2(self.head3))\n",
    "        self.assertIsNone(find_loop2(self.head4))\n",
    "\n",
    "\n",
    "if __name__ == \"__main__\":\n",
    "    unittest.main()\n"
   ]
  }
 ],
 "metadata": {
  "kernelspec": {
   "display_name": "Python 3",
   "language": "python",
   "name": "python3"
  },
  "language_info": {
   "codemirror_mode": {
    "name": "ipython",
    "version": 3
   },
   "file_extension": ".py",
   "mimetype": "text/x-python",
   "name": "python",
   "nbconvert_exporter": "python",
   "pygments_lexer": "ipython3",
   "version": "3.6.5"
  }
 },
 "nbformat": 4,
 "nbformat_minor": 2
}
