{
 "cells": [
  {
   "cell_type": "markdown",
   "metadata": {},
   "source": [
    "# Problem\n",
    "\n",
    "Given a string S of lowercase letters, a duplicate removal consists of choosing two adjacent and equal letters, and removing them.\n",
    "We repeatedly make duplicate removals on S until we no longer can.<br>\n",
    "\n",
    "Return the final string after all such duplicate removals have been made.<br>\n",
    "\n",
    "It is guaranteed the answer is unique.\n",
    "\n",
    "Example 1:\n",
    "\n",
    "Input: \"abbaca\"<br>\n",
    "Output: \"ca\"<br>\n",
    "\n",
    "Explanation: <br>\n",
    "For example, in \"abbaca\" we could remove \"bb\" since the letters are adjacent and equal, and this is the only possible move.  The result of this move is that the string is \"aaca\", of which only \"aa\" is possible, so the final string is \"ca\".\n",
    " \n",
    "\n",
    "Note:\n",
    "\n",
    "1 <= S.length <= 20000<br>\n",
    "S consists only of English lowercase letters.\n"
   ]
  },
  {
   "cell_type": "markdown",
   "metadata": {},
   "source": [
    "# Brainstorm\n",
    "\n",
    "Be careful when the stack is empty after popping."
   ]
  },
  {
   "cell_type": "markdown",
   "metadata": {},
   "source": [
    "# Solution"
   ]
  },
  {
   "cell_type": "code",
   "execution_count": null,
   "metadata": {},
   "outputs": [],
   "source": [
    "class Solution:\n",
    "    def removeDuplicates(self, S: str) -> str:\n",
    "        \n",
    "        if not S or len(S) == 1:\n",
    "            return S\n",
    "        \n",
    "        stack = []\n",
    "        \n",
    "        for char in S:\n",
    "            if stack == [] or char != stack[-1]:\n",
    "                stack.append(char)\n",
    "            \n",
    "            else:\n",
    "                stack.pop()\n",
    "                \n",
    "        return ''.join(stack) # how about ''.join(char for char in stack)? it also works though."
   ]
  }
 ],
 "metadata": {
  "kernelspec": {
   "display_name": "Python 3",
   "language": "python",
   "name": "python3"
  },
  "language_info": {
   "codemirror_mode": {
    "name": "ipython",
    "version": 3
   },
   "file_extension": ".py",
   "mimetype": "text/x-python",
   "name": "python",
   "nbconvert_exporter": "python",
   "pygments_lexer": "ipython3",
   "version": "3.6.5"
  }
 },
 "nbformat": 4,
 "nbformat_minor": 2
}
