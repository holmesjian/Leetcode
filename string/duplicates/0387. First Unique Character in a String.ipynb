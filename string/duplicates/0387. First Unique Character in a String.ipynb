{
 "cells": [
  {
   "cell_type": "markdown",
   "metadata": {},
   "source": [
    "# Problem\n",
    "\n",
    "Given a string, find the first non-repeating character in it and return it's index. If it doesn't exist, return -1.<br>\n",
    "\n",
    "Examples:<br>\n",
    "\n",
    "s = \"leetcode\"<br>\n",
    "return 0.<br>\n",
    "\n",
    "s = \"loveleetcode\",<br>\n",
    "return 2.<br>\n",
    "\n",
    "Note: You may assume the string contain only lowercase letters."
   ]
  },
  {
   "cell_type": "markdown",
   "metadata": {},
   "source": [
    "# Brainstorm\n",
    "\n",
    "If using indices and constant space, time is O(N^2).\n",
    "To reduce time, think of keeping track of the elements using a data structure. \n",
    "- non-repeating, a set or dictionary seems suitable.\n",
    "- Time O(N), space O(N)"
   ]
  },
  {
   "cell_type": "markdown",
   "metadata": {},
   "source": [
    "# Solution 1\n",
    "##### two pass over s "
   ]
  },
  {
   "cell_type": "code",
   "execution_count": null,
   "metadata": {},
   "outputs": [],
   "source": [
    "from collections import Counter\n",
    "\n",
    "class Solution:\n",
    "    def firstUniqChar(self, s):\n",
    "        if not s:\n",
    "            return -1\n",
    "        \n",
    "        if len(s) == 1:\n",
    "            return 0\n",
    "        \n",
    "        # Dictionary key: letters in s\n",
    "        # value: count of each letter\n",
    "        count = Counter(s)\n",
    "        \n",
    "        # Iterate the array again because dictionary does not\n",
    "        # maintain order before Python 3.6\n",
    "        for i, char in enumerate(s):\n",
    "            # First unique character, return its index\n",
    "            if count[char] == 1:\n",
    "                return i\n",
    "        return -1"
   ]
  },
  {
   "cell_type": "markdown",
   "metadata": {},
   "source": [
    "# Solution 2\n",
    "##### one pass over s, one pass over d "
   ]
  },
  {
   "cell_type": "code",
   "execution_count": null,
   "metadata": {},
   "outputs": [],
   "source": [
    "class Solution:\n",
    "    def firstUniqChar(self, s):\n",
    "        if not s:\n",
    "            return -1\n",
    "        \n",
    "        if len(s) == 1:\n",
    "            return 0\n",
    "        \n",
    "        # Dictionary key: letters in s\n",
    "        # value: index of each unique letter, None for duplicates\n",
    "        unique_letter = {}\n",
    "        for i, char in enumerate(s):\n",
    "            if char not in unique_letter:\n",
    "                unique_letter[char] = i\n",
    "            else:\n",
    "                unique_letter[char] = None\n",
    "                \n",
    "        min_index = float('inf')\n",
    "        for letter, index in unique_letter.items():\n",
    "            if index is not None:\n",
    "                min_index = min(min_index, index)\n",
    "\n",
    "        return min_index if min_index != float('inf') else -1"
   ]
  }
 ],
 "metadata": {
  "kernelspec": {
   "display_name": "Python 3",
   "language": "python",
   "name": "python3"
  },
  "language_info": {
   "codemirror_mode": {
    "name": "ipython",
    "version": 3
   },
   "file_extension": ".py",
   "mimetype": "text/x-python",
   "name": "python",
   "nbconvert_exporter": "python",
   "pygments_lexer": "ipython3",
   "version": "3.6.5"
  }
 },
 "nbformat": 4,
 "nbformat_minor": 2
}
