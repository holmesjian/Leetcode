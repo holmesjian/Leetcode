{
 "cells": [
  {
   "cell_type": "markdown",
   "metadata": {},
   "source": [
    "Given a list of unique words, find all pairs of distinct indices (i, j) in the given list, so that the concatenation of the two words, i.e. words[i] + words[j] is a palindrome.\n",
    "\n",
    "Example 1:<br>\n",
    "Input: [\"abcd\",\"dcba\",\"lls\",\"s\",\"sssll\"]<br>\n",
    "Output: [[0,1],[1,0],[3,2],[2,4]]<br>\n",
    "Explanation: The palindromes are [\"dcbaabcd\",\"abcddcba\",\"slls\",\"llssssll\"]\n",
    "\n",
    "Example 2:<br>\n",
    "Input: [\"bat\",\"tab\",\"cat\"]<br>\n",
    "Output: [[0,1],[1,0]]<br>\n",
    "Explanation: The palindromes are [\"battab\",\"tabbat\"]"
   ]
  },
  {
   "cell_type": "markdown",
   "metadata": {},
   "source": [
    "4. Brainstorm\n",
    "- Naive solution, for each word, we go through all words in the array, check whether the concatenated string is a palindrome. The time complexity: there are O(N^2) iterations, and for each iteration, we need to check whether the string is palindrome, which takes O(k/2) where k is the length of the concatenated words. So total time complexity is O(N^2 * k)\n",
    "- To improve the algorithm, we can think in the direction that is to reduce the number of words that need to be check. "
   ]
  },
  {
   "cell_type": "code",
   "execution_count": null,
   "metadata": {},
   "outputs": [],
   "source": []
  }
 ],
 "metadata": {
  "kernelspec": {
   "display_name": "Python 3",
   "language": "python",
   "name": "python3"
  },
  "language_info": {
   "codemirror_mode": {
    "name": "ipython",
    "version": 3
   },
   "file_extension": ".py",
   "mimetype": "text/x-python",
   "name": "python",
   "nbconvert_exporter": "python",
   "pygments_lexer": "ipython3",
   "version": "3.6.5"
  }
 },
 "nbformat": 4,
 "nbformat_minor": 2
}
