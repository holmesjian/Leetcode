{
 "cells": [
  {
   "cell_type": "markdown",
   "metadata": {},
   "source": [
    "Given a 2D board and a list of words from the dictionary, find all words in the board.\n",
    "\n",
    "Each word must be constructed from letters of sequentially adjacent cell, where \"adjacent\" cells are those horizontally or vertically neighboring. The same letter cell may not be used more than once in a word.\n",
    "\n",
    "Example:<br>\n",
    "\n",
    "Input:<br>\n",
    "board = [<br>\n",
    "  ['o','a','a','n'],<br>\n",
    "  ['e','t','a','e'],<br>\n",
    "  ['i','h','k','r'],<br>\n",
    "  ['i','f','l','v']<br>\n",
    "]<br>\n",
    "words = [\"oath\",\"pea\",\"eat\",\"rain\"]<br>\n",
    "\n",
    "Output: [\"eat\",\"oath\"]<br>\n",
    " \n",
    "\n",
    "Note:\n",
    "- All inputs are consist of lowercase letters a-z.\n",
    "- The values of words are distinct."
   ]
  },
  {
   "cell_type": "code",
   "execution_count": null,
   "metadata": {},
   "outputs": [],
   "source": []
  }
 ],
 "metadata": {
  "kernelspec": {
   "display_name": "Python 3",
   "language": "python",
   "name": "python3"
  },
  "language_info": {
   "codemirror_mode": {
    "name": "ipython",
    "version": 3
   },
   "file_extension": ".py",
   "mimetype": "text/x-python",
   "name": "python",
   "nbconvert_exporter": "python",
   "pygments_lexer": "ipython3",
   "version": "3.6.5"
  }
 },
 "nbformat": 4,
 "nbformat_minor": 2
}
