{
 "cells": [
  {
   "cell_type": "markdown",
   "metadata": {},
   "source": [
    "Implement a trie with insert, search, and startsWith methods.\n",
    "\n",
    "Example:<br>\n",
    "\n",
    "Trie trie = new Trie();<br>\n",
    "\n",
    "trie.insert(\"apple\");<br>\n",
    "trie.search(\"apple\");   // returns true<br>\n",
    "trie.search(\"app\");     // returns false<br>\n",
    "trie.startsWith(\"app\"); // returns true<br>\n",
    "trie.insert(\"app\");<br>   \n",
    "trie.search(\"app\");     // returns true<br>\n",
    "\n",
    "Note:\n",
    "- You may assume that all inputs are consist of lowercase letters a-z.\n",
    "- All inputs are guaranteed to be non-empty strings."
   ]
  },
  {
   "cell_type": "markdown",
   "metadata": {},
   "source": [
    "Approach 1: nested dictionaries"
   ]
  },
  {
   "cell_type": "code",
   "execution_count": null,
   "metadata": {},
   "outputs": [],
   "source": []
  },
  {
   "cell_type": "code",
   "execution_count": null,
   "metadata": {},
   "outputs": [],
   "source": [
    "class Trie:\n",
    "    def __init__(self):\n",
    "        self.trie = {}\n",
    "\n",
    "    def insert(self, word):\n",
    "        \"\"\"Adding a word in the trie structure.\"\"\"\n",
    "        t = self.trie\n",
    "        for w in word:\n",
    "            if w not in t:\n",
    "                t[w] = {}\n",
    "            else:\n",
    "                t = t[w]\n",
    "        t['#'] = '#'\n",
    "\n",
    "    def search(self, word):\n",
    "        t = self.trie\n",
    "        for w in word:\n",
    "            if w not in t:\n",
    "                return False\n",
    "            else:\n",
    "                t = t[w]\n",
    "        if '#' in t:\n",
    "            return True\n",
    "        return False\n",
    "\n",
    "    def startsWith(self, prefix):\n",
    "        t = self.trie\n",
    "        for w in prefix:\n",
    "            if w not in t:\n",
    "                return False\n",
    "            else:\n",
    "                t = t[w]\n",
    "        return True"
   ]
  }
 ],
 "metadata": {
  "kernelspec": {
   "display_name": "Python 3",
   "language": "python",
   "name": "python3"
  },
  "language_info": {
   "codemirror_mode": {
    "name": "ipython",
    "version": 3
   },
   "file_extension": ".py",
   "mimetype": "text/x-python",
   "name": "python",
   "nbconvert_exporter": "python",
   "pygments_lexer": "ipython3",
   "version": "3.6.5"
  }
 },
 "nbformat": 4,
 "nbformat_minor": 2
}
