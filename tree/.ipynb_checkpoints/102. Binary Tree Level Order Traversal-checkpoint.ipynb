{
 "cells": [
  {
   "cell_type": "markdown",
   "metadata": {},
   "source": [
    "# Problem\n",
    "\n",
    "<img src='./images/levelorder.png'>"
   ]
  },
  {
   "cell_type": "markdown",
   "metadata": {},
   "source": [
    "# Brainstorm\n",
    "\n",
    "A BFS seems to be able to do the job. But there is a problem. For a typical BFS, we use a queue to process the nodes and a list to store the result. We are popping from the queue nonstop. There is no way to know whether we have popped all the nodes from a certain level and now need to initiated a new list for the next level.<br>\n",
    "How to remember the level of each node?  \n",
    "\n",
    "We can determine the number of pop for each level.\n",
    "- This is the length of the queue before adding children.\n",
    "- Time O(N)\n",
    "- Space: O(N) to store the result + the max number of nodes at each level O(N/2). So overall O(N).\n",
    "\n",
    "We can traverse the tree and record the level using hash table.\n",
    "- Time O(N).\n",
    "- Space O(N)"
   ]
  },
  {
   "cell_type": "markdown",
   "metadata": {},
   "source": [
    "# Solution 1\n",
    "##### BFS and queue size as number of pops"
   ]
  },
  {
   "cell_type": "code",
   "execution_count": null,
   "metadata": {},
   "outputs": [],
   "source": [
    "# Definition for a binary tree node.\n",
    "# class TreeNode:\n",
    "#     def __init__(self, x):\n",
    "#         self.val = x\n",
    "#         self.left = None\n",
    "#         self.right = None\n",
    "\n",
    "from collections import deque\n",
    "class Solution:\n",
    "    def levelOrder(self, root: TreeNode) -> List[List[int]]:\n",
    "        # First check the input, if it's none, we don't need to do any processing\n",
    "        if root is None:\n",
    "            return None\n",
    "        \n",
    "        # Initialize a queue to store nodes in each level\n",
    "        queue = deque([root])\n",
    "        # Initialize a list to store the final output\n",
    "        order = []\n",
    "        \n",
    "        # Use while to specify the ending condition for the loop\n",
    "        # \n",
    "        while queue:\n",
    "            \n",
    "            # Store the nodes in current level\n",
    "            curr_level = []\n",
    "            \n",
    "            # Length of the queue is the size of the queue before appending children\n",
    "            for i in range(len(queue)):\n",
    "                # pop the node in the queue append its value to curr_level\n",
    "                node = queue.popleft()\n",
    "                curr_level.append(node.val)\n",
    "                \n",
    "                # append its children to the queue so that we can move to the next level\n",
    "                if node.left:\n",
    "                    queue.append(node.left)\n",
    "                if node.right:\n",
    "                    queue.append(node.right)\n",
    "                    \n",
    "            # finaly append the whole level to the final output    \n",
    "            order.append(curr_level)\n",
    "        return order\n",
    "        "
   ]
  },
  {
   "cell_type": "markdown",
   "metadata": {},
   "source": [
    "# Solution 2\n",
    "##### DFS and index as level"
   ]
  },
  {
   "cell_type": "code",
   "execution_count": null,
   "metadata": {},
   "outputs": [],
   "source": [
    "class Solution:\n",
    "    def levelOrder(self, root: TreeNode) -> List[List[int]]:\n",
    "        \n",
    "        traversal = []\n",
    "        self.level_order_helper(traversal, root, 0)\n",
    "        return traversal\n",
    "    \n",
    "    def level_order_helper(self, traversal, root, depth):\n",
    "        if root is None:\n",
    "            return\n",
    "        if depth == len(traversal):\n",
    "            curr_level = []\n",
    "            traversal.append(curr_level)\n",
    "            \n",
    "        traversal[depth].append(root.val)\n",
    "        self.level_order_helper(traversal, root.left, depth+1)\n",
    "        self.level_order_helper(traversal, root.right, depth+1)"
   ]
  }
 ],
 "metadata": {
  "kernelspec": {
   "display_name": "Python 3",
   "language": "python",
   "name": "python3"
  },
  "language_info": {
   "codemirror_mode": {
    "name": "ipython",
    "version": 3
   },
   "file_extension": ".py",
   "mimetype": "text/x-python",
   "name": "python",
   "nbconvert_exporter": "python",
   "pygments_lexer": "ipython3",
   "version": "3.6.5"
  }
 },
 "nbformat": 4,
 "nbformat_minor": 2
}
