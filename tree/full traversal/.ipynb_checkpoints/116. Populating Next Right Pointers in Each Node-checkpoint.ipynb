{
 "cells": [
  {
   "cell_type": "markdown",
   "metadata": {},
   "source": [
    "# Problem\n",
    "\n",
    "You are given a perfect binary tree where all leaves are on the same level, and every parent has two children. The binary tree has the following definition:\n",
    "\n",
    "struct Node {<br>\n",
    "  int val;<br>\n",
    "  Node *left;<br>\n",
    "  Node *right;<br>\n",
    "  Node *next;<br>\n",
    "}<br>\n",
    "Populate each next pointer to point to its next right node. If there is no next right node, the next pointer should be set to NULL.\n",
    "\n",
    "Initially, all next pointers are set to NULL.\n",
    "\n",
    " \n",
    "\n",
    "Follow up:\n",
    "\n",
    "You may only use constant extra space.<br>\n",
    "Recursive approach is fine, you may assume implicit stack space does not count as extra space for this problem.\n",
    "\n",
    "Constraints:\n",
    "\n",
    "The number of nodes in the given tree is less than 4096.<br>\n",
    "-1000 <= node.val <= 1000<br>"
   ]
  },
  {
   "cell_type": "markdown",
   "metadata": {},
   "source": [
    "# Solution\n",
    "Time O(N), Space O(1)"
   ]
  },
  {
   "cell_type": "code",
   "execution_count": null,
   "metadata": {},
   "outputs": [],
   "source": [
    "\"\"\"\n",
    "# Definition for a Node.\n",
    "class Node:\n",
    "    def __init__(self, val: int = 0, left: 'Node' = None, right: 'Node' = None, next: 'Node' = None):\n",
    "        self.val = val\n",
    "        self.left = left\n",
    "        self.right = right\n",
    "        self.next = next\n",
    "\"\"\"\n",
    "\n",
    "class Solution:\n",
    "    def connect(self, root: 'Node') -> 'Node':\n",
    "        if root is None:\n",
    "            return\n",
    "        \n",
    "        \n",
    "        leftmost = root\n",
    "        head = leftmost\n",
    "        # If no leftmost.left, meaning we have done the last level\n",
    "        while leftmost.left:\n",
    "            \n",
    "            while head:\n",
    "                head.left.next = head.right\n",
    "                if head.next:\n",
    "                    head.right.next = head.next.left\n",
    "\n",
    "                head = head.next\n",
    "            \n",
    "            leftmost = leftmost.left\n",
    "            head = leftmost\n",
    "            \n",
    "        return root"
   ]
  }
 ],
 "metadata": {
  "kernelspec": {
   "display_name": "Python 3",
   "language": "python",
   "name": "python3"
  },
  "language_info": {
   "codemirror_mode": {
    "name": "ipython",
    "version": 3
   },
   "file_extension": ".py",
   "mimetype": "text/x-python",
   "name": "python",
   "nbconvert_exporter": "python",
   "pygments_lexer": "ipython3",
   "version": "3.6.5"
  }
 },
 "nbformat": 4,
 "nbformat_minor": 2
}
