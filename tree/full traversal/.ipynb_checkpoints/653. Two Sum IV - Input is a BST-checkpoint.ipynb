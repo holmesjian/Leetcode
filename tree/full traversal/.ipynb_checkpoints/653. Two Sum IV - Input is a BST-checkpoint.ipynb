{
 "cells": [
  {
   "cell_type": "markdown",
   "metadata": {},
   "source": [
    "# Problem\n",
    "\n",
    "Given a Binary Search Tree and a target number, return true if there exist two elements in the BST such that their sum is equal to the given target.\n",
    "\n",
    "<img src='../images/twosum.png'>"
   ]
  },
  {
   "cell_type": "markdown",
   "metadata": {},
   "source": [
    "# Brainstorm\n",
    "\n"
   ]
  },
  {
   "cell_type": "markdown",
   "metadata": {},
   "source": [
    "Approach 1: use a set and depth first search"
   ]
  },
  {
   "cell_type": "code",
   "execution_count": null,
   "metadata": {},
   "outputs": [],
   "source": [
    "# Definition for a binary tree node.\n",
    "class TreeNode:\n",
    "    def __init__(self, x):\n",
    "        self.val = x\n",
    "        self.left = None\n",
    "        self.right = None\n",
    "\n",
    "\n",
    "def findTarget(root, k):\n",
    "    seen = set()\n",
    "    return find(root, k, seen)\n",
    "\n",
    "def find(root, k, seen):\n",
    "    if root is None:\n",
    "        return False\n",
    "    \n",
    "    if (k - root.val) in seen:\n",
    "        return True\n",
    "    \n",
    "    seen.add(root.val)\n",
    "    return find(root.left, k, seen) or find(root.right, k, seen)"
   ]
  },
  {
   "cell_type": "markdown",
   "metadata": {},
   "source": [
    "Approach 2: breath first search"
   ]
  },
  {
   "cell_type": "code",
   "execution_count": null,
   "metadata": {},
   "outputs": [],
   "source": [
    "from collections import deque\n",
    "\n",
    "def findTarget(root, k):\n",
    "    seen = set()\n",
    "    queue = deque()\n",
    "    queue.append(root)\n",
    "\n",
    "    while queue:\n",
    "        if queue[0] is not None:\n",
    "            node = queue.popleft()\n",
    "            if (k - node.val) in seen:\n",
    "                return True\n",
    "            seen.add(node.val)\n",
    "            queue.append(node.right)\n",
    "            queue.append(node.left)\n",
    "        else:\n",
    "            queue.popleft()\n",
    "\n",
    "    return False"
   ]
  },
  {
   "cell_type": "markdown",
   "metadata": {},
   "source": [
    "Approach 3: BST"
   ]
  },
  {
   "cell_type": "code",
   "execution_count": null,
   "metadata": {},
   "outputs": [],
   "source": [
    "def findTarget(root, k):\n",
    "    nums = []\n",
    "    self.inorder(root, nums)\n",
    "    l = 0\n",
    "    r = len(nums) - 1\n",
    "    while l < r:\n",
    "        two_sum = nums[l] + nums[r]\n",
    "        if two_sum == k:\n",
    "            return True\n",
    "        elif two_sum > k:\n",
    "            r -= 1\n",
    "        else:\n",
    "            l += 1\n",
    "    return False\n",
    "\n",
    "def inorder(self, root, nums):\n",
    "    if root is None:\n",
    "        return nums\n",
    "\n",
    "    self.inorder(root.left, nums)\n",
    "    nums.append(root.val)\n",
    "    self.inorder(root.right, nums)"
   ]
  }
 ],
 "metadata": {
  "kernelspec": {
   "display_name": "Python 3",
   "language": "python",
   "name": "python3"
  },
  "language_info": {
   "codemirror_mode": {
    "name": "ipython",
    "version": 3
   },
   "file_extension": ".py",
   "mimetype": "text/x-python",
   "name": "python",
   "nbconvert_exporter": "python",
   "pygments_lexer": "ipython3",
   "version": "3.6.5"
  }
 },
 "nbformat": 4,
 "nbformat_minor": 2
}
