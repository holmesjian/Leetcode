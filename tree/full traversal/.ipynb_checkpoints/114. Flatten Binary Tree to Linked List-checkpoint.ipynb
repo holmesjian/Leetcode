{
 "cells": [
  {
   "cell_type": "markdown",
   "metadata": {},
   "source": [
    "# Problem\n",
    "\n",
    "<img src='../images/flatten.png'>"
   ]
  },
  {
   "cell_type": "markdown",
   "metadata": {},
   "source": [
    "# Brainstorm\n",
    "\n",
    "The recursive relation is not easy to find.\n",
    "If we flatten a simple left subtree 2->3->4, we need to reach the end of it to attach the flattend right subtree.\n",
    "- Time O(N^2), space O(N) depending on the height of the tree, typical DFS.\n",
    "\n",
    "How can we remove the while loop to reach the bottom of the left tree to reduce time?\n",
    "- Attach right tree to the bottom right of the left tree.\n",
    "- after all right tree is None, attache left to right."
   ]
  },
  {
   "cell_type": "markdown",
   "metadata": {},
   "source": [
    "# Solution 1\n",
    "##### left subtree then right subtree"
   ]
  },
  {
   "cell_type": "code",
   "execution_count": null,
   "metadata": {},
   "outputs": [],
   "source": [
    "# Definition for a binary tree node.\n",
    "# class TreeNode:\n",
    "#     def __init__(self, x):\n",
    "#         self.val = x\n",
    "#         self.left = None\n",
    "#         self.right = None\n",
    "\n",
    "class Solution:\n",
    "    def flatten(self, root: TreeNode) -> None:\n",
    "        if root is None:\n",
    "            return \n",
    "        \n",
    "        self.flatten(root.left)\n",
    "        self.flatten(root.right)\n",
    "            \n",
    "        \n",
    "        if root.left:\n",
    "            right = root.right\n",
    "            root.right = root.left\n",
    "            root.left = None\n",
    "            \n",
    "            # Find the bottom node of left tree\n",
    "            node = root.right\n",
    "            while node.right:\n",
    "                node = node.right\n",
    "            node.right = right"
   ]
  },
  {
   "cell_type": "markdown",
   "metadata": {},
   "source": [
    "# Solution 2\n",
    "##### right subtree then left subtree"
   ]
  },
  {
   "cell_type": "code",
   "execution_count": null,
   "metadata": {},
   "outputs": [],
   "source": [
    "# Definition for a binary tree node.\n",
    "# class TreeNode:\n",
    "#     def __init__(self, x):\n",
    "#         self.val = x\n",
    "#         self.left = None\n",
    "#         self.right = None\n",
    "\n",
    "class Solution:\n",
    "    def flatten(self, root: TreeNode) -> None:\n",
    "        if root is None:\n",
    "            return \n",
    "        \n",
    "        \n",
    "        self.flatten(root.right)\n",
    "        self.flatten(root.left)\n",
    "        \n",
    "        if root.left:\n",
    "            node = root.left\n",
    "            while node.right:\n",
    "                node = node.right\n",
    "            node.right = root.right\n",
    "            \n",
    "            root.right = root.left\n",
    "            root.left = None"
   ]
  },
  {
   "cell_type": "code",
   "execution_count": null,
   "metadata": {},
   "outputs": [],
   "source": [
    "# Definition for a binary tree node.\n",
    "# class TreeNode:\n",
    "#     def __init__(self, x):\n",
    "#         self.val = x\n",
    "#         self.left = None\n",
    "#         self.right = None\n",
    "\n",
    "class Solution:\n",
    "    def flatten(self, root: TreeNode) -> None:\n",
    "        \"\"\"\n",
    "        Do not return anything, modify root in-place instead.\n",
    "        \"\"\"\n",
    "        \n",
    "        return self.helper(root, None)\n",
    "    \n",
    "    def helper(self, root, prev):\n",
    "        \n",
    "        if root is None:\n",
    "            return prev\n",
    "        \n",
    "            \n",
    "        prev = self.helper(root.right, prev)\n",
    "        prev = self.helper(root.left, prev)\n",
    "        \n",
    "        root.right = prev\n",
    "        root.left = None\n",
    "        prev = root\n",
    "        return prev"
   ]
  }
 ],
 "metadata": {
  "kernelspec": {
   "display_name": "Python 3",
   "language": "python",
   "name": "python3"
  },
  "language_info": {
   "codemirror_mode": {
    "name": "ipython",
    "version": 3
   },
   "file_extension": ".py",
   "mimetype": "text/x-python",
   "name": "python",
   "nbconvert_exporter": "python",
   "pygments_lexer": "ipython3",
   "version": "3.6.5"
  }
 },
 "nbformat": 4,
 "nbformat_minor": 2
}
