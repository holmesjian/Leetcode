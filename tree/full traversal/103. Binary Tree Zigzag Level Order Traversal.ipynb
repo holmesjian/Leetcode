{
 "cells": [
  {
   "cell_type": "markdown",
   "metadata": {},
   "source": [
    "# Problem\n",
    "\n",
    "Given a binary tree, return the zigzag level order traversal of its nodes' values. (ie, from left to right, then right to left for the next level and alternate between).\n",
    "\n",
    "<img src='../images/zigzag.png'>"
   ]
  },
  {
   "cell_type": "markdown",
   "metadata": {},
   "source": [
    "# Solution 1\n",
    "##### BFS\n",
    "- time O(N), space O(N)"
   ]
  },
  {
   "cell_type": "code",
   "execution_count": null,
   "metadata": {},
   "outputs": [],
   "source": [
    "# Definition for a binary tree node.\n",
    "# class TreeNode:\n",
    "#     def __init__(self, val=0, left=None, right=None):\n",
    "#         self.val = val\n",
    "#         self.left = left\n",
    "#         self.right = right\n",
    "from collections import deque\n",
    "\n",
    "class Solution:\n",
    "    def zigzagLevelOrder(self, root: TreeNode) -> List[List[int]]:\n",
    "        if root is None:\n",
    "            return []\n",
    "        \n",
    "        all_nodes = []\n",
    "        queue = deque([root])\n",
    "        is_reverse = False\n",
    "        while queue:\n",
    "            level = deque()\n",
    "            length = len(queue)\n",
    "            \n",
    "            for _ in range(length):\n",
    "                node = queue.popleft()\n",
    "                \n",
    "                if not is_reverse:\n",
    "                    level.append(node.val)\n",
    "                else:\n",
    "                    level.appendleft(node.val)\n",
    "                    \n",
    "                if node.left:\n",
    "                    queue.append(node.left)\n",
    "                if node.right:\n",
    "                    queue.append(node.right)\n",
    "                    \n",
    "            all_nodes.append(level)\n",
    "            is_reverse = not is_reverse\n",
    "            \n",
    "        return all_nodes"
   ]
  },
  {
   "cell_type": "markdown",
   "metadata": {},
   "source": [
    "# Solution 2\n",
    "##### DFS\n",
    "- time O(N), space O(N) for skewed tree, (average O(logN))"
   ]
  },
  {
   "cell_type": "code",
   "execution_count": null,
   "metadata": {},
   "outputs": [],
   "source": [
    "# Definition for a binary tree node.\n",
    "# class TreeNode:\n",
    "#     def __init__(self, val=0, left=None, right=None):\n",
    "#         self.val = val\n",
    "#         self.left = left\n",
    "#         self.right = right\n",
    "from collections import deque\n",
    "\n",
    "class Solution:\n",
    "    def zigzagLevelOrder(self, root: TreeNode) -> List[List[int]]:\n",
    "        result = []\n",
    "        level = 0\n",
    "        self.dfs(root, level, result)\n",
    "        return result\n",
    "    \n",
    "    def dfs(self, root, level, result):\n",
    "        if root is None:\n",
    "            return\n",
    "        \n",
    "        if level == len(result):\n",
    "            result.append(deque([root.val]))\n",
    "            \n",
    "        else:\n",
    "            if level % 2 == 1:\n",
    "                result[level].appendleft(root.val)\n",
    "            else:\n",
    "                result[level].append(root.val)\n",
    "        \n",
    "        self.dfs(root.left, level+1, result)\n",
    "        self.dfs(root.right, level+1, result)"
   ]
  }
 ],
 "metadata": {
  "kernelspec": {
   "display_name": "Python 3",
   "language": "python",
   "name": "python3"
  },
  "language_info": {
   "codemirror_mode": {
    "name": "ipython",
    "version": 3
   },
   "file_extension": ".py",
   "mimetype": "text/x-python",
   "name": "python",
   "nbconvert_exporter": "python",
   "pygments_lexer": "ipython3",
   "version": "3.6.5"
  }
 },
 "nbformat": 4,
 "nbformat_minor": 2
}
