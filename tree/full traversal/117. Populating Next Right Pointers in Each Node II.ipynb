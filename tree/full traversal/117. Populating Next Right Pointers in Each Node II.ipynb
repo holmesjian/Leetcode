{
 "cells": [
  {
   "cell_type": "markdown",
   "metadata": {},
   "source": [
    "# Problem\n",
    "\n",
    "Given a binary tree\n",
    "\n",
    "struct Node {<br>\n",
    "  int val;<br>\n",
    "  Node *left;<br>\n",
    "  Node *right;<br>\n",
    "  Node *next;<br>\n",
    "}<br>\n",
    "Populate each next pointer to point to its next right node. If there is no next right node, the next pointer should be set to NULL.\n",
    "\n",
    "Initially, all next pointers are set to NULL.\n",
    "\n",
    " \n",
    "\n",
    "Follow up:\n",
    "\n",
    "You may only use constant extra space.<br>\n",
    "Recursive approach is fine, you may assume implicit stack space does not count as extra space for this problem.\n",
    " \n",
    "Constraints:\n",
    "\n",
    "The number of nodes in the given tree is less than 6000.<br>\n",
    "-100 <= node.val <= 100"
   ]
  },
  {
   "cell_type": "markdown",
   "metadata": {},
   "source": [
    "# Brainstorm\n",
    "\n",
    "- queue to process nodes and keep track of the number of nodes in each level\n",
    "- pop the front of the queue, its next pointer is the front of the current queue."
   ]
  },
  {
   "cell_type": "markdown",
   "metadata": {},
   "source": [
    "# Solution"
   ]
  },
  {
   "cell_type": "code",
   "execution_count": null,
   "metadata": {},
   "outputs": [],
   "source": [
    "\"\"\"\n",
    "# Definition for a Node.\n",
    "class Node:\n",
    "    def __init__(self, val: int = 0, left: 'Node' = None, right: 'Node' = None, next: 'Node' = None):\n",
    "        self.val = val\n",
    "        self.left = left\n",
    "        self.right = right\n",
    "        self.next = next\n",
    "\"\"\"\n",
    "from collections import deque\n",
    "class Solution:\n",
    "    def connect(self, root: 'Node') -> 'Node':\n",
    "        if root is None:\n",
    "            return root\n",
    "        \n",
    "        queue = deque([root])\n",
    "        while queue:\n",
    "            num_of_nodes = len(queue)\n",
    "            for i in range(num_of_nodes):\n",
    "                node = queue.popleft()\n",
    "                if i == num_of_nodes - 1:\n",
    "                    node.next = None\n",
    "                else:\n",
    "                    node.next = queue[0]\n",
    "                    \n",
    "                \n",
    "                if node.left:\n",
    "                    queue.append(node.left)\n",
    "                if node.right:\n",
    "                    queue.append(node.right)\n",
    "                    \n",
    "        \n",
    "        return root"
   ]
  }
 ],
 "metadata": {
  "kernelspec": {
   "display_name": "Python 3",
   "language": "python",
   "name": "python3"
  },
  "language_info": {
   "codemirror_mode": {
    "name": "ipython",
    "version": 3
   },
   "file_extension": ".py",
   "mimetype": "text/x-python",
   "name": "python",
   "nbconvert_exporter": "python",
   "pygments_lexer": "ipython3",
   "version": "3.6.5"
  }
 },
 "nbformat": 4,
 "nbformat_minor": 2
}
