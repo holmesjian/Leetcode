{
 "cells": [
  {
   "cell_type": "markdown",
   "metadata": {},
   "source": [
    "# Problem\n",
    "\n",
    "Given a binary search tree (BST) with duplicates, find all the mode(s) (the most frequently occurred element) in the given BST.\n",
    "\n",
    "Assume a BST is defined as follows:<br>\n",
    "\n",
    "The left subtree of a node contains only nodes with keys less than or equal to the node's key.<br>\n",
    "The right subtree of a node contains only nodes with keys greater than or equal to the node's key.<br>\n",
    "Both the left and right subtrees must also be binary search trees.<br>\n",
    " \n",
    "\n",
    "For example:<br>\n",
    "Given BST [1,null,2,2],<br>\n",
    "return [2].<br>\n",
    "\n",
    "Note: If a tree has more than one mode, you can return them in any order.<br>\n",
    "\n",
    "Follow up: Could you do that without using any extra space? (Assume that the implicit stack space incurred due to recursion does not count)."
   ]
  },
  {
   "cell_type": "markdown",
   "metadata": {},
   "source": [
    "# Brainstorm\n",
    "\n"
   ]
  },
  {
   "cell_type": "markdown",
   "metadata": {},
   "source": [
    "# Solution 1\n",
    "##### not making use of BST property"
   ]
  },
  {
   "cell_type": "code",
   "execution_count": null,
   "metadata": {},
   "outputs": [],
   "source": [
    "# Definition for a binary tree node.\n",
    "# class TreeNode:\n",
    "#     def __init__(self, val=0, left=None, right=None):\n",
    "#         self.val = val\n",
    "#         self.left = left\n",
    "#         self.right = right\n",
    "from collections import defaultdict\n",
    "class Solution:\n",
    "    def dfs(self, root, count):\n",
    "        if root is None:\n",
    "            return \n",
    "        \n",
    "        count[root.val] += 1\n",
    "        self.dfs(root.left, count)\n",
    "        self.dfs(root.right, count)\n",
    "        \n",
    "    def findMode(self, root: TreeNode) -> List[int]:\n",
    "        if not root:\n",
    "            return []\n",
    "        \n",
    "        count = defaultdict(int)\n",
    "        \n",
    "        self.dfs(root, count)\n",
    "        \n",
    "        mode = []\n",
    "        max_value = max(count.values())\n",
    "            \n",
    "        for key, value in count.items():\n",
    "            if value == max_value:\n",
    "                mode.append(key)\n",
    "                \n",
    "        return mode"
   ]
  },
  {
   "cell_type": "markdown",
   "metadata": {},
   "source": [
    "# Solution 2\n",
    "##### "
   ]
  }
 ],
 "metadata": {
  "kernelspec": {
   "display_name": "Python 3",
   "language": "python",
   "name": "python3"
  },
  "language_info": {
   "codemirror_mode": {
    "name": "ipython",
    "version": 3
   },
   "file_extension": ".py",
   "mimetype": "text/x-python",
   "name": "python",
   "nbconvert_exporter": "python",
   "pygments_lexer": "ipython3",
   "version": "3.6.5"
  }
 },
 "nbformat": 4,
 "nbformat_minor": 2
}
