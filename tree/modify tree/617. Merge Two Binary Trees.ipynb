{
 "cells": [
  {
   "cell_type": "markdown",
   "metadata": {},
   "source": [
    "# Problem\n",
    "\n",
    "Given two binary trees and imagine that when you put one of them to cover the other, some nodes of the two trees are overlapped while the others are not.\n",
    "\n",
    "You need to merge them into a new binary tree. The merge rule is that if two nodes overlap, then sum node values up as the new value of the merged node. Otherwise, the NOT null node will be used as the node of new tree.\n",
    "\n",
    "Example 1:\n",
    "\n",
    "<img src='../images/merge_two_trees.png'>\n",
    " \n",
    "\n",
    "Note: The merging process must start from the root nodes of both trees."
   ]
  },
  {
   "cell_type": "markdown",
   "metadata": {},
   "source": [
    "# Brainstorm\n",
    "\n",
    "Traverse both trees, if the nodes at a particular position in both trees are present, update t1's value.\n",
    "What if a node is missing in one tree?\n",
    "- t1.left = mergeTrees(t1.left, t2.left)\n"
   ]
  },
  {
   "cell_type": "markdown",
   "metadata": {},
   "source": [
    "# Solution 1\n",
    "##### BFS"
   ]
  },
  {
   "cell_type": "code",
   "execution_count": null,
   "metadata": {},
   "outputs": [],
   "source": [
    "# Definition for a binary tree node.\n",
    "# class TreeNode:\n",
    "#     def __init__(self, x):\n",
    "#         self.val = x\n",
    "#         self.left = None\n",
    "#         self.right = None\n",
    "\n",
    "class Solution:\n",
    "    def mergeTrees(self, t1: TreeNode, t2: TreeNode) -> TreeNode:\n",
    "        if t1 is None:\n",
    "            return t2\n",
    "        \n",
    "        stack = []\n",
    "        stack.append([t1, t2])\n",
    "        while stack:\n",
    "            t = stack.pop()\n",
    "            if t[0] is None or t[1] is None:\n",
    "                continue\n",
    "            t[0].val += t[1].val\n",
    "            \n",
    "            if t[0].left is None:\n",
    "                t[0].left = t[1].left\n",
    "            else:\n",
    "                stack.append([t[0].left, t[1].left])\n",
    "                \n",
    "            if t[0].right is None:\n",
    "                t[0].right = t[1].right\n",
    "            else:\n",
    "                stack.append([t[0].right, t[1].right])\n",
    "                \n",
    "        return t1"
   ]
  },
  {
   "cell_type": "markdown",
   "metadata": {},
   "source": [
    "# Solution 2\n",
    "##### DFS"
   ]
  },
  {
   "cell_type": "code",
   "execution_count": null,
   "metadata": {},
   "outputs": [],
   "source": [
    "# Definition for a binary tree node.\n",
    "# class TreeNode:\n",
    "#     def __init__(self, x):\n",
    "#         self.val = x\n",
    "#         self.left = None\n",
    "#         self.right = None\n",
    "\n",
    "class Solution:\n",
    "    def mergeTrees(self, t1: TreeNode, t2: TreeNode) -> TreeNode:\n",
    "        if not t1 and not t2:\n",
    "            return\n",
    "        elif t1 and t2:\n",
    "            t1.val += t2.val\n",
    "        else:\n",
    "            return t1 or t2\n",
    "        \n",
    "        t1.left = self.mergeTrees(t1.left, t2.left)\n",
    "        t1.right = self.mergeTrees(t1.right, t2.right)\n",
    "        \n",
    "        return t1"
   ]
  },
  {
   "cell_type": "markdown",
   "metadata": {},
   "source": [
    "My wrong solution:\n",
    "forgot to return recursive function"
   ]
  },
  {
   "cell_type": "code",
   "execution_count": null,
   "metadata": {},
   "outputs": [],
   "source": [
    "# Definition for a binary tree node.\n",
    "# class TreeNode:\n",
    "#     def __init__(self, x):\n",
    "#         self.val = x\n",
    "#         self.left = None\n",
    "#         self.right = None\n",
    "\n",
    "class Solution:\n",
    "    def mergeTrees(self, t1: TreeNode, t2: TreeNode) -> TreeNode:\n",
    "        if t1 is None and t2 is None:\n",
    "            return\n",
    "        elif not t1:\n",
    "            t1 = t2\n",
    "        elif t1 and t2:\n",
    "            t1.val += t2.val\n",
    "            \n",
    "        self.mergeTrees(t1.left, t2.left)\n",
    "        self.mergeTrees(t1.right, t2.right)\n",
    "        \n",
    "        return t1"
   ]
  }
 ],
 "metadata": {
  "kernelspec": {
   "display_name": "Python 3",
   "language": "python",
   "name": "python3"
  },
  "language_info": {
   "codemirror_mode": {
    "name": "ipython",
    "version": 3
   },
   "file_extension": ".py",
   "mimetype": "text/x-python",
   "name": "python",
   "nbconvert_exporter": "python",
   "pygments_lexer": "ipython3",
   "version": "3.6.5"
  }
 },
 "nbformat": 4,
 "nbformat_minor": 2
}
