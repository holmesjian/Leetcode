{
 "cells": [
  {
   "cell_type": "markdown",
   "metadata": {},
   "source": [
    "# Problem\n",
    "\n",
    "Given the root node of a binary search tree (BST) and a value to be inserted into the tree, insert the value into the BST. Return the root node of the BST after the insertion. It is guaranteed that the new value does not exist in the original BST.\n",
    "\n",
    "Note that there may exist multiple valid ways for the insertion, as long as the tree remains a BST after insertion. You can return any of them.\n",
    "\n",
    "Constraints:\n",
    "\n",
    "The number of nodes in the given tree will be between 0 and 10^4.<br>\n",
    "Each node will have a unique integer value from 0 to -10^8, inclusive.<br>\n",
    "-10^8 <= val <= 10^8<br>\n",
    "It's guaranteed that val does not exist in the original BST.<br>"
   ]
  },
  {
   "cell_type": "markdown",
   "metadata": {},
   "source": [
    "# Brainstorm\n",
    "\n",
    "Compare with root, go to left or right subtree. Compare with the root, go to left or right subtree."
   ]
  },
  {
   "cell_type": "markdown",
   "metadata": {},
   "source": [
    "# Solution 1\n",
    "##### DFS"
   ]
  },
  {
   "cell_type": "code",
   "execution_count": null,
   "metadata": {},
   "outputs": [],
   "source": [
    "# Definition for a binary tree node.\n",
    "# class TreeNode:\n",
    "#     def __init__(self, val=0, left=None, right=None):\n",
    "#         self.val = val\n",
    "#         self.left = left\n",
    "#         self.right = right\n",
    "class Solution:\n",
    "    def insertIntoBST(self, root: TreeNode, val: int) -> TreeNode:\n",
    "        if root is None:\n",
    "            return TreeNode(val)\n",
    "        \n",
    "        if root.right is None and val > root.val:\n",
    "            root.right = TreeNode(val)\n",
    "        elif root.left is None and val < root.val:\n",
    "            root.left = TreeNode(val)\n",
    "            \n",
    "        \n",
    "        if val > root.val:\n",
    "            self.insertIntoBST(root.right, val)\n",
    "        else:\n",
    "            self.insertIntoBST(root.left, val)\n",
    "            \n",
    "        return root"
   ]
  },
  {
   "cell_type": "markdown",
   "metadata": {},
   "source": [
    "# Solution 2\n",
    "##### DFS, simplified"
   ]
  },
  {
   "cell_type": "code",
   "execution_count": null,
   "metadata": {},
   "outputs": [],
   "source": [
    "# Definition for a binary tree node.\n",
    "# class TreeNode:\n",
    "#     def __init__(self, val=0, left=None, right=None):\n",
    "#         self.val = val\n",
    "#         self.left = left\n",
    "#         self.right = right\n",
    "class Solution:\n",
    "    def insertIntoBST(self, root: TreeNode, val: int) -> TreeNode:\n",
    "        if root is None:\n",
    "            return TreeNode(val)\n",
    "        \n",
    "        if val > root.val:\n",
    "            root.right = self.insertIntoBST(root.right, val)\n",
    "        else:\n",
    "            root.left = self.insertIntoBST(root.left, val)\n",
    "            \n",
    "        return root\n",
    "            "
   ]
  }
 ],
 "metadata": {
  "kernelspec": {
   "display_name": "Python 3",
   "language": "python",
   "name": "python3"
  },
  "language_info": {
   "codemirror_mode": {
    "name": "ipython",
    "version": 3
   },
   "file_extension": ".py",
   "mimetype": "text/x-python",
   "name": "python",
   "nbconvert_exporter": "python",
   "pygments_lexer": "ipython3",
   "version": "3.6.5"
  }
 },
 "nbformat": 4,
 "nbformat_minor": 2
}
