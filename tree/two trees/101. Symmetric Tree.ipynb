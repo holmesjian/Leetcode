{
 "cells": [
  {
   "cell_type": "markdown",
   "metadata": {},
   "source": [
    "# Problem\n",
    "\n",
    "<img src='./images/symmetric_tree.png'>"
   ]
  },
  {
   "cell_type": "markdown",
   "metadata": {},
   "source": [
    "# Brainstorm\n",
    "\n",
    "What are the characteristics of a symmetric tree?\n",
    "- If level order traversal, each level is a palindrome."
   ]
  },
  {
   "cell_type": "markdown",
   "metadata": {},
   "source": [
    "# Solution 1\n",
    "recursion"
   ]
  },
  {
   "cell_type": "code",
   "execution_count": null,
   "metadata": {},
   "outputs": [],
   "source": [
    "# Definition for a binary tree node.\n",
    "class TreeNode:\n",
    "    def __init__(self, x):\n",
    "        self.val = x\n",
    "        self.left = None\n",
    "        self.right = None\n",
    "\n",
    "\n",
    "def is_symmetric(root):\n",
    "    if root is None:\n",
    "        return True\n",
    "    return is_mirror(root.left, root.right)\n",
    "\n",
    "def is_mirror(node1, node2):\n",
    "    if node1 is None and node2 is None:\n",
    "        return True\n",
    "    if node1 is None or node2 is None:\n",
    "        return False\n",
    "\n",
    "    if node1.val == node2.val:\n",
    "        return is_mirror(node1.left, node2.right) and is_mirror(node1.right, node2.left)"
   ]
  },
  {
   "cell_type": "markdown",
   "metadata": {},
   "source": [
    "Time complexity : O(n)O(n). Because we traverse the entire input tree once, the total run time is O(n)O(n), where nn is the total number of nodes in the tree.\n",
    "\n",
    "Space complexity : The number of recursive calls is bound by the height of the tree. In the worst case, the tree is a linear symmetric tree, which is a tree where every left child has only a left child, until leaf; and right child has only right child until leaf. That is a right angle tree someone referred above. Height will be n/2, hence O(n) complexity"
   ]
  },
  {
   "cell_type": "markdown",
   "metadata": {},
   "source": [
    "same approach using recursion stack"
   ]
  },
  {
   "cell_type": "code",
   "execution_count": null,
   "metadata": {},
   "outputs": [],
   "source": [
    "def is_symmetric(root):\n",
    "    if root is None:\n",
    "        return True\n",
    "\n",
    "    stack = [(root.left, root.right)]\n",
    "    while stack:\n",
    "        node1, node2 = stack.pop()\n",
    "        if node1 is None and node2 is None:\n",
    "            continue\n",
    "        if node1 is None or node2 is None:\n",
    "            return False\n",
    "        if node1.val != node2.val:\n",
    "            return False\n",
    "\n",
    "        stack.append((node1.left, node2.right))\n",
    "        stack.append((node1.right, node2.left))\n",
    "    return True"
   ]
  },
  {
   "cell_type": "markdown",
   "metadata": {},
   "source": [
    "- each time we just need to store one level nodes.\n",
    "- in a full binary tree, bottom level has O(n/2) nodes."
   ]
  },
  {
   "cell_type": "markdown",
   "metadata": {},
   "source": [
    "Approach 2: BFS\n",
    "- use a queue to store the nodes\n",
    "- check whether the first node pair has equal values\n",
    "- if so, go on to append subsequent pair\n"
   ]
  },
  {
   "cell_type": "code",
   "execution_count": null,
   "metadata": {},
   "outputs": [],
   "source": [
    "from collections import deque\n",
    "def is_symmetric(root):\n",
    "    if root is None:\n",
    "        return True\n",
    "\n",
    "    queue = deque([(root.left, root.right)])\n",
    "\n",
    "    while queue:\n",
    "        node1, node2 = queue.popleft()\n",
    "        if node1 is None and node2 is None:\n",
    "            continue\n",
    "        if node1 is None or node2 is None:\n",
    "            return False\n",
    "\n",
    "        if node1.val != node2.val:\n",
    "            return False\n",
    "\n",
    "        queue.append((node1.left, node2.right))\n",
    "        queue.append((node1.right, node2.left))\n",
    "    return True"
   ]
  }
 ],
 "metadata": {
  "kernelspec": {
   "display_name": "Python 3",
   "language": "python",
   "name": "python3"
  },
  "language_info": {
   "codemirror_mode": {
    "name": "ipython",
    "version": 3
   },
   "file_extension": ".py",
   "mimetype": "text/x-python",
   "name": "python",
   "nbconvert_exporter": "python",
   "pygments_lexer": "ipython3",
   "version": "3.6.5"
  }
 },
 "nbformat": 4,
 "nbformat_minor": 2
}
