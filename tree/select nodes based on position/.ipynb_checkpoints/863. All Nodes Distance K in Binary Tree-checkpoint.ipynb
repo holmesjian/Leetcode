{
 "cells": [
  {
   "cell_type": "markdown",
   "metadata": {},
   "source": [
    "# Problem\n",
    "\n",
    "We are given a binary tree (with root node root), a target node, and an integer value K.\n",
    "\n",
    "Return a list of the values of all nodes that have a distance K from the target node.  The answer can be returned in any order.\n",
    "<img src='../images/distancek.png'>\n",
    "\n",
    "Note:\n",
    "\n",
    "The given tree is non-empty.<br>\n",
    "Each node in the tree has unique values 0 <= node.val <= 500.<br>\n",
    "The target node is a node in the tree.<br>\n",
    "0 <= K <= 1000.<br>"
   ]
  }
 ],
 "metadata": {
  "kernelspec": {
   "display_name": "Python 3",
   "language": "python",
   "name": "python3"
  },
  "language_info": {
   "codemirror_mode": {
    "name": "ipython",
    "version": 3
   },
   "file_extension": ".py",
   "mimetype": "text/x-python",
   "name": "python",
   "nbconvert_exporter": "python",
   "pygments_lexer": "ipython3",
   "version": "3.6.5"
  }
 },
 "nbformat": 4,
 "nbformat_minor": 2
}
