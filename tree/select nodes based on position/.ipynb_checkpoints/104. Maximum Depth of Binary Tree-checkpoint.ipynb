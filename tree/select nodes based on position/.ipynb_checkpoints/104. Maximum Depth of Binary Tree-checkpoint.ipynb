{
 "cells": [
  {
   "cell_type": "markdown",
   "metadata": {},
   "source": [
    "# Problem\n",
    "\n",
    "<img src='../images/max_depth.png'>"
   ]
  },
  {
   "cell_type": "markdown",
   "metadata": {},
   "source": [
    "# Brainstorm\n",
    "\n",
    "We need to keep track of the number of levels as we traverse the tree.\n",
    "The space complexity for DFS should be the tree's height, while the BFS is the num of nodes in the longest layer.So it depends on the shape of the tree and preference between recursion or iteration.\n",
    "For example, for DFS, where h is the height of the tree. If the tree is balanced, that's O(log n), if the tree is skewed, it's O(n). For BFS, for balancde tree, it's O(N/2). For skewed tree, it is O(1).\n",
    "\n",
    "- BFS or DFS\n",
    "     - BFS search by layers so the number of layers is the depth\n",
    "     - DFS search by subtree so take longer to find the max depth subtree\n",
    "     - the above only applies to graph, for binary tree, the depth first search also have only two choices.\n",
    "- how to keep track of the number of layers?\n",
    "     - when you add a child, add a layer\n",
    "- runtime analysis\n",
    "     - iterate once, O(N) time\n",
    "     - use a stack, O(N) space"
   ]
  },
  {
   "cell_type": "markdown",
   "metadata": {},
   "source": [
    "# Solution 1\n",
    "##### BFS and number of pops"
   ]
  },
  {
   "cell_type": "code",
   "execution_count": null,
   "metadata": {},
   "outputs": [],
   "source": [
    "# Definition for a binary tree node.\n",
    "# class TreeNode:\n",
    "#     def __init__(self, x):\n",
    "#         self.val = x\n",
    "#         self.left = None\n",
    "#         self.right = None\n",
    "\n",
    "from collections import deque\n",
    "class Solution:\n",
    "    def maxDepth(self, root: TreeNode) -> int:\n",
    "        if not root:\n",
    "            return 0\n",
    "        \n",
    "        queue = deque([root])\n",
    "        num_level = 0\n",
    "        \n",
    "        while queue:\n",
    "            num_level += 1\n",
    "            \n",
    "            for _ in range(len(queue)):\n",
    "                node = queue.popleft()\n",
    "                if node.left:\n",
    "                    queue.append(node.left)\n",
    "                if node.right:\n",
    "                    queue.append(node.right)\n",
    "        return num_level"
   ]
  },
  {
   "cell_type": "markdown",
   "metadata": {},
   "source": [
    "# Solution 2\n",
    "##### DFS, height"
   ]
  },
  {
   "cell_type": "code",
   "execution_count": null,
   "metadata": {},
   "outputs": [],
   "source": [
    "# Definition for a binary tree node.\n",
    "# class TreeNode:\n",
    "#     def __init__(self, val=0, left=None, right=None):\n",
    "#         self.val = val\n",
    "#         self.left = left\n",
    "#         self.right = right\n",
    "class Solution:\n",
    "    def dfs(self, root):\n",
    "        if root is None:\n",
    "            return 0\n",
    "        \n",
    "        left = 1 + self.dfs(root.left)\n",
    "        right = 1 + self.dfs(root.right)\n",
    "        \n",
    "        return max(left, right)\n",
    "        \n",
    "    def maxDepth(self, root: TreeNode) -> int:\n",
    "        \n",
    "        return self.dfs(root)"
   ]
  },
  {
   "cell_type": "markdown",
   "metadata": {},
   "source": [
    "# Solution 3\n",
    "##### DFS, depth"
   ]
  },
  {
   "cell_type": "code",
   "execution_count": null,
   "metadata": {},
   "outputs": [],
   "source": [
    "# Definition for a binary tree node.\n",
    "# class TreeNode:\n",
    "#     def __init__(self, val=0, left=None, right=None):\n",
    "#         self.val = val\n",
    "#         self.left = left\n",
    "#         self.right = right\n",
    "class Solution:\n",
    "    \n",
    "    def dfs(self, root, depth):\n",
    "        \n",
    "        if root is None:\n",
    "            return 0\n",
    "        \n",
    "        self.max_depth = max(depth, self.max_depth)\n",
    "        \n",
    "        self.dfs(root.left, depth+1)\n",
    "        self.dfs(root.right, depth+1)\n",
    "        \n",
    "    def maxDepth(self, root: TreeNode) -> int:\n",
    "        self.max_depth = 0\n",
    "        self.dfs(root, 1)\n",
    "        return self.max_depth"
   ]
  }
 ],
 "metadata": {
  "kernelspec": {
   "display_name": "Python 3",
   "language": "python",
   "name": "python3"
  },
  "language_info": {
   "codemirror_mode": {
    "name": "ipython",
    "version": 3
   },
   "file_extension": ".py",
   "mimetype": "text/x-python",
   "name": "python",
   "nbconvert_exporter": "python",
   "pygments_lexer": "ipython3",
   "version": "3.6.5"
  }
 },
 "nbformat": 4,
 "nbformat_minor": 2
}
