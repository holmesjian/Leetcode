{
 "cells": [
  {
   "cell_type": "markdown",
   "metadata": {},
   "source": [
    "# Problem\n",
    "\n",
    "In a binary tree, the root node is at depth 0, and children of each depth k node are at depth k+1.\n",
    "\n",
    "Two nodes of a binary tree are cousins if they have the same depth, but have different parents.\n",
    "\n",
    "We are given the root of a binary tree with unique values, and the values x and y of two different nodes in the tree.\n",
    "\n",
    "Return true if and only if the nodes corresponding to the values x and y are cousins.\n",
    "\n",
    "Note:\n",
    "\n",
    "The number of nodes in the tree will be between 2 and 100.<br>\n",
    "Each node has a unique integer value from 1 to 100.\n",
    "<img src='../images/cousin.png'>\n",
    " "
   ]
  },
  {
   "cell_type": "markdown",
   "metadata": {},
   "source": [
    "# Brainstorm\n",
    "\n",
    "Traverse the tree, we need to keep track the level of each node, and its parent node."
   ]
  },
  {
   "cell_type": "code",
   "execution_count": null,
   "metadata": {},
   "outputs": [],
   "source": []
  }
 ],
 "metadata": {
  "kernelspec": {
   "display_name": "Python 3",
   "language": "python",
   "name": "python3"
  },
  "language_info": {
   "codemirror_mode": {
    "name": "ipython",
    "version": 3
   },
   "file_extension": ".py",
   "mimetype": "text/x-python",
   "name": "python",
   "nbconvert_exporter": "python",
   "pygments_lexer": "ipython3",
   "version": "3.6.5"
  }
 },
 "nbformat": 4,
 "nbformat_minor": 2
}
