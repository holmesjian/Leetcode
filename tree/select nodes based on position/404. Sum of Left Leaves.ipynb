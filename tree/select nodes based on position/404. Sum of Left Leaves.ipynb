{
 "cells": [
  {
   "cell_type": "markdown",
   "metadata": {},
   "source": [
    "# Problem\n",
    "\n",
    "Find the sum of all left leaves in a given binary tree."
   ]
  },
  {
   "cell_type": "markdown",
   "metadata": {},
   "source": [
    "# Brainstorm\n",
    "\n",
    "As we need to traverse every node to get the answer, we can use both BFS and DFS with the same time complexity O(N)."
   ]
  },
  {
   "cell_type": "markdown",
   "metadata": {},
   "source": [
    "# Solution 1\n",
    "##### BFS"
   ]
  },
  {
   "cell_type": "code",
   "execution_count": null,
   "metadata": {},
   "outputs": [],
   "source": [
    "# Definition for a binary tree node.\n",
    "# class TreeNode:\n",
    "#     def __init__(self, val=0, left=None, right=None):\n",
    "#         self.val = val\n",
    "#         self.left = left\n",
    "#         self.right = right\n",
    "from collections import deque\n",
    "class Solution:\n",
    "    def sumOfLeftLeaves(self, root):\n",
    "        if root is None:\n",
    "            return 0\n",
    "        \n",
    "        sum_left = 0\n",
    "        \n",
    "        queue = deque([(root, False)])\n",
    "        while queue:\n",
    "            \n",
    "            node, is_left = queue.popleft()\n",
    "            \n",
    "            if node.left:\n",
    "                queue.append((node.left, True))\n",
    "            if node.right:\n",
    "                queue.append((node.right, False))\n",
    "                \n",
    "            \n",
    "            if is_left and node.left is None and node.right is None:\n",
    "                sum_left += node.val\n",
    "                \n",
    "        return sum_left\n",
    "            "
   ]
  },
  {
   "cell_type": "markdown",
   "metadata": {},
   "source": [
    "# Solution 2\n",
    "##### DFS"
   ]
  },
  {
   "cell_type": "code",
   "execution_count": null,
   "metadata": {},
   "outputs": [],
   "source": [
    "# Definition for a binary tree node.\n",
    "# class TreeNode:\n",
    "#     def __init__(self, val=0, left=None, right=None):\n",
    "#         self.val = val\n",
    "#         self.left = left\n",
    "#         self.right = right\n",
    "class Solution:\n",
    "    def sumOfLeftLeaves(self, root: TreeNode) -> int:\n",
    "        if root is None:\n",
    "            return 0\n",
    "        self.sum_left = 0\n",
    "        is_left = False\n",
    "        self.dfs(root, is_left)\n",
    "        return self.sum_left\n",
    "    \n",
    "    def dfs(self, root, is_left):\n",
    "        if root is None:\n",
    "            return\n",
    "        \n",
    "        if is_left and root.left is None and root.right is None:\n",
    "            self.sum_left += root.val\n",
    "            \n",
    "        self.dfs(root.left, True)\n",
    "        self.dfs(root.right, False)"
   ]
  },
  {
   "cell_type": "markdown",
   "metadata": {},
   "source": [
    "# Solution 3\n",
    "##### DFS, no global variable"
   ]
  },
  {
   "cell_type": "code",
   "execution_count": null,
   "metadata": {},
   "outputs": [],
   "source": [
    "# Definition for a binary tree node.\n",
    "# class TreeNode:\n",
    "#     def __init__(self, val=0, left=None, right=None):\n",
    "#         self.val = val\n",
    "#         self.left = left\n",
    "#         self.right = right\n",
    "class Solution:\n",
    "    def sumOfLeftLeaves(self, root: TreeNode) -> int:\n",
    "        if root is None:\n",
    "            return 0\n",
    "        \n",
    "        is_left = False\n",
    "        return self.dfs(root, is_left)\n",
    "    \n",
    "    def dfs(self, root, is_left):\n",
    "        if root is None:\n",
    "            return 0\n",
    "        \n",
    "        if is_left and root.left is None and root.right is None:\n",
    "            return root.val\n",
    "        elif not is_left and root.left is None and root.right is None:\n",
    "            return 0\n",
    "            \n",
    "        return self.dfs(root.left, True) + self.dfs(root.right, False)"
   ]
  }
 ],
 "metadata": {
  "kernelspec": {
   "display_name": "Python 3",
   "language": "python",
   "name": "python3"
  },
  "language_info": {
   "codemirror_mode": {
    "name": "ipython",
    "version": 3
   },
   "file_extension": ".py",
   "mimetype": "text/x-python",
   "name": "python",
   "nbconvert_exporter": "python",
   "pygments_lexer": "ipython3",
   "version": "3.6.5"
  }
 },
 "nbformat": 4,
 "nbformat_minor": 2
}
